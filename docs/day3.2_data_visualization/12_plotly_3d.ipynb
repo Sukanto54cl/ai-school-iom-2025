{
 "cells": [
  {
   "cell_type": "markdown",
   "metadata": {},
   "source": [
    "# Plotting in 3D with plotly"
   ]
  },
  {
   "cell_type": "code",
   "execution_count": 2,
   "metadata": {},
   "outputs": [],
   "source": [
    "from datetime import datetime\n",
    "import pandas as pd\n",
    "import plotly.express as px"
   ]
  },
  {
   "cell_type": "code",
   "execution_count": 4,
   "metadata": {},
   "outputs": [
    {
     "data": {
      "text/html": [
       "<div>\n",
       "<style scoped>\n",
       "    .dataframe tbody tr th:only-of-type {\n",
       "        vertical-align: middle;\n",
       "    }\n",
       "\n",
       "    .dataframe tbody tr th {\n",
       "        vertical-align: top;\n",
       "    }\n",
       "\n",
       "    .dataframe thead th {\n",
       "        text-align: right;\n",
       "    }\n",
       "</style>\n",
       "<table border=\"1\" class=\"dataframe\">\n",
       "  <thead>\n",
       "    <tr style=\"text-align: right;\">\n",
       "      <th></th>\n",
       "      <th>Unnamed: 0</th>\n",
       "      <th>label</th>\n",
       "      <th>area</th>\n",
       "      <th>mean_intensity</th>\n",
       "      <th>max_intensity</th>\n",
       "      <th>min_intensity</th>\n",
       "      <th>centroid-0</th>\n",
       "      <th>centroid-1</th>\n",
       "      <th>eccentricity</th>\n",
       "      <th>solidity</th>\n",
       "      <th>perimeter</th>\n",
       "      <th>centroid_x</th>\n",
       "      <th>centroid_y</th>\n",
       "    </tr>\n",
       "  </thead>\n",
       "  <tbody>\n",
       "    <tr>\n",
       "      <th>0</th>\n",
       "      <td>0</td>\n",
       "      <td>1</td>\n",
       "      <td>27.0</td>\n",
       "      <td>149.333333</td>\n",
       "      <td>168.0</td>\n",
       "      <td>128.0</td>\n",
       "      <td>26.259259</td>\n",
       "      <td>0.666667</td>\n",
       "      <td>0.973991</td>\n",
       "      <td>0.900000</td>\n",
       "      <td>20.621320</td>\n",
       "      <td>0.666667</td>\n",
       "      <td>26.259259</td>\n",
       "    </tr>\n",
       "    <tr>\n",
       "      <th>1</th>\n",
       "      <td>1</td>\n",
       "      <td>2</td>\n",
       "      <td>203.0</td>\n",
       "      <td>199.960591</td>\n",
       "      <td>240.0</td>\n",
       "      <td>128.0</td>\n",
       "      <td>225.876847</td>\n",
       "      <td>3.955665</td>\n",
       "      <td>0.892348</td>\n",
       "      <td>0.966667</td>\n",
       "      <td>59.591883</td>\n",
       "      <td>3.955665</td>\n",
       "      <td>225.876847</td>\n",
       "    </tr>\n",
       "    <tr>\n",
       "      <th>2</th>\n",
       "      <td>2</td>\n",
       "      <td>3</td>\n",
       "      <td>503.0</td>\n",
       "      <td>198.695825</td>\n",
       "      <td>248.0</td>\n",
       "      <td>128.0</td>\n",
       "      <td>97.487078</td>\n",
       "      <td>7.836978</td>\n",
       "      <td>0.801503</td>\n",
       "      <td>0.971042</td>\n",
       "      <td>86.870058</td>\n",
       "      <td>7.836978</td>\n",
       "      <td>97.487078</td>\n",
       "    </tr>\n",
       "    <tr>\n",
       "      <th>3</th>\n",
       "      <td>3</td>\n",
       "      <td>4</td>\n",
       "      <td>264.0</td>\n",
       "      <td>189.939394</td>\n",
       "      <td>232.0</td>\n",
       "      <td>120.0</td>\n",
       "      <td>139.545455</td>\n",
       "      <td>7.159091</td>\n",
       "      <td>0.605384</td>\n",
       "      <td>0.977778</td>\n",
       "      <td>58.041631</td>\n",
       "      <td>7.159091</td>\n",
       "      <td>139.545455</td>\n",
       "    </tr>\n",
       "    <tr>\n",
       "      <th>4</th>\n",
       "      <td>4</td>\n",
       "      <td>5</td>\n",
       "      <td>96.0</td>\n",
       "      <td>166.416667</td>\n",
       "      <td>200.0</td>\n",
       "      <td>128.0</td>\n",
       "      <td>44.812500</td>\n",
       "      <td>7.833333</td>\n",
       "      <td>0.628475</td>\n",
       "      <td>0.960000</td>\n",
       "      <td>34.142136</td>\n",
       "      <td>7.833333</td>\n",
       "      <td>44.812500</td>\n",
       "    </tr>\n",
       "    <tr>\n",
       "      <th>...</th>\n",
       "      <td>...</td>\n",
       "      <td>...</td>\n",
       "      <td>...</td>\n",
       "      <td>...</td>\n",
       "      <td>...</td>\n",
       "      <td>...</td>\n",
       "      <td>...</td>\n",
       "      <td>...</td>\n",
       "      <td>...</td>\n",
       "      <td>...</td>\n",
       "      <td>...</td>\n",
       "      <td>...</td>\n",
       "      <td>...</td>\n",
       "    </tr>\n",
       "    <tr>\n",
       "      <th>61</th>\n",
       "      <td>61</td>\n",
       "      <td>62</td>\n",
       "      <td>472.0</td>\n",
       "      <td>213.033898</td>\n",
       "      <td>248.0</td>\n",
       "      <td>128.0</td>\n",
       "      <td>13.474576</td>\n",
       "      <td>246.868644</td>\n",
       "      <td>0.774033</td>\n",
       "      <td>0.971193</td>\n",
       "      <td>83.798990</td>\n",
       "      <td>246.868644</td>\n",
       "      <td>13.474576</td>\n",
       "    </tr>\n",
       "    <tr>\n",
       "      <th>62</th>\n",
       "      <td>62</td>\n",
       "      <td>63</td>\n",
       "      <td>176.0</td>\n",
       "      <td>195.318182</td>\n",
       "      <td>232.0</td>\n",
       "      <td>120.0</td>\n",
       "      <td>105.147727</td>\n",
       "      <td>250.812500</td>\n",
       "      <td>0.828291</td>\n",
       "      <td>0.972376</td>\n",
       "      <td>51.556349</td>\n",
       "      <td>250.812500</td>\n",
       "      <td>105.147727</td>\n",
       "    </tr>\n",
       "    <tr>\n",
       "      <th>63</th>\n",
       "      <td>63</td>\n",
       "      <td>64</td>\n",
       "      <td>19.0</td>\n",
       "      <td>150.315789</td>\n",
       "      <td>176.0</td>\n",
       "      <td>136.0</td>\n",
       "      <td>125.368421</td>\n",
       "      <td>252.684211</td>\n",
       "      <td>0.762065</td>\n",
       "      <td>0.904762</td>\n",
       "      <td>14.242641</td>\n",
       "      <td>252.684211</td>\n",
       "      <td>125.368421</td>\n",
       "    </tr>\n",
       "    <tr>\n",
       "      <th>64</th>\n",
       "      <td>64</td>\n",
       "      <td>65</td>\n",
       "      <td>473.0</td>\n",
       "      <td>205.513742</td>\n",
       "      <td>248.0</td>\n",
       "      <td>112.0</td>\n",
       "      <td>153.120507</td>\n",
       "      <td>245.545455</td>\n",
       "      <td>0.816814</td>\n",
       "      <td>0.969262</td>\n",
       "      <td>86.183766</td>\n",
       "      <td>245.545455</td>\n",
       "      <td>153.120507</td>\n",
       "    </tr>\n",
       "    <tr>\n",
       "      <th>65</th>\n",
       "      <td>65</td>\n",
       "      <td>66</td>\n",
       "      <td>66.0</td>\n",
       "      <td>188.363636</td>\n",
       "      <td>232.0</td>\n",
       "      <td>128.0</td>\n",
       "      <td>200.575758</td>\n",
       "      <td>253.348485</td>\n",
       "      <td>0.947284</td>\n",
       "      <td>0.970588</td>\n",
       "      <td>35.899495</td>\n",
       "      <td>253.348485</td>\n",
       "      <td>200.575758</td>\n",
       "    </tr>\n",
       "  </tbody>\n",
       "</table>\n",
       "<p>66 rows × 13 columns</p>\n",
       "</div>"
      ],
      "text/plain": [
       "    Unnamed: 0  label   area  mean_intensity  max_intensity  min_intensity  \\\n",
       "0            0      1   27.0      149.333333          168.0          128.0   \n",
       "1            1      2  203.0      199.960591          240.0          128.0   \n",
       "2            2      3  503.0      198.695825          248.0          128.0   \n",
       "3            3      4  264.0      189.939394          232.0          120.0   \n",
       "4            4      5   96.0      166.416667          200.0          128.0   \n",
       "..         ...    ...    ...             ...            ...            ...   \n",
       "61          61     62  472.0      213.033898          248.0          128.0   \n",
       "62          62     63  176.0      195.318182          232.0          120.0   \n",
       "63          63     64   19.0      150.315789          176.0          136.0   \n",
       "64          64     65  473.0      205.513742          248.0          112.0   \n",
       "65          65     66   66.0      188.363636          232.0          128.0   \n",
       "\n",
       "    centroid-0  centroid-1  eccentricity  solidity  perimeter  centroid_x  \\\n",
       "0    26.259259    0.666667      0.973991  0.900000  20.621320    0.666667   \n",
       "1   225.876847    3.955665      0.892348  0.966667  59.591883    3.955665   \n",
       "2    97.487078    7.836978      0.801503  0.971042  86.870058    7.836978   \n",
       "3   139.545455    7.159091      0.605384  0.977778  58.041631    7.159091   \n",
       "4    44.812500    7.833333      0.628475  0.960000  34.142136    7.833333   \n",
       "..         ...         ...           ...       ...        ...         ...   \n",
       "61   13.474576  246.868644      0.774033  0.971193  83.798990  246.868644   \n",
       "62  105.147727  250.812500      0.828291  0.972376  51.556349  250.812500   \n",
       "63  125.368421  252.684211      0.762065  0.904762  14.242641  252.684211   \n",
       "64  153.120507  245.545455      0.816814  0.969262  86.183766  245.545455   \n",
       "65  200.575758  253.348485      0.947284  0.970588  35.899495  253.348485   \n",
       "\n",
       "    centroid_y  \n",
       "0    26.259259  \n",
       "1   225.876847  \n",
       "2    97.487078  \n",
       "3   139.545455  \n",
       "4    44.812500  \n",
       "..         ...  \n",
       "61   13.474576  \n",
       "62  105.147727  \n",
       "63  125.368421  \n",
       "64  153.120507  \n",
       "65  200.575758  \n",
       "\n",
       "[66 rows x 13 columns]"
      ]
     },
     "execution_count": 4,
     "metadata": {},
     "output_type": "execute_result"
    }
   ],
   "source": [
    "df = pd.read_csv(\"data/blobs_measurements.csv\")\n",
    "df"
   ]
  },
  {
   "cell_type": "code",
   "execution_count": 9,
   "metadata": {},
   "outputs": [
    {
     "data": {
      "application/vnd.plotly.v1+json": {
       "config": {
        "plotlyServerURL": "https://plot.ly"
       },
       "data": [
        {
         "hovertemplate": "area=%{x}<br>perimeter=%{y}<br>solidity=%{z}<br>eccentricity=%{marker.color}<extra></extra>",
         "legendgroup": "",
         "marker": {
          "color": {
           "bdata": "V5GZY+4q7z8BNQyoHI7sP+yu0Q7qpek/0BzOBk5f4z992ujNdxzkP8CH1vRI4OI/Ye4PPfNe5T8/pmZFNAHsP8tE0qtvz+k/uXQANjot4T8J5ZOzGMLgP2qpV/fHoeI/kPvQEcwb3z/7l1I+8yPkP5htWb/KW+Q/sJF1RTNY2j85Wv8nplbfP9Dlgprn7OQ/D/+26dR86j+dPkEjuSfiPwR5+sUjSeU/n1yJm1Ir7z8fxRjYDV7tP/uCmZbSNuc/ytV4bNFj5T8LXhTFL7TiP2EgTsHDRO4/XouUMSwJ5T+XBuOviWjbP2mD/sAkweo/LDbkLjEo0z9C5x0gpv7uP+IZkSHi6eg/LREAsFbp5T9O6q0241ffPxe8lYmQ2uQ/88WwnKXy4T/HkYl3yInVP1J2iJP9MOM/HIVCzhQq4j8ZC1xnyi/kPwQffnoBRtg/7O2xrUeb5z+jQfgOrF7uP9EUJlxTleg/dS4lPLpq3D8m2QFlCcDkPzmY2bggydQ/SrhlnYCl4D/3D7NgrRfnP2yEtWGQf+U/Q2Hgd3dp5T+q2OAftUjgP7tCB/XA0+Y/D7JKl9bT2T8FHBu1gLveP2B+2pgyheA/pJCcR1wT3z9P/BFvtaHVPz3+PT1M8+0/Ssy69EfI4D/gVo7e38ToPwMiMp1cgeo/gfEL1dVi6D9+WnYHVyPqP2cUbYEmUO4/",
           "dtype": "f8"
          },
          "coloraxis": "coloraxis",
          "size": 2,
          "symbol": "circle"
         },
         "mode": "markers",
         "name": "",
         "scene": "scene",
         "showlegend": false,
         "type": "scatter3d",
         "x": {
          "bdata": "AAAAAAAAO0AAAAAAAGBpQAAAAAAAcH9AAAAAAACAcEAAAAAAAABYQAAAAAAA4HlAAAAAAACQcUAAAAAAADB9QAAAAAAAgGJAAAAAAAAIgEAAAAAAAOBvQAAAAAAA8IBAAAAAAABgbEAAAAAAAGB3QAAAAAAAoGpAAAAAAABgeUAAAAAAAABoQAAAAAAA2IBAAAAAAADgZkAAAAAAAOBtQAAAAAAASIRAAAAAAAAASEAAAAAAAACMQAAAAAAAcHpAAAAAAAAog0AAAAAAAGB2QAAAAAAAoGlAAAAAAABQfEAAAAAAAABuQAAAAAAAYHpAAAAAAAAIgkAAAAAAAABWQAAAAAAAcHZAAAAAAACAeUAAAAAAAMBSQAAAAAAAYHFAAAAAAAAAfEAAAAAAABB7QAAAAAAAwHNAAAAAAADAY0AAAAAAAPBzQAAAAAAA4H5AAAAAAAAYhUAAAAAAAMBTQAAAAAAAkIpAAAAAAAA4hEAAAAAAAMBkQAAAAAAAgGhAAAAAAACAcUAAAAAAACBpQAAAAAAAIGVAAAAAAADAcEAAAAAAAOBtQAAAAAAA8HBAAAAAAACQgkAAAAAAAKBxQAAAAAAAIGxAAAAAAACgd0AAAAAAAGCBQAAAAAAAAEpAAAAAAADQdUAAAAAAAIB9QAAAAAAAAGZAAAAAAAAAM0AAAAAAAJB9QAAAAAAAgFBA",
          "dtype": "f8"
         },
         "y": {
          "bdata": "mu2b2Q6fNEA6rT3TwstNQMHFbQavt1VAx5dzJlQFTUCwwgeAMRJBQI68O3M2x1JAjrw7czZHUEA6rT3TwgtWQCiq10xFZklAGKdxxsfAVECjkacZWbpMQPagpbnMdVVAxJdzJlQFS0DAxW0Gr7dRQF+FDwBjJEpAjrw7czZHUkDEl3MmVAVJQCmq10xFZlVAjrw7czbHSkCjkacZWbpLQLOUDaDW31dAWeEDwBiJQEAowdS8cj9gQEuwo1lAMVNAko5Bk9sUV0Cfv6H5s+xQQFnhA8AYiU9AwMVtBq83VECjkacZWbpMQPegpbnMdVVAbbZvZjv8VUAm2NEsoNhGQOW0PKN8SVJAjrw7czbHUkDmnT8zT1A9QBx5d+Zsjk5AXLMJ4L1WU0DSyNOMLF1TQBmnccbHQFFATLCjWUAxRkBcswngvdZQQBmnccbHQFRA9aClucx1WUDzzp+ZJ6hDQNSa2azRKlxATLCjWUAxV0BMsKNZQDFHQIKL2wxe70lA/HKr2XFDTkDmnT8zT1BLQOadPzNPUEdAYIUPAGMkTkAIpAtASptLQIGL2wxeb05AGKdxxsdAVkBghQ8AYyROQMWXcyZUBUtAfbnV7LihUUA6rT3TwotVQEywo1lAsT5AoL+h+bPsUEAV1WumIvNUQI68O3M2x0lAbLZvZjt8LEA7rT3TwotVQBXVa6Yi80FA",
          "dtype": "f8"
         },
         "z": {
          "bdata": "zczMzMzM7D/w7u7u7u7uPyzxBKnHEu8/nvRJn/RJ7z+4HoXrUbjuP3cW+imJmO4/Ble3iTOt7T8AScFkDgLuP7ScP8v5s+w/j60IGk7q7j/U6k6rO63uP+teMHaN6u4/zmCFzmCF7j+6d5kI0ezuP/901/501+4/BtrurdIU7z9Kr784GUTuP4jiL3KGBe8/Iu1YgTDS7j/WWmuttdbuP3ue53me5+4/IjXBeCv77D9pP66301jtP/0QN1qO+e4/2jWCbFrL7j/odq2c8EzvP9L4yAR6p+4/Gk7qvjy27j8dHh4eHh7uP5vrXQVuT+w/wCwIvywI7z/qTW9605vuP1XwcgpeTu0/dEhNMN7K7j/irPyEOCvvP96hGMwIku4/khz2IJLD7j/x9yWWFyPvP6h5axAme+0/1K5E7UrU7j8iy+E3shzuPwAAAAAA4O4/hLTrdq4K7j+FYRiGYRjuP3+fBGgks+4/c/LWQX5S7z+0deg3W4fuP3diJ3ZiJ+4/R1juaYTl7j8Tqd5DkertPxSSC3i9je4/w/iXiMtN7j/WWmuttdbuPyDRCpsDie4/ybAk3Cj17j937ty5c+fuP6Xuy2Mrgu4/uG3btm3b7j85juM4juPuP27btm3btu0/xlqAk7Dv7j8jKsg2BBTvP4a90p+zHe8/Pc/zPM/z7D8271NcMgTvPw8PDw8PD+8/",
          "dtype": "f8"
         }
        }
       ],
       "layout": {
        "coloraxis": {
         "colorbar": {
          "title": {
           "text": "eccentricity"
          }
         },
         "colorscale": [
          [
           0,
           "#0d0887"
          ],
          [
           0.1111111111111111,
           "#46039f"
          ],
          [
           0.2222222222222222,
           "#7201a8"
          ],
          [
           0.3333333333333333,
           "#9c179e"
          ],
          [
           0.4444444444444444,
           "#bd3786"
          ],
          [
           0.5555555555555556,
           "#d8576b"
          ],
          [
           0.6666666666666666,
           "#ed7953"
          ],
          [
           0.7777777777777778,
           "#fb9f3a"
          ],
          [
           0.8888888888888888,
           "#fdca26"
          ],
          [
           1,
           "#f0f921"
          ]
         ]
        },
        "legend": {
         "tracegroupgap": 0
        },
        "margin": {
         "b": 0,
         "l": 0,
         "r": 0,
         "t": 0
        },
        "scene": {
         "domain": {
          "x": [
           0,
           1
          ],
          "y": [
           0,
           1
          ]
         },
         "xaxis": {
          "title": {
           "text": "area"
          }
         },
         "yaxis": {
          "title": {
           "text": "perimeter"
          }
         },
         "zaxis": {
          "title": {
           "text": "solidity"
          }
         }
        },
        "template": {
         "data": {
          "bar": [
           {
            "error_x": {
             "color": "#2a3f5f"
            },
            "error_y": {
             "color": "#2a3f5f"
            },
            "marker": {
             "line": {
              "color": "#E5ECF6",
              "width": 0.5
             },
             "pattern": {
              "fillmode": "overlay",
              "size": 10,
              "solidity": 0.2
             }
            },
            "type": "bar"
           }
          ],
          "barpolar": [
           {
            "marker": {
             "line": {
              "color": "#E5ECF6",
              "width": 0.5
             },
             "pattern": {
              "fillmode": "overlay",
              "size": 10,
              "solidity": 0.2
             }
            },
            "type": "barpolar"
           }
          ],
          "carpet": [
           {
            "aaxis": {
             "endlinecolor": "#2a3f5f",
             "gridcolor": "white",
             "linecolor": "white",
             "minorgridcolor": "white",
             "startlinecolor": "#2a3f5f"
            },
            "baxis": {
             "endlinecolor": "#2a3f5f",
             "gridcolor": "white",
             "linecolor": "white",
             "minorgridcolor": "white",
             "startlinecolor": "#2a3f5f"
            },
            "type": "carpet"
           }
          ],
          "choropleth": [
           {
            "colorbar": {
             "outlinewidth": 0,
             "ticks": ""
            },
            "type": "choropleth"
           }
          ],
          "contour": [
           {
            "colorbar": {
             "outlinewidth": 0,
             "ticks": ""
            },
            "colorscale": [
             [
              0,
              "#0d0887"
             ],
             [
              0.1111111111111111,
              "#46039f"
             ],
             [
              0.2222222222222222,
              "#7201a8"
             ],
             [
              0.3333333333333333,
              "#9c179e"
             ],
             [
              0.4444444444444444,
              "#bd3786"
             ],
             [
              0.5555555555555556,
              "#d8576b"
             ],
             [
              0.6666666666666666,
              "#ed7953"
             ],
             [
              0.7777777777777778,
              "#fb9f3a"
             ],
             [
              0.8888888888888888,
              "#fdca26"
             ],
             [
              1,
              "#f0f921"
             ]
            ],
            "type": "contour"
           }
          ],
          "contourcarpet": [
           {
            "colorbar": {
             "outlinewidth": 0,
             "ticks": ""
            },
            "type": "contourcarpet"
           }
          ],
          "heatmap": [
           {
            "colorbar": {
             "outlinewidth": 0,
             "ticks": ""
            },
            "colorscale": [
             [
              0,
              "#0d0887"
             ],
             [
              0.1111111111111111,
              "#46039f"
             ],
             [
              0.2222222222222222,
              "#7201a8"
             ],
             [
              0.3333333333333333,
              "#9c179e"
             ],
             [
              0.4444444444444444,
              "#bd3786"
             ],
             [
              0.5555555555555556,
              "#d8576b"
             ],
             [
              0.6666666666666666,
              "#ed7953"
             ],
             [
              0.7777777777777778,
              "#fb9f3a"
             ],
             [
              0.8888888888888888,
              "#fdca26"
             ],
             [
              1,
              "#f0f921"
             ]
            ],
            "type": "heatmap"
           }
          ],
          "histogram": [
           {
            "marker": {
             "pattern": {
              "fillmode": "overlay",
              "size": 10,
              "solidity": 0.2
             }
            },
            "type": "histogram"
           }
          ],
          "histogram2d": [
           {
            "colorbar": {
             "outlinewidth": 0,
             "ticks": ""
            },
            "colorscale": [
             [
              0,
              "#0d0887"
             ],
             [
              0.1111111111111111,
              "#46039f"
             ],
             [
              0.2222222222222222,
              "#7201a8"
             ],
             [
              0.3333333333333333,
              "#9c179e"
             ],
             [
              0.4444444444444444,
              "#bd3786"
             ],
             [
              0.5555555555555556,
              "#d8576b"
             ],
             [
              0.6666666666666666,
              "#ed7953"
             ],
             [
              0.7777777777777778,
              "#fb9f3a"
             ],
             [
              0.8888888888888888,
              "#fdca26"
             ],
             [
              1,
              "#f0f921"
             ]
            ],
            "type": "histogram2d"
           }
          ],
          "histogram2dcontour": [
           {
            "colorbar": {
             "outlinewidth": 0,
             "ticks": ""
            },
            "colorscale": [
             [
              0,
              "#0d0887"
             ],
             [
              0.1111111111111111,
              "#46039f"
             ],
             [
              0.2222222222222222,
              "#7201a8"
             ],
             [
              0.3333333333333333,
              "#9c179e"
             ],
             [
              0.4444444444444444,
              "#bd3786"
             ],
             [
              0.5555555555555556,
              "#d8576b"
             ],
             [
              0.6666666666666666,
              "#ed7953"
             ],
             [
              0.7777777777777778,
              "#fb9f3a"
             ],
             [
              0.8888888888888888,
              "#fdca26"
             ],
             [
              1,
              "#f0f921"
             ]
            ],
            "type": "histogram2dcontour"
           }
          ],
          "mesh3d": [
           {
            "colorbar": {
             "outlinewidth": 0,
             "ticks": ""
            },
            "type": "mesh3d"
           }
          ],
          "parcoords": [
           {
            "line": {
             "colorbar": {
              "outlinewidth": 0,
              "ticks": ""
             }
            },
            "type": "parcoords"
           }
          ],
          "pie": [
           {
            "automargin": true,
            "type": "pie"
           }
          ],
          "scatter": [
           {
            "fillpattern": {
             "fillmode": "overlay",
             "size": 10,
             "solidity": 0.2
            },
            "type": "scatter"
           }
          ],
          "scatter3d": [
           {
            "line": {
             "colorbar": {
              "outlinewidth": 0,
              "ticks": ""
             }
            },
            "marker": {
             "colorbar": {
              "outlinewidth": 0,
              "ticks": ""
             }
            },
            "type": "scatter3d"
           }
          ],
          "scattercarpet": [
           {
            "marker": {
             "colorbar": {
              "outlinewidth": 0,
              "ticks": ""
             }
            },
            "type": "scattercarpet"
           }
          ],
          "scattergeo": [
           {
            "marker": {
             "colorbar": {
              "outlinewidth": 0,
              "ticks": ""
             }
            },
            "type": "scattergeo"
           }
          ],
          "scattergl": [
           {
            "marker": {
             "colorbar": {
              "outlinewidth": 0,
              "ticks": ""
             }
            },
            "type": "scattergl"
           }
          ],
          "scattermap": [
           {
            "marker": {
             "colorbar": {
              "outlinewidth": 0,
              "ticks": ""
             }
            },
            "type": "scattermap"
           }
          ],
          "scattermapbox": [
           {
            "marker": {
             "colorbar": {
              "outlinewidth": 0,
              "ticks": ""
             }
            },
            "type": "scattermapbox"
           }
          ],
          "scatterpolar": [
           {
            "marker": {
             "colorbar": {
              "outlinewidth": 0,
              "ticks": ""
             }
            },
            "type": "scatterpolar"
           }
          ],
          "scatterpolargl": [
           {
            "marker": {
             "colorbar": {
              "outlinewidth": 0,
              "ticks": ""
             }
            },
            "type": "scatterpolargl"
           }
          ],
          "scatterternary": [
           {
            "marker": {
             "colorbar": {
              "outlinewidth": 0,
              "ticks": ""
             }
            },
            "type": "scatterternary"
           }
          ],
          "surface": [
           {
            "colorbar": {
             "outlinewidth": 0,
             "ticks": ""
            },
            "colorscale": [
             [
              0,
              "#0d0887"
             ],
             [
              0.1111111111111111,
              "#46039f"
             ],
             [
              0.2222222222222222,
              "#7201a8"
             ],
             [
              0.3333333333333333,
              "#9c179e"
             ],
             [
              0.4444444444444444,
              "#bd3786"
             ],
             [
              0.5555555555555556,
              "#d8576b"
             ],
             [
              0.6666666666666666,
              "#ed7953"
             ],
             [
              0.7777777777777778,
              "#fb9f3a"
             ],
             [
              0.8888888888888888,
              "#fdca26"
             ],
             [
              1,
              "#f0f921"
             ]
            ],
            "type": "surface"
           }
          ],
          "table": [
           {
            "cells": {
             "fill": {
              "color": "#EBF0F8"
             },
             "line": {
              "color": "white"
             }
            },
            "header": {
             "fill": {
              "color": "#C8D4E3"
             },
             "line": {
              "color": "white"
             }
            },
            "type": "table"
           }
          ]
         },
         "layout": {
          "annotationdefaults": {
           "arrowcolor": "#2a3f5f",
           "arrowhead": 0,
           "arrowwidth": 1
          },
          "autotypenumbers": "strict",
          "coloraxis": {
           "colorbar": {
            "outlinewidth": 0,
            "ticks": ""
           }
          },
          "colorscale": {
           "diverging": [
            [
             0,
             "#8e0152"
            ],
            [
             0.1,
             "#c51b7d"
            ],
            [
             0.2,
             "#de77ae"
            ],
            [
             0.3,
             "#f1b6da"
            ],
            [
             0.4,
             "#fde0ef"
            ],
            [
             0.5,
             "#f7f7f7"
            ],
            [
             0.6,
             "#e6f5d0"
            ],
            [
             0.7,
             "#b8e186"
            ],
            [
             0.8,
             "#7fbc41"
            ],
            [
             0.9,
             "#4d9221"
            ],
            [
             1,
             "#276419"
            ]
           ],
           "sequential": [
            [
             0,
             "#0d0887"
            ],
            [
             0.1111111111111111,
             "#46039f"
            ],
            [
             0.2222222222222222,
             "#7201a8"
            ],
            [
             0.3333333333333333,
             "#9c179e"
            ],
            [
             0.4444444444444444,
             "#bd3786"
            ],
            [
             0.5555555555555556,
             "#d8576b"
            ],
            [
             0.6666666666666666,
             "#ed7953"
            ],
            [
             0.7777777777777778,
             "#fb9f3a"
            ],
            [
             0.8888888888888888,
             "#fdca26"
            ],
            [
             1,
             "#f0f921"
            ]
           ],
           "sequentialminus": [
            [
             0,
             "#0d0887"
            ],
            [
             0.1111111111111111,
             "#46039f"
            ],
            [
             0.2222222222222222,
             "#7201a8"
            ],
            [
             0.3333333333333333,
             "#9c179e"
            ],
            [
             0.4444444444444444,
             "#bd3786"
            ],
            [
             0.5555555555555556,
             "#d8576b"
            ],
            [
             0.6666666666666666,
             "#ed7953"
            ],
            [
             0.7777777777777778,
             "#fb9f3a"
            ],
            [
             0.8888888888888888,
             "#fdca26"
            ],
            [
             1,
             "#f0f921"
            ]
           ]
          },
          "colorway": [
           "#636efa",
           "#EF553B",
           "#00cc96",
           "#ab63fa",
           "#FFA15A",
           "#19d3f3",
           "#FF6692",
           "#B6E880",
           "#FF97FF",
           "#FECB52"
          ],
          "font": {
           "color": "#2a3f5f"
          },
          "geo": {
           "bgcolor": "white",
           "lakecolor": "white",
           "landcolor": "#E5ECF6",
           "showlakes": true,
           "showland": true,
           "subunitcolor": "white"
          },
          "hoverlabel": {
           "align": "left"
          },
          "hovermode": "closest",
          "mapbox": {
           "style": "light"
          },
          "paper_bgcolor": "white",
          "plot_bgcolor": "#E5ECF6",
          "polar": {
           "angularaxis": {
            "gridcolor": "white",
            "linecolor": "white",
            "ticks": ""
           },
           "bgcolor": "#E5ECF6",
           "radialaxis": {
            "gridcolor": "white",
            "linecolor": "white",
            "ticks": ""
           }
          },
          "scene": {
           "xaxis": {
            "backgroundcolor": "#E5ECF6",
            "gridcolor": "white",
            "gridwidth": 2,
            "linecolor": "white",
            "showbackground": true,
            "ticks": "",
            "zerolinecolor": "white"
           },
           "yaxis": {
            "backgroundcolor": "#E5ECF6",
            "gridcolor": "white",
            "gridwidth": 2,
            "linecolor": "white",
            "showbackground": true,
            "ticks": "",
            "zerolinecolor": "white"
           },
           "zaxis": {
            "backgroundcolor": "#E5ECF6",
            "gridcolor": "white",
            "gridwidth": 2,
            "linecolor": "white",
            "showbackground": true,
            "ticks": "",
            "zerolinecolor": "white"
           }
          },
          "shapedefaults": {
           "line": {
            "color": "#2a3f5f"
           }
          },
          "ternary": {
           "aaxis": {
            "gridcolor": "white",
            "linecolor": "white",
            "ticks": ""
           },
           "baxis": {
            "gridcolor": "white",
            "linecolor": "white",
            "ticks": ""
           },
           "bgcolor": "#E5ECF6",
           "caxis": {
            "gridcolor": "white",
            "linecolor": "white",
            "ticks": ""
           }
          },
          "title": {
           "x": 0.05
          },
          "xaxis": {
           "automargin": true,
           "gridcolor": "white",
           "linecolor": "white",
           "ticks": "",
           "title": {
            "standoff": 15
           },
           "zerolinecolor": "white",
           "zerolinewidth": 2
          },
          "yaxis": {
           "automargin": true,
           "gridcolor": "white",
           "linecolor": "white",
           "ticks": "",
           "title": {
            "standoff": 15
           },
           "zerolinecolor": "white",
           "zerolinewidth": 2
          }
         }
        }
       }
      },
      "image/png": "[encoded data removed]"
     },
     "metadata": {},
     "output_type": "display_data"
    }
   ],
   "source": [
    "fig = px.scatter_3d(df, \n",
    "                    x=\"area\", \n",
    "                    y=\"perimeter\", \n",
    "                    z=\"solidity\",\n",
    "                    color=\"eccentricity\") \n",
    "fig.update_traces(marker_size = 2)  # Make dots smaller\n",
    "fig.update_layout(margin=dict(l=0, r=0, b=0, t=0)) # Reduce figure margins\n",
    "fig.show()"
   ]
  },
  {
   "cell_type": "code",
   "execution_count": null,
   "metadata": {},
   "outputs": [],
   "source": []
  }
 ],
 "metadata": {
  "kernelspec": {
   "display_name": "Python 3 (ipykernel)",
   "language": "python",
   "name": "python3"
  },
  "language_info": {
   "codemirror_mode": {
    "name": "ipython",
    "version": 3
   },
   "file_extension": ".py",
   "mimetype": "text/x-python",
   "name": "python",
   "nbconvert_exporter": "python",
   "pygments_lexer": "ipython3",
   "version": "3.11.13"
  }
 },
 "nbformat": 4,
 "nbformat_minor": 4
}
