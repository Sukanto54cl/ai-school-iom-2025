{
 "cells": [
  {
   "cell_type": "markdown",
   "metadata": {},
   "source": [
    "# Plotting in 3D with plotly\n",
    "As plotly offers interactive plots, it becomes feasible to create a 3D plot and rotate it using mouse-interaction."
   ]
  },
  {
   "cell_type": "code",
   "execution_count": 2,
   "metadata": {},
   "outputs": [],
   "source": [
    "from datetime import datetime\n",
    "import pandas as pd\n",
    "import plotly.express as px"
   ]
  },
  {
   "cell_type": "code",
   "execution_count": 3,
   "metadata": {},
   "outputs": [
    {
     "data": {
      "text/html": [
       "<div>\n",
       "<style scoped>\n",
       "    .dataframe tbody tr th:only-of-type {\n",
       "        vertical-align: middle;\n",
       "    }\n",
       "\n",
       "    .dataframe tbody tr th {\n",
       "        vertical-align: top;\n",
       "    }\n",
       "\n",
       "    .dataframe thead th {\n",
       "        text-align: right;\n",
       "    }\n",
       "</style>\n",
       "<table border=\"1\" class=\"dataframe\">\n",
       "  <thead>\n",
       "    <tr style=\"text-align: right;\">\n",
       "      <th></th>\n",
       "      <th>Unnamed: 0</th>\n",
       "      <th>label</th>\n",
       "      <th>area</th>\n",
       "      <th>mean_intensity</th>\n",
       "      <th>max_intensity</th>\n",
       "      <th>min_intensity</th>\n",
       "      <th>centroid-0</th>\n",
       "      <th>centroid-1</th>\n",
       "      <th>eccentricity</th>\n",
       "      <th>solidity</th>\n",
       "      <th>perimeter</th>\n",
       "      <th>centroid_x</th>\n",
       "      <th>centroid_y</th>\n",
       "    </tr>\n",
       "  </thead>\n",
       "  <tbody>\n",
       "    <tr>\n",
       "      <th>0</th>\n",
       "      <td>0</td>\n",
       "      <td>1</td>\n",
       "      <td>27.0</td>\n",
       "      <td>149.333333</td>\n",
       "      <td>168.0</td>\n",
       "      <td>128.0</td>\n",
       "      <td>26.259259</td>\n",
       "      <td>0.666667</td>\n",
       "      <td>0.973991</td>\n",
       "      <td>0.900000</td>\n",
       "      <td>20.621320</td>\n",
       "      <td>0.666667</td>\n",
       "      <td>26.259259</td>\n",
       "    </tr>\n",
       "    <tr>\n",
       "      <th>1</th>\n",
       "      <td>1</td>\n",
       "      <td>2</td>\n",
       "      <td>203.0</td>\n",
       "      <td>199.960591</td>\n",
       "      <td>240.0</td>\n",
       "      <td>128.0</td>\n",
       "      <td>225.876847</td>\n",
       "      <td>3.955665</td>\n",
       "      <td>0.892348</td>\n",
       "      <td>0.966667</td>\n",
       "      <td>59.591883</td>\n",
       "      <td>3.955665</td>\n",
       "      <td>225.876847</td>\n",
       "    </tr>\n",
       "    <tr>\n",
       "      <th>2</th>\n",
       "      <td>2</td>\n",
       "      <td>3</td>\n",
       "      <td>503.0</td>\n",
       "      <td>198.695825</td>\n",
       "      <td>248.0</td>\n",
       "      <td>128.0</td>\n",
       "      <td>97.487078</td>\n",
       "      <td>7.836978</td>\n",
       "      <td>0.801503</td>\n",
       "      <td>0.971042</td>\n",
       "      <td>86.870058</td>\n",
       "      <td>7.836978</td>\n",
       "      <td>97.487078</td>\n",
       "    </tr>\n",
       "    <tr>\n",
       "      <th>3</th>\n",
       "      <td>3</td>\n",
       "      <td>4</td>\n",
       "      <td>264.0</td>\n",
       "      <td>189.939394</td>\n",
       "      <td>232.0</td>\n",
       "      <td>120.0</td>\n",
       "      <td>139.545455</td>\n",
       "      <td>7.159091</td>\n",
       "      <td>0.605384</td>\n",
       "      <td>0.977778</td>\n",
       "      <td>58.041631</td>\n",
       "      <td>7.159091</td>\n",
       "      <td>139.545455</td>\n",
       "    </tr>\n",
       "    <tr>\n",
       "      <th>4</th>\n",
       "      <td>4</td>\n",
       "      <td>5</td>\n",
       "      <td>96.0</td>\n",
       "      <td>166.416667</td>\n",
       "      <td>200.0</td>\n",
       "      <td>128.0</td>\n",
       "      <td>44.812500</td>\n",
       "      <td>7.833333</td>\n",
       "      <td>0.628475</td>\n",
       "      <td>0.960000</td>\n",
       "      <td>34.142136</td>\n",
       "      <td>7.833333</td>\n",
       "      <td>44.812500</td>\n",
       "    </tr>\n",
       "  </tbody>\n",
       "</table>\n",
       "</div>"
      ],
      "text/plain": [
       "   Unnamed: 0  label   area  mean_intensity  max_intensity  min_intensity  \\\n",
       "0           0      1   27.0      149.333333          168.0          128.0   \n",
       "1           1      2  203.0      199.960591          240.0          128.0   \n",
       "2           2      3  503.0      198.695825          248.0          128.0   \n",
       "3           3      4  264.0      189.939394          232.0          120.0   \n",
       "4           4      5   96.0      166.416667          200.0          128.0   \n",
       "\n",
       "   centroid-0  centroid-1  eccentricity  solidity  perimeter  centroid_x  \\\n",
       "0   26.259259    0.666667      0.973991  0.900000  20.621320    0.666667   \n",
       "1  225.876847    3.955665      0.892348  0.966667  59.591883    3.955665   \n",
       "2   97.487078    7.836978      0.801503  0.971042  86.870058    7.836978   \n",
       "3  139.545455    7.159091      0.605384  0.977778  58.041631    7.159091   \n",
       "4   44.812500    7.833333      0.628475  0.960000  34.142136    7.833333   \n",
       "\n",
       "   centroid_y  \n",
       "0   26.259259  \n",
       "1  225.876847  \n",
       "2   97.487078  \n",
       "3  139.545455  \n",
       "4   44.812500  "
      ]
     },
     "execution_count": 3,
     "metadata": {},
     "output_type": "execute_result"
    }
   ],
   "source": [
    "df = pd.read_csv(\"data/blobs_measurements.csv\")\n",
    "df.head()"
   ]
  },
  {
   "cell_type": "markdown",
   "metadata": {},
   "source": [
    "The [scatter_3d](https://plotly.com/python-api-reference/generated/plotly.express.scatter_3d.html) function offers interactive 3D plots."
   ]
  },
  {
   "cell_type": "code",
   "execution_count": 5,
   "metadata": {},
   "outputs": [
    {
     "data": {
      "application/vnd.plotly.v1+json": {
       "config": {
        "plotlyServerURL": "https://plot.ly"
       },
       "data": [
        {
         "hovertemplate": "area=%{x}<br>perimeter=%{y}<br>solidity=%{z}<extra></extra>",
         "legendgroup": "",
         "marker": {
          "color": "#636efa",
          "size": 2,
          "symbol": "circle"
         },
         "mode": "markers",
         "name": "",
         "scene": "scene",
         "showlegend": false,
         "type": "scatter3d",
         "x": {
          "_inputArray": {
           "0": 27,
           "1": 203,
           "10": 255,
           "11": 542,
           "12": 227,
           "13": 374,
           "14": 213,
           "15": 406,
           "16": 192,
           "17": 539,
           "18": 183,
           "19": 239,
           "2": 503,
           "20": 649,
           "21": 48,
           "22": 896,
           "23": 423,
           "24": 613,
           "25": 358,
           "26": 205,
           "27": 453,
           "28": 240,
           "29": 422,
           "3": 264,
           "30": 577,
           "31": 88,
           "32": 359,
           "33": 408,
           "34": 75,
           "35": 278,
           "36": 448,
           "37": 433,
           "38": 316,
           "39": 158,
           "4": 96,
           "40": 319,
           "41": 494,
           "42": 675,
           "43": 79,
           "44": 850,
           "45": 647,
           "46": 166,
           "47": 196,
           "48": 280,
           "49": 201,
           "5": 414,
           "50": 169,
           "51": 268,
           "52": 239,
           "53": 271,
           "54": 594,
           "55": 282,
           "56": 225,
           "57": 378,
           "58": 556,
           "59": 52,
           "6": 281,
           "60": 349,
           "61": 472,
           "62": 176,
           "63": 19,
           "64": 473,
           "65": 66,
           "7": 467,
           "8": 148,
           "9": 513,
           "bdata": "AAAAAAAAO0AAAAAAAGBpQAAAAAAAcH9AAAAAAACAcEAAAAAAAABYQAAAAAAA4HlAAAAAAACQcUAAAAAAADB9QAAAAAAAgGJAAAAAAAAIgEAAAAAAAOBvQAAAAAAA8IBAAAAAAABgbEAAAAAAAGB3QAAAAAAAoGpAAAAAAABgeUAAAAAAAABoQAAAAAAA2IBAAAAAAADgZkAAAAAAAOBtQAAAAAAASIRAAAAAAAAASEAAAAAAAACMQAAAAAAAcHpAAAAAAAAog0AAAAAAAGB2QAAAAAAAoGlAAAAAAABQfEAAAAAAAABuQAAAAAAAYHpAAAAAAAAIgkAAAAAAAABWQAAAAAAAcHZAAAAAAACAeUAAAAAAAMBSQAAAAAAAYHFAAAAAAAAAfEAAAAAAABB7QAAAAAAAwHNAAAAAAADAY0AAAAAAAPBzQAAAAAAA4H5AAAAAAAAYhUAAAAAAAMBTQAAAAAAAkIpAAAAAAAA4hEAAAAAAAMBkQAAAAAAAgGhAAAAAAACAcUAAAAAAACBpQAAAAAAAIGVAAAAAAADAcEAAAAAAAOBtQAAAAAAA8HBAAAAAAACQgkAAAAAAAKBxQAAAAAAAIGxAAAAAAACgd0AAAAAAAGCBQAAAAAAAAEpAAAAAAADQdUAAAAAAAIB9QAAAAAAAAGZAAAAAAAAAM0AAAAAAAJB9QAAAAAAAgFBA",
           "dtype": "f8",
           "shape": "66"
          },
          "bdata": "AAAAAAAAO0AAAAAAAGBpQAAAAAAAcH9AAAAAAACAcEAAAAAAAABYQAAAAAAA4HlAAAAAAACQcUAAAAAAADB9QAAAAAAAgGJAAAAAAAAIgEAAAAAAAOBvQAAAAAAA8IBAAAAAAABgbEAAAAAAAGB3QAAAAAAAoGpAAAAAAABgeUAAAAAAAABoQAAAAAAA2IBAAAAAAADgZkAAAAAAAOBtQAAAAAAASIRAAAAAAAAASEAAAAAAAACMQAAAAAAAcHpAAAAAAAAog0AAAAAAAGB2QAAAAAAAoGlAAAAAAABQfEAAAAAAAABuQAAAAAAAYHpAAAAAAAAIgkAAAAAAAABWQAAAAAAAcHZAAAAAAACAeUAAAAAAAMBSQAAAAAAAYHFAAAAAAAAAfEAAAAAAABB7QAAAAAAAwHNAAAAAAADAY0AAAAAAAPBzQAAAAAAA4H5AAAAAAAAYhUAAAAAAAMBTQAAAAAAAkIpAAAAAAAA4hEAAAAAAAMBkQAAAAAAAgGhAAAAAAACAcUAAAAAAACBpQAAAAAAAIGVAAAAAAADAcEAAAAAAAOBtQAAAAAAA8HBAAAAAAACQgkAAAAAAAKBxQAAAAAAAIGxAAAAAAACgd0AAAAAAAGCBQAAAAAAAAEpAAAAAAADQdUAAAAAAAIB9QAAAAAAAAGZAAAAAAAAAM0AAAAAAAJB9QAAAAAAAgFBA",
          "dtype": "f8"
         },
         "y": {
          "_inputArray": {
           "0": 20.62132034355964,
           "1": 59.59188309203678,
           "10": 57.45584412271571,
           "11": 85.84062043356593,
           "12": 54.04163056034261,
           "13": 70.8700576850888,
           "14": 52.284271247461895,
           "15": 73.11269837220809,
           "16": 50.04163056034261,
           "17": 85.59797974644665,
           "18": 53.55634918610404,
           "19": 55.45584412271571,
           "2": 86.87005768508881,
           "20": 95.49747468305831,
           "21": 33.07106781186548,
           "22": 129.9827560572969,
           "23": 76.76955262170047,
           "24": 92.32590180780451,
           "25": 67.698484809835,
           "26": 63.07106781186548,
           "27": 80.8700576850888,
           "28": 57.45584412271571,
           "29": 85.84062043356595,
           "3": 58.04163056034263,
           "30": 87.94112549695429,
           "31": 45.69238815542512,
           "32": 73.14823227814084,
           "33": 75.11269837220809,
           "34": 29.31370849898476,
           "35": 61.11269837220809,
           "36": 77.35533905932738,
           "37": 77.45584412271572,
           "38": 69.01219330881976,
           "39": 44.38477631085024,
           "4": 34.14213562373095,
           "40": 67.35533905932738,
           "41": 81.01219330881976,
           "42": 101.84062043356592,
           "43": 39.31370849898476,
           "44": 112.66904755831212,
           "45": 92.76955262170048,
           "46": 46.38477631085024,
           "47": 51.87005768508881,
           "48": 60.52691193458119,
           "49": 54.62741699796952,
           "5": 75.11269837220809,
           "50": 46.62741699796952,
           "51": 60.2842712474619,
           "52": 55.21320343559643,
           "53": 60.8700576850888,
           "54": 89.01219330881975,
           "55": 60.2842712474619,
           "56": 54.04163056034262,
           "57": 70.52691193458118,
           "58": 86.18376618407356,
           "59": 30.69238815542512,
           "6": 65.11269837220809,
           "60": 67.69848480983501,
           "61": 83.79898987322333,
           "62": 51.55634918610404,
           "63": 14.242640687119284,
           "64": 86.18376618407358,
           "65": 35.89949493661167,
           "7": 88.18376618407356,
           "8": 50.79898987322332,
           "9": 83.01219330881975,
           "bdata": "mu2b2Q6fNEA6rT3TwstNQMHFbQavt1VAx5dzJlQFTUCwwgeAMRJBQI68O3M2x1JAjrw7czZHUEA6rT3TwgtWQCiq10xFZklAGKdxxsfAVECjkacZWbpMQPagpbnMdVVAxJdzJlQFS0DAxW0Gr7dRQF+FDwBjJEpAjrw7czZHUkDEl3MmVAVJQCmq10xFZlVAjrw7czbHSkCjkacZWbpLQLOUDaDW31dAWeEDwBiJQEAowdS8cj9gQEuwo1lAMVNAko5Bk9sUV0Cfv6H5s+xQQFnhA8AYiU9AwMVtBq83VECjkacZWbpMQPegpbnMdVVAbbZvZjv8VUAm2NEsoNhGQOW0PKN8SVJAjrw7czbHUkDmnT8zT1A9QBx5d+Zsjk5AXLMJ4L1WU0DSyNOMLF1TQBmnccbHQFFATLCjWUAxRkBcswngvdZQQBmnccbHQFRA9aClucx1WUDzzp+ZJ6hDQNSa2azRKlxATLCjWUAxV0BMsKNZQDFHQIKL2wxe70lA/HKr2XFDTkDmnT8zT1BLQOadPzNPUEdAYIUPAGMkTkAIpAtASptLQIGL2wxeb05AGKdxxsdAVkBghQ8AYyROQMWXcyZUBUtAfbnV7LihUUA6rT3TwotVQEywo1lAsT5AoL+h+bPsUEAV1WumIvNUQI68O3M2x0lAbLZvZjt8LEA7rT3TwotVQBXVa6Yi80FA",
           "dtype": "f8",
           "shape": "66"
          },
          "bdata": "mu2b2Q6fNEA6rT3TwstNQMHFbQavt1VAx5dzJlQFTUCwwgeAMRJBQI68O3M2x1JAjrw7czZHUEA6rT3TwgtWQCiq10xFZklAGKdxxsfAVECjkacZWbpMQPagpbnMdVVAxJdzJlQFS0DAxW0Gr7dRQF+FDwBjJEpAjrw7czZHUkDEl3MmVAVJQCmq10xFZlVAjrw7czbHSkCjkacZWbpLQLOUDaDW31dAWeEDwBiJQEAowdS8cj9gQEuwo1lAMVNAko5Bk9sUV0Cfv6H5s+xQQFnhA8AYiU9AwMVtBq83VECjkacZWbpMQPegpbnMdVVAbbZvZjv8VUAm2NEsoNhGQOW0PKN8SVJAjrw7czbHUkDmnT8zT1A9QBx5d+Zsjk5AXLMJ4L1WU0DSyNOMLF1TQBmnccbHQFFATLCjWUAxRkBcswngvdZQQBmnccbHQFRA9aClucx1WUDzzp+ZJ6hDQNSa2azRKlxATLCjWUAxV0BMsKNZQDFHQIKL2wxe70lA/HKr2XFDTkDmnT8zT1BLQOadPzNPUEdAYIUPAGMkTkAIpAtASptLQIGL2wxeb05AGKdxxsdAVkBghQ8AYyROQMWXcyZUBUtAfbnV7LihUUA6rT3TwotVQEywo1lAsT5AoL+h+bPsUEAV1WumIvNUQI68O3M2x0lAbLZvZjt8LEA7rT3TwotVQBXVa6Yi80FA",
          "dtype": "f8"
         },
         "z": {
          "_inputArray": {
           "0": 0.9,
           "1": 0.9666666666666668,
           "10": 0.9586466165413534,
           "11": 0.966131907308378,
           "12": 0.953781512605042,
           "13": 0.96640826873385,
           "14": 0.9638009049773756,
           "15": 0.971291866028708,
           "16": 0.9458128078817734,
           "17": 0.9694244604316546,
           "18": 0.963157894736842,
           "19": 0.9637096774193548,
           "2": 0.971042471042471,
           "20": 0.9657738095238096,
           "21": 0.9056603773584906,
           "22": 0.917093142272262,
           "23": 0.9679633867276888,
           "24": 0.9623233908948194,
           "25": 0.9781420765027322,
           "26": 0.9579439252336448,
           "27": 0.9597457627118644,
           "28": 0.9411764705882352,
           "29": 0.8846960167714885,
           "3": 0.9777777777777776,
           "30": 0.969747899159664,
           "31": 0.9565217391304348,
           "32": 0.9158163265306124,
           "33": 0.9622641509433962,
           "34": 0.974025974025974,
           "35": 0.9553264604810996,
           "36": 0.96137339055794,
           "37": 0.9730337078651684,
           "38": 0.9212827988338192,
           "39": 0.9634146341463414,
           "4": 0.96,
           "40": 0.9410029498525072,
           "41": 0.96484375,
           "42": 0.9388038942976356,
           "43": 0.9404761904761904,
           "44": 0.9593679458239278,
           "45": 0.978819969742814,
           "46": 0.9540229885057472,
           "47": 0.9423076923076924,
           "48": 0.9655172413793104,
           "49": 0.9348837209302324,
           "5": 0.9561200923787528,
           "50": 0.9548022598870056,
           "51": 0.9469964664310954,
           "52": 0.9637096774193548,
           "53": 0.954225352112676,
           "54": 0.96742671009772,
           "55": 0.9657534246575342,
           "56": 0.9533898305084746,
           "57": 0.9642857142857144,
           "58": 0.9652777777777778,
           "59": 0.9285714285714286,
           "6": 0.9273927392739274,
           "60": 0.9667590027700832,
           "61": 0.97119341563786,
           "62": 0.9723756906077348,
           "63": 0.9047619047619048,
           "64": 0.9692622950819672,
           "65": 0.9705882352941176,
           "7": 0.9377510040160644,
           "8": 0.896969696969697,
           "9": 0.9661016949152542,
           "bdata": "zczMzMzM7D/w7u7u7u7uPyzxBKnHEu8/nvRJn/RJ7z+4HoXrUbjuP3cW+imJmO4/Ble3iTOt7T8AScFkDgLuP7ScP8v5s+w/j60IGk7q7j/U6k6rO63uP+teMHaN6u4/zmCFzmCF7j+6d5kI0ezuP/901/501+4/BtrurdIU7z9Kr784GUTuP4jiL3KGBe8/Iu1YgTDS7j/WWmuttdbuP3ue53me5+4/IjXBeCv77D9pP66301jtP/0QN1qO+e4/2jWCbFrL7j/odq2c8EzvP9L4yAR6p+4/Gk7qvjy27j8dHh4eHh7uP5vrXQVuT+w/wCwIvywI7z/qTW9605vuP1XwcgpeTu0/dEhNMN7K7j/irPyEOCvvP96hGMwIku4/khz2IJLD7j/x9yWWFyPvP6h5axAme+0/1K5E7UrU7j8iy+E3shzuPwAAAAAA4O4/hLTrdq4K7j+FYRiGYRjuP3+fBGgks+4/c/LWQX5S7z+0deg3W4fuP3diJ3ZiJ+4/R1juaYTl7j8Tqd5DkertPxSSC3i9je4/w/iXiMtN7j/WWmuttdbuPyDRCpsDie4/ybAk3Cj17j937ty5c+fuP6Xuy2Mrgu4/uG3btm3b7j85juM4juPuP27btm3btu0/xlqAk7Dv7j8jKsg2BBTvP4a90p+zHe8/Pc/zPM/z7D8271NcMgTvPw8PDw8PD+8/",
           "dtype": "f8",
           "shape": "66"
          },
          "bdata": "zczMzMzM7D/w7u7u7u7uPyzxBKnHEu8/nvRJn/RJ7z+4HoXrUbjuP3cW+imJmO4/Ble3iTOt7T8AScFkDgLuP7ScP8v5s+w/j60IGk7q7j/U6k6rO63uP+teMHaN6u4/zmCFzmCF7j+6d5kI0ezuP/901/501+4/BtrurdIU7z9Kr784GUTuP4jiL3KGBe8/Iu1YgTDS7j/WWmuttdbuP3ue53me5+4/IjXBeCv77D9pP66301jtP/0QN1qO+e4/2jWCbFrL7j/odq2c8EzvP9L4yAR6p+4/Gk7qvjy27j8dHh4eHh7uP5vrXQVuT+w/wCwIvywI7z/qTW9605vuP1XwcgpeTu0/dEhNMN7K7j/irPyEOCvvP96hGMwIku4/khz2IJLD7j/x9yWWFyPvP6h5axAme+0/1K5E7UrU7j8iy+E3shzuPwAAAAAA4O4/hLTrdq4K7j+FYRiGYRjuP3+fBGgks+4/c/LWQX5S7z+0deg3W4fuP3diJ3ZiJ+4/R1juaYTl7j8Tqd5DkertPxSSC3i9je4/w/iXiMtN7j/WWmuttdbuPyDRCpsDie4/ybAk3Cj17j937ty5c+fuP6Xuy2Mrgu4/uG3btm3b7j85juM4juPuP27btm3btu0/xlqAk7Dv7j8jKsg2BBTvP4a90p+zHe8/Pc/zPM/z7D8271NcMgTvPw8PDw8PD+8/",
          "dtype": "f8"
         }
        }
       ],
       "layout": {
        "autosize": true,
        "legend": {
         "tracegroupgap": 0
        },
        "margin": {
         "b": 0,
         "l": 0,
         "r": 0,
         "t": 0
        },
        "scene": {
         "aspectmode": "auto",
         "aspectratio": {
          "x": 1,
          "y": 1,
          "z": 1
         },
         "domain": {
          "x": [
           0,
           1
          ],
          "y": [
           0,
           1
          ]
         },
         "xaxis": {
          "title": {
           "text": "area"
          },
          "type": "linear"
         },
         "yaxis": {
          "title": {
           "text": "perimeter"
          },
          "type": "linear"
         },
         "zaxis": {
          "title": {
           "text": "solidity"
          },
          "type": "linear"
         }
        },
        "template": {
         "data": {
          "bar": [
           {
            "error_x": {
             "color": "#2a3f5f"
            },
            "error_y": {
             "color": "#2a3f5f"
            },
            "marker": {
             "line": {
              "color": "#E5ECF6",
              "width": 0.5
             },
             "pattern": {
              "fillmode": "overlay",
              "size": 10,
              "solidity": 0.2
             }
            },
            "type": "bar"
           }
          ],
          "barpolar": [
           {
            "marker": {
             "line": {
              "color": "#E5ECF6",
              "width": 0.5
             },
             "pattern": {
              "fillmode": "overlay",
              "size": 10,
              "solidity": 0.2
             }
            },
            "type": "barpolar"
           }
          ],
          "carpet": [
           {
            "aaxis": {
             "endlinecolor": "#2a3f5f",
             "gridcolor": "white",
             "linecolor": "white",
             "minorgridcolor": "white",
             "startlinecolor": "#2a3f5f"
            },
            "baxis": {
             "endlinecolor": "#2a3f5f",
             "gridcolor": "white",
             "linecolor": "white",
             "minorgridcolor": "white",
             "startlinecolor": "#2a3f5f"
            },
            "type": "carpet"
           }
          ],
          "choropleth": [
           {
            "colorbar": {
             "outlinewidth": 0,
             "ticks": ""
            },
            "type": "choropleth"
           }
          ],
          "contour": [
           {
            "colorbar": {
             "outlinewidth": 0,
             "ticks": ""
            },
            "colorscale": [
             [
              0,
              "#0d0887"
             ],
             [
              0.1111111111111111,
              "#46039f"
             ],
             [
              0.2222222222222222,
              "#7201a8"
             ],
             [
              0.3333333333333333,
              "#9c179e"
             ],
             [
              0.4444444444444444,
              "#bd3786"
             ],
             [
              0.5555555555555556,
              "#d8576b"
             ],
             [
              0.6666666666666666,
              "#ed7953"
             ],
             [
              0.7777777777777778,
              "#fb9f3a"
             ],
             [
              0.8888888888888888,
              "#fdca26"
             ],
             [
              1,
              "#f0f921"
             ]
            ],
            "type": "contour"
           }
          ],
          "contourcarpet": [
           {
            "colorbar": {
             "outlinewidth": 0,
             "ticks": ""
            },
            "type": "contourcarpet"
           }
          ],
          "heatmap": [
           {
            "colorbar": {
             "outlinewidth": 0,
             "ticks": ""
            },
            "colorscale": [
             [
              0,
              "#0d0887"
             ],
             [
              0.1111111111111111,
              "#46039f"
             ],
             [
              0.2222222222222222,
              "#7201a8"
             ],
             [
              0.3333333333333333,
              "#9c179e"
             ],
             [
              0.4444444444444444,
              "#bd3786"
             ],
             [
              0.5555555555555556,
              "#d8576b"
             ],
             [
              0.6666666666666666,
              "#ed7953"
             ],
             [
              0.7777777777777778,
              "#fb9f3a"
             ],
             [
              0.8888888888888888,
              "#fdca26"
             ],
             [
              1,
              "#f0f921"
             ]
            ],
            "type": "heatmap"
           }
          ],
          "histogram": [
           {
            "marker": {
             "pattern": {
              "fillmode": "overlay",
              "size": 10,
              "solidity": 0.2
             }
            },
            "type": "histogram"
           }
          ],
          "histogram2d": [
           {
            "colorbar": {
             "outlinewidth": 0,
             "ticks": ""
            },
            "colorscale": [
             [
              0,
              "#0d0887"
             ],
             [
              0.1111111111111111,
              "#46039f"
             ],
             [
              0.2222222222222222,
              "#7201a8"
             ],
             [
              0.3333333333333333,
              "#9c179e"
             ],
             [
              0.4444444444444444,
              "#bd3786"
             ],
             [
              0.5555555555555556,
              "#d8576b"
             ],
             [
              0.6666666666666666,
              "#ed7953"
             ],
             [
              0.7777777777777778,
              "#fb9f3a"
             ],
             [
              0.8888888888888888,
              "#fdca26"
             ],
             [
              1,
              "#f0f921"
             ]
            ],
            "type": "histogram2d"
           }
          ],
          "histogram2dcontour": [
           {
            "colorbar": {
             "outlinewidth": 0,
             "ticks": ""
            },
            "colorscale": [
             [
              0,
              "#0d0887"
             ],
             [
              0.1111111111111111,
              "#46039f"
             ],
             [
              0.2222222222222222,
              "#7201a8"
             ],
             [
              0.3333333333333333,
              "#9c179e"
             ],
             [
              0.4444444444444444,
              "#bd3786"
             ],
             [
              0.5555555555555556,
              "#d8576b"
             ],
             [
              0.6666666666666666,
              "#ed7953"
             ],
             [
              0.7777777777777778,
              "#fb9f3a"
             ],
             [
              0.8888888888888888,
              "#fdca26"
             ],
             [
              1,
              "#f0f921"
             ]
            ],
            "type": "histogram2dcontour"
           }
          ],
          "mesh3d": [
           {
            "colorbar": {
             "outlinewidth": 0,
             "ticks": ""
            },
            "type": "mesh3d"
           }
          ],
          "parcoords": [
           {
            "line": {
             "colorbar": {
              "outlinewidth": 0,
              "ticks": ""
             }
            },
            "type": "parcoords"
           }
          ],
          "pie": [
           {
            "automargin": true,
            "type": "pie"
           }
          ],
          "scatter": [
           {
            "fillpattern": {
             "fillmode": "overlay",
             "size": 10,
             "solidity": 0.2
            },
            "type": "scatter"
           }
          ],
          "scatter3d": [
           {
            "line": {
             "colorbar": {
              "outlinewidth": 0,
              "ticks": ""
             }
            },
            "marker": {
             "colorbar": {
              "outlinewidth": 0,
              "ticks": ""
             }
            },
            "type": "scatter3d"
           }
          ],
          "scattercarpet": [
           {
            "marker": {
             "colorbar": {
              "outlinewidth": 0,
              "ticks": ""
             }
            },
            "type": "scattercarpet"
           }
          ],
          "scattergeo": [
           {
            "marker": {
             "colorbar": {
              "outlinewidth": 0,
              "ticks": ""
             }
            },
            "type": "scattergeo"
           }
          ],
          "scattergl": [
           {
            "marker": {
             "colorbar": {
              "outlinewidth": 0,
              "ticks": ""
             }
            },
            "type": "scattergl"
           }
          ],
          "scattermap": [
           {
            "marker": {
             "colorbar": {
              "outlinewidth": 0,
              "ticks": ""
             }
            },
            "type": "scattermap"
           }
          ],
          "scattermapbox": [
           {
            "marker": {
             "colorbar": {
              "outlinewidth": 0,
              "ticks": ""
             }
            },
            "type": "scattermapbox"
           }
          ],
          "scatterpolar": [
           {
            "marker": {
             "colorbar": {
              "outlinewidth": 0,
              "ticks": ""
             }
            },
            "type": "scatterpolar"
           }
          ],
          "scatterpolargl": [
           {
            "marker": {
             "colorbar": {
              "outlinewidth": 0,
              "ticks": ""
             }
            },
            "type": "scatterpolargl"
           }
          ],
          "scatterternary": [
           {
            "marker": {
             "colorbar": {
              "outlinewidth": 0,
              "ticks": ""
             }
            },
            "type": "scatterternary"
           }
          ],
          "surface": [
           {
            "colorbar": {
             "outlinewidth": 0,
             "ticks": ""
            },
            "colorscale": [
             [
              0,
              "#0d0887"
             ],
             [
              0.1111111111111111,
              "#46039f"
             ],
             [
              0.2222222222222222,
              "#7201a8"
             ],
             [
              0.3333333333333333,
              "#9c179e"
             ],
             [
              0.4444444444444444,
              "#bd3786"
             ],
             [
              0.5555555555555556,
              "#d8576b"
             ],
             [
              0.6666666666666666,
              "#ed7953"
             ],
             [
              0.7777777777777778,
              "#fb9f3a"
             ],
             [
              0.8888888888888888,
              "#fdca26"
             ],
             [
              1,
              "#f0f921"
             ]
            ],
            "type": "surface"
           }
          ],
          "table": [
           {
            "cells": {
             "fill": {
              "color": "#EBF0F8"
             },
             "line": {
              "color": "white"
             }
            },
            "header": {
             "fill": {
              "color": "#C8D4E3"
             },
             "line": {
              "color": "white"
             }
            },
            "type": "table"
           }
          ]
         },
         "layout": {
          "annotationdefaults": {
           "arrowcolor": "#2a3f5f",
           "arrowhead": 0,
           "arrowwidth": 1
          },
          "autotypenumbers": "strict",
          "coloraxis": {
           "colorbar": {
            "outlinewidth": 0,
            "ticks": ""
           }
          },
          "colorscale": {
           "diverging": [
            [
             0,
             "#8e0152"
            ],
            [
             0.1,
             "#c51b7d"
            ],
            [
             0.2,
             "#de77ae"
            ],
            [
             0.3,
             "#f1b6da"
            ],
            [
             0.4,
             "#fde0ef"
            ],
            [
             0.5,
             "#f7f7f7"
            ],
            [
             0.6,
             "#e6f5d0"
            ],
            [
             0.7,
             "#b8e186"
            ],
            [
             0.8,
             "#7fbc41"
            ],
            [
             0.9,
             "#4d9221"
            ],
            [
             1,
             "#276419"
            ]
           ],
           "sequential": [
            [
             0,
             "#0d0887"
            ],
            [
             0.1111111111111111,
             "#46039f"
            ],
            [
             0.2222222222222222,
             "#7201a8"
            ],
            [
             0.3333333333333333,
             "#9c179e"
            ],
            [
             0.4444444444444444,
             "#bd3786"
            ],
            [
             0.5555555555555556,
             "#d8576b"
            ],
            [
             0.6666666666666666,
             "#ed7953"
            ],
            [
             0.7777777777777778,
             "#fb9f3a"
            ],
            [
             0.8888888888888888,
             "#fdca26"
            ],
            [
             1,
             "#f0f921"
            ]
           ],
           "sequentialminus": [
            [
             0,
             "#0d0887"
            ],
            [
             0.1111111111111111,
             "#46039f"
            ],
            [
             0.2222222222222222,
             "#7201a8"
            ],
            [
             0.3333333333333333,
             "#9c179e"
            ],
            [
             0.4444444444444444,
             "#bd3786"
            ],
            [
             0.5555555555555556,
             "#d8576b"
            ],
            [
             0.6666666666666666,
             "#ed7953"
            ],
            [
             0.7777777777777778,
             "#fb9f3a"
            ],
            [
             0.8888888888888888,
             "#fdca26"
            ],
            [
             1,
             "#f0f921"
            ]
           ]
          },
          "colorway": [
           "#636efa",
           "#EF553B",
           "#00cc96",
           "#ab63fa",
           "#FFA15A",
           "#19d3f3",
           "#FF6692",
           "#B6E880",
           "#FF97FF",
           "#FECB52"
          ],
          "font": {
           "color": "#2a3f5f"
          },
          "geo": {
           "bgcolor": "white",
           "lakecolor": "white",
           "landcolor": "#E5ECF6",
           "showlakes": true,
           "showland": true,
           "subunitcolor": "white"
          },
          "hoverlabel": {
           "align": "left"
          },
          "hovermode": "closest",
          "mapbox": {
           "style": "light"
          },
          "paper_bgcolor": "white",
          "plot_bgcolor": "#E5ECF6",
          "polar": {
           "angularaxis": {
            "gridcolor": "white",
            "linecolor": "white",
            "ticks": ""
           },
           "bgcolor": "#E5ECF6",
           "radialaxis": {
            "gridcolor": "white",
            "linecolor": "white",
            "ticks": ""
           }
          },
          "scene": {
           "xaxis": {
            "backgroundcolor": "#E5ECF6",
            "gridcolor": "white",
            "gridwidth": 2,
            "linecolor": "white",
            "showbackground": true,
            "ticks": "",
            "zerolinecolor": "white"
           },
           "yaxis": {
            "backgroundcolor": "#E5ECF6",
            "gridcolor": "white",
            "gridwidth": 2,
            "linecolor": "white",
            "showbackground": true,
            "ticks": "",
            "zerolinecolor": "white"
           },
           "zaxis": {
            "backgroundcolor": "#E5ECF6",
            "gridcolor": "white",
            "gridwidth": 2,
            "linecolor": "white",
            "showbackground": true,
            "ticks": "",
            "zerolinecolor": "white"
           }
          },
          "shapedefaults": {
           "line": {
            "color": "#2a3f5f"
           }
          },
          "ternary": {
           "aaxis": {
            "gridcolor": "white",
            "linecolor": "white",
            "ticks": ""
           },
           "baxis": {
            "gridcolor": "white",
            "linecolor": "white",
            "ticks": ""
           },
           "bgcolor": "#E5ECF6",
           "caxis": {
            "gridcolor": "white",
            "linecolor": "white",
            "ticks": ""
           }
          },
          "title": {
           "x": 0.05
          },
          "xaxis": {
           "automargin": true,
           "gridcolor": "white",
           "linecolor": "white",
           "ticks": "",
           "title": {
            "standoff": 15
           },
           "zerolinecolor": "white",
           "zerolinewidth": 2
          },
          "yaxis": {
           "automargin": true,
           "gridcolor": "white",
           "linecolor": "white",
           "ticks": "",
           "title": {
            "standoff": 15
           },
           "zerolinecolor": "white",
           "zerolinewidth": 2
          }
         }
        }
       }
      },
      "image/png": "[encoded data removed]"
     },
     "metadata": {},
     "output_type": "display_data"
    }
   ],
   "source": [
    "fig = px.scatter_3d(df, \n",
    "                    x=\"area\", \n",
    "                    y=\"perimeter\", \n",
    "                    z=\"solidity\") \n",
    "fig.update_traces(marker_size = 2)  # Make dots smaller\n",
    "fig.update_layout(margin=dict(l=0, r=0, b=0, t=0)) # Reduce figure margins\n",
    "fig.show()"
   ]
  },
  {
   "cell_type": "markdown",
   "metadata": {},
   "source": [
    "## Exercise\n",
    "Configure the plot above so that `eccentricity` is colour-coded in the plot."
   ]
  },
  {
   "cell_type": "code",
   "execution_count": null,
   "metadata": {},
   "outputs": [],
   "source": []
  }
 ],
 "metadata": {
  "kernelspec": {
   "display_name": "Python 3 (ipykernel)",
   "language": "python",
   "name": "python3"
  },
  "language_info": {
   "codemirror_mode": {
    "name": "ipython",
    "version": 3
   },
   "file_extension": ".py",
   "mimetype": "text/x-python",
   "name": "python",
   "nbconvert_exporter": "python",
   "pygments_lexer": "ipython3",
   "version": "3.11.13"
  }
 },
 "nbformat": 4,
 "nbformat_minor": 4
}
