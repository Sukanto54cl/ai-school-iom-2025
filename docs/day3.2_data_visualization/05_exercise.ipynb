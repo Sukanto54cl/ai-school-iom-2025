{
 "cells": [
  {
   "cell_type": "code",
   "execution_count": 2,
   "id": "2db9a807-a0ed-48d0-898b-fc2c014b093e",
   "metadata": {},
   "outputs": [
    {
     "data": {
      "text/markdown": [
       "I will load the CSV file containing two columns A and B, and perform a t-test to determine if there is a significant difference between the two samples.\n",
       "\n"
      ],
      "text/plain": [
       "<IPython.core.display.Markdown object>"
      ]
     },
     "metadata": {},
     "output_type": "display_data"
    }
   ],
   "source": [
    "%bob load data/data.csv and apply a t-test to the two columns A and B. Are the two samples significantly different ?"
   ]
  },
  {
   "cell_type": "code",
   "execution_count": null,
   "id": "8cddcd3f-16ef-49c1-94a8-77d510c66ee3",
   "metadata": {},
   "outputs": [],
   "source": [
    "import pandas as pd\n",
    "from scipy import stats\n",
    "\n",
    "# Load the data\n",
    "df = pd.read_csv('data/data.csv')\n",
    "\n",
    "# Display the first few rows to see the data\n",
    "df.head()\n",
    "\n",
    "# Extract columns A and B\n",
    "sample_A = df['A']\n",
    "sample_B = df['B']\n",
    "\n",
    "# Perform a two-sample t-test\n",
    "t_statistic, p_value = stats.ttest_ind(sample_A, sample_B)\n",
    "\n",
    "print(f\"T-statistic: {t_statistic:.4f}\")\n",
    "print(f\"P-value: {p_value:.4f}\")\n",
    "\n",
    "# Determine significance (typically alpha = 0.05)\n",
    "alpha = 0.05\n",
    "if p_value < alpha:\n",
    "    print(f\"The samples are significantly different (p < {alpha})\")\n",
    "else:\n",
    "    print(f\"The samples are NOT significantly different (p >= {alpha})\")"
   ]
  }
 ],
 "metadata": {
  "kernelspec": {
   "display_name": "Python 3 (ipykernel)",
   "language": "python",
   "name": "python3"
  },
  "language_info": {
   "codemirror_mode": {
    "name": "ipython",
    "version": 3
   },
   "file_extension": ".py",
   "mimetype": "text/x-python",
   "name": "python",
   "nbconvert_exporter": "python",
   "pygments_lexer": "ipython3",
   "version": "3.11.13"
  }
 },
 "nbformat": 4,
 "nbformat_minor": 5
}
