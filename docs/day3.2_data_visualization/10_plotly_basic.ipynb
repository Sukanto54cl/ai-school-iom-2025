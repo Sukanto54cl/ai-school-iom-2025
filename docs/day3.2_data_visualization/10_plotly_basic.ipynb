{
 "cells": [
  {
   "cell_type": "markdown",
   "id": "82631293",
   "metadata": {},
   "source": [
    "# Plotly basic usage\n",
    "\n",
    "This notebook demonstrates basic Plotly usage step-by-step. We install dependencies, create a small dataset, make a few plots, and save everything to disk for later inspection.\n",
    "\n",
    "[plotly's API](https://plotly.com/python-api-reference/) is similar but not identical to seaborn. For example, both are based on DataFrames, but what seaborn calls `hue` is `color` in plotly."
   ]
  },
  {
   "cell_type": "code",
   "execution_count": 1,
   "id": "e17c9f39",
   "metadata": {},
   "outputs": [],
   "source": [
    "import pandas as pd\n",
    "import plotly.express as px"
   ]
  },
  {
   "cell_type": "markdown",
   "id": "715cd454",
   "metadata": {},
   "source": [
    "Generate a small demo DataFrame with time series data and some categories."
   ]
  },
  {
   "cell_type": "code",
   "execution_count": 2,
   "id": "f9eef911",
   "metadata": {},
   "outputs": [
    {
     "data": {
      "text/html": [
       "<div>\n",
       "<style scoped>\n",
       "    .dataframe tbody tr th:only-of-type {\n",
       "        vertical-align: middle;\n",
       "    }\n",
       "\n",
       "    .dataframe tbody tr th {\n",
       "        vertical-align: top;\n",
       "    }\n",
       "\n",
       "    .dataframe thead th {\n",
       "        text-align: right;\n",
       "    }\n",
       "</style>\n",
       "<table border=\"1\" class=\"dataframe\">\n",
       "  <thead>\n",
       "    <tr style=\"text-align: right;\">\n",
       "      <th></th>\n",
       "      <th>Unnamed: 0</th>\n",
       "      <th>label</th>\n",
       "      <th>area</th>\n",
       "      <th>mean_intensity</th>\n",
       "      <th>max_intensity</th>\n",
       "      <th>min_intensity</th>\n",
       "      <th>centroid-0</th>\n",
       "      <th>centroid-1</th>\n",
       "      <th>eccentricity</th>\n",
       "      <th>solidity</th>\n",
       "      <th>perimeter</th>\n",
       "      <th>centroid_x</th>\n",
       "      <th>centroid_y</th>\n",
       "    </tr>\n",
       "  </thead>\n",
       "  <tbody>\n",
       "    <tr>\n",
       "      <th>0</th>\n",
       "      <td>0</td>\n",
       "      <td>1</td>\n",
       "      <td>27.0</td>\n",
       "      <td>149.333333</td>\n",
       "      <td>168.0</td>\n",
       "      <td>128.0</td>\n",
       "      <td>26.259259</td>\n",
       "      <td>0.666667</td>\n",
       "      <td>0.973991</td>\n",
       "      <td>0.900000</td>\n",
       "      <td>20.621320</td>\n",
       "      <td>0.666667</td>\n",
       "      <td>26.259259</td>\n",
       "    </tr>\n",
       "    <tr>\n",
       "      <th>1</th>\n",
       "      <td>1</td>\n",
       "      <td>2</td>\n",
       "      <td>203.0</td>\n",
       "      <td>199.960591</td>\n",
       "      <td>240.0</td>\n",
       "      <td>128.0</td>\n",
       "      <td>225.876847</td>\n",
       "      <td>3.955665</td>\n",
       "      <td>0.892348</td>\n",
       "      <td>0.966667</td>\n",
       "      <td>59.591883</td>\n",
       "      <td>3.955665</td>\n",
       "      <td>225.876847</td>\n",
       "    </tr>\n",
       "    <tr>\n",
       "      <th>2</th>\n",
       "      <td>2</td>\n",
       "      <td>3</td>\n",
       "      <td>503.0</td>\n",
       "      <td>198.695825</td>\n",
       "      <td>248.0</td>\n",
       "      <td>128.0</td>\n",
       "      <td>97.487078</td>\n",
       "      <td>7.836978</td>\n",
       "      <td>0.801503</td>\n",
       "      <td>0.971042</td>\n",
       "      <td>86.870058</td>\n",
       "      <td>7.836978</td>\n",
       "      <td>97.487078</td>\n",
       "    </tr>\n",
       "    <tr>\n",
       "      <th>3</th>\n",
       "      <td>3</td>\n",
       "      <td>4</td>\n",
       "      <td>264.0</td>\n",
       "      <td>189.939394</td>\n",
       "      <td>232.0</td>\n",
       "      <td>120.0</td>\n",
       "      <td>139.545455</td>\n",
       "      <td>7.159091</td>\n",
       "      <td>0.605384</td>\n",
       "      <td>0.977778</td>\n",
       "      <td>58.041631</td>\n",
       "      <td>7.159091</td>\n",
       "      <td>139.545455</td>\n",
       "    </tr>\n",
       "    <tr>\n",
       "      <th>4</th>\n",
       "      <td>4</td>\n",
       "      <td>5</td>\n",
       "      <td>96.0</td>\n",
       "      <td>166.416667</td>\n",
       "      <td>200.0</td>\n",
       "      <td>128.0</td>\n",
       "      <td>44.812500</td>\n",
       "      <td>7.833333</td>\n",
       "      <td>0.628475</td>\n",
       "      <td>0.960000</td>\n",
       "      <td>34.142136</td>\n",
       "      <td>7.833333</td>\n",
       "      <td>44.812500</td>\n",
       "    </tr>\n",
       "  </tbody>\n",
       "</table>\n",
       "</div>"
      ],
      "text/plain": [
       "   Unnamed: 0  label   area  mean_intensity  max_intensity  min_intensity  \\\n",
       "0           0      1   27.0      149.333333          168.0          128.0   \n",
       "1           1      2  203.0      199.960591          240.0          128.0   \n",
       "2           2      3  503.0      198.695825          248.0          128.0   \n",
       "3           3      4  264.0      189.939394          232.0          120.0   \n",
       "4           4      5   96.0      166.416667          200.0          128.0   \n",
       "\n",
       "   centroid-0  centroid-1  eccentricity  solidity  perimeter  centroid_x  \\\n",
       "0   26.259259    0.666667      0.973991  0.900000  20.621320    0.666667   \n",
       "1  225.876847    3.955665      0.892348  0.966667  59.591883    3.955665   \n",
       "2   97.487078    7.836978      0.801503  0.971042  86.870058    7.836978   \n",
       "3  139.545455    7.159091      0.605384  0.977778  58.041631    7.159091   \n",
       "4   44.812500    7.833333      0.628475  0.960000  34.142136    7.833333   \n",
       "\n",
       "   centroid_y  \n",
       "0   26.259259  \n",
       "1  225.876847  \n",
       "2   97.487078  \n",
       "3  139.545455  \n",
       "4   44.812500  "
      ]
     },
     "execution_count": 2,
     "metadata": {},
     "output_type": "execute_result"
    }
   ],
   "source": [
    "df = pd.read_csv(\"data/blobs_measurements.csv\")\n",
    "df.head()"
   ]
  },
  {
   "cell_type": "markdown",
   "id": "19ab0fbd",
   "metadata": {},
   "source": [
    "Create a scatter plot colored by category and sized by the \"size\" column."
   ]
  },
  {
   "cell_type": "code",
   "execution_count": 3,
   "id": "568606ff-6aa7-45bf-ab4e-27de29557de4",
   "metadata": {},
   "outputs": [
    {
     "data": {
      "application/vnd.plotly.v1+json": {
       "config": {
        "plotlyServerURL": "https://plot.ly"
       },
       "data": [
        {
         "hovertemplate": "area=%{x}<br>eccentricity=%{y}<br>perimeter=%{marker.color}<extra></extra>",
         "legendgroup": "",
         "marker": {
          "color": {
           "_inputArray": {
            "0": 20.62132034355964,
            "1": 59.59188309203678,
            "10": 57.45584412271571,
            "11": 85.84062043356593,
            "12": 54.04163056034261,
            "13": 70.8700576850888,
            "14": 52.284271247461895,
            "15": 73.11269837220809,
            "16": 50.04163056034261,
            "17": 85.59797974644665,
            "18": 53.55634918610404,
            "19": 55.45584412271571,
            "2": 86.87005768508881,
            "20": 95.49747468305831,
            "21": 33.07106781186548,
            "22": 129.9827560572969,
            "23": 76.76955262170047,
            "24": 92.32590180780451,
            "25": 67.698484809835,
            "26": 63.07106781186548,
            "27": 80.8700576850888,
            "28": 57.45584412271571,
            "29": 85.84062043356595,
            "3": 58.04163056034263,
            "30": 87.94112549695429,
            "31": 45.69238815542512,
            "32": 73.14823227814084,
            "33": 75.11269837220809,
            "34": 29.31370849898476,
            "35": 61.11269837220809,
            "36": 77.35533905932738,
            "37": 77.45584412271572,
            "38": 69.01219330881976,
            "39": 44.38477631085024,
            "4": 34.14213562373095,
            "40": 67.35533905932738,
            "41": 81.01219330881976,
            "42": 101.84062043356592,
            "43": 39.31370849898476,
            "44": 112.66904755831212,
            "45": 92.76955262170048,
            "46": 46.38477631085024,
            "47": 51.87005768508881,
            "48": 60.52691193458119,
            "49": 54.62741699796952,
            "5": 75.11269837220809,
            "50": 46.62741699796952,
            "51": 60.2842712474619,
            "52": 55.21320343559643,
            "53": 60.8700576850888,
            "54": 89.01219330881975,
            "55": 60.2842712474619,
            "56": 54.04163056034262,
            "57": 70.52691193458118,
            "58": 86.18376618407356,
            "59": 30.69238815542512,
            "6": 65.11269837220809,
            "60": 67.69848480983501,
            "61": 83.79898987322333,
            "62": 51.55634918610404,
            "63": 14.242640687119284,
            "64": 86.18376618407358,
            "65": 35.89949493661167,
            "7": 88.18376618407356,
            "8": 50.79898987322332,
            "9": 83.01219330881975,
            "bdata": "mu2b2Q6fNEA6rT3TwstNQMHFbQavt1VAx5dzJlQFTUCwwgeAMRJBQI68O3M2x1JAjrw7czZHUEA6rT3TwgtWQCiq10xFZklAGKdxxsfAVECjkacZWbpMQPagpbnMdVVAxJdzJlQFS0DAxW0Gr7dRQF+FDwBjJEpAjrw7czZHUkDEl3MmVAVJQCmq10xFZlVAjrw7czbHSkCjkacZWbpLQLOUDaDW31dAWeEDwBiJQEAowdS8cj9gQEuwo1lAMVNAko5Bk9sUV0Cfv6H5s+xQQFnhA8AYiU9AwMVtBq83VECjkacZWbpMQPegpbnMdVVAbbZvZjv8VUAm2NEsoNhGQOW0PKN8SVJAjrw7czbHUkDmnT8zT1A9QBx5d+Zsjk5AXLMJ4L1WU0DSyNOMLF1TQBmnccbHQFFATLCjWUAxRkBcswngvdZQQBmnccbHQFRA9aClucx1WUDzzp+ZJ6hDQNSa2azRKlxATLCjWUAxV0BMsKNZQDFHQIKL2wxe70lA/HKr2XFDTkDmnT8zT1BLQOadPzNPUEdAYIUPAGMkTkAIpAtASptLQIGL2wxeb05AGKdxxsdAVkBghQ8AYyROQMWXcyZUBUtAfbnV7LihUUA6rT3TwotVQEywo1lAsT5AoL+h+bPsUEAV1WumIvNUQI68O3M2x0lAbLZvZjt8LEA7rT3TwotVQBXVa6Yi80FA",
            "dtype": "f8",
            "shape": "66"
           },
           "bdata": "mu2b2Q6fNEA6rT3TwstNQMHFbQavt1VAx5dzJlQFTUCwwgeAMRJBQI68O3M2x1JAjrw7czZHUEA6rT3TwgtWQCiq10xFZklAGKdxxsfAVECjkacZWbpMQPagpbnMdVVAxJdzJlQFS0DAxW0Gr7dRQF+FDwBjJEpAjrw7czZHUkDEl3MmVAVJQCmq10xFZlVAjrw7czbHSkCjkacZWbpLQLOUDaDW31dAWeEDwBiJQEAowdS8cj9gQEuwo1lAMVNAko5Bk9sUV0Cfv6H5s+xQQFnhA8AYiU9AwMVtBq83VECjkacZWbpMQPegpbnMdVVAbbZvZjv8VUAm2NEsoNhGQOW0PKN8SVJAjrw7czbHUkDmnT8zT1A9QBx5d+Zsjk5AXLMJ4L1WU0DSyNOMLF1TQBmnccbHQFFATLCjWUAxRkBcswngvdZQQBmnccbHQFRA9aClucx1WUDzzp+ZJ6hDQNSa2azRKlxATLCjWUAxV0BMsKNZQDFHQIKL2wxe70lA/HKr2XFDTkDmnT8zT1BLQOadPzNPUEdAYIUPAGMkTkAIpAtASptLQIGL2wxeb05AGKdxxsdAVkBghQ8AYyROQMWXcyZUBUtAfbnV7LihUUA6rT3TwotVQEywo1lAsT5AoL+h+bPsUEAV1WumIvNUQI68O3M2x0lAbLZvZjt8LEA7rT3TwotVQBXVa6Yi80FA",
           "dtype": "f8"
          },
          "coloraxis": "coloraxis",
          "symbol": "circle"
         },
         "mode": "markers",
         "name": "",
         "orientation": "v",
         "showlegend": false,
         "type": "scatter",
         "x": {
          "_inputArray": {
           "0": 27,
           "1": 203,
           "10": 255,
           "11": 542,
           "12": 227,
           "13": 374,
           "14": 213,
           "15": 406,
           "16": 192,
           "17": 539,
           "18": 183,
           "19": 239,
           "2": 503,
           "20": 649,
           "21": 48,
           "22": 896,
           "23": 423,
           "24": 613,
           "25": 358,
           "26": 205,
           "27": 453,
           "28": 240,
           "29": 422,
           "3": 264,
           "30": 577,
           "31": 88,
           "32": 359,
           "33": 408,
           "34": 75,
           "35": 278,
           "36": 448,
           "37": 433,
           "38": 316,
           "39": 158,
           "4": 96,
           "40": 319,
           "41": 494,
           "42": 675,
           "43": 79,
           "44": 850,
           "45": 647,
           "46": 166,
           "47": 196,
           "48": 280,
           "49": 201,
           "5": 414,
           "50": 169,
           "51": 268,
           "52": 239,
           "53": 271,
           "54": 594,
           "55": 282,
           "56": 225,
           "57": 378,
           "58": 556,
           "59": 52,
           "6": 281,
           "60": 349,
           "61": 472,
           "62": 176,
           "63": 19,
           "64": 473,
           "65": 66,
           "7": 467,
           "8": 148,
           "9": 513,
           "bdata": "AAAAAAAAO0AAAAAAAGBpQAAAAAAAcH9AAAAAAACAcEAAAAAAAABYQAAAAAAA4HlAAAAAAACQcUAAAAAAADB9QAAAAAAAgGJAAAAAAAAIgEAAAAAAAOBvQAAAAAAA8IBAAAAAAABgbEAAAAAAAGB3QAAAAAAAoGpAAAAAAABgeUAAAAAAAABoQAAAAAAA2IBAAAAAAADgZkAAAAAAAOBtQAAAAAAASIRAAAAAAAAASEAAAAAAAACMQAAAAAAAcHpAAAAAAAAog0AAAAAAAGB2QAAAAAAAoGlAAAAAAABQfEAAAAAAAABuQAAAAAAAYHpAAAAAAAAIgkAAAAAAAABWQAAAAAAAcHZAAAAAAACAeUAAAAAAAMBSQAAAAAAAYHFAAAAAAAAAfEAAAAAAABB7QAAAAAAAwHNAAAAAAADAY0AAAAAAAPBzQAAAAAAA4H5AAAAAAAAYhUAAAAAAAMBTQAAAAAAAkIpAAAAAAAA4hEAAAAAAAMBkQAAAAAAAgGhAAAAAAACAcUAAAAAAACBpQAAAAAAAIGVAAAAAAADAcEAAAAAAAOBtQAAAAAAA8HBAAAAAAACQgkAAAAAAAKBxQAAAAAAAIGxAAAAAAACgd0AAAAAAAGCBQAAAAAAAAEpAAAAAAADQdUAAAAAAAIB9QAAAAAAAAGZAAAAAAAAAM0AAAAAAAJB9QAAAAAAAgFBA",
           "dtype": "f8",
           "shape": "66"
          },
          "bdata": "AAAAAAAAO0AAAAAAAGBpQAAAAAAAcH9AAAAAAACAcEAAAAAAAABYQAAAAAAA4HlAAAAAAACQcUAAAAAAADB9QAAAAAAAgGJAAAAAAAAIgEAAAAAAAOBvQAAAAAAA8IBAAAAAAABgbEAAAAAAAGB3QAAAAAAAoGpAAAAAAABgeUAAAAAAAABoQAAAAAAA2IBAAAAAAADgZkAAAAAAAOBtQAAAAAAASIRAAAAAAAAASEAAAAAAAACMQAAAAAAAcHpAAAAAAAAog0AAAAAAAGB2QAAAAAAAoGlAAAAAAABQfEAAAAAAAABuQAAAAAAAYHpAAAAAAAAIgkAAAAAAAABWQAAAAAAAcHZAAAAAAACAeUAAAAAAAMBSQAAAAAAAYHFAAAAAAAAAfEAAAAAAABB7QAAAAAAAwHNAAAAAAADAY0AAAAAAAPBzQAAAAAAA4H5AAAAAAAAYhUAAAAAAAMBTQAAAAAAAkIpAAAAAAAA4hEAAAAAAAMBkQAAAAAAAgGhAAAAAAACAcUAAAAAAACBpQAAAAAAAIGVAAAAAAADAcEAAAAAAAOBtQAAAAAAA8HBAAAAAAACQgkAAAAAAAKBxQAAAAAAAIGxAAAAAAACgd0AAAAAAAGCBQAAAAAAAAEpAAAAAAADQdUAAAAAAAIB9QAAAAAAAAGZAAAAAAAAAM0AAAAAAAJB9QAAAAAAAgFBA",
          "dtype": "f8"
         },
         "xaxis": "x",
         "y": {
          "_inputArray": {
           "0": 0.9739906258878744,
           "1": 0.8923476488286327,
           "10": 0.5236934192063539,
           "11": 0.5822486716181576,
           "12": 0.486071603201645,
           "13": 0.6293884484518907,
           "14": 0.6362050759593556,
           "15": 0.4116333177865057,
           "16": 0.489663638172178,
           "17": 0.6539190309333041,
           "18": 0.8277382435553323,
           "19": 0.5673490227290646,
           "2": 0.8015032090601983,
           "20": 0.6651781908765604,
           "21": 0.9740384137939094,
           "22": 0.9177312107696344,
           "23": 0.7254422131919392,
           "24": 0.6684348219484317,
           "25": 0.584495434685722,
           "26": 0.9458941245548084,
           "27": 0.657369705997876,
           "28": 0.4282554834027023,
           "29": 0.8360770959298921,
           "3": 0.6053838856613769,
           "30": 0.2993281324314434,
           "31": 0.968585074165482,
           "32": 0.7785502105332933,
           "33": 0.6847337186341399,
           "34": 0.4897392305353251,
           "35": 0.6516802489476302,
           "36": 0.5608699856149414,
           "37": 0.3365346114499314,
           "38": 0.5997302896027554,
           "39": 0.5676368740570612,
           "4": 0.6284750959083137,
           "40": 0.6308338183156109,
           "41": 0.3792728134362593,
           "42": 0.7377050774079499,
           "43": 0.949056653249546,
           "44": 0.7682282256870626,
           "45": 0.4440141284328328,
           "46": 0.6484419796750316,
           "47": 0.3247758679557396,
           "48": 0.520202929894148,
           "49": 0.7216402901326536,
           "5": 0.5898785383217202,
           "50": 0.6718217762355727,
           "51": 0.6691243497216778,
           "52": 0.5088754294036069,
           "53": 0.7133488450727649,
           "54": 0.4035545804461273,
           "55": 0.4801942604648846,
           "56": 0.5162594781322234,
           "57": 0.4855566691715103,
           "58": 0.3379949173613043,
           "59": 0.9359494396339368,
           "6": 0.667840594541712,
           "60": 0.5244483737827832,
           "61": 0.7740325304791575,
           "62": 0.8282912321311077,
           "63": 0.7620648537700135,
           "64": 0.8168139596699147,
           "65": 0.9472839858868952,
           "7": 0.8751469951141145,
           "8": 0.8065718036542874,
           "9": 0.5367709212038313,
           "bdata": "V5GZY+4q7z8BNQyoHI7sP+yu0Q7qpek/0BzOBk5f4z992ujNdxzkP8CH1vRI4OI/Ye4PPfNe5T8/pmZFNAHsP8tE0qtvz+k/uXQANjot4T8J5ZOzGMLgP2qpV/fHoeI/kPvQEcwb3z/7l1I+8yPkP5htWb/KW+Q/sJF1RTNY2j85Wv8nplbfP9Dlgprn7OQ/D/+26dR86j+dPkEjuSfiPwR5+sUjSeU/n1yJm1Ir7z8fxRjYDV7tP/uCmZbSNuc/ytV4bNFj5T8LXhTFL7TiP2EgTsHDRO4/XouUMSwJ5T+XBuOviWjbP2mD/sAkweo/LDbkLjEo0z9C5x0gpv7uP+IZkSHi6eg/LREAsFbp5T9O6q0241ffPxe8lYmQ2uQ/88WwnKXy4T/HkYl3yInVP1J2iJP9MOM/HIVCzhQq4j8ZC1xnyi/kPwQffnoBRtg/7O2xrUeb5z+jQfgOrF7uP9EUJlxTleg/dS4lPLpq3D8m2QFlCcDkPzmY2bggydQ/SrhlnYCl4D/3D7NgrRfnP2yEtWGQf+U/Q2Hgd3dp5T+q2OAftUjgP7tCB/XA0+Y/D7JKl9bT2T8FHBu1gLveP2B+2pgyheA/pJCcR1wT3z9P/BFvtaHVPz3+PT1M8+0/Ssy69EfI4D/gVo7e38ToPwMiMp1cgeo/gfEL1dVi6D9+WnYHVyPqP2cUbYEmUO4/",
           "dtype": "f8",
           "shape": "66"
          },
          "bdata": "V5GZY+4q7z8BNQyoHI7sP+yu0Q7qpek/0BzOBk5f4z992ujNdxzkP8CH1vRI4OI/Ye4PPfNe5T8/pmZFNAHsP8tE0qtvz+k/uXQANjot4T8J5ZOzGMLgP2qpV/fHoeI/kPvQEcwb3z/7l1I+8yPkP5htWb/KW+Q/sJF1RTNY2j85Wv8nplbfP9Dlgprn7OQ/D/+26dR86j+dPkEjuSfiPwR5+sUjSeU/n1yJm1Ir7z8fxRjYDV7tP/uCmZbSNuc/ytV4bNFj5T8LXhTFL7TiP2EgTsHDRO4/XouUMSwJ5T+XBuOviWjbP2mD/sAkweo/LDbkLjEo0z9C5x0gpv7uP+IZkSHi6eg/LREAsFbp5T9O6q0241ffPxe8lYmQ2uQ/88WwnKXy4T/HkYl3yInVP1J2iJP9MOM/HIVCzhQq4j8ZC1xnyi/kPwQffnoBRtg/7O2xrUeb5z+jQfgOrF7uP9EUJlxTleg/dS4lPLpq3D8m2QFlCcDkPzmY2bggydQ/SrhlnYCl4D/3D7NgrRfnP2yEtWGQf+U/Q2Hgd3dp5T+q2OAftUjgP7tCB/XA0+Y/D7JKl9bT2T8FHBu1gLveP2B+2pgyheA/pJCcR1wT3z9P/BFvtaHVPz3+PT1M8+0/Ssy69EfI4D/gVo7e38ToPwMiMp1cgeo/gfEL1dVi6D9+WnYHVyPqP2cUbYEmUO4/",
          "dtype": "f8"
         },
         "yaxis": "y"
        }
       ],
       "layout": {
        "autosize": true,
        "coloraxis": {
         "colorbar": {
          "title": {
           "text": "perimeter"
          }
         },
         "colorscale": [
          [
           0,
           "#0d0887"
          ],
          [
           0.1111111111111111,
           "#46039f"
          ],
          [
           0.2222222222222222,
           "#7201a8"
          ],
          [
           0.3333333333333333,
           "#9c179e"
          ],
          [
           0.4444444444444444,
           "#bd3786"
          ],
          [
           0.5555555555555556,
           "#d8576b"
          ],
          [
           0.6666666666666666,
           "#ed7953"
          ],
          [
           0.7777777777777778,
           "#fb9f3a"
          ],
          [
           0.8888888888888888,
           "#fdca26"
          ],
          [
           1,
           "#f0f921"
          ]
         ]
        },
        "legend": {
         "tracegroupgap": 0
        },
        "margin": {
         "t": 60
        },
        "template": {
         "data": {
          "bar": [
           {
            "error_x": {
             "color": "#2a3f5f"
            },
            "error_y": {
             "color": "#2a3f5f"
            },
            "marker": {
             "line": {
              "color": "#E5ECF6",
              "width": 0.5
             },
             "pattern": {
              "fillmode": "overlay",
              "size": 10,
              "solidity": 0.2
             }
            },
            "type": "bar"
           }
          ],
          "barpolar": [
           {
            "marker": {
             "line": {
              "color": "#E5ECF6",
              "width": 0.5
             },
             "pattern": {
              "fillmode": "overlay",
              "size": 10,
              "solidity": 0.2
             }
            },
            "type": "barpolar"
           }
          ],
          "carpet": [
           {
            "aaxis": {
             "endlinecolor": "#2a3f5f",
             "gridcolor": "white",
             "linecolor": "white",
             "minorgridcolor": "white",
             "startlinecolor": "#2a3f5f"
            },
            "baxis": {
             "endlinecolor": "#2a3f5f",
             "gridcolor": "white",
             "linecolor": "white",
             "minorgridcolor": "white",
             "startlinecolor": "#2a3f5f"
            },
            "type": "carpet"
           }
          ],
          "choropleth": [
           {
            "colorbar": {
             "outlinewidth": 0,
             "ticks": ""
            },
            "type": "choropleth"
           }
          ],
          "contour": [
           {
            "colorbar": {
             "outlinewidth": 0,
             "ticks": ""
            },
            "colorscale": [
             [
              0,
              "#0d0887"
             ],
             [
              0.1111111111111111,
              "#46039f"
             ],
             [
              0.2222222222222222,
              "#7201a8"
             ],
             [
              0.3333333333333333,
              "#9c179e"
             ],
             [
              0.4444444444444444,
              "#bd3786"
             ],
             [
              0.5555555555555556,
              "#d8576b"
             ],
             [
              0.6666666666666666,
              "#ed7953"
             ],
             [
              0.7777777777777778,
              "#fb9f3a"
             ],
             [
              0.8888888888888888,
              "#fdca26"
             ],
             [
              1,
              "#f0f921"
             ]
            ],
            "type": "contour"
           }
          ],
          "contourcarpet": [
           {
            "colorbar": {
             "outlinewidth": 0,
             "ticks": ""
            },
            "type": "contourcarpet"
           }
          ],
          "heatmap": [
           {
            "colorbar": {
             "outlinewidth": 0,
             "ticks": ""
            },
            "colorscale": [
             [
              0,
              "#0d0887"
             ],
             [
              0.1111111111111111,
              "#46039f"
             ],
             [
              0.2222222222222222,
              "#7201a8"
             ],
             [
              0.3333333333333333,
              "#9c179e"
             ],
             [
              0.4444444444444444,
              "#bd3786"
             ],
             [
              0.5555555555555556,
              "#d8576b"
             ],
             [
              0.6666666666666666,
              "#ed7953"
             ],
             [
              0.7777777777777778,
              "#fb9f3a"
             ],
             [
              0.8888888888888888,
              "#fdca26"
             ],
             [
              1,
              "#f0f921"
             ]
            ],
            "type": "heatmap"
           }
          ],
          "histogram": [
           {
            "marker": {
             "pattern": {
              "fillmode": "overlay",
              "size": 10,
              "solidity": 0.2
             }
            },
            "type": "histogram"
           }
          ],
          "histogram2d": [
           {
            "colorbar": {
             "outlinewidth": 0,
             "ticks": ""
            },
            "colorscale": [
             [
              0,
              "#0d0887"
             ],
             [
              0.1111111111111111,
              "#46039f"
             ],
             [
              0.2222222222222222,
              "#7201a8"
             ],
             [
              0.3333333333333333,
              "#9c179e"
             ],
             [
              0.4444444444444444,
              "#bd3786"
             ],
             [
              0.5555555555555556,
              "#d8576b"
             ],
             [
              0.6666666666666666,
              "#ed7953"
             ],
             [
              0.7777777777777778,
              "#fb9f3a"
             ],
             [
              0.8888888888888888,
              "#fdca26"
             ],
             [
              1,
              "#f0f921"
             ]
            ],
            "type": "histogram2d"
           }
          ],
          "histogram2dcontour": [
           {
            "colorbar": {
             "outlinewidth": 0,
             "ticks": ""
            },
            "colorscale": [
             [
              0,
              "#0d0887"
             ],
             [
              0.1111111111111111,
              "#46039f"
             ],
             [
              0.2222222222222222,
              "#7201a8"
             ],
             [
              0.3333333333333333,
              "#9c179e"
             ],
             [
              0.4444444444444444,
              "#bd3786"
             ],
             [
              0.5555555555555556,
              "#d8576b"
             ],
             [
              0.6666666666666666,
              "#ed7953"
             ],
             [
              0.7777777777777778,
              "#fb9f3a"
             ],
             [
              0.8888888888888888,
              "#fdca26"
             ],
             [
              1,
              "#f0f921"
             ]
            ],
            "type": "histogram2dcontour"
           }
          ],
          "mesh3d": [
           {
            "colorbar": {
             "outlinewidth": 0,
             "ticks": ""
            },
            "type": "mesh3d"
           }
          ],
          "parcoords": [
           {
            "line": {
             "colorbar": {
              "outlinewidth": 0,
              "ticks": ""
             }
            },
            "type": "parcoords"
           }
          ],
          "pie": [
           {
            "automargin": true,
            "type": "pie"
           }
          ],
          "scatter": [
           {
            "fillpattern": {
             "fillmode": "overlay",
             "size": 10,
             "solidity": 0.2
            },
            "type": "scatter"
           }
          ],
          "scatter3d": [
           {
            "line": {
             "colorbar": {
              "outlinewidth": 0,
              "ticks": ""
             }
            },
            "marker": {
             "colorbar": {
              "outlinewidth": 0,
              "ticks": ""
             }
            },
            "type": "scatter3d"
           }
          ],
          "scattercarpet": [
           {
            "marker": {
             "colorbar": {
              "outlinewidth": 0,
              "ticks": ""
             }
            },
            "type": "scattercarpet"
           }
          ],
          "scattergeo": [
           {
            "marker": {
             "colorbar": {
              "outlinewidth": 0,
              "ticks": ""
             }
            },
            "type": "scattergeo"
           }
          ],
          "scattergl": [
           {
            "marker": {
             "colorbar": {
              "outlinewidth": 0,
              "ticks": ""
             }
            },
            "type": "scattergl"
           }
          ],
          "scattermap": [
           {
            "marker": {
             "colorbar": {
              "outlinewidth": 0,
              "ticks": ""
             }
            },
            "type": "scattermap"
           }
          ],
          "scattermapbox": [
           {
            "marker": {
             "colorbar": {
              "outlinewidth": 0,
              "ticks": ""
             }
            },
            "type": "scattermapbox"
           }
          ],
          "scatterpolar": [
           {
            "marker": {
             "colorbar": {
              "outlinewidth": 0,
              "ticks": ""
             }
            },
            "type": "scatterpolar"
           }
          ],
          "scatterpolargl": [
           {
            "marker": {
             "colorbar": {
              "outlinewidth": 0,
              "ticks": ""
             }
            },
            "type": "scatterpolargl"
           }
          ],
          "scatterternary": [
           {
            "marker": {
             "colorbar": {
              "outlinewidth": 0,
              "ticks": ""
             }
            },
            "type": "scatterternary"
           }
          ],
          "surface": [
           {
            "colorbar": {
             "outlinewidth": 0,
             "ticks": ""
            },
            "colorscale": [
             [
              0,
              "#0d0887"
             ],
             [
              0.1111111111111111,
              "#46039f"
             ],
             [
              0.2222222222222222,
              "#7201a8"
             ],
             [
              0.3333333333333333,
              "#9c179e"
             ],
             [
              0.4444444444444444,
              "#bd3786"
             ],
             [
              0.5555555555555556,
              "#d8576b"
             ],
             [
              0.6666666666666666,
              "#ed7953"
             ],
             [
              0.7777777777777778,
              "#fb9f3a"
             ],
             [
              0.8888888888888888,
              "#fdca26"
             ],
             [
              1,
              "#f0f921"
             ]
            ],
            "type": "surface"
           }
          ],
          "table": [
           {
            "cells": {
             "fill": {
              "color": "#EBF0F8"
             },
             "line": {
              "color": "white"
             }
            },
            "header": {
             "fill": {
              "color": "#C8D4E3"
             },
             "line": {
              "color": "white"
             }
            },
            "type": "table"
           }
          ]
         },
         "layout": {
          "annotationdefaults": {
           "arrowcolor": "#2a3f5f",
           "arrowhead": 0,
           "arrowwidth": 1
          },
          "autotypenumbers": "strict",
          "coloraxis": {
           "colorbar": {
            "outlinewidth": 0,
            "ticks": ""
           }
          },
          "colorscale": {
           "diverging": [
            [
             0,
             "#8e0152"
            ],
            [
             0.1,
             "#c51b7d"
            ],
            [
             0.2,
             "#de77ae"
            ],
            [
             0.3,
             "#f1b6da"
            ],
            [
             0.4,
             "#fde0ef"
            ],
            [
             0.5,
             "#f7f7f7"
            ],
            [
             0.6,
             "#e6f5d0"
            ],
            [
             0.7,
             "#b8e186"
            ],
            [
             0.8,
             "#7fbc41"
            ],
            [
             0.9,
             "#4d9221"
            ],
            [
             1,
             "#276419"
            ]
           ],
           "sequential": [
            [
             0,
             "#0d0887"
            ],
            [
             0.1111111111111111,
             "#46039f"
            ],
            [
             0.2222222222222222,
             "#7201a8"
            ],
            [
             0.3333333333333333,
             "#9c179e"
            ],
            [
             0.4444444444444444,
             "#bd3786"
            ],
            [
             0.5555555555555556,
             "#d8576b"
            ],
            [
             0.6666666666666666,
             "#ed7953"
            ],
            [
             0.7777777777777778,
             "#fb9f3a"
            ],
            [
             0.8888888888888888,
             "#fdca26"
            ],
            [
             1,
             "#f0f921"
            ]
           ],
           "sequentialminus": [
            [
             0,
             "#0d0887"
            ],
            [
             0.1111111111111111,
             "#46039f"
            ],
            [
             0.2222222222222222,
             "#7201a8"
            ],
            [
             0.3333333333333333,
             "#9c179e"
            ],
            [
             0.4444444444444444,
             "#bd3786"
            ],
            [
             0.5555555555555556,
             "#d8576b"
            ],
            [
             0.6666666666666666,
             "#ed7953"
            ],
            [
             0.7777777777777778,
             "#fb9f3a"
            ],
            [
             0.8888888888888888,
             "#fdca26"
            ],
            [
             1,
             "#f0f921"
            ]
           ]
          },
          "colorway": [
           "#636efa",
           "#EF553B",
           "#00cc96",
           "#ab63fa",
           "#FFA15A",
           "#19d3f3",
           "#FF6692",
           "#B6E880",
           "#FF97FF",
           "#FECB52"
          ],
          "font": {
           "color": "#2a3f5f"
          },
          "geo": {
           "bgcolor": "white",
           "lakecolor": "white",
           "landcolor": "#E5ECF6",
           "showlakes": true,
           "showland": true,
           "subunitcolor": "white"
          },
          "hoverlabel": {
           "align": "left"
          },
          "hovermode": "closest",
          "mapbox": {
           "style": "light"
          },
          "paper_bgcolor": "white",
          "plot_bgcolor": "#E5ECF6",
          "polar": {
           "angularaxis": {
            "gridcolor": "white",
            "linecolor": "white",
            "ticks": ""
           },
           "bgcolor": "#E5ECF6",
           "radialaxis": {
            "gridcolor": "white",
            "linecolor": "white",
            "ticks": ""
           }
          },
          "scene": {
           "xaxis": {
            "backgroundcolor": "#E5ECF6",
            "gridcolor": "white",
            "gridwidth": 2,
            "linecolor": "white",
            "showbackground": true,
            "ticks": "",
            "zerolinecolor": "white"
           },
           "yaxis": {
            "backgroundcolor": "#E5ECF6",
            "gridcolor": "white",
            "gridwidth": 2,
            "linecolor": "white",
            "showbackground": true,
            "ticks": "",
            "zerolinecolor": "white"
           },
           "zaxis": {
            "backgroundcolor": "#E5ECF6",
            "gridcolor": "white",
            "gridwidth": 2,
            "linecolor": "white",
            "showbackground": true,
            "ticks": "",
            "zerolinecolor": "white"
           }
          },
          "shapedefaults": {
           "line": {
            "color": "#2a3f5f"
           }
          },
          "ternary": {
           "aaxis": {
            "gridcolor": "white",
            "linecolor": "white",
            "ticks": ""
           },
           "baxis": {
            "gridcolor": "white",
            "linecolor": "white",
            "ticks": ""
           },
           "bgcolor": "#E5ECF6",
           "caxis": {
            "gridcolor": "white",
            "linecolor": "white",
            "ticks": ""
           }
          },
          "title": {
           "x": 0.05
          },
          "xaxis": {
           "automargin": true,
           "gridcolor": "white",
           "linecolor": "white",
           "ticks": "",
           "title": {
            "standoff": 15
           },
           "zerolinecolor": "white",
           "zerolinewidth": 2
          },
          "yaxis": {
           "automargin": true,
           "gridcolor": "white",
           "linecolor": "white",
           "ticks": "",
           "title": {
            "standoff": 15
           },
           "zerolinecolor": "white",
           "zerolinewidth": 2
          }
         }
        },
        "xaxis": {
         "anchor": "y",
         "autorange": true,
         "domain": [
          0,
          1
         ],
         "range": [
          -42.07572684246113,
          957.0757268424611
         ],
         "title": {
          "text": "area"
         },
         "type": "linear"
        },
        "yaxis": {
         "anchor": "x",
         "autorange": true,
         "domain": [
          0,
          1
         ],
         "range": [
          0.24708678518684302,
          1.0262797610385097
         ],
         "title": {
          "text": "eccentricity"
         },
         "type": "linear"
        }
       }
      },
      "image/png": "[encoded data removed]"
     },
     "metadata": {},
     "output_type": "display_data"
    }
   ],
   "source": [
    "px.scatter(\n",
    "    df,\n",
    "    x=\"area\",\n",
    "    y=\"eccentricity\",\n",
    "    color=\"perimeter\"\n",
    ")"
   ]
  },
  {
   "cell_type": "markdown",
   "id": "c3cab691-e384-468e-a58c-dfb9c1967015",
   "metadata": {},
   "source": [
    "Violin plots allow us to split the data into groups and visualize their distribution. For example, we can split objects into small and large groups and then visualize their perimeter."
   ]
  },
  {
   "cell_type": "code",
   "execution_count": 4,
   "id": "a710e6fc-4c59-41f8-8f14-f381ff5a1bfe",
   "metadata": {
    "tags": []
   },
   "outputs": [],
   "source": [
    "df[\"size\"] = [\"large\" if s else \"small\" for s in df[\"area\"] > df[\"area\"].median()]"
   ]
  },
  {
   "cell_type": "code",
   "execution_count": 7,
   "id": "3f5a06b2",
   "metadata": {},
   "outputs": [
    {
     "data": {
      "application/vnd.plotly.v1+json": {
       "config": {
        "plotlyServerURL": "https://plot.ly"
       },
       "data": [
        {
         "alignmentgroup": "True",
         "box": {
          "visible": false
         },
         "hovertemplate": "size=%{x}<br>perimeter=%{y}<extra></extra>",
         "legendgroup": "",
         "marker": {
          "color": "#636efa"
         },
         "name": "",
         "offsetgroup": "",
         "orientation": "v",
         "scalegroup": "True",
         "showlegend": false,
         "type": "violin",
         "x": [
          "small",
          "small",
          "large",
          "small",
          "small",
          "large",
          "small",
          "large",
          "small",
          "large",
          "small",
          "large",
          "small",
          "large",
          "small",
          "large",
          "small",
          "large",
          "small",
          "small",
          "large",
          "small",
          "large",
          "large",
          "large",
          "large",
          "small",
          "large",
          "small",
          "large",
          "large",
          "small",
          "large",
          "large",
          "small",
          "small",
          "large",
          "large",
          "large",
          "small",
          "large",
          "large",
          "large",
          "small",
          "large",
          "large",
          "small",
          "small",
          "small",
          "small",
          "small",
          "small",
          "small",
          "small",
          "large",
          "large",
          "small",
          "large",
          "large",
          "small",
          "large",
          "large",
          "small",
          "small",
          "large",
          "small"
         ],
         "x0": " ",
         "xaxis": "x",
         "y": {
          "_inputArray": {
           "0": 20.62132034355964,
           "1": 59.59188309203678,
           "10": 57.45584412271571,
           "11": 85.84062043356593,
           "12": 54.04163056034261,
           "13": 70.8700576850888,
           "14": 52.284271247461895,
           "15": 73.11269837220809,
           "16": 50.04163056034261,
           "17": 85.59797974644665,
           "18": 53.55634918610404,
           "19": 55.45584412271571,
           "2": 86.87005768508881,
           "20": 95.49747468305831,
           "21": 33.07106781186548,
           "22": 129.9827560572969,
           "23": 76.76955262170047,
           "24": 92.32590180780451,
           "25": 67.698484809835,
           "26": 63.07106781186548,
           "27": 80.8700576850888,
           "28": 57.45584412271571,
           "29": 85.84062043356595,
           "3": 58.04163056034263,
           "30": 87.94112549695429,
           "31": 45.69238815542512,
           "32": 73.14823227814084,
           "33": 75.11269837220809,
           "34": 29.31370849898476,
           "35": 61.11269837220809,
           "36": 77.35533905932738,
           "37": 77.45584412271572,
           "38": 69.01219330881976,
           "39": 44.38477631085024,
           "4": 34.14213562373095,
           "40": 67.35533905932738,
           "41": 81.01219330881976,
           "42": 101.84062043356592,
           "43": 39.31370849898476,
           "44": 112.66904755831212,
           "45": 92.76955262170048,
           "46": 46.38477631085024,
           "47": 51.87005768508881,
           "48": 60.52691193458119,
           "49": 54.62741699796952,
           "5": 75.11269837220809,
           "50": 46.62741699796952,
           "51": 60.2842712474619,
           "52": 55.21320343559643,
           "53": 60.8700576850888,
           "54": 89.01219330881975,
           "55": 60.2842712474619,
           "56": 54.04163056034262,
           "57": 70.52691193458118,
           "58": 86.18376618407356,
           "59": 30.69238815542512,
           "6": 65.11269837220809,
           "60": 67.69848480983501,
           "61": 83.79898987322333,
           "62": 51.55634918610404,
           "63": 14.242640687119284,
           "64": 86.18376618407358,
           "65": 35.89949493661167,
           "7": 88.18376618407356,
           "8": 50.79898987322332,
           "9": 83.01219330881975,
           "bdata": "mu2b2Q6fNEA6rT3TwstNQMHFbQavt1VAx5dzJlQFTUCwwgeAMRJBQI68O3M2x1JAjrw7czZHUEA6rT3TwgtWQCiq10xFZklAGKdxxsfAVECjkacZWbpMQPagpbnMdVVAxJdzJlQFS0DAxW0Gr7dRQF+FDwBjJEpAjrw7czZHUkDEl3MmVAVJQCmq10xFZlVAjrw7czbHSkCjkacZWbpLQLOUDaDW31dAWeEDwBiJQEAowdS8cj9gQEuwo1lAMVNAko5Bk9sUV0Cfv6H5s+xQQFnhA8AYiU9AwMVtBq83VECjkacZWbpMQPegpbnMdVVAbbZvZjv8VUAm2NEsoNhGQOW0PKN8SVJAjrw7czbHUkDmnT8zT1A9QBx5d+Zsjk5AXLMJ4L1WU0DSyNOMLF1TQBmnccbHQFFATLCjWUAxRkBcswngvdZQQBmnccbHQFRA9aClucx1WUDzzp+ZJ6hDQNSa2azRKlxATLCjWUAxV0BMsKNZQDFHQIKL2wxe70lA/HKr2XFDTkDmnT8zT1BLQOadPzNPUEdAYIUPAGMkTkAIpAtASptLQIGL2wxeb05AGKdxxsdAVkBghQ8AYyROQMWXcyZUBUtAfbnV7LihUUA6rT3TwotVQEywo1lAsT5AoL+h+bPsUEAV1WumIvNUQI68O3M2x0lAbLZvZjt8LEA7rT3TwotVQBXVa6Yi80FA",
           "dtype": "f8",
           "shape": "66"
          },
          "bdata": "mu2b2Q6fNEA6rT3TwstNQMHFbQavt1VAx5dzJlQFTUCwwgeAMRJBQI68O3M2x1JAjrw7czZHUEA6rT3TwgtWQCiq10xFZklAGKdxxsfAVECjkacZWbpMQPagpbnMdVVAxJdzJlQFS0DAxW0Gr7dRQF+FDwBjJEpAjrw7czZHUkDEl3MmVAVJQCmq10xFZlVAjrw7czbHSkCjkacZWbpLQLOUDaDW31dAWeEDwBiJQEAowdS8cj9gQEuwo1lAMVNAko5Bk9sUV0Cfv6H5s+xQQFnhA8AYiU9AwMVtBq83VECjkacZWbpMQPegpbnMdVVAbbZvZjv8VUAm2NEsoNhGQOW0PKN8SVJAjrw7czbHUkDmnT8zT1A9QBx5d+Zsjk5AXLMJ4L1WU0DSyNOMLF1TQBmnccbHQFFATLCjWUAxRkBcswngvdZQQBmnccbHQFRA9aClucx1WUDzzp+ZJ6hDQNSa2azRKlxATLCjWUAxV0BMsKNZQDFHQIKL2wxe70lA/HKr2XFDTkDmnT8zT1BLQOadPzNPUEdAYIUPAGMkTkAIpAtASptLQIGL2wxeb05AGKdxxsdAVkBghQ8AYyROQMWXcyZUBUtAfbnV7LihUUA6rT3TwotVQEywo1lAsT5AoL+h+bPsUEAV1WumIvNUQI68O3M2x0lAbLZvZjt8LEA7rT3TwotVQBXVa6Yi80FA",
          "dtype": "f8"
         },
         "y0": " ",
         "yaxis": "y"
        }
       ],
       "layout": {
        "autosize": true,
        "legend": {
         "tracegroupgap": 0
        },
        "margin": {
         "t": 60
        },
        "template": {
         "data": {
          "bar": [
           {
            "error_x": {
             "color": "#2a3f5f"
            },
            "error_y": {
             "color": "#2a3f5f"
            },
            "marker": {
             "line": {
              "color": "#E5ECF6",
              "width": 0.5
             },
             "pattern": {
              "fillmode": "overlay",
              "size": 10,
              "solidity": 0.2
             }
            },
            "type": "bar"
           }
          ],
          "barpolar": [
           {
            "marker": {
             "line": {
              "color": "#E5ECF6",
              "width": 0.5
             },
             "pattern": {
              "fillmode": "overlay",
              "size": 10,
              "solidity": 0.2
             }
            },
            "type": "barpolar"
           }
          ],
          "carpet": [
           {
            "aaxis": {
             "endlinecolor": "#2a3f5f",
             "gridcolor": "white",
             "linecolor": "white",
             "minorgridcolor": "white",
             "startlinecolor": "#2a3f5f"
            },
            "baxis": {
             "endlinecolor": "#2a3f5f",
             "gridcolor": "white",
             "linecolor": "white",
             "minorgridcolor": "white",
             "startlinecolor": "#2a3f5f"
            },
            "type": "carpet"
           }
          ],
          "choropleth": [
           {
            "colorbar": {
             "outlinewidth": 0,
             "ticks": ""
            },
            "type": "choropleth"
           }
          ],
          "contour": [
           {
            "colorbar": {
             "outlinewidth": 0,
             "ticks": ""
            },
            "colorscale": [
             [
              0,
              "#0d0887"
             ],
             [
              0.1111111111111111,
              "#46039f"
             ],
             [
              0.2222222222222222,
              "#7201a8"
             ],
             [
              0.3333333333333333,
              "#9c179e"
             ],
             [
              0.4444444444444444,
              "#bd3786"
             ],
             [
              0.5555555555555556,
              "#d8576b"
             ],
             [
              0.6666666666666666,
              "#ed7953"
             ],
             [
              0.7777777777777778,
              "#fb9f3a"
             ],
             [
              0.8888888888888888,
              "#fdca26"
             ],
             [
              1,
              "#f0f921"
             ]
            ],
            "type": "contour"
           }
          ],
          "contourcarpet": [
           {
            "colorbar": {
             "outlinewidth": 0,
             "ticks": ""
            },
            "type": "contourcarpet"
           }
          ],
          "heatmap": [
           {
            "colorbar": {
             "outlinewidth": 0,
             "ticks": ""
            },
            "colorscale": [
             [
              0,
              "#0d0887"
             ],
             [
              0.1111111111111111,
              "#46039f"
             ],
             [
              0.2222222222222222,
              "#7201a8"
             ],
             [
              0.3333333333333333,
              "#9c179e"
             ],
             [
              0.4444444444444444,
              "#bd3786"
             ],
             [
              0.5555555555555556,
              "#d8576b"
             ],
             [
              0.6666666666666666,
              "#ed7953"
             ],
             [
              0.7777777777777778,
              "#fb9f3a"
             ],
             [
              0.8888888888888888,
              "#fdca26"
             ],
             [
              1,
              "#f0f921"
             ]
            ],
            "type": "heatmap"
           }
          ],
          "histogram": [
           {
            "marker": {
             "pattern": {
              "fillmode": "overlay",
              "size": 10,
              "solidity": 0.2
             }
            },
            "type": "histogram"
           }
          ],
          "histogram2d": [
           {
            "colorbar": {
             "outlinewidth": 0,
             "ticks": ""
            },
            "colorscale": [
             [
              0,
              "#0d0887"
             ],
             [
              0.1111111111111111,
              "#46039f"
             ],
             [
              0.2222222222222222,
              "#7201a8"
             ],
             [
              0.3333333333333333,
              "#9c179e"
             ],
             [
              0.4444444444444444,
              "#bd3786"
             ],
             [
              0.5555555555555556,
              "#d8576b"
             ],
             [
              0.6666666666666666,
              "#ed7953"
             ],
             [
              0.7777777777777778,
              "#fb9f3a"
             ],
             [
              0.8888888888888888,
              "#fdca26"
             ],
             [
              1,
              "#f0f921"
             ]
            ],
            "type": "histogram2d"
           }
          ],
          "histogram2dcontour": [
           {
            "colorbar": {
             "outlinewidth": 0,
             "ticks": ""
            },
            "colorscale": [
             [
              0,
              "#0d0887"
             ],
             [
              0.1111111111111111,
              "#46039f"
             ],
             [
              0.2222222222222222,
              "#7201a8"
             ],
             [
              0.3333333333333333,
              "#9c179e"
             ],
             [
              0.4444444444444444,
              "#bd3786"
             ],
             [
              0.5555555555555556,
              "#d8576b"
             ],
             [
              0.6666666666666666,
              "#ed7953"
             ],
             [
              0.7777777777777778,
              "#fb9f3a"
             ],
             [
              0.8888888888888888,
              "#fdca26"
             ],
             [
              1,
              "#f0f921"
             ]
            ],
            "type": "histogram2dcontour"
           }
          ],
          "mesh3d": [
           {
            "colorbar": {
             "outlinewidth": 0,
             "ticks": ""
            },
            "type": "mesh3d"
           }
          ],
          "parcoords": [
           {
            "line": {
             "colorbar": {
              "outlinewidth": 0,
              "ticks": ""
             }
            },
            "type": "parcoords"
           }
          ],
          "pie": [
           {
            "automargin": true,
            "type": "pie"
           }
          ],
          "scatter": [
           {
            "fillpattern": {
             "fillmode": "overlay",
             "size": 10,
             "solidity": 0.2
            },
            "type": "scatter"
           }
          ],
          "scatter3d": [
           {
            "line": {
             "colorbar": {
              "outlinewidth": 0,
              "ticks": ""
             }
            },
            "marker": {
             "colorbar": {
              "outlinewidth": 0,
              "ticks": ""
             }
            },
            "type": "scatter3d"
           }
          ],
          "scattercarpet": [
           {
            "marker": {
             "colorbar": {
              "outlinewidth": 0,
              "ticks": ""
             }
            },
            "type": "scattercarpet"
           }
          ],
          "scattergeo": [
           {
            "marker": {
             "colorbar": {
              "outlinewidth": 0,
              "ticks": ""
             }
            },
            "type": "scattergeo"
           }
          ],
          "scattergl": [
           {
            "marker": {
             "colorbar": {
              "outlinewidth": 0,
              "ticks": ""
             }
            },
            "type": "scattergl"
           }
          ],
          "scattermap": [
           {
            "marker": {
             "colorbar": {
              "outlinewidth": 0,
              "ticks": ""
             }
            },
            "type": "scattermap"
           }
          ],
          "scattermapbox": [
           {
            "marker": {
             "colorbar": {
              "outlinewidth": 0,
              "ticks": ""
             }
            },
            "type": "scattermapbox"
           }
          ],
          "scatterpolar": [
           {
            "marker": {
             "colorbar": {
              "outlinewidth": 0,
              "ticks": ""
             }
            },
            "type": "scatterpolar"
           }
          ],
          "scatterpolargl": [
           {
            "marker": {
             "colorbar": {
              "outlinewidth": 0,
              "ticks": ""
             }
            },
            "type": "scatterpolargl"
           }
          ],
          "scatterternary": [
           {
            "marker": {
             "colorbar": {
              "outlinewidth": 0,
              "ticks": ""
             }
            },
            "type": "scatterternary"
           }
          ],
          "surface": [
           {
            "colorbar": {
             "outlinewidth": 0,
             "ticks": ""
            },
            "colorscale": [
             [
              0,
              "#0d0887"
             ],
             [
              0.1111111111111111,
              "#46039f"
             ],
             [
              0.2222222222222222,
              "#7201a8"
             ],
             [
              0.3333333333333333,
              "#9c179e"
             ],
             [
              0.4444444444444444,
              "#bd3786"
             ],
             [
              0.5555555555555556,
              "#d8576b"
             ],
             [
              0.6666666666666666,
              "#ed7953"
             ],
             [
              0.7777777777777778,
              "#fb9f3a"
             ],
             [
              0.8888888888888888,
              "#fdca26"
             ],
             [
              1,
              "#f0f921"
             ]
            ],
            "type": "surface"
           }
          ],
          "table": [
           {
            "cells": {
             "fill": {
              "color": "#EBF0F8"
             },
             "line": {
              "color": "white"
             }
            },
            "header": {
             "fill": {
              "color": "#C8D4E3"
             },
             "line": {
              "color": "white"
             }
            },
            "type": "table"
           }
          ]
         },
         "layout": {
          "annotationdefaults": {
           "arrowcolor": "#2a3f5f",
           "arrowhead": 0,
           "arrowwidth": 1
          },
          "autotypenumbers": "strict",
          "coloraxis": {
           "colorbar": {
            "outlinewidth": 0,
            "ticks": ""
           }
          },
          "colorscale": {
           "diverging": [
            [
             0,
             "#8e0152"
            ],
            [
             0.1,
             "#c51b7d"
            ],
            [
             0.2,
             "#de77ae"
            ],
            [
             0.3,
             "#f1b6da"
            ],
            [
             0.4,
             "#fde0ef"
            ],
            [
             0.5,
             "#f7f7f7"
            ],
            [
             0.6,
             "#e6f5d0"
            ],
            [
             0.7,
             "#b8e186"
            ],
            [
             0.8,
             "#7fbc41"
            ],
            [
             0.9,
             "#4d9221"
            ],
            [
             1,
             "#276419"
            ]
           ],
           "sequential": [
            [
             0,
             "#0d0887"
            ],
            [
             0.1111111111111111,
             "#46039f"
            ],
            [
             0.2222222222222222,
             "#7201a8"
            ],
            [
             0.3333333333333333,
             "#9c179e"
            ],
            [
             0.4444444444444444,
             "#bd3786"
            ],
            [
             0.5555555555555556,
             "#d8576b"
            ],
            [
             0.6666666666666666,
             "#ed7953"
            ],
            [
             0.7777777777777778,
             "#fb9f3a"
            ],
            [
             0.8888888888888888,
             "#fdca26"
            ],
            [
             1,
             "#f0f921"
            ]
           ],
           "sequentialminus": [
            [
             0,
             "#0d0887"
            ],
            [
             0.1111111111111111,
             "#46039f"
            ],
            [
             0.2222222222222222,
             "#7201a8"
            ],
            [
             0.3333333333333333,
             "#9c179e"
            ],
            [
             0.4444444444444444,
             "#bd3786"
            ],
            [
             0.5555555555555556,
             "#d8576b"
            ],
            [
             0.6666666666666666,
             "#ed7953"
            ],
            [
             0.7777777777777778,
             "#fb9f3a"
            ],
            [
             0.8888888888888888,
             "#fdca26"
            ],
            [
             1,
             "#f0f921"
            ]
           ]
          },
          "colorway": [
           "#636efa",
           "#EF553B",
           "#00cc96",
           "#ab63fa",
           "#FFA15A",
           "#19d3f3",
           "#FF6692",
           "#B6E880",
           "#FF97FF",
           "#FECB52"
          ],
          "font": {
           "color": "#2a3f5f"
          },
          "geo": {
           "bgcolor": "white",
           "lakecolor": "white",
           "landcolor": "#E5ECF6",
           "showlakes": true,
           "showland": true,
           "subunitcolor": "white"
          },
          "hoverlabel": {
           "align": "left"
          },
          "hovermode": "closest",
          "mapbox": {
           "style": "light"
          },
          "paper_bgcolor": "white",
          "plot_bgcolor": "#E5ECF6",
          "polar": {
           "angularaxis": {
            "gridcolor": "white",
            "linecolor": "white",
            "ticks": ""
           },
           "bgcolor": "#E5ECF6",
           "radialaxis": {
            "gridcolor": "white",
            "linecolor": "white",
            "ticks": ""
           }
          },
          "scene": {
           "xaxis": {
            "backgroundcolor": "#E5ECF6",
            "gridcolor": "white",
            "gridwidth": 2,
            "linecolor": "white",
            "showbackground": true,
            "ticks": "",
            "zerolinecolor": "white"
           },
           "yaxis": {
            "backgroundcolor": "#E5ECF6",
            "gridcolor": "white",
            "gridwidth": 2,
            "linecolor": "white",
            "showbackground": true,
            "ticks": "",
            "zerolinecolor": "white"
           },
           "zaxis": {
            "backgroundcolor": "#E5ECF6",
            "gridcolor": "white",
            "gridwidth": 2,
            "linecolor": "white",
            "showbackground": true,
            "ticks": "",
            "zerolinecolor": "white"
           }
          },
          "shapedefaults": {
           "line": {
            "color": "#2a3f5f"
           }
          },
          "ternary": {
           "aaxis": {
            "gridcolor": "white",
            "linecolor": "white",
            "ticks": ""
           },
           "baxis": {
            "gridcolor": "white",
            "linecolor": "white",
            "ticks": ""
           },
           "bgcolor": "#E5ECF6",
           "caxis": {
            "gridcolor": "white",
            "linecolor": "white",
            "ticks": ""
           }
          },
          "title": {
           "x": 0.05
          },
          "xaxis": {
           "automargin": true,
           "gridcolor": "white",
           "linecolor": "white",
           "ticks": "",
           "title": {
            "standoff": 15
           },
           "zerolinecolor": "white",
           "zerolinewidth": 2
          },
          "yaxis": {
           "automargin": true,
           "gridcolor": "white",
           "linecolor": "white",
           "ticks": "",
           "title": {
            "standoff": 15
           },
           "zerolinecolor": "white",
           "zerolinewidth": 2
          }
         }
        },
        "violinmode": "group",
        "xaxis": {
         "anchor": "y",
         "autorange": true,
         "domain": [
          0,
          1
         ],
         "range": [
          -0.5,
          1.5
         ],
         "title": {
          "text": "size"
         },
         "type": "category"
        },
        "yaxis": {
         "anchor": "x",
         "autorange": true,
         "domain": [
          0,
          1
         ],
         "range": [
          -4.760995430927869,
          149.28065246302782
         ],
         "title": {
          "text": "perimeter"
         },
         "type": "linear"
        }
       }
      },
      "image/png": "[encoded data removed]"
     },
     "metadata": {},
     "output_type": "display_data"
    }
   ],
   "source": [
    "px.violin(\n",
    "    df,\n",
    "    x=\"size\",\n",
    "    y=\"perimeter\"\n",
    ")"
   ]
  },
  {
   "cell_type": "markdown",
   "id": "786a0bbd-d2ef-47f6-8996-1372b1ff8bfa",
   "metadata": {},
   "source": [
    "# Exercise\n",
    "Visualize `area`, `perimeter`, `solidity` and `eccentricity`. What is `eccentricity` most related to?"
   ]
  },
  {
   "cell_type": "code",
   "execution_count": null,
   "id": "7ccfb12d-b855-48aa-9d6d-2d4780f812bb",
   "metadata": {},
   "outputs": [],
   "source": []
  }
 ],
 "metadata": {
  "kernelspec": {
   "display_name": "Python 3 (ipykernel)",
   "language": "python",
   "name": "python3"
  },
  "language_info": {
   "codemirror_mode": {
    "name": "ipython",
    "version": 3
   },
   "file_extension": ".py",
   "mimetype": "text/x-python",
   "name": "python",
   "nbconvert_exporter": "python",
   "pygments_lexer": "ipython3",
   "version": "3.11.13"
  }
 },
 "nbformat": 4,
 "nbformat_minor": 5
}
