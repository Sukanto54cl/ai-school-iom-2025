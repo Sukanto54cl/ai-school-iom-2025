{
 "cells": [
  {
   "cell_type": "markdown",
   "id": "9d8e7d44",
   "metadata": {},
   "source": [
    "# Train a Neural Network for Regression\n",
    "\n",
    "This practical session will cover the building and training of a neural network. We want to work on the regression problem with the \"HB energy\" data to be able to compare the training process and prediction results. \n",
    "\n",
    "The model will be built with [pytorch](https://docs.pytorch.org/tutorials/intro.html) and we do hyperparameter optimization with [optuna](https://optuna.readthedocs.io/en/stable/index.html).\n",
    "\n",
    "Alternative libraries for hyperparameter optimization and more:\n",
    "* [Ray with Ray Tune](https://docs.ray.io/en/latest/tune/index.html)\n",
    "* [Hyperopt](https://hyperopt.github.io/hyperopt/)\n",
    "* [scikit-optimize](https://scikit-optimize.github.io/stable/)"
   ]
  },
  {
   "cell_type": "markdown",
   "id": "b1aa238b",
   "metadata": {},
   "source": [
    "## Data preprocessing"
   ]
  },
  {
   "cell_type": "code",
   "execution_count": 1,
   "id": "ece4a826",
   "metadata": {},
   "outputs": [],
   "source": [
    "import os\n",
    "import numpy as np\n",
    "import pandas as pd\n",
    "import matplotlib.pyplot as plt\n",
    "import math\n",
    "\n",
    "from sklearn.model_selection import train_test_split\n",
    "from sklearn.compose import ColumnTransformer\n",
    "from sklearn.preprocessing import OneHotEncoder, StandardScaler, MinMaxScaler"
   ]
  },
  {
   "cell_type": "markdown",
   "id": "b929249c",
   "metadata": {},
   "source": [
    "### Load and inspect data"
   ]
  },
  {
   "cell_type": "code",
   "execution_count": 2,
   "id": "4d3fdb31",
   "metadata": {},
   "outputs": [
    {
     "data": {
      "text/html": [
       "<div>\n",
       "<style scoped>\n",
       "    .dataframe tbody tr th:only-of-type {\n",
       "        vertical-align: middle;\n",
       "    }\n",
       "\n",
       "    .dataframe tbody tr th {\n",
       "        vertical-align: top;\n",
       "    }\n",
       "\n",
       "    .dataframe thead th {\n",
       "        text-align: right;\n",
       "    }\n",
       "</style>\n",
       "<table border=\"1\" class=\"dataframe\">\n",
       "  <thead>\n",
       "    <tr style=\"text-align: right;\">\n",
       "      <th></th>\n",
       "      <th>energy</th>\n",
       "      <th>bo-acc</th>\n",
       "      <th>bo-donor</th>\n",
       "      <th>q-acc</th>\n",
       "      <th>q-donor</th>\n",
       "      <th>q-hatom</th>\n",
       "      <th>dist-dh</th>\n",
       "      <th>dist-ah</th>\n",
       "      <th>atomtype-acc</th>\n",
       "      <th>atomtype-don</th>\n",
       "    </tr>\n",
       "  </thead>\n",
       "  <tbody>\n",
       "    <tr>\n",
       "      <th>0</th>\n",
       "      <td>-34.5895</td>\n",
       "      <td>0.2457</td>\n",
       "      <td>0.8981</td>\n",
       "      <td>-0.088121</td>\n",
       "      <td>0.069022</td>\n",
       "      <td>0.030216</td>\n",
       "      <td>1.029201</td>\n",
       "      <td>1.670799</td>\n",
       "      <td>N</td>\n",
       "      <td>N</td>\n",
       "    </tr>\n",
       "    <tr>\n",
       "      <th>1</th>\n",
       "      <td>-39.2652</td>\n",
       "      <td>0.2061</td>\n",
       "      <td>0.9089</td>\n",
       "      <td>-0.100112</td>\n",
       "      <td>0.070940</td>\n",
       "      <td>0.042037</td>\n",
       "      <td>1.027247</td>\n",
       "      <td>1.772753</td>\n",
       "      <td>N</td>\n",
       "      <td>N</td>\n",
       "    </tr>\n",
       "    <tr>\n",
       "      <th>2</th>\n",
       "      <td>-41.0025</td>\n",
       "      <td>0.1748</td>\n",
       "      <td>0.9185</td>\n",
       "      <td>-0.108372</td>\n",
       "      <td>0.072666</td>\n",
       "      <td>0.050028</td>\n",
       "      <td>1.025135</td>\n",
       "      <td>1.874865</td>\n",
       "      <td>N</td>\n",
       "      <td>N</td>\n",
       "    </tr>\n",
       "    <tr>\n",
       "      <th>3</th>\n",
       "      <td>-40.8874</td>\n",
       "      <td>0.1496</td>\n",
       "      <td>0.9269</td>\n",
       "      <td>-0.114255</td>\n",
       "      <td>0.074115</td>\n",
       "      <td>0.055766</td>\n",
       "      <td>1.023101</td>\n",
       "      <td>1.976899</td>\n",
       "      <td>N</td>\n",
       "      <td>N</td>\n",
       "    </tr>\n",
       "    <tr>\n",
       "      <th>4</th>\n",
       "      <td>-39.6642</td>\n",
       "      <td>0.1289</td>\n",
       "      <td>0.9341</td>\n",
       "      <td>-0.118741</td>\n",
       "      <td>0.075412</td>\n",
       "      <td>0.060208</td>\n",
       "      <td>1.021107</td>\n",
       "      <td>2.078893</td>\n",
       "      <td>N</td>\n",
       "      <td>N</td>\n",
       "    </tr>\n",
       "  </tbody>\n",
       "</table>\n",
       "</div>"
      ],
      "text/plain": [
       "    energy  bo-acc  bo-donor     q-acc   q-donor   q-hatom   dist-dh  \\\n",
       "0 -34.5895  0.2457    0.8981 -0.088121  0.069022  0.030216  1.029201   \n",
       "1 -39.2652  0.2061    0.9089 -0.100112  0.070940  0.042037  1.027247   \n",
       "2 -41.0025  0.1748    0.9185 -0.108372  0.072666  0.050028  1.025135   \n",
       "3 -40.8874  0.1496    0.9269 -0.114255  0.074115  0.055766  1.023101   \n",
       "4 -39.6642  0.1289    0.9341 -0.118741  0.075412  0.060208  1.021107   \n",
       "\n",
       "    dist-ah atomtype-acc atomtype-don  \n",
       "0  1.670799            N            N  \n",
       "1  1.772753            N            N  \n",
       "2  1.874865            N            N  \n",
       "3  1.976899            N            N  \n",
       "4  2.078893            N            N  "
      ]
     },
     "metadata": {},
     "output_type": "display_data"
    },
    {
     "name": "stdout",
     "output_type": "stream",
     "text": [
      "<class 'pandas.core.frame.DataFrame'>\n",
      "RangeIndex: 1638 entries, 0 to 1637\n",
      "Data columns (total 10 columns):\n",
      " #   Column        Non-Null Count  Dtype  \n",
      "---  ------        --------------  -----  \n",
      " 0   energy        1638 non-null   float64\n",
      " 1   bo-acc        1638 non-null   float64\n",
      " 2   bo-donor      1638 non-null   float64\n",
      " 3   q-acc         1638 non-null   float64\n",
      " 4   q-donor       1638 non-null   float64\n",
      " 5   q-hatom       1638 non-null   float64\n",
      " 6   dist-dh       1638 non-null   float64\n",
      " 7   dist-ah       1638 non-null   float64\n",
      " 8   atomtype-acc  1638 non-null   object \n",
      " 9   atomtype-don  1638 non-null   object \n",
      "dtypes: float64(8), object(2)\n",
      "memory usage: 128.1+ KB\n",
      "None\n"
     ]
    }
   ],
   "source": [
    "df = pd.read_csv('data/HB_data.csv', sep=',')\n",
    "display(df.head(5))\n",
    "print(df.info())"
   ]
  },
  {
   "cell_type": "markdown",
   "id": "7ac6cd5a",
   "metadata": {},
   "source": [
    "#### Check for outliers and missing data"
   ]
  },
  {
   "cell_type": "code",
   "execution_count": 3,
   "id": "14045065",
   "metadata": {},
   "outputs": [
    {
     "data": {
      "text/html": [
       "<div>\n",
       "<style scoped>\n",
       "    .dataframe tbody tr th:only-of-type {\n",
       "        vertical-align: middle;\n",
       "    }\n",
       "\n",
       "    .dataframe tbody tr th {\n",
       "        vertical-align: top;\n",
       "    }\n",
       "\n",
       "    .dataframe thead th {\n",
       "        text-align: right;\n",
       "    }\n",
       "</style>\n",
       "<table border=\"1\" class=\"dataframe\">\n",
       "  <thead>\n",
       "    <tr style=\"text-align: right;\">\n",
       "      <th></th>\n",
       "      <th>count</th>\n",
       "      <th>mean</th>\n",
       "      <th>std</th>\n",
       "      <th>min</th>\n",
       "      <th>25%</th>\n",
       "      <th>50%</th>\n",
       "      <th>75%</th>\n",
       "      <th>max</th>\n",
       "    </tr>\n",
       "  </thead>\n",
       "  <tbody>\n",
       "    <tr>\n",
       "      <th>energy</th>\n",
       "      <td>1638.0</td>\n",
       "      <td>-34.783759</td>\n",
       "      <td>29.955517</td>\n",
       "      <td>-200.597000</td>\n",
       "      <td>-48.226500</td>\n",
       "      <td>-24.801450</td>\n",
       "      <td>-14.991750</td>\n",
       "      <td>45.413900</td>\n",
       "    </tr>\n",
       "    <tr>\n",
       "      <th>bo-acc</th>\n",
       "      <td>1638.0</td>\n",
       "      <td>0.138418</td>\n",
       "      <td>0.075418</td>\n",
       "      <td>0.034200</td>\n",
       "      <td>0.080125</td>\n",
       "      <td>0.120600</td>\n",
       "      <td>0.181000</td>\n",
       "      <td>0.478100</td>\n",
       "    </tr>\n",
       "    <tr>\n",
       "      <th>bo-donor</th>\n",
       "      <td>1638.0</td>\n",
       "      <td>1.013692</td>\n",
       "      <td>0.087824</td>\n",
       "      <td>0.781200</td>\n",
       "      <td>0.942050</td>\n",
       "      <td>1.015000</td>\n",
       "      <td>1.073400</td>\n",
       "      <td>1.232500</td>\n",
       "    </tr>\n",
       "    <tr>\n",
       "      <th>q-acc</th>\n",
       "      <td>1638.0</td>\n",
       "      <td>-0.155270</td>\n",
       "      <td>0.249997</td>\n",
       "      <td>-0.898797</td>\n",
       "      <td>-0.186461</td>\n",
       "      <td>-0.130414</td>\n",
       "      <td>-0.090575</td>\n",
       "      <td>0.353389</td>\n",
       "    </tr>\n",
       "    <tr>\n",
       "      <th>q-donor</th>\n",
       "      <td>1638.0</td>\n",
       "      <td>-0.022809</td>\n",
       "      <td>0.151830</td>\n",
       "      <td>-0.275322</td>\n",
       "      <td>-0.159131</td>\n",
       "      <td>-0.036496</td>\n",
       "      <td>0.073683</td>\n",
       "      <td>0.354334</td>\n",
       "    </tr>\n",
       "    <tr>\n",
       "      <th>q-hatom</th>\n",
       "      <td>1638.0</td>\n",
       "      <td>0.044391</td>\n",
       "      <td>0.041812</td>\n",
       "      <td>-0.110008</td>\n",
       "      <td>0.022605</td>\n",
       "      <td>0.045868</td>\n",
       "      <td>0.067276</td>\n",
       "      <td>0.149418</td>\n",
       "    </tr>\n",
       "    <tr>\n",
       "      <th>dist-dh</th>\n",
       "      <td>1638.0</td>\n",
       "      <td>1.040342</td>\n",
       "      <td>0.108458</td>\n",
       "      <td>0.930018</td>\n",
       "      <td>0.978411</td>\n",
       "      <td>1.013607</td>\n",
       "      <td>1.038072</td>\n",
       "      <td>1.459200</td>\n",
       "    </tr>\n",
       "    <tr>\n",
       "      <th>dist-ah</th>\n",
       "      <td>1638.0</td>\n",
       "      <td>2.156605</td>\n",
       "      <td>0.290894</td>\n",
       "      <td>1.564120</td>\n",
       "      <td>1.927490</td>\n",
       "      <td>2.158575</td>\n",
       "      <td>2.383549</td>\n",
       "      <td>2.868591</td>\n",
       "    </tr>\n",
       "  </tbody>\n",
       "</table>\n",
       "</div>"
      ],
      "text/plain": [
       "           count       mean        std         min        25%        50%  \\\n",
       "energy    1638.0 -34.783759  29.955517 -200.597000 -48.226500 -24.801450   \n",
       "bo-acc    1638.0   0.138418   0.075418    0.034200   0.080125   0.120600   \n",
       "bo-donor  1638.0   1.013692   0.087824    0.781200   0.942050   1.015000   \n",
       "q-acc     1638.0  -0.155270   0.249997   -0.898797  -0.186461  -0.130414   \n",
       "q-donor   1638.0  -0.022809   0.151830   -0.275322  -0.159131  -0.036496   \n",
       "q-hatom   1638.0   0.044391   0.041812   -0.110008   0.022605   0.045868   \n",
       "dist-dh   1638.0   1.040342   0.108458    0.930018   0.978411   1.013607   \n",
       "dist-ah   1638.0   2.156605   0.290894    1.564120   1.927490   2.158575   \n",
       "\n",
       "                75%        max  \n",
       "energy   -14.991750  45.413900  \n",
       "bo-acc     0.181000   0.478100  \n",
       "bo-donor   1.073400   1.232500  \n",
       "q-acc     -0.090575   0.353389  \n",
       "q-donor    0.073683   0.354334  \n",
       "q-hatom    0.067276   0.149418  \n",
       "dist-dh    1.038072   1.459200  \n",
       "dist-ah    2.383549   2.868591  "
      ]
     },
     "execution_count": 3,
     "metadata": {},
     "output_type": "execute_result"
    }
   ],
   "source": [
    "# Have a look at the descriptive statistics\n",
    "df.describe().T"
   ]
  },
  {
   "cell_type": "code",
   "execution_count": 4,
   "id": "e9634160",
   "metadata": {},
   "outputs": [
    {
     "data": {
      "image/png": "[encoded data removed]",
      "text/plain": [
       "<Figure size 640x480 with 1 Axes>"
      ]
     },
     "metadata": {},
     "output_type": "display_data"
    }
   ],
   "source": [
    "# Boxplot to have a basic check for obvious outliers\n",
    "df.drop(columns=[\"energy\"]).plot(kind=\"box\")\n",
    "plt.show()"
   ]
  },
  {
   "cell_type": "code",
   "execution_count": 5,
   "id": "aefba900",
   "metadata": {},
   "outputs": [
    {
     "name": "stdout",
     "output_type": "stream",
     "text": [
      "Missing values: 0\n"
     ]
    }
   ],
   "source": [
    "# Check for missing values\n",
    "print('Missing values:', df.isnull().sum().sum())"
   ]
  },
  {
   "cell_type": "markdown",
   "id": "22a58838",
   "metadata": {},
   "source": [
    "### Prepare train and test data\n",
    "\n",
    "We will apply similar preprocessing steps we've alreday seen in the regression session on day 1.  \n",
    "This time, we will also keep 5% of the data for a final validation on prediction quality after training."
   ]
  },
  {
   "cell_type": "code",
   "execution_count": 6,
   "id": "b626a967",
   "metadata": {},
   "outputs": [
    {
     "name": "stdout",
     "output_type": "stream",
     "text": [
      "Training/Test data shape: (1556, 10), Validation data shape: (82, 10)\n"
     ]
    }
   ],
   "source": [
    "# Get random 5% of data for validation\n",
    "df_val = df.sample(frac=0.05, random_state=42)\n",
    "# Drop those validation data from training data\n",
    "df_tt = df.drop(df_val.index)\n",
    "print(f\"Training/Test data shape: {df_tt.shape}, Validation data shape: {df_val.shape}\")\n"
   ]
  },
  {
   "cell_type": "code",
   "execution_count": 7,
   "id": "5fee5a96",
   "metadata": {},
   "outputs": [],
   "source": [
    "# Separate features and target\n",
    "target_col = \"energy\"\n",
    "\n",
    "X = df_tt.drop(columns=[target_col])\n",
    "# We need y to be a 2-D array (n_samples x n_features)\n",
    "y = df_tt[target_col].to_numpy().reshape(-1, 1)"
   ]
  },
  {
   "cell_type": "code",
   "execution_count": 8,
   "id": "d065d633",
   "metadata": {},
   "outputs": [],
   "source": [
    "# Get train and test splits\n",
    "X_train, X_test, y_train, y_test = train_test_split(X, y, test_size=0.2, random_state=42)"
   ]
  },
  {
   "cell_type": "code",
   "execution_count": 9,
   "id": "b0555a6f",
   "metadata": {},
   "outputs": [
    {
     "name": "stdout",
     "output_type": "stream",
     "text": [
      "X_train:  (1244, 16)\n",
      "X_test:   (312, 16)\n",
      "y_train:  (1244, 1)\n",
      "y_test:   (312, 1)\n"
     ]
    },
    {
     "data": {
      "text/html": [
       "<div>\n",
       "<style scoped>\n",
       "    .dataframe tbody tr th:only-of-type {\n",
       "        vertical-align: middle;\n",
       "    }\n",
       "\n",
       "    .dataframe tbody tr th {\n",
       "        vertical-align: top;\n",
       "    }\n",
       "\n",
       "    .dataframe thead th {\n",
       "        text-align: right;\n",
       "    }\n",
       "</style>\n",
       "<table border=\"1\" class=\"dataframe\">\n",
       "  <thead>\n",
       "    <tr style=\"text-align: right;\">\n",
       "      <th></th>\n",
       "      <th>num__bo-acc</th>\n",
       "      <th>num__bo-donor</th>\n",
       "      <th>num__q-acc</th>\n",
       "      <th>num__q-donor</th>\n",
       "      <th>num__q-hatom</th>\n",
       "      <th>num__dist-dh</th>\n",
       "      <th>num__dist-ah</th>\n",
       "      <th>cat__atomtype-acc_Cl</th>\n",
       "      <th>cat__atomtype-acc_F</th>\n",
       "      <th>cat__atomtype-acc_N</th>\n",
       "      <th>cat__atomtype-acc_O</th>\n",
       "      <th>cat__atomtype-acc_S</th>\n",
       "      <th>cat__atomtype-don_F</th>\n",
       "      <th>cat__atomtype-don_N</th>\n",
       "      <th>cat__atomtype-don_O</th>\n",
       "      <th>cat__atomtype-don_S</th>\n",
       "    </tr>\n",
       "  </thead>\n",
       "  <tbody>\n",
       "    <tr>\n",
       "      <th>0</th>\n",
       "      <td>-1.285813</td>\n",
       "      <td>0.917745</td>\n",
       "      <td>-0.115091</td>\n",
       "      <td>-0.282173</td>\n",
       "      <td>0.864921</td>\n",
       "      <td>-0.662341</td>\n",
       "      <td>1.298361</td>\n",
       "      <td>0.0</td>\n",
       "      <td>0.0</td>\n",
       "      <td>0.0</td>\n",
       "      <td>1.0</td>\n",
       "      <td>0.0</td>\n",
       "      <td>0.0</td>\n",
       "      <td>0.0</td>\n",
       "      <td>1.0</td>\n",
       "      <td>0.0</td>\n",
       "    </tr>\n",
       "    <tr>\n",
       "      <th>1</th>\n",
       "      <td>-0.647649</td>\n",
       "      <td>0.186561</td>\n",
       "      <td>0.970476</td>\n",
       "      <td>-0.771634</td>\n",
       "      <td>-0.619231</td>\n",
       "      <td>-0.258013</td>\n",
       "      <td>1.832981</td>\n",
       "      <td>0.0</td>\n",
       "      <td>0.0</td>\n",
       "      <td>0.0</td>\n",
       "      <td>0.0</td>\n",
       "      <td>1.0</td>\n",
       "      <td>0.0</td>\n",
       "      <td>1.0</td>\n",
       "      <td>0.0</td>\n",
       "      <td>0.0</td>\n",
       "    </tr>\n",
       "    <tr>\n",
       "      <th>2</th>\n",
       "      <td>-1.162635</td>\n",
       "      <td>-0.394051</td>\n",
       "      <td>0.083728</td>\n",
       "      <td>-0.078369</td>\n",
       "      <td>0.426753</td>\n",
       "      <td>-0.294188</td>\n",
       "      <td>0.813984</td>\n",
       "      <td>0.0</td>\n",
       "      <td>0.0</td>\n",
       "      <td>0.0</td>\n",
       "      <td>1.0</td>\n",
       "      <td>0.0</td>\n",
       "      <td>0.0</td>\n",
       "      <td>1.0</td>\n",
       "      <td>0.0</td>\n",
       "      <td>0.0</td>\n",
       "    </tr>\n",
       "    <tr>\n",
       "      <th>3</th>\n",
       "      <td>0.306321</td>\n",
       "      <td>-0.886830</td>\n",
       "      <td>0.274388</td>\n",
       "      <td>0.630579</td>\n",
       "      <td>0.169388</td>\n",
       "      <td>-0.271833</td>\n",
       "      <td>-1.260058</td>\n",
       "      <td>0.0</td>\n",
       "      <td>0.0</td>\n",
       "      <td>0.0</td>\n",
       "      <td>1.0</td>\n",
       "      <td>0.0</td>\n",
       "      <td>0.0</td>\n",
       "      <td>1.0</td>\n",
       "      <td>0.0</td>\n",
       "      <td>0.0</td>\n",
       "    </tr>\n",
       "    <tr>\n",
       "      <th>4</th>\n",
       "      <td>2.782975</td>\n",
       "      <td>0.231048</td>\n",
       "      <td>-2.398073</td>\n",
       "      <td>-1.403848</td>\n",
       "      <td>-1.551664</td>\n",
       "      <td>-0.384992</td>\n",
       "      <td>-0.519736</td>\n",
       "      <td>1.0</td>\n",
       "      <td>0.0</td>\n",
       "      <td>0.0</td>\n",
       "      <td>0.0</td>\n",
       "      <td>0.0</td>\n",
       "      <td>0.0</td>\n",
       "      <td>0.0</td>\n",
       "      <td>1.0</td>\n",
       "      <td>0.0</td>\n",
       "    </tr>\n",
       "  </tbody>\n",
       "</table>\n",
       "</div>"
      ],
      "text/plain": [
       "   num__bo-acc  num__bo-donor  num__q-acc  num__q-donor  num__q-hatom  \\\n",
       "0    -1.285813       0.917745   -0.115091     -0.282173      0.864921   \n",
       "1    -0.647649       0.186561    0.970476     -0.771634     -0.619231   \n",
       "2    -1.162635      -0.394051    0.083728     -0.078369      0.426753   \n",
       "3     0.306321      -0.886830    0.274388      0.630579      0.169388   \n",
       "4     2.782975       0.231048   -2.398073     -1.403848     -1.551664   \n",
       "\n",
       "   num__dist-dh  num__dist-ah  cat__atomtype-acc_Cl  cat__atomtype-acc_F  \\\n",
       "0     -0.662341      1.298361                   0.0                  0.0   \n",
       "1     -0.258013      1.832981                   0.0                  0.0   \n",
       "2     -0.294188      0.813984                   0.0                  0.0   \n",
       "3     -0.271833     -1.260058                   0.0                  0.0   \n",
       "4     -0.384992     -0.519736                   1.0                  0.0   \n",
       "\n",
       "   cat__atomtype-acc_N  cat__atomtype-acc_O  cat__atomtype-acc_S  \\\n",
       "0                  0.0                  1.0                  0.0   \n",
       "1                  0.0                  0.0                  1.0   \n",
       "2                  0.0                  1.0                  0.0   \n",
       "3                  0.0                  1.0                  0.0   \n",
       "4                  0.0                  0.0                  0.0   \n",
       "\n",
       "   cat__atomtype-don_F  cat__atomtype-don_N  cat__atomtype-don_O  \\\n",
       "0                  0.0                  0.0                  1.0   \n",
       "1                  0.0                  1.0                  0.0   \n",
       "2                  0.0                  1.0                  0.0   \n",
       "3                  0.0                  1.0                  0.0   \n",
       "4                  0.0                  0.0                  1.0   \n",
       "\n",
       "   cat__atomtype-don_S  \n",
       "0                  0.0  \n",
       "1                  0.0  \n",
       "2                  0.0  \n",
       "3                  0.0  \n",
       "4                  0.0  "
      ]
     },
     "metadata": {},
     "output_type": "display_data"
    }
   ],
   "source": [
    "# Preprocess and transform features\n",
    "numerical_features = X.select_dtypes(include=[\"number\"]).columns.tolist()\n",
    "categorical_features = X.select_dtypes(include=[\"object\"]).columns.tolist()\n",
    "\n",
    "# Define scaling and encoding for X\n",
    "x_preprocessor = ColumnTransformer(\n",
    "    transformers=[\n",
    "        (\"num\", StandardScaler(), numerical_features),\n",
    "        (\"cat\", OneHotEncoder(handle_unknown=\"ignore\", sparse_output=False), categorical_features),\n",
    "    ],\n",
    "    remainder=\"drop\",\n",
    ")\n",
    "# Define scaling for y\n",
    "y_scaler = StandardScaler()\n",
    "\n",
    "# Fit scaling for X on train data only, apply (transform) scaling to both train and test\n",
    "X_train_t = x_preprocessor.fit_transform(X_train)\n",
    "X_test_t = x_preprocessor.transform(X_test)\n",
    "\n",
    "# Fit scaling for y on train data only, apply (transform) scaling to both train and test\n",
    "y_train_t = y_scaler.fit_transform(y_train)\n",
    "y_test_t = y_scaler.transform(y_test)\n",
    "\n",
    "# Get transformed feature names (handy for inspection)\n",
    "feat_names = x_preprocessor.get_feature_names_out()\n",
    "    \n",
    "# Inspect transformed data\n",
    "print(\"X_train: \", X_train_t.shape)\n",
    "print(\"X_test:  \", X_test_t.shape)\n",
    "print(\"y_train: \", y_train_t.shape)\n",
    "print(\"y_test:  \", y_test_t.shape)\n",
    "display(pd.DataFrame(X_train_t, columns=feat_names).head(5))"
   ]
  },
  {
   "cell_type": "code",
   "execution_count": 10,
   "id": "f6d539d4",
   "metadata": {},
   "outputs": [
    {
     "data": {
      "text/html": [
       "<div>\n",
       "<style scoped>\n",
       "    .dataframe tbody tr th:only-of-type {\n",
       "        vertical-align: middle;\n",
       "    }\n",
       "\n",
       "    .dataframe tbody tr th {\n",
       "        vertical-align: top;\n",
       "    }\n",
       "\n",
       "    .dataframe thead th {\n",
       "        text-align: right;\n",
       "    }\n",
       "</style>\n",
       "<table border=\"1\" class=\"dataframe\">\n",
       "  <thead>\n",
       "    <tr style=\"text-align: right;\">\n",
       "      <th></th>\n",
       "      <th>count</th>\n",
       "      <th>mean</th>\n",
       "      <th>std</th>\n",
       "      <th>min</th>\n",
       "      <th>25%</th>\n",
       "      <th>50%</th>\n",
       "      <th>75%</th>\n",
       "      <th>max</th>\n",
       "    </tr>\n",
       "  </thead>\n",
       "  <tbody>\n",
       "    <tr>\n",
       "      <th>num__bo-acc</th>\n",
       "      <td>1244.0</td>\n",
       "      <td>-3.726922e-16</td>\n",
       "      <td>1.000402</td>\n",
       "      <td>-1.391955</td>\n",
       "      <td>-0.783930</td>\n",
       "      <td>-0.226356</td>\n",
       "      <td>0.561194</td>\n",
       "      <td>4.424904</td>\n",
       "    </tr>\n",
       "    <tr>\n",
       "      <th>num__bo-donor</th>\n",
       "      <td>1244.0</td>\n",
       "      <td>-2.077652e-16</td>\n",
       "      <td>1.000402</td>\n",
       "      <td>-2.635512</td>\n",
       "      <td>-0.825518</td>\n",
       "      <td>0.005761</td>\n",
       "      <td>0.690747</td>\n",
       "      <td>2.512432</td>\n",
       "    </tr>\n",
       "    <tr>\n",
       "      <th>num__q-acc</th>\n",
       "      <td>1244.0</td>\n",
       "      <td>3.212864e-17</td>\n",
       "      <td>1.000402</td>\n",
       "      <td>-2.898847</td>\n",
       "      <td>-0.137707</td>\n",
       "      <td>0.108404</td>\n",
       "      <td>0.269204</td>\n",
       "      <td>1.999119</td>\n",
       "    </tr>\n",
       "    <tr>\n",
       "      <th>num__q-donor</th>\n",
       "      <td>1244.0</td>\n",
       "      <td>1.427940e-18</td>\n",
       "      <td>1.000402</td>\n",
       "      <td>-1.572323</td>\n",
       "      <td>-0.879873</td>\n",
       "      <td>-0.095105</td>\n",
       "      <td>0.625609</td>\n",
       "      <td>2.481237</td>\n",
       "    </tr>\n",
       "    <tr>\n",
       "      <th>num__q-hatom</th>\n",
       "      <td>1244.0</td>\n",
       "      <td>-1.427940e-18</td>\n",
       "      <td>1.000402</td>\n",
       "      <td>-3.597710</td>\n",
       "      <td>-0.516487</td>\n",
       "      <td>0.048946</td>\n",
       "      <td>0.545109</td>\n",
       "      <td>2.483628</td>\n",
       "    </tr>\n",
       "    <tr>\n",
       "      <th>num__dist-dh</th>\n",
       "      <td>1244.0</td>\n",
       "      <td>1.115221e-15</td>\n",
       "      <td>1.000402</td>\n",
       "      <td>-1.019973</td>\n",
       "      <td>-0.572710</td>\n",
       "      <td>-0.260462</td>\n",
       "      <td>-0.034062</td>\n",
       "      <td>3.766413</td>\n",
       "    </tr>\n",
       "    <tr>\n",
       "      <th>num__dist-ah</th>\n",
       "      <td>1244.0</td>\n",
       "      <td>5.026347e-16</td>\n",
       "      <td>1.000402</td>\n",
       "      <td>-2.028257</td>\n",
       "      <td>-0.781578</td>\n",
       "      <td>0.003296</td>\n",
       "      <td>0.792599</td>\n",
       "      <td>2.457190</td>\n",
       "    </tr>\n",
       "    <tr>\n",
       "      <th>cat__atomtype-acc_Cl</th>\n",
       "      <td>1244.0</td>\n",
       "      <td>5.707395e-02</td>\n",
       "      <td>0.232077</td>\n",
       "      <td>0.000000</td>\n",
       "      <td>0.000000</td>\n",
       "      <td>0.000000</td>\n",
       "      <td>0.000000</td>\n",
       "      <td>1.000000</td>\n",
       "    </tr>\n",
       "    <tr>\n",
       "      <th>cat__atomtype-acc_F</th>\n",
       "      <td>1244.0</td>\n",
       "      <td>3.617363e-02</td>\n",
       "      <td>0.186797</td>\n",
       "      <td>0.000000</td>\n",
       "      <td>0.000000</td>\n",
       "      <td>0.000000</td>\n",
       "      <td>0.000000</td>\n",
       "      <td>1.000000</td>\n",
       "    </tr>\n",
       "    <tr>\n",
       "      <th>cat__atomtype-acc_N</th>\n",
       "      <td>1244.0</td>\n",
       "      <td>1.302251e-01</td>\n",
       "      <td>0.336686</td>\n",
       "      <td>0.000000</td>\n",
       "      <td>0.000000</td>\n",
       "      <td>0.000000</td>\n",
       "      <td>0.000000</td>\n",
       "      <td>1.000000</td>\n",
       "    </tr>\n",
       "    <tr>\n",
       "      <th>cat__atomtype-acc_O</th>\n",
       "      <td>1244.0</td>\n",
       "      <td>5.956592e-01</td>\n",
       "      <td>0.490961</td>\n",
       "      <td>0.000000</td>\n",
       "      <td>0.000000</td>\n",
       "      <td>1.000000</td>\n",
       "      <td>1.000000</td>\n",
       "      <td>1.000000</td>\n",
       "    </tr>\n",
       "    <tr>\n",
       "      <th>cat__atomtype-acc_S</th>\n",
       "      <td>1244.0</td>\n",
       "      <td>1.808682e-01</td>\n",
       "      <td>0.385064</td>\n",
       "      <td>0.000000</td>\n",
       "      <td>0.000000</td>\n",
       "      <td>0.000000</td>\n",
       "      <td>0.000000</td>\n",
       "      <td>1.000000</td>\n",
       "    </tr>\n",
       "    <tr>\n",
       "      <th>cat__atomtype-don_F</th>\n",
       "      <td>1244.0</td>\n",
       "      <td>5.948553e-02</td>\n",
       "      <td>0.236626</td>\n",
       "      <td>0.000000</td>\n",
       "      <td>0.000000</td>\n",
       "      <td>0.000000</td>\n",
       "      <td>0.000000</td>\n",
       "      <td>1.000000</td>\n",
       "    </tr>\n",
       "    <tr>\n",
       "      <th>cat__atomtype-don_N</th>\n",
       "      <td>1244.0</td>\n",
       "      <td>5.723473e-01</td>\n",
       "      <td>0.494937</td>\n",
       "      <td>0.000000</td>\n",
       "      <td>0.000000</td>\n",
       "      <td>1.000000</td>\n",
       "      <td>1.000000</td>\n",
       "      <td>1.000000</td>\n",
       "    </tr>\n",
       "    <tr>\n",
       "      <th>cat__atomtype-don_O</th>\n",
       "      <td>1244.0</td>\n",
       "      <td>2.636656e-01</td>\n",
       "      <td>0.440797</td>\n",
       "      <td>0.000000</td>\n",
       "      <td>0.000000</td>\n",
       "      <td>0.000000</td>\n",
       "      <td>1.000000</td>\n",
       "      <td>1.000000</td>\n",
       "    </tr>\n",
       "    <tr>\n",
       "      <th>cat__atomtype-don_S</th>\n",
       "      <td>1244.0</td>\n",
       "      <td>1.045016e-01</td>\n",
       "      <td>0.306033</td>\n",
       "      <td>0.000000</td>\n",
       "      <td>0.000000</td>\n",
       "      <td>0.000000</td>\n",
       "      <td>0.000000</td>\n",
       "      <td>1.000000</td>\n",
       "    </tr>\n",
       "  </tbody>\n",
       "</table>\n",
       "</div>"
      ],
      "text/plain": [
       "                       count          mean       std       min       25%  \\\n",
       "num__bo-acc           1244.0 -3.726922e-16  1.000402 -1.391955 -0.783930   \n",
       "num__bo-donor         1244.0 -2.077652e-16  1.000402 -2.635512 -0.825518   \n",
       "num__q-acc            1244.0  3.212864e-17  1.000402 -2.898847 -0.137707   \n",
       "num__q-donor          1244.0  1.427940e-18  1.000402 -1.572323 -0.879873   \n",
       "num__q-hatom          1244.0 -1.427940e-18  1.000402 -3.597710 -0.516487   \n",
       "num__dist-dh          1244.0  1.115221e-15  1.000402 -1.019973 -0.572710   \n",
       "num__dist-ah          1244.0  5.026347e-16  1.000402 -2.028257 -0.781578   \n",
       "cat__atomtype-acc_Cl  1244.0  5.707395e-02  0.232077  0.000000  0.000000   \n",
       "cat__atomtype-acc_F   1244.0  3.617363e-02  0.186797  0.000000  0.000000   \n",
       "cat__atomtype-acc_N   1244.0  1.302251e-01  0.336686  0.000000  0.000000   \n",
       "cat__atomtype-acc_O   1244.0  5.956592e-01  0.490961  0.000000  0.000000   \n",
       "cat__atomtype-acc_S   1244.0  1.808682e-01  0.385064  0.000000  0.000000   \n",
       "cat__atomtype-don_F   1244.0  5.948553e-02  0.236626  0.000000  0.000000   \n",
       "cat__atomtype-don_N   1244.0  5.723473e-01  0.494937  0.000000  0.000000   \n",
       "cat__atomtype-don_O   1244.0  2.636656e-01  0.440797  0.000000  0.000000   \n",
       "cat__atomtype-don_S   1244.0  1.045016e-01  0.306033  0.000000  0.000000   \n",
       "\n",
       "                           50%       75%       max  \n",
       "num__bo-acc          -0.226356  0.561194  4.424904  \n",
       "num__bo-donor         0.005761  0.690747  2.512432  \n",
       "num__q-acc            0.108404  0.269204  1.999119  \n",
       "num__q-donor         -0.095105  0.625609  2.481237  \n",
       "num__q-hatom          0.048946  0.545109  2.483628  \n",
       "num__dist-dh         -0.260462 -0.034062  3.766413  \n",
       "num__dist-ah          0.003296  0.792599  2.457190  \n",
       "cat__atomtype-acc_Cl  0.000000  0.000000  1.000000  \n",
       "cat__atomtype-acc_F   0.000000  0.000000  1.000000  \n",
       "cat__atomtype-acc_N   0.000000  0.000000  1.000000  \n",
       "cat__atomtype-acc_O   1.000000  1.000000  1.000000  \n",
       "cat__atomtype-acc_S   0.000000  0.000000  1.000000  \n",
       "cat__atomtype-don_F   0.000000  0.000000  1.000000  \n",
       "cat__atomtype-don_N   1.000000  1.000000  1.000000  \n",
       "cat__atomtype-don_O   0.000000  1.000000  1.000000  \n",
       "cat__atomtype-don_S   0.000000  0.000000  1.000000  "
      ]
     },
     "execution_count": 10,
     "metadata": {},
     "output_type": "execute_result"
    }
   ],
   "source": [
    "pd.DataFrame(X_train_t, columns=feat_names).describe().T"
   ]
  },
  {
   "cell_type": "markdown",
   "id": "d2008a63",
   "metadata": {},
   "source": [
    "## Build and train model with PyTorch"
   ]
  },
  {
   "cell_type": "code",
   "execution_count": 11,
   "id": "24237321",
   "metadata": {},
   "outputs": [],
   "source": [
    "import torch\n",
    "import torch.nn as nn\n",
    "from torch.utils.data import TensorDataset, DataLoader\n",
    "import torch.optim as optim\n",
    "from tqdm.auto import tqdm\n",
    "\n",
    "import optuna\n",
    "optuna.logging.set_verbosity(optuna.logging.WARNING)"
   ]
  },
  {
   "cell_type": "code",
   "execution_count": 12,
   "id": "31ddb35a",
   "metadata": {},
   "outputs": [
    {
     "name": "stdout",
     "output_type": "stream",
     "text": [
      "Using device: cpu\n"
     ]
    }
   ],
   "source": [
    "# Check if GPU is available to be used with pytorch\n",
    "device = torch.device(\"cuda\" if torch.cuda.is_available() else \"cpu\")\n",
    "print(f\"Using device: {device}\")"
   ]
  },
  {
   "cell_type": "markdown",
   "id": "5bcb7087",
   "metadata": {},
   "source": [
    "### Define objects for model and training process"
   ]
  },
  {
   "cell_type": "code",
   "execution_count": 13,
   "id": "9c441c6f",
   "metadata": {},
   "outputs": [],
   "source": [
    "# Define the model with a parameterizable architecture\n",
    "class MLPRegressorTorch(nn.Module):\n",
    "    def __init__(self, in_dim, hidden=(64, 32), dropout=0.1):\n",
    "        super().__init__()\n",
    "        layers = []\n",
    "        prev = in_dim\n",
    "        for h in hidden:\n",
    "            layers += [\n",
    "                # fully connected layer from prev inputs to h outputs\n",
    "                nn.Linear(prev, h), \n",
    "                # non-linear activation with rectified linear unit\n",
    "                nn.ReLU(), \n",
    "                # regularization via dropout: randomly zeroes activations with probability\n",
    "                nn.Dropout(dropout) \n",
    "                ]\n",
    "            prev = h\n",
    "        # Last layer is regression output with a single neuron for continuous value\n",
    "        layers += [nn.Linear(prev, 1)]\n",
    "        self.net = nn.Sequential(*layers)\n",
    "\n",
    "    def forward(self, x): \n",
    "        return self.net(x)"
   ]
  },
  {
   "cell_type": "code",
   "execution_count": 14,
   "id": "4f92d42a",
   "metadata": {},
   "outputs": [],
   "source": [
    "# Define function to create pytorch data loaders\n",
    "def make_loaders(X_train_t, y_train_t, X_test_t, y_test_t, batch_size):\n",
    "    # Convert data (numpy arrays) to torch tensors\n",
    "    X_train_ts = torch.tensor(X_train_t, dtype=torch.float32)\n",
    "    y_train_ts = torch.tensor(y_train_t, dtype=torch.float32)\n",
    "    X_test_ts = torch.tensor(X_test_t, dtype=torch.float32)\n",
    "    y_test_ts = torch.tensor(y_test_t, dtype=torch.float32)\n",
    "    # Build torch dataset and dataloader for batches\n",
    "    train_loader = DataLoader(TensorDataset(X_train_ts, y_train_ts), batch_size=batch_size, shuffle=True)\n",
    "    test_loader = DataLoader(TensorDataset(X_test_ts, y_test_ts), batch_size=batch_size, shuffle=False)\n",
    "\n",
    "    return train_loader, test_loader"
   ]
  },
  {
   "cell_type": "code",
   "execution_count": 15,
   "id": "8f1ae9f4",
   "metadata": {},
   "outputs": [],
   "source": [
    "# Define function for training loop with hyperparameter configuration\n",
    "# Also define a directory to store model checkpoints during training\n",
    "CKPT_DIR = \"optuna_ckpts\"\n",
    "os.makedirs(CKPT_DIR, exist_ok=True)\n",
    "\n",
    "def objective(trial):\n",
    "    # Define hyperparameter search space for optuna\n",
    "    hidden_layers_list = [(256, 128, 64), (128, 64), (64, 32), (64,)]\n",
    "    idx = trial.suggest_int(\"hidden_layers_idx\", 0, len(hidden_layers_list)-1)\n",
    "    hidden_layers = hidden_layers_list[idx]\n",
    "    dropout = trial.suggest_float(\"dropout\", 0.0, 0.3)\n",
    "    lr = trial.suggest_float(\"lr\", 5e-4, 3e-3, log=True)\n",
    "    #lr = 0.1\n",
    "    weight_decay = trial.suggest_float(\"weight_decay\", 1e-6, 1e-3, log=True)\n",
    "    batch_size = trial.suggest_categorical(\"batch_size\", [16, 32, 64, 128, 256])\n",
    "    epochs = 50\n",
    "\n",
    "    # Get data loaders for train and test data\n",
    "    train_loader, test_loader = make_loaders(X_train_t, y_train_t, X_test_t, y_test_t, batch_size)\n",
    "\n",
    "    # Initialise model and put to device (CPU or GPU)\n",
    "    model = MLPRegressorTorch(\n",
    "        in_dim=X_train_t.shape[1],\n",
    "        hidden=hidden_layers,\n",
    "        dropout=dropout\n",
    "        ).to(device)\n",
    "    # Define optimizer: Adam with weight decay (L2 regularization)\n",
    "    optimizer = optim.Adam(model.parameters(), lr=lr, weight_decay=weight_decay)\n",
    "    # Define loss function: Mean Squared Error\n",
    "    loss_fn = nn.MSELoss()\n",
    "\n",
    "    # Check model progress and store checkpoints\n",
    "    best_rmse = float(\"inf\")\n",
    "    best_ckpt_path = os.path.join(CKPT_DIR, f\"best_trial.pt\")\n",
    "\n",
    "    # Run epochs for training with validation at the end of each epoch\n",
    "    for epoch in tqdm(range(epochs), desc=\"Epochs\", leave=False):\n",
    "        # Train for one epoch and update model parameters\n",
    "        model.train()\n",
    "        train_loss = 0.0\n",
    "        for x_batch, y_batch in train_loader:\n",
    "            x_batch, y_batch = x_batch.to(device), y_batch.to(device)\n",
    "            optimizer.zero_grad()\n",
    "            pred = model(x_batch)\n",
    "            loss = loss_fn(pred, y_batch)\n",
    "            loss.backward()\n",
    "            optimizer.step()\n",
    "            train_loss += loss.item() * x_batch.size(0)\n",
    "        train_loss /= len(train_loader.dataset)\n",
    "\n",
    "        # Validate in this epoch for test data without updating model parameters\n",
    "        model.eval()\n",
    "        val_loss = 0.0\n",
    "        preds, trues = [], []\n",
    "        with torch.no_grad():\n",
    "            for x_batch, y_batch in test_loader:\n",
    "                x_batch = x_batch.to(device)\n",
    "                pred = model(x_batch)\n",
    "                val_loss += loss_fn(pred, y_batch.to(device)).item() * x_batch.size(0)\n",
    "                preds.append(pred.cpu().numpy())\n",
    "                trues.append(y_batch.cpu().numpy())\n",
    "        val_loss /= len(test_loader.dataset)\n",
    "\n",
    "        # Get RMSE in original units (invert scaling for y)\n",
    "        y_pred = y_scaler.inverse_transform(np.vstack(preds))\n",
    "        y_true = y_scaler.inverse_transform(np.vstack(trues))\n",
    "        val_rmse = math.sqrt(float(np.mean((y_pred - y_true) ** 2)))\n",
    "\n",
    "        # Report to Optuna\n",
    "        trial.report(val_rmse, step=epoch)\n",
    "        trial.set_user_attr(f\"train_loss_epoch_{epoch}\", float(train_loss))\n",
    "        trial.set_user_attr(f\"val_loss_epoch_{epoch}\", float(val_loss))\n",
    "        trial.set_user_attr(f\"val_rmse_epoch_{epoch}\", val_rmse)\n",
    "        if trial.should_prune():\n",
    "            raise optuna.TrialPruned()\n",
    "\n",
    "        # Store model checkpoint if model improved\n",
    "        if val_rmse < best_rmse:\n",
    "            best_rmse = val_rmse\n",
    "            torch.save(\n",
    "                {\n",
    "                    \"state_dict\": model.state_dict(),\n",
    "                    \"model_params\": {\n",
    "                        \"in_dim\": X_train_t.shape[1],\n",
    "                        \"hidden\": hidden_layers,\n",
    "                        \"dropout\": dropout,\n",
    "                    },\n",
    "                },\n",
    "                best_ckpt_path,\n",
    "            )\n",
    "            trial.set_user_attr(\"best_model_ckpt\", best_ckpt_path)\n",
    "            trial.set_user_attr(\"best_val_rmse\", best_rmse)\n",
    "        \n",
    "    return val_rmse   "
   ]
  },
  {
   "cell_type": "markdown",
   "id": "ea537e7d",
   "metadata": {},
   "source": [
    "### Run training with hyperparameter optimization"
   ]
  },
  {
   "cell_type": "code",
   "execution_count": 16,
   "id": "6ac6dfab",
   "metadata": {},
   "outputs": [
    {
     "data": {
      "application/vnd.jupyter.widget-view+json": {
       "model_id": "c62bc81e12bd4e1887792983fa5dd738",
       "version_major": 2,
       "version_minor": 0
      },
      "text/plain": [
       "Epochs:   0%|          | 0/50 [00:00<?, ?it/s]"
      ]
     },
     "metadata": {},
     "output_type": "display_data"
    },
    {
     "data": {
      "application/vnd.jupyter.widget-view+json": {
       "model_id": "d8fb578912074c1290d427d0e20e73f2",
       "version_major": 2,
       "version_minor": 0
      },
      "text/plain": [
       "Epochs:   0%|          | 0/50 [00:00<?, ?it/s]"
      ]
     },
     "metadata": {},
     "output_type": "display_data"
    },
    {
     "data": {
      "application/vnd.jupyter.widget-view+json": {
       "model_id": "b3fd3a967f894bb39fabf9cc3d4cf9db",
       "version_major": 2,
       "version_minor": 0
      },
      "text/plain": [
       "Epochs:   0%|          | 0/50 [00:00<?, ?it/s]"
      ]
     },
     "metadata": {},
     "output_type": "display_data"
    },
    {
     "data": {
      "application/vnd.jupyter.widget-view+json": {
       "model_id": "b656156f76924d84872e4a957b1547d7",
       "version_major": 2,
       "version_minor": 0
      },
      "text/plain": [
       "Epochs:   0%|          | 0/50 [00:00<?, ?it/s]"
      ]
     },
     "metadata": {},
     "output_type": "display_data"
    },
    {
     "data": {
      "application/vnd.jupyter.widget-view+json": {
       "model_id": "6c11eac1dcb54ba8b4e04a0f09875f8c",
       "version_major": 2,
       "version_minor": 0
      },
      "text/plain": [
       "Epochs:   0%|          | 0/50 [00:00<?, ?it/s]"
      ]
     },
     "metadata": {},
     "output_type": "display_data"
    },
    {
     "data": {
      "application/vnd.jupyter.widget-view+json": {
       "model_id": "4876bce831eb44e4a00b2d3a664729c1",
       "version_major": 2,
       "version_minor": 0
      },
      "text/plain": [
       "Epochs:   0%|          | 0/50 [00:00<?, ?it/s]"
      ]
     },
     "metadata": {},
     "output_type": "display_data"
    },
    {
     "data": {
      "application/vnd.jupyter.widget-view+json": {
       "model_id": "33ccd641f5b94cba80376d17f81ec8a0",
       "version_major": 2,
       "version_minor": 0
      },
      "text/plain": [
       "Epochs:   0%|          | 0/50 [00:00<?, ?it/s]"
      ]
     },
     "metadata": {},
     "output_type": "display_data"
    },
    {
     "data": {
      "application/vnd.jupyter.widget-view+json": {
       "model_id": "a67b2b0f67344fb9a9c013217f355a2a",
       "version_major": 2,
       "version_minor": 0
      },
      "text/plain": [
       "Epochs:   0%|          | 0/50 [00:00<?, ?it/s]"
      ]
     },
     "metadata": {},
     "output_type": "display_data"
    },
    {
     "data": {
      "application/vnd.jupyter.widget-view+json": {
       "model_id": "fc90c4f135914b6c9d6897c5739ab326",
       "version_major": 2,
       "version_minor": 0
      },
      "text/plain": [
       "Epochs:   0%|          | 0/50 [00:00<?, ?it/s]"
      ]
     },
     "metadata": {},
     "output_type": "display_data"
    },
    {
     "data": {
      "application/vnd.jupyter.widget-view+json": {
       "model_id": "5c37eeefe19f449db80c4825be01a4ad",
       "version_major": 2,
       "version_minor": 0
      },
      "text/plain": [
       "Epochs:   0%|          | 0/50 [00:00<?, ?it/s]"
      ]
     },
     "metadata": {},
     "output_type": "display_data"
    },
    {
     "data": {
      "application/vnd.jupyter.widget-view+json": {
       "model_id": "f65cde6fe10044f5bc279a9249de9db9",
       "version_major": 2,
       "version_minor": 0
      },
      "text/plain": [
       "Epochs:   0%|          | 0/50 [00:00<?, ?it/s]"
      ]
     },
     "metadata": {},
     "output_type": "display_data"
    },
    {
     "data": {
      "application/vnd.jupyter.widget-view+json": {
       "model_id": "15acfeec01c54de9a0a86536e44370a9",
       "version_major": 2,
       "version_minor": 0
      },
      "text/plain": [
       "Epochs:   0%|          | 0/50 [00:00<?, ?it/s]"
      ]
     },
     "metadata": {},
     "output_type": "display_data"
    },
    {
     "data": {
      "application/vnd.jupyter.widget-view+json": {
       "model_id": "0e84f1fe8c66448680cc298f6e695eed",
       "version_major": 2,
       "version_minor": 0
      },
      "text/plain": [
       "Epochs:   0%|          | 0/50 [00:00<?, ?it/s]"
      ]
     },
     "metadata": {},
     "output_type": "display_data"
    },
    {
     "data": {
      "application/vnd.jupyter.widget-view+json": {
       "model_id": "3800e6d927904aea9b0ec2af1b24afff",
       "version_major": 2,
       "version_minor": 0
      },
      "text/plain": [
       "Epochs:   0%|          | 0/50 [00:00<?, ?it/s]"
      ]
     },
     "metadata": {},
     "output_type": "display_data"
    },
    {
     "data": {
      "application/vnd.jupyter.widget-view+json": {
       "model_id": "110ed3a1830147bb871e1d2b8a9bbab0",
       "version_major": 2,
       "version_minor": 0
      },
      "text/plain": [
       "Epochs:   0%|          | 0/50 [00:00<?, ?it/s]"
      ]
     },
     "metadata": {},
     "output_type": "display_data"
    },
    {
     "data": {
      "application/vnd.jupyter.widget-view+json": {
       "model_id": "4cd7661899684a8d80ab45abcea8f94e",
       "version_major": 2,
       "version_minor": 0
      },
      "text/plain": [
       "Epochs:   0%|          | 0/50 [00:00<?, ?it/s]"
      ]
     },
     "metadata": {},
     "output_type": "display_data"
    },
    {
     "data": {
      "application/vnd.jupyter.widget-view+json": {
       "model_id": "d0cdbb70736645a7a296691f1638add4",
       "version_major": 2,
       "version_minor": 0
      },
      "text/plain": [
       "Epochs:   0%|          | 0/50 [00:00<?, ?it/s]"
      ]
     },
     "metadata": {},
     "output_type": "display_data"
    },
    {
     "data": {
      "application/vnd.jupyter.widget-view+json": {
       "model_id": "2b24808483f64761ba797f222b39c52f",
       "version_major": 2,
       "version_minor": 0
      },
      "text/plain": [
       "Epochs:   0%|          | 0/50 [00:00<?, ?it/s]"
      ]
     },
     "metadata": {},
     "output_type": "display_data"
    },
    {
     "data": {
      "application/vnd.jupyter.widget-view+json": {
       "model_id": "5265c0276ff640c1a27ae666263637df",
       "version_major": 2,
       "version_minor": 0
      },
      "text/plain": [
       "Epochs:   0%|          | 0/50 [00:00<?, ?it/s]"
      ]
     },
     "metadata": {},
     "output_type": "display_data"
    },
    {
     "data": {
      "application/vnd.jupyter.widget-view+json": {
       "model_id": "65adb8c27ba447168699395ccf439ad7",
       "version_major": 2,
       "version_minor": 0
      },
      "text/plain": [
       "Epochs:   0%|          | 0/50 [00:00<?, ?it/s]"
      ]
     },
     "metadata": {},
     "output_type": "display_data"
    }
   ],
   "source": [
    "# Run model training and hyperparameter optimization with optuna study\n",
    "study = optuna.create_study(direction=\"minimize\")\n",
    "study.optimize(objective, n_trials=20, timeout=600)"
   ]
  },
  {
   "cell_type": "markdown",
   "id": "37f7ee5a",
   "metadata": {},
   "source": [
    "## Evaluate model"
   ]
  },
  {
   "cell_type": "code",
   "execution_count": 17,
   "id": "9dea3373",
   "metadata": {},
   "outputs": [
    {
     "data": {
      "text/plain": [
       "'Params:'"
      ]
     },
     "metadata": {},
     "output_type": "display_data"
    },
    {
     "data": {
      "text/plain": [
       "{'hidden_layers_idx': 1,\n",
       " 'dropout': 0.08436995612384487,\n",
       " 'lr': 0.0027353884778077557,\n",
       " 'weight_decay': 1.3565682991643851e-06,\n",
       " 'batch_size': 16}"
      ]
     },
     "metadata": {},
     "output_type": "display_data"
    },
    {
     "name": "stdout",
     "output_type": "stream",
     "text": [
      "Best RMSE: 2.367166953422588\n"
     ]
    }
   ],
   "source": [
    "best_trial = study.best_trial\n",
    "best_params = best_trial.params\n",
    "display(\"Params:\", best_params)\n",
    "print(\"Best RMSE:\", best_trial.value)"
   ]
  },
  {
   "cell_type": "code",
   "execution_count": 18,
   "id": "cb4e374a",
   "metadata": {},
   "outputs": [],
   "source": [
    "# Get all trials as DataFrame\n",
    "df_all = study.trials_dataframe()\n",
    "\n",
    "# Get best trial and its attributes\n",
    "df_best = df_all[df_all[\"number\"] == study.best_trial.number]\n",
    "attrs = best_trial.user_attrs"
   ]
  },
  {
   "cell_type": "code",
   "execution_count": 19,
   "id": "26568eca",
   "metadata": {},
   "outputs": [
    {
     "name": "stdout",
     "output_type": "stream",
     "text": [
      "       train_loss  val_loss  val_rmse_orig\n",
      "epoch                                     \n",
      "0        0.212837  0.057968       7.368030\n",
      "1        0.062150  0.028728       5.186882\n",
      "2        0.054407  0.024758       4.815195\n",
      "3        0.044266  0.022345       4.574517\n",
      "4        0.037966  0.021755       4.513753\n"
     ]
    }
   ],
   "source": [
    "# Collect metrics per epoch\n",
    "records = []\n",
    "max_epochs = max(\n",
    "    int(k.split(\"_\")[-1]) for k in attrs.keys() if \"epoch\" in k\n",
    ") + 1\n",
    "\n",
    "for epoch in range(max_epochs):\n",
    "    record = {\n",
    "        \"epoch\": epoch,\n",
    "        \"train_loss\": attrs.get(f\"train_loss_epoch_{epoch}\"),\n",
    "        \"val_loss\": attrs.get(f\"val_loss_epoch_{epoch}\"),\n",
    "        \"val_rmse_orig\": attrs.get(f\"val_rmse_epoch_{epoch}\"),\n",
    "    }\n",
    "    if all(v is not None for v in record.values()):\n",
    "        records.append(record)\n",
    "\n",
    "df_epochs = pd.DataFrame(records).set_index(\"epoch\")\n",
    "print(df_epochs.head())"
   ]
  },
  {
   "cell_type": "code",
   "execution_count": 20,
   "id": "8ee2c2a6",
   "metadata": {},
   "outputs": [
    {
     "name": "stdout",
     "output_type": "stream",
     "text": [
      "<class 'pandas.core.frame.DataFrame'>\n",
      "Index: 50 entries, 0 to 49\n",
      "Data columns (total 3 columns):\n",
      " #   Column         Non-Null Count  Dtype  \n",
      "---  ------         --------------  -----  \n",
      " 0   train_loss     50 non-null     float64\n",
      " 1   val_loss       50 non-null     float64\n",
      " 2   val_rmse_orig  50 non-null     float64\n",
      "dtypes: float64(3)\n",
      "memory usage: 1.6 KB\n"
     ]
    },
    {
     "data": {
      "text/plain": [
       "None"
      ]
     },
     "metadata": {},
     "output_type": "display_data"
    },
    {
     "data": {
      "image/png": "[encoded data removed]",
      "text/plain": [
       "<Figure size 640x480 with 1 Axes>"
      ]
     },
     "metadata": {},
     "output_type": "display_data"
    }
   ],
   "source": [
    "# Inspect and plot training history for best trial\n",
    "display(df_epochs.info())\n",
    "df_epochs[['train_loss', 'val_loss']].plot(legend=True)\n",
    "plt.show()"
   ]
  },
  {
   "cell_type": "code",
   "execution_count": 21,
   "id": "eb2a8d83",
   "metadata": {},
   "outputs": [
    {
     "data": {
      "image/png": "[encoded data removed]",
      "text/plain": [
       "<Figure size 640x480 with 1 Axes>"
      ]
     },
     "metadata": {},
     "output_type": "display_data"
    },
    {
     "name": "stdout",
     "output_type": "stream",
     "text": [
      "Best RMSE:  2.367166953422588\n"
     ]
    }
   ],
   "source": [
    "df_epochs.val_rmse_orig.plot(legend=True)\n",
    "plt.show()\n",
    "print(\"Best RMSE: \", df_epochs.val_rmse_orig.min())"
   ]
  },
  {
   "cell_type": "markdown",
   "id": "eafe9f66",
   "metadata": {},
   "source": [
    "## Load pretrained model and predict\n",
    "\n",
    "Now we can load a model with our best parameter settings. We use our checkpoint for this. We finally want to predict on our validation data we sempled at the very beginning."
   ]
  },
  {
   "cell_type": "code",
   "execution_count": 22,
   "id": "b7c15fc1",
   "metadata": {},
   "outputs": [],
   "source": [
    "ckpt_path = best_trial.user_attrs[\"best_model_ckpt\"]\n",
    "ckpt = torch.load(ckpt_path, map_location=device)"
   ]
  },
  {
   "cell_type": "code",
   "execution_count": 23,
   "id": "0f95cc4f",
   "metadata": {},
   "outputs": [
    {
     "data": {
      "text/plain": [
       "('net.0.weight',\n",
       " tensor([[ 1.2998e-01, -5.8599e-02, -9.1701e-03,  ...,  8.2666e-02,\n",
       "          -2.6167e-01, -1.7932e-01],\n",
       "         [ 1.2702e-01,  6.9853e-02, -1.2293e-01,  ...,  1.6299e-02,\n",
       "          -1.6481e-02, -4.8893e-04],\n",
       "         [-1.5479e-02,  1.0947e-01,  6.0697e-01,  ..., -1.0442e-02,\n",
       "          -1.9027e-01,  2.7875e-03],\n",
       "         ...,\n",
       "         [ 1.3420e-01, -5.1409e-02,  9.5353e-03,  ..., -7.1964e-02,\n",
       "          -7.3765e-02, -5.6624e-02],\n",
       "         [-2.4891e-01, -2.2578e-01,  4.7792e-01,  ..., -2.1212e-01,\n",
       "           1.6324e-01,  2.6180e-03],\n",
       "         [-1.8884e-01, -3.5862e-02, -1.8236e-01,  ..., -1.3896e-01,\n",
       "          -5.1755e-02, -2.4016e-03]]))"
      ]
     },
     "execution_count": 23,
     "metadata": {},
     "output_type": "execute_result"
    }
   ],
   "source": [
    "# Our checkpoint contains the state dict with the trained model parameters\n",
    "list(ckpt[\"state_dict\"].items())[0]"
   ]
  },
  {
   "cell_type": "code",
   "execution_count": 24,
   "id": "b126f639",
   "metadata": {},
   "outputs": [
    {
     "data": {
      "text/plain": [
       "MLPRegressorTorch(\n",
       "  (net): Sequential(\n",
       "    (0): Linear(in_features=16, out_features=128, bias=True)\n",
       "    (1): ReLU()\n",
       "    (2): Dropout(p=0.03769065706514282, inplace=False)\n",
       "    (3): Linear(in_features=128, out_features=64, bias=True)\n",
       "    (4): ReLU()\n",
       "    (5): Dropout(p=0.03769065706514282, inplace=False)\n",
       "    (6): Linear(in_features=64, out_features=1, bias=True)\n",
       "  )\n",
       ")"
      ]
     },
     "execution_count": 24,
     "metadata": {},
     "output_type": "execute_result"
    }
   ],
   "source": [
    "best_model = MLPRegressorTorch(\n",
    "    in_dim=ckpt[\"model_params\"][\"in_dim\"],\n",
    "    hidden=ckpt[\"model_params\"][\"hidden\"],\n",
    "    dropout=ckpt[\"model_params\"][\"dropout\"],\n",
    ").to(device)\n",
    "best_model.load_state_dict(ckpt[\"state_dict\"])\n",
    "best_model.eval()"
   ]
  },
  {
   "cell_type": "code",
   "execution_count": 25,
   "id": "bc80b2a4",
   "metadata": {},
   "outputs": [],
   "source": [
    "# Separate features and target\n",
    "X_val = df_val.drop(columns=[\"energy\"])\n",
    "y_val = df_val[\"energy\"]\n",
    "\n",
    "# Apply same scaler(s) used for training\n",
    "X_val_t = x_preprocessor.transform(X_val)\n",
    "y_val_t = y_scaler.transform(y_val.values.reshape(-1, 1))\n",
    "\n",
    "# Convert to torch tensors\n",
    "X_val_ts = torch.tensor(X_val_t, dtype=torch.float32).to(device)\n",
    "y_val_ts = torch.tensor(y_val_t, dtype=torch.float32).to(device)"
   ]
  },
  {
   "cell_type": "code",
   "execution_count": 26,
   "id": "7eba612a",
   "metadata": {},
   "outputs": [],
   "source": [
    "with torch.no_grad():\n",
    "    y_pred_t = best_model(X_val_ts).cpu().numpy()\n",
    "\n",
    "# Invert scaling for predictions and targets\n",
    "y_pred = y_scaler.inverse_transform(y_pred_t)\n",
    "y_true = y_scaler.inverse_transform(y_val_ts.cpu().numpy())"
   ]
  },
  {
   "cell_type": "code",
   "execution_count": 27,
   "id": "977f29a1",
   "metadata": {},
   "outputs": [
    {
     "name": "stdout",
     "output_type": "stream",
     "text": [
      "RMSE on validation sample: 2.065\n",
      "R2-score on validation sample: 0.994\n"
     ]
    }
   ],
   "source": [
    "# Validate with regression metrics\n",
    "from sklearn.metrics import mean_squared_error, r2_score\n",
    "\n",
    "rmse = np.sqrt(mean_squared_error(y_true, y_pred))\n",
    "r2   = r2_score(y_true, y_pred)\n",
    "\n",
    "print(f\"RMSE on validation sample: {rmse:.3f}\")\n",
    "print(f\"R2-score on validation sample: {r2:.3f}\")"
   ]
  },
  {
   "cell_type": "code",
   "execution_count": 28,
   "id": "034c4713",
   "metadata": {},
   "outputs": [
    {
     "data": {
      "image/png": "[encoded data removed]",
      "text/plain": [
       "<Figure size 640x480 with 1 Axes>"
      ]
     },
     "metadata": {},
     "output_type": "display_data"
    }
   ],
   "source": [
    "# Plot predictions vs true values\n",
    "plt.scatter(y_true, y_pred, alpha=0.6)\n",
    "plt.title(\"Model predictions vs. true values (validation set)\")\n",
    "plt.xlabel(\"True values\")\n",
    "plt.ylabel(\"Predicted values\")\n",
    "plt.plot(\n",
    "    [y_true.min(), y_true.max()], \n",
    "    [y_true.min(), y_true.max()], \n",
    "    \"r--\", label=\"Perfect regression line\")\n",
    "plt.legend()\n",
    "plt.show()"
   ]
  }
 ],
 "metadata": {
  "kernelspec": {
   "display_name": "Python 3 (ipykernel)",
   "language": "python",
   "name": "python3"
  },
  "language_info": {
   "codemirror_mode": {
    "name": "ipython",
    "version": 3
   },
   "file_extension": ".py",
   "mimetype": "text/x-python",
   "name": "python",
   "nbconvert_exporter": "python",
   "pygments_lexer": "ipython3",
   "version": "3.10.4"
  }
 },
 "nbformat": 4,
 "nbformat_minor": 5
}
