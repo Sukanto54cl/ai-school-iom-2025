{
 "cells": [
  {
   "cell_type": "markdown",
   "id": "9d8e7d44",
   "metadata": {},
   "source": [
    "# Train a Neural Network for Regression\n",
    "\n",
    "This practical session will cover the building and training of a neural network with [pytorch](https://docs.pytorch.org/tutorials/intro.html) and with [optuna](https://optuna.readthedocs.io/en/stable/index.html).\n",
    "\n",
    "We want to work on the regression problem with the \"HB energy\" data to be able to compare the training process and prediction results."
   ]
  },
  {
   "cell_type": "markdown",
   "id": "b1aa238b",
   "metadata": {},
   "source": [
    "## Data preprocessing"
   ]
  },
  {
   "cell_type": "code",
   "execution_count": 1,
   "id": "ece4a826",
   "metadata": {},
   "outputs": [],
   "source": [
    "import numpy as np\n",
    "import pandas as pd\n",
    "import matplotlib.pyplot as plt\n",
    "import math\n",
    "\n",
    "from sklearn.model_selection import train_test_split\n",
    "from sklearn.compose import ColumnTransformer\n",
    "from sklearn.preprocessing import OneHotEncoder, StandardScaler"
   ]
  },
  {
   "cell_type": "markdown",
   "id": "b929249c",
   "metadata": {},
   "source": [
    "### Load and inspect data"
   ]
  },
  {
   "cell_type": "code",
   "execution_count": 2,
   "id": "4d3fdb31",
   "metadata": {},
   "outputs": [
    {
     "data": {
      "text/html": [
       "<div>\n",
       "<style scoped>\n",
       "    .dataframe tbody tr th:only-of-type {\n",
       "        vertical-align: middle;\n",
       "    }\n",
       "\n",
       "    .dataframe tbody tr th {\n",
       "        vertical-align: top;\n",
       "    }\n",
       "\n",
       "    .dataframe thead th {\n",
       "        text-align: right;\n",
       "    }\n",
       "</style>\n",
       "<table border=\"1\" class=\"dataframe\">\n",
       "  <thead>\n",
       "    <tr style=\"text-align: right;\">\n",
       "      <th></th>\n",
       "      <th>energy</th>\n",
       "      <th>bo-acc</th>\n",
       "      <th>bo-donor</th>\n",
       "      <th>q-acc</th>\n",
       "      <th>q-donor</th>\n",
       "      <th>q-hatom</th>\n",
       "      <th>dist-dh</th>\n",
       "      <th>dist-ah</th>\n",
       "      <th>atomtype-acc</th>\n",
       "      <th>atomtype-don</th>\n",
       "    </tr>\n",
       "  </thead>\n",
       "  <tbody>\n",
       "    <tr>\n",
       "      <th>1628</th>\n",
       "      <td>-16.2384</td>\n",
       "      <td>0.0392</td>\n",
       "      <td>0.9798</td>\n",
       "      <td>-0.171865</td>\n",
       "      <td>-0.027486</td>\n",
       "      <td>0.064607</td>\n",
       "      <td>1.008853</td>\n",
       "      <td>2.491147</td>\n",
       "      <td>O</td>\n",
       "      <td>N</td>\n",
       "    </tr>\n",
       "    <tr>\n",
       "      <th>1629</th>\n",
       "      <td>-24.9033</td>\n",
       "      <td>0.1690</td>\n",
       "      <td>1.0993</td>\n",
       "      <td>-0.191174</td>\n",
       "      <td>-0.183888</td>\n",
       "      <td>0.029836</td>\n",
       "      <td>0.973936</td>\n",
       "      <td>1.726064</td>\n",
       "      <td>O</td>\n",
       "      <td>O</td>\n",
       "    </tr>\n",
       "    <tr>\n",
       "      <th>1630</th>\n",
       "      <td>-26.4679</td>\n",
       "      <td>0.1395</td>\n",
       "      <td>1.1069</td>\n",
       "      <td>-0.198331</td>\n",
       "      <td>-0.180041</td>\n",
       "      <td>0.039182</td>\n",
       "      <td>0.973682</td>\n",
       "      <td>1.826318</td>\n",
       "      <td>O</td>\n",
       "      <td>O</td>\n",
       "    </tr>\n",
       "    <tr>\n",
       "      <th>1631</th>\n",
       "      <td>-26.5155</td>\n",
       "      <td>0.1166</td>\n",
       "      <td>1.1137</td>\n",
       "      <td>-0.203101</td>\n",
       "      <td>-0.176368</td>\n",
       "      <td>0.045722</td>\n",
       "      <td>0.973062</td>\n",
       "      <td>1.926938</td>\n",
       "      <td>O</td>\n",
       "      <td>O</td>\n",
       "    </tr>\n",
       "    <tr>\n",
       "      <th>1632</th>\n",
       "      <td>-25.5760</td>\n",
       "      <td>0.0982</td>\n",
       "      <td>1.1196</td>\n",
       "      <td>-0.206464</td>\n",
       "      <td>-0.172994</td>\n",
       "      <td>0.050628</td>\n",
       "      <td>0.972319</td>\n",
       "      <td>2.027681</td>\n",
       "      <td>O</td>\n",
       "      <td>O</td>\n",
       "    </tr>\n",
       "    <tr>\n",
       "      <th>1633</th>\n",
       "      <td>-24.1264</td>\n",
       "      <td>0.0832</td>\n",
       "      <td>1.1248</td>\n",
       "      <td>-0.208975</td>\n",
       "      <td>-0.169954</td>\n",
       "      <td>0.054530</td>\n",
       "      <td>0.971506</td>\n",
       "      <td>2.128494</td>\n",
       "      <td>O</td>\n",
       "      <td>O</td>\n",
       "    </tr>\n",
       "    <tr>\n",
       "      <th>1634</th>\n",
       "      <td>-22.4911</td>\n",
       "      <td>0.0707</td>\n",
       "      <td>1.1291</td>\n",
       "      <td>-0.210940</td>\n",
       "      <td>-0.167299</td>\n",
       "      <td>0.057801</td>\n",
       "      <td>0.970708</td>\n",
       "      <td>2.229292</td>\n",
       "      <td>O</td>\n",
       "      <td>O</td>\n",
       "    </tr>\n",
       "    <tr>\n",
       "      <th>1635</th>\n",
       "      <td>-20.7796</td>\n",
       "      <td>0.0599</td>\n",
       "      <td>1.1329</td>\n",
       "      <td>-0.212591</td>\n",
       "      <td>-0.164774</td>\n",
       "      <td>0.060660</td>\n",
       "      <td>0.969920</td>\n",
       "      <td>2.330080</td>\n",
       "      <td>O</td>\n",
       "      <td>O</td>\n",
       "    </tr>\n",
       "    <tr>\n",
       "      <th>1636</th>\n",
       "      <td>-18.6559</td>\n",
       "      <td>0.0506</td>\n",
       "      <td>1.1361</td>\n",
       "      <td>-0.213856</td>\n",
       "      <td>-0.162590</td>\n",
       "      <td>0.063149</td>\n",
       "      <td>0.969171</td>\n",
       "      <td>2.430829</td>\n",
       "      <td>O</td>\n",
       "      <td>O</td>\n",
       "    </tr>\n",
       "    <tr>\n",
       "      <th>1637</th>\n",
       "      <td>-17.0634</td>\n",
       "      <td>0.0433</td>\n",
       "      <td>1.1385</td>\n",
       "      <td>-0.214541</td>\n",
       "      <td>-0.160926</td>\n",
       "      <td>0.065275</td>\n",
       "      <td>0.968484</td>\n",
       "      <td>2.531516</td>\n",
       "      <td>O</td>\n",
       "      <td>O</td>\n",
       "    </tr>\n",
       "  </tbody>\n",
       "</table>\n",
       "</div>"
      ],
      "text/plain": [
       "       energy  bo-acc  bo-donor     q-acc   q-donor   q-hatom   dist-dh  \\\n",
       "1628 -16.2384  0.0392    0.9798 -0.171865 -0.027486  0.064607  1.008853   \n",
       "1629 -24.9033  0.1690    1.0993 -0.191174 -0.183888  0.029836  0.973936   \n",
       "1630 -26.4679  0.1395    1.1069 -0.198331 -0.180041  0.039182  0.973682   \n",
       "1631 -26.5155  0.1166    1.1137 -0.203101 -0.176368  0.045722  0.973062   \n",
       "1632 -25.5760  0.0982    1.1196 -0.206464 -0.172994  0.050628  0.972319   \n",
       "1633 -24.1264  0.0832    1.1248 -0.208975 -0.169954  0.054530  0.971506   \n",
       "1634 -22.4911  0.0707    1.1291 -0.210940 -0.167299  0.057801  0.970708   \n",
       "1635 -20.7796  0.0599    1.1329 -0.212591 -0.164774  0.060660  0.969920   \n",
       "1636 -18.6559  0.0506    1.1361 -0.213856 -0.162590  0.063149  0.969171   \n",
       "1637 -17.0634  0.0433    1.1385 -0.214541 -0.160926  0.065275  0.968484   \n",
       "\n",
       "       dist-ah atomtype-acc atomtype-don  \n",
       "1628  2.491147            O            N  \n",
       "1629  1.726064            O            O  \n",
       "1630  1.826318            O            O  \n",
       "1631  1.926938            O            O  \n",
       "1632  2.027681            O            O  \n",
       "1633  2.128494            O            O  \n",
       "1634  2.229292            O            O  \n",
       "1635  2.330080            O            O  \n",
       "1636  2.430829            O            O  \n",
       "1637  2.531516            O            O  "
      ]
     },
     "metadata": {},
     "output_type": "display_data"
    },
    {
     "name": "stdout",
     "output_type": "stream",
     "text": [
      "<class 'pandas.core.frame.DataFrame'>\n",
      "RangeIndex: 1638 entries, 0 to 1637\n",
      "Data columns (total 10 columns):\n",
      " #   Column        Non-Null Count  Dtype  \n",
      "---  ------        --------------  -----  \n",
      " 0   energy        1638 non-null   float64\n",
      " 1   bo-acc        1638 non-null   float64\n",
      " 2   bo-donor      1638 non-null   float64\n",
      " 3   q-acc         1638 non-null   float64\n",
      " 4   q-donor       1638 non-null   float64\n",
      " 5   q-hatom       1638 non-null   float64\n",
      " 6   dist-dh       1638 non-null   float64\n",
      " 7   dist-ah       1638 non-null   float64\n",
      " 8   atomtype-acc  1638 non-null   object \n",
      " 9   atomtype-don  1638 non-null   object \n",
      "dtypes: float64(8), object(2)\n",
      "memory usage: 128.1+ KB\n",
      "None\n",
      "Missing values: 0\n"
     ]
    }
   ],
   "source": [
    "df = pd.read_csv('data/HB_data.csv', sep=',')\n",
    "display(df.tail(10))\n",
    "print(df.info())\n",
    "print('Missing values:', df.isnull().sum().sum())"
   ]
  },
  {
   "cell_type": "markdown",
   "id": "22a58838",
   "metadata": {},
   "source": [
    "### Prepare train and test data\n",
    "\n",
    "We will apply nearly the same preprocessing steps we've alreday seen in the regression session in day 1."
   ]
  },
  {
   "cell_type": "code",
   "execution_count": 3,
   "id": "5fee5a96",
   "metadata": {},
   "outputs": [],
   "source": [
    "# Separate features and target\n",
    "target_col = \"energy\"\n",
    "\n",
    "X = df.drop(columns=[target_col])\n",
    "# We need y to be a 2-D array (n_samples x n_features)\n",
    "y = df[target_col].to_numpy().reshape(-1, 1)"
   ]
  },
  {
   "cell_type": "code",
   "execution_count": 4,
   "id": "d065d633",
   "metadata": {},
   "outputs": [],
   "source": [
    "# Get train and test splits\n",
    "X_train, X_test, y_train, y_test = train_test_split(X, y, test_size=0.2, random_state=42)"
   ]
  },
  {
   "cell_type": "code",
   "execution_count": 5,
   "id": "b0555a6f",
   "metadata": {},
   "outputs": [
    {
     "name": "stdout",
     "output_type": "stream",
     "text": [
      "X_train:  (1310, 16)\n",
      "X_test:   (328, 16)\n",
      "y_train:  (1310, 1)\n",
      "y_test:   (328, 1)\n"
     ]
    },
    {
     "data": {
      "text/html": [
       "<div>\n",
       "<style scoped>\n",
       "    .dataframe tbody tr th:only-of-type {\n",
       "        vertical-align: middle;\n",
       "    }\n",
       "\n",
       "    .dataframe tbody tr th {\n",
       "        vertical-align: top;\n",
       "    }\n",
       "\n",
       "    .dataframe thead th {\n",
       "        text-align: right;\n",
       "    }\n",
       "</style>\n",
       "<table border=\"1\" class=\"dataframe\">\n",
       "  <thead>\n",
       "    <tr style=\"text-align: right;\">\n",
       "      <th></th>\n",
       "      <th>num__bo-acc</th>\n",
       "      <th>num__bo-donor</th>\n",
       "      <th>num__q-acc</th>\n",
       "      <th>num__q-donor</th>\n",
       "      <th>num__q-hatom</th>\n",
       "      <th>num__dist-dh</th>\n",
       "      <th>num__dist-ah</th>\n",
       "      <th>cat__atomtype-acc_Cl</th>\n",
       "      <th>cat__atomtype-acc_F</th>\n",
       "      <th>cat__atomtype-acc_N</th>\n",
       "      <th>cat__atomtype-acc_O</th>\n",
       "      <th>cat__atomtype-acc_S</th>\n",
       "      <th>cat__atomtype-don_F</th>\n",
       "      <th>cat__atomtype-don_N</th>\n",
       "      <th>cat__atomtype-don_O</th>\n",
       "      <th>cat__atomtype-don_S</th>\n",
       "    </tr>\n",
       "  </thead>\n",
       "  <tbody>\n",
       "    <tr>\n",
       "      <th>0</th>\n",
       "      <td>1.528941</td>\n",
       "      <td>1.085590</td>\n",
       "      <td>1.302776</td>\n",
       "      <td>-1.044430</td>\n",
       "      <td>-1.755071</td>\n",
       "      <td>-0.695289</td>\n",
       "      <td>-0.405888</td>\n",
       "      <td>0.0</td>\n",
       "      <td>0.0</td>\n",
       "      <td>0.0</td>\n",
       "      <td>0.0</td>\n",
       "      <td>1.0</td>\n",
       "      <td>0.0</td>\n",
       "      <td>0.0</td>\n",
       "      <td>1.0</td>\n",
       "      <td>0.0</td>\n",
       "    </tr>\n",
       "    <tr>\n",
       "      <th>1</th>\n",
       "      <td>0.440623</td>\n",
       "      <td>-1.342533</td>\n",
       "      <td>-0.432635</td>\n",
       "      <td>1.960155</td>\n",
       "      <td>1.517928</td>\n",
       "      <td>0.116373</td>\n",
       "      <td>-1.061508</td>\n",
       "      <td>0.0</td>\n",
       "      <td>0.0</td>\n",
       "      <td>0.0</td>\n",
       "      <td>1.0</td>\n",
       "      <td>0.0</td>\n",
       "      <td>0.0</td>\n",
       "      <td>1.0</td>\n",
       "      <td>0.0</td>\n",
       "      <td>0.0</td>\n",
       "    </tr>\n",
       "    <tr>\n",
       "      <th>2</th>\n",
       "      <td>0.949121</td>\n",
       "      <td>0.945702</td>\n",
       "      <td>1.456768</td>\n",
       "      <td>-1.074853</td>\n",
       "      <td>-1.244247</td>\n",
       "      <td>-0.649960</td>\n",
       "      <td>-0.078786</td>\n",
       "      <td>0.0</td>\n",
       "      <td>0.0</td>\n",
       "      <td>0.0</td>\n",
       "      <td>0.0</td>\n",
       "      <td>1.0</td>\n",
       "      <td>0.0</td>\n",
       "      <td>0.0</td>\n",
       "      <td>1.0</td>\n",
       "      <td>0.0</td>\n",
       "    </tr>\n",
       "    <tr>\n",
       "      <th>3</th>\n",
       "      <td>0.517228</td>\n",
       "      <td>0.568121</td>\n",
       "      <td>-0.897550</td>\n",
       "      <td>-1.268309</td>\n",
       "      <td>0.114001</td>\n",
       "      <td>-0.418482</td>\n",
       "      <td>-0.856478</td>\n",
       "      <td>0.0</td>\n",
       "      <td>0.0</td>\n",
       "      <td>0.0</td>\n",
       "      <td>1.0</td>\n",
       "      <td>0.0</td>\n",
       "      <td>0.0</td>\n",
       "      <td>0.0</td>\n",
       "      <td>1.0</td>\n",
       "      <td>0.0</td>\n",
       "    </tr>\n",
       "    <tr>\n",
       "      <th>4</th>\n",
       "      <td>-1.014869</td>\n",
       "      <td>0.803541</td>\n",
       "      <td>-0.243681</td>\n",
       "      <td>-0.295638</td>\n",
       "      <td>0.791833</td>\n",
       "      <td>-0.634377</td>\n",
       "      <td>0.604197</td>\n",
       "      <td>0.0</td>\n",
       "      <td>0.0</td>\n",
       "      <td>0.0</td>\n",
       "      <td>1.0</td>\n",
       "      <td>0.0</td>\n",
       "      <td>0.0</td>\n",
       "      <td>0.0</td>\n",
       "      <td>1.0</td>\n",
       "      <td>0.0</td>\n",
       "    </tr>\n",
       "  </tbody>\n",
       "</table>\n",
       "</div>"
      ],
      "text/plain": [
       "   num__bo-acc  num__bo-donor  num__q-acc  num__q-donor  num__q-hatom  \\\n",
       "0     1.528941       1.085590    1.302776     -1.044430     -1.755071   \n",
       "1     0.440623      -1.342533   -0.432635      1.960155      1.517928   \n",
       "2     0.949121       0.945702    1.456768     -1.074853     -1.244247   \n",
       "3     0.517228       0.568121   -0.897550     -1.268309      0.114001   \n",
       "4    -1.014869       0.803541   -0.243681     -0.295638      0.791833   \n",
       "\n",
       "   num__dist-dh  num__dist-ah  cat__atomtype-acc_Cl  cat__atomtype-acc_F  \\\n",
       "0     -0.695289     -0.405888                   0.0                  0.0   \n",
       "1      0.116373     -1.061508                   0.0                  0.0   \n",
       "2     -0.649960     -0.078786                   0.0                  0.0   \n",
       "3     -0.418482     -0.856478                   0.0                  0.0   \n",
       "4     -0.634377      0.604197                   0.0                  0.0   \n",
       "\n",
       "   cat__atomtype-acc_N  cat__atomtype-acc_O  cat__atomtype-acc_S  \\\n",
       "0                  0.0                  0.0                  1.0   \n",
       "1                  0.0                  1.0                  0.0   \n",
       "2                  0.0                  0.0                  1.0   \n",
       "3                  0.0                  1.0                  0.0   \n",
       "4                  0.0                  1.0                  0.0   \n",
       "\n",
       "   cat__atomtype-don_F  cat__atomtype-don_N  cat__atomtype-don_O  \\\n",
       "0                  0.0                  0.0                  1.0   \n",
       "1                  0.0                  1.0                  0.0   \n",
       "2                  0.0                  0.0                  1.0   \n",
       "3                  0.0                  0.0                  1.0   \n",
       "4                  0.0                  0.0                  1.0   \n",
       "\n",
       "   cat__atomtype-don_S  \n",
       "0                  0.0  \n",
       "1                  0.0  \n",
       "2                  0.0  \n",
       "3                  0.0  \n",
       "4                  0.0  "
      ]
     },
     "metadata": {},
     "output_type": "display_data"
    }
   ],
   "source": [
    "# Preprocess and transform features\n",
    "numeric_features = X.select_dtypes(include=[\"number\"]).columns.tolist()\n",
    "categorical_features = X.select_dtypes(include=[\"object\"]).columns.tolist()\n",
    "\n",
    "# Define scaling and encoding for X\n",
    "x_preprocessor = ColumnTransformer(\n",
    "    transformers=[\n",
    "        (\"num\", StandardScaler(), numeric_features),\n",
    "        (\"cat\", OneHotEncoder(handle_unknown=\"ignore\", sparse_output=False), categorical_features),\n",
    "    ],\n",
    "    remainder=\"drop\",\n",
    ")\n",
    "# Define scaling for y\n",
    "y_scaler = StandardScaler()\n",
    "\n",
    "# Fit scaling for X on train data only, apply (transform) scaling to both train and test\n",
    "X_train_t = x_preprocessor.fit_transform(X_train)\n",
    "X_test_t = x_preprocessor.transform(X_test)\n",
    "\n",
    "# Fit scaling for y on train data only, apply (transform) scaling to both train and test\n",
    "y_train_t = y_scaler.fit_transform(y_train)\n",
    "y_test_t = y_scaler.transform(y_test)\n",
    "\n",
    "# Get transformed feature names (handy for inspection)\n",
    "feat_names = x_preprocessor.get_feature_names_out()\n",
    "    \n",
    "# Inspect transformed data\n",
    "print(\"X_train: \", X_train_t.shape)\n",
    "print(\"X_test:  \", X_test_t.shape)\n",
    "print(\"y_train: \", y_train_t.shape)\n",
    "print(\"y_test:  \", y_test_t.shape)\n",
    "display(pd.DataFrame(X_train_t, columns=feat_names).head(5))"
   ]
  },
  {
   "cell_type": "markdown",
   "id": "d2008a63",
   "metadata": {},
   "source": [
    "## Build and train model with PyTorch"
   ]
  },
  {
   "cell_type": "code",
   "execution_count": 6,
   "id": "24237321",
   "metadata": {},
   "outputs": [],
   "source": [
    "import torch\n",
    "import torch.nn as nn\n",
    "from torch.utils.data import TensorDataset, DataLoader\n",
    "import torch.optim as optim\n",
    "from tqdm.auto import tqdm\n",
    "\n",
    "import optuna\n",
    "import logging\n",
    "optuna.logging.set_verbosity(optuna.logging.WARNING)"
   ]
  },
  {
   "cell_type": "code",
   "execution_count": 7,
   "id": "31ddb35a",
   "metadata": {},
   "outputs": [
    {
     "name": "stdout",
     "output_type": "stream",
     "text": [
      "Using device: cpu\n"
     ]
    }
   ],
   "source": [
    "# Check if GPU is available to be used with pytorch\n",
    "device = torch.device(\"cuda\" if torch.cuda.is_available() else \"cpu\")\n",
    "print(f\"Using device: {device}\")"
   ]
  },
  {
   "cell_type": "markdown",
   "id": "5bcb7087",
   "metadata": {},
   "source": [
    "### Define objects for model and training process"
   ]
  },
  {
   "cell_type": "code",
   "execution_count": 8,
   "id": "9c441c6f",
   "metadata": {},
   "outputs": [],
   "source": [
    "# Define the model with a parameterizable architecture\n",
    "class MLPRegressorTorch(nn.Module):\n",
    "    def __init__(self, in_dim, hidden=(64, 32), dropout=0.1):\n",
    "        super().__init__()\n",
    "        layers = []\n",
    "        prev = in_dim\n",
    "        for h in hidden:\n",
    "            layers += [\n",
    "                nn.Linear(prev, h), # fully connected layer from prev inputs to h outputs\n",
    "                nn.ReLU(), # non-linear activation with rectified linear unit\n",
    "                nn.Dropout(dropout) # regularization: randomly zeroes activations with probability dropout\n",
    "                ]\n",
    "            prev = h\n",
    "        layers += [nn.Linear(prev, 1)] # Regression output with a single neuron for continuous value\n",
    "        self.net = nn.Sequential(*layers)\n",
    "\n",
    "    def forward(self, x): \n",
    "        return self.net(x)"
   ]
  },
  {
   "cell_type": "code",
   "execution_count": 9,
   "id": "4f92d42a",
   "metadata": {},
   "outputs": [],
   "source": [
    "# Define function to create pytorch data loaders\n",
    "def make_loaders(X_train_t, y_train_t, X_test_t, y_test_t, batch_size):\n",
    "    # Convert data (numpy arrays) to torch tensors\n",
    "    X_train_ts = torch.tensor(X_train_t, dtype=torch.float32)\n",
    "    y_train_ts = torch.tensor(y_train_t, dtype=torch.float32)\n",
    "    X_test_ts = torch.tensor(X_test_t, dtype=torch.float32)\n",
    "    y_test_ts = torch.tensor(y_test_t, dtype=torch.float32)\n",
    "    # Build torch dataset and dataloader for batches\n",
    "    train_loader = DataLoader(TensorDataset(X_train_ts, y_train_ts), batch_size=batch_size, shuffle=True)\n",
    "    test_loader = DataLoader(TensorDataset(X_test_ts, y_test_ts), batch_size=batch_size, shuffle=False)\n",
    "\n",
    "    return train_loader, test_loader"
   ]
  },
  {
   "cell_type": "code",
   "execution_count": 10,
   "id": "8f1ae9f4",
   "metadata": {},
   "outputs": [],
   "source": [
    "# Define function for training loop with hyperparameter configuration\n",
    "def objective(trial):\n",
    "    # Define hyperparameter search space for optuna\n",
    "    hidden_layers_list = [(256, 128, 64), (128, 64), (64, 32), (64,)]\n",
    "    idx = trial.suggest_int(\"hidden_layers_idx\", 0, len(hidden_layers_list)-1)\n",
    "    hidden_layers = hidden_layers_list[idx]\n",
    "    dropout = trial.suggest_float(\"dropout\", 0.0, 0.3)\n",
    "    lr = trial.suggest_float(\"lr\", 5e-4, 3e-3, log=True)\n",
    "    weight_decay = trial.suggest_float(\"weight_decay\", 1e-6, 1e-3, log=True)\n",
    "    batch_size = trial.suggest_categorical(\"batch_size\", [16, 32, 64, 128, 256])\n",
    "    epochs = 50\n",
    "\n",
    "    # Get data loaders for train and test data\n",
    "    train_loader, test_loader = make_loaders(X_train_t, y_train_t, X_test_t, y_test_t, batch_size)\n",
    "\n",
    "    # Initialise model and put to device (CPU or GPU)\n",
    "    model = MLPRegressorTorch(\n",
    "        in_dim=X_train_t.shape[1],\n",
    "        hidden=hidden_layers,\n",
    "        dropout=dropout\n",
    "        ).to(device)\n",
    "    # Define optimizer: Adam with weight decay (L2 regularization)\n",
    "    optimizer = optim.Adam(model.parameters(), lr=lr, weight_decay=weight_decay)\n",
    "    # Define loss function: Mean Squared Error\n",
    "    loss_fn = nn.MSELoss()\n",
    "    \n",
    "    # Run epochs for training with validation at the end of each epoch\n",
    "    for epoch in tqdm(range(epochs), desc=\"Epochs\", leave=False):\n",
    "        # Train with model updates\n",
    "        model.train()\n",
    "        train_loss = 0.0\n",
    "        for x_batch, y_batch in train_loader:\n",
    "            x_batch, y_batch = x_batch.to(device), y_batch.to(device)\n",
    "            optimizer.zero_grad()\n",
    "            pred = model(x_batch)\n",
    "            loss = loss_fn(pred, y_batch)\n",
    "            loss.backward()\n",
    "            optimizer.step()\n",
    "            train_loss += loss.item() * x_batch.size(0)\n",
    "        train_loss /= len(train_loader.dataset)\n",
    "\n",
    "        # Validate for test data without model updates\n",
    "        model.eval()\n",
    "        val_loss = 0.0\n",
    "        preds, trues = [], []\n",
    "        with torch.no_grad():\n",
    "            for x_batch, y_batch in test_loader:\n",
    "                x_batch = x_batch.to(device)\n",
    "                pred = model(x_batch)\n",
    "                val_loss += loss_fn(pred, y_batch.to(device)).item() * x_batch.size(0)\n",
    "                preds.append(pred.cpu().numpy())\n",
    "                trues.append(y_batch.cpu().numpy())\n",
    "        val_loss /= len(test_loader.dataset)\n",
    "\n",
    "        # Get RMSE in original units (invert scaling for y)\n",
    "        y_pred = y_scaler.inverse_transform(np.vstack(preds))\n",
    "        y_true = y_scaler.inverse_transform(np.vstack(trues))\n",
    "        val_rmse = math.sqrt(float(np.mean((y_pred - y_true) ** 2)))\n",
    "\n",
    "        # Report to Optuna\n",
    "        trial.report(val_rmse, step=epoch)\n",
    "        trial.set_user_attr(f\"train_loss_epoch_{epoch}\", float(train_loss))\n",
    "        trial.set_user_attr(f\"val_loss_epoch_{epoch}\", float(val_loss))\n",
    "        trial.set_user_attr(f\"val_rmse_epoch_{epoch}\", val_rmse)\n",
    "        if trial.should_prune():\n",
    "            raise optuna.TrialPruned()\n",
    "        \n",
    "    return val_rmse   "
   ]
  },
  {
   "cell_type": "markdown",
   "id": "ea537e7d",
   "metadata": {},
   "source": [
    "### Run training with hyperparameter optimization"
   ]
  },
  {
   "cell_type": "code",
   "execution_count": null,
   "id": "6ac6dfab",
   "metadata": {},
   "outputs": [],
   "source": [
    "# Run model training and hyperparameter optimization with optuna study\n",
    "study = optuna.create_study(direction=\"minimize\")\n",
    "study.optimize(objective, n_trials=20, timeout=600)"
   ]
  },
  {
   "cell_type": "markdown",
   "id": "37f7ee5a",
   "metadata": {},
   "source": [
    "## Evaluate model"
   ]
  },
  {
   "cell_type": "code",
   "execution_count": 12,
   "id": "9dea3373",
   "metadata": {},
   "outputs": [
    {
     "data": {
      "text/plain": [
       "'Params:'"
      ]
     },
     "metadata": {},
     "output_type": "display_data"
    },
    {
     "data": {
      "text/plain": [
       "{'hidden_layers_idx': 0,\n",
       " 'dropout': 0.007087859540424846,\n",
       " 'lr': 0.0010776365403513469,\n",
       " 'weight_decay': 2.8400326138316148e-06,\n",
       " 'batch_size': 16}"
      ]
     },
     "metadata": {},
     "output_type": "display_data"
    },
    {
     "name": "stdout",
     "output_type": "stream",
     "text": [
      "Best RMSE: 1.7798393419177838\n"
     ]
    }
   ],
   "source": [
    "best_trial = study.best_trial\n",
    "display(\"Params:\", best_trial.params)\n",
    "print(\"Best RMSE:\", best_trial.value)"
   ]
  },
  {
   "cell_type": "code",
   "execution_count": 13,
   "id": "cb4e374a",
   "metadata": {},
   "outputs": [],
   "source": [
    "# Get all trials as DataFrame\n",
    "df_all = study.trials_dataframe()\n",
    "\n",
    "# Get best trial and its attributes\n",
    "df_best = df_all[df_all[\"number\"] == study.best_trial.number]\n",
    "attrs = best_trial.user_attrs"
   ]
  },
  {
   "cell_type": "code",
   "execution_count": 14,
   "id": "26568eca",
   "metadata": {},
   "outputs": [
    {
     "name": "stdout",
     "output_type": "stream",
     "text": [
      "       train_loss  val_loss  val_rmse_orig\n",
      "epoch                                     \n",
      "0        0.221369  0.037140       5.827601\n",
      "1        0.039834  0.034281       5.598833\n",
      "2        0.030917  0.024792       4.761287\n",
      "3        0.026653  0.023000       4.585942\n",
      "4        0.027124  0.023841       4.669043\n"
     ]
    }
   ],
   "source": [
    "# Collect metrics per epoch\n",
    "records = []\n",
    "max_epochs = max(\n",
    "    int(k.split(\"_\")[-1]) for k in attrs.keys() if \"epoch\" in k\n",
    ") + 1\n",
    "\n",
    "for epoch in range(max_epochs):\n",
    "    record = {\n",
    "        \"epoch\": epoch,\n",
    "        \"train_loss\": attrs.get(f\"train_loss_epoch_{epoch}\"),\n",
    "        \"val_loss\": attrs.get(f\"val_loss_epoch_{epoch}\"),\n",
    "        \"val_rmse_orig\": attrs.get(f\"val_rmse_epoch_{epoch}\"),\n",
    "    }\n",
    "    if all(v is not None for v in record.values()):\n",
    "        records.append(record)\n",
    "\n",
    "df_epochs = pd.DataFrame(records).set_index(\"epoch\")\n",
    "print(df_epochs.head())"
   ]
  },
  {
   "cell_type": "code",
   "execution_count": 15,
   "id": "8ee2c2a6",
   "metadata": {},
   "outputs": [
    {
     "name": "stdout",
     "output_type": "stream",
     "text": [
      "<class 'pandas.core.frame.DataFrame'>\n",
      "Index: 50 entries, 0 to 49\n",
      "Data columns (total 3 columns):\n",
      " #   Column         Non-Null Count  Dtype  \n",
      "---  ------         --------------  -----  \n",
      " 0   train_loss     50 non-null     float64\n",
      " 1   val_loss       50 non-null     float64\n",
      " 2   val_rmse_orig  50 non-null     float64\n",
      "dtypes: float64(3)\n",
      "memory usage: 1.6 KB\n"
     ]
    },
    {
     "data": {
      "text/plain": [
       "None"
      ]
     },
     "metadata": {},
     "output_type": "display_data"
    },
    {
     "data": {
      "image/png": "[encoded data removed]",
      "text/plain": [
       "<Figure size 640x480 with 1 Axes>"
      ]
     },
     "metadata": {},
     "output_type": "display_data"
    }
   ],
   "source": [
    "# Inspect and plot training history for best trial\n",
    "display(df_epochs.info())\n",
    "df_epochs[['train_loss', 'val_loss']].plot(legend=True)\n",
    "plt.show()"
   ]
  },
  {
   "cell_type": "code",
   "execution_count": 16,
   "id": "eb2a8d83",
   "metadata": {},
   "outputs": [
    {
     "data": {
      "image/png": "[encoded data removed]",
      "text/plain": [
       "<Figure size 640x480 with 1 Axes>"
      ]
     },
     "metadata": {},
     "output_type": "display_data"
    },
    {
     "name": "stdout",
     "output_type": "stream",
     "text": [
      "Best RMSE:  1.7798393419177838\n"
     ]
    }
   ],
   "source": [
    "df_epochs.val_rmse_orig.plot(legend=True)\n",
    "plt.show()\n",
    "print(\"Best RMSE: \", df_epochs.val_rmse_orig.min())"
   ]
  }
 ],
 "metadata": {
  "kernelspec": {
   "display_name": "iom-env-torch",
   "language": "python",
   "name": "python3"
  },
  "language_info": {
   "codemirror_mode": {
    "name": "ipython",
    "version": 3
   },
   "file_extension": ".py",
   "mimetype": "text/x-python",
   "name": "python",
   "nbconvert_exporter": "python",
   "pygments_lexer": "ipython3",
   "version": "3.10.4"
  }
 },
 "nbformat": 4,
 "nbformat_minor": 5
}
