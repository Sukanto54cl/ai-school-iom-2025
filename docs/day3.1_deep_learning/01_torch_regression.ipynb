{
 "cells": [
  {
   "cell_type": "markdown",
   "id": "9d8e7d44",
   "metadata": {},
   "source": [
    "# Train a Neural Network for Regression"
   ]
  },
  {
   "cell_type": "markdown",
   "id": "eae5e15e",
   "metadata": {},
   "source": []
  }
 ],
 "metadata": {
  "language_info": {
   "name": "python"
  }
 },
 "nbformat": 4,
 "nbformat_minor": 5
}
