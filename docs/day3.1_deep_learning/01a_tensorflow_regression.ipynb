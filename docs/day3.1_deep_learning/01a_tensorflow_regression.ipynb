{
 "cells": [
  {
   "cell_type": "markdown",
   "id": "2a005019",
   "metadata": {},
   "source": [
    "# Train a Neural Network - Alternative with Keras\n",
    "\n",
    "The following cells show how the alternative use of [keras](https://keras.io/) and [tensorflow](https://www.tensorflow.org/) would look like to set up the same model for our regression task."
   ]
  },
  {
   "cell_type": "code",
   "execution_count": 1,
   "id": "44c7a42e",
   "metadata": {},
   "outputs": [],
   "source": [
    "import os\n",
    "import numpy as np\n",
    "import pandas as pd\n",
    "import matplotlib.pyplot as plt\n",
    "import math\n",
    "\n",
    "from sklearn.model_selection import train_test_split\n",
    "from sklearn.compose import ColumnTransformer\n",
    "from sklearn.preprocessing import OneHotEncoder, StandardScaler, MinMaxScaler\n",
    "\n",
    "import tensorflow as tf\n",
    "from tensorflow import keras\n",
    "from tensorflow.keras import layers, regularizers\n",
    "from tensorflow.keras.models import load_model\n",
    "\n",
    "import optuna"
   ]
  },
  {
   "cell_type": "code",
   "execution_count": null,
   "id": "29460ef5",
   "metadata": {},
   "outputs": [],
   "source": [
    "# Tensorflow error handling\n",
    "#tf.config.optimizer.set_jit(False)\n",
    "#tf.config.experimental.enable_op_determinism()\n",
    "#tf.random.set_seed(1)\n",
    "#os.environ[\"CUDA_VISIBLE_DEVICES\"] = \"-1\"\n",
    "tf.config.list_physical_devices()"
   ]
  },
  {
   "cell_type": "markdown",
   "id": "da452710",
   "metadata": {},
   "source": [
    "## Load and prepare data "
   ]
  },
  {
   "cell_type": "code",
   "execution_count": 2,
   "id": "682faf40",
   "metadata": {},
   "outputs": [],
   "source": [
    "df = pd.read_csv('data/HB_data.csv', sep=',')\n",
    "\n",
    "df_val = df.sample(frac=0.05, random_state=42)\n",
    "df_tt = df.drop(df_val.index)\n",
    "\n",
    "target_col = \"energy\"\n",
    "X = df_tt.drop(columns=[target_col])\n",
    "y = df_tt[target_col].to_numpy().reshape(-1, 1)\n",
    "\n",
    "X_train, X_test, y_train, y_test = train_test_split(X, y, test_size=0.2, random_state=42)"
   ]
  },
  {
   "cell_type": "code",
   "execution_count": 3,
   "id": "2c2b8839",
   "metadata": {},
   "outputs": [
    {
     "name": "stdout",
     "output_type": "stream",
     "text": [
      "X_train:  (1244, 16)\n",
      "X_test:   (312, 16)\n",
      "y_train:  (1244, 1)\n",
      "y_test:   (312, 1)\n"
     ]
    },
    {
     "data": {
      "text/html": [
       "<div>\n",
       "<style scoped>\n",
       "    .dataframe tbody tr th:only-of-type {\n",
       "        vertical-align: middle;\n",
       "    }\n",
       "\n",
       "    .dataframe tbody tr th {\n",
       "        vertical-align: top;\n",
       "    }\n",
       "\n",
       "    .dataframe thead th {\n",
       "        text-align: right;\n",
       "    }\n",
       "</style>\n",
       "<table border=\"1\" class=\"dataframe\">\n",
       "  <thead>\n",
       "    <tr style=\"text-align: right;\">\n",
       "      <th></th>\n",
       "      <th>num__bo-acc</th>\n",
       "      <th>num__bo-donor</th>\n",
       "      <th>num__q-acc</th>\n",
       "      <th>num__q-donor</th>\n",
       "      <th>num__q-hatom</th>\n",
       "      <th>num__dist-dh</th>\n",
       "      <th>num__dist-ah</th>\n",
       "      <th>cat__atomtype-acc_Cl</th>\n",
       "      <th>cat__atomtype-acc_F</th>\n",
       "      <th>cat__atomtype-acc_N</th>\n",
       "      <th>cat__atomtype-acc_O</th>\n",
       "      <th>cat__atomtype-acc_S</th>\n",
       "      <th>cat__atomtype-don_F</th>\n",
       "      <th>cat__atomtype-don_N</th>\n",
       "      <th>cat__atomtype-don_O</th>\n",
       "      <th>cat__atomtype-don_S</th>\n",
       "    </tr>\n",
       "  </thead>\n",
       "  <tbody>\n",
       "    <tr>\n",
       "      <th>0</th>\n",
       "      <td>-1.285813</td>\n",
       "      <td>0.917745</td>\n",
       "      <td>-0.115091</td>\n",
       "      <td>-0.282173</td>\n",
       "      <td>0.864921</td>\n",
       "      <td>-0.662341</td>\n",
       "      <td>1.298361</td>\n",
       "      <td>0.0</td>\n",
       "      <td>0.0</td>\n",
       "      <td>0.0</td>\n",
       "      <td>1.0</td>\n",
       "      <td>0.0</td>\n",
       "      <td>0.0</td>\n",
       "      <td>0.0</td>\n",
       "      <td>1.0</td>\n",
       "      <td>0.0</td>\n",
       "    </tr>\n",
       "    <tr>\n",
       "      <th>1</th>\n",
       "      <td>-0.647649</td>\n",
       "      <td>0.186561</td>\n",
       "      <td>0.970476</td>\n",
       "      <td>-0.771634</td>\n",
       "      <td>-0.619231</td>\n",
       "      <td>-0.258013</td>\n",
       "      <td>1.832981</td>\n",
       "      <td>0.0</td>\n",
       "      <td>0.0</td>\n",
       "      <td>0.0</td>\n",
       "      <td>0.0</td>\n",
       "      <td>1.0</td>\n",
       "      <td>0.0</td>\n",
       "      <td>1.0</td>\n",
       "      <td>0.0</td>\n",
       "      <td>0.0</td>\n",
       "    </tr>\n",
       "    <tr>\n",
       "      <th>2</th>\n",
       "      <td>-1.162635</td>\n",
       "      <td>-0.394051</td>\n",
       "      <td>0.083728</td>\n",
       "      <td>-0.078369</td>\n",
       "      <td>0.426753</td>\n",
       "      <td>-0.294188</td>\n",
       "      <td>0.813984</td>\n",
       "      <td>0.0</td>\n",
       "      <td>0.0</td>\n",
       "      <td>0.0</td>\n",
       "      <td>1.0</td>\n",
       "      <td>0.0</td>\n",
       "      <td>0.0</td>\n",
       "      <td>1.0</td>\n",
       "      <td>0.0</td>\n",
       "      <td>0.0</td>\n",
       "    </tr>\n",
       "    <tr>\n",
       "      <th>3</th>\n",
       "      <td>0.306321</td>\n",
       "      <td>-0.886830</td>\n",
       "      <td>0.274388</td>\n",
       "      <td>0.630579</td>\n",
       "      <td>0.169388</td>\n",
       "      <td>-0.271833</td>\n",
       "      <td>-1.260058</td>\n",
       "      <td>0.0</td>\n",
       "      <td>0.0</td>\n",
       "      <td>0.0</td>\n",
       "      <td>1.0</td>\n",
       "      <td>0.0</td>\n",
       "      <td>0.0</td>\n",
       "      <td>1.0</td>\n",
       "      <td>0.0</td>\n",
       "      <td>0.0</td>\n",
       "    </tr>\n",
       "    <tr>\n",
       "      <th>4</th>\n",
       "      <td>2.782975</td>\n",
       "      <td>0.231048</td>\n",
       "      <td>-2.398073</td>\n",
       "      <td>-1.403848</td>\n",
       "      <td>-1.551664</td>\n",
       "      <td>-0.384992</td>\n",
       "      <td>-0.519736</td>\n",
       "      <td>1.0</td>\n",
       "      <td>0.0</td>\n",
       "      <td>0.0</td>\n",
       "      <td>0.0</td>\n",
       "      <td>0.0</td>\n",
       "      <td>0.0</td>\n",
       "      <td>0.0</td>\n",
       "      <td>1.0</td>\n",
       "      <td>0.0</td>\n",
       "    </tr>\n",
       "  </tbody>\n",
       "</table>\n",
       "</div>"
      ],
      "text/plain": [
       "   num__bo-acc  num__bo-donor  num__q-acc  num__q-donor  num__q-hatom  \\\n",
       "0    -1.285813       0.917745   -0.115091     -0.282173      0.864921   \n",
       "1    -0.647649       0.186561    0.970476     -0.771634     -0.619231   \n",
       "2    -1.162635      -0.394051    0.083728     -0.078369      0.426753   \n",
       "3     0.306321      -0.886830    0.274388      0.630579      0.169388   \n",
       "4     2.782975       0.231048   -2.398073     -1.403848     -1.551664   \n",
       "\n",
       "   num__dist-dh  num__dist-ah  cat__atomtype-acc_Cl  cat__atomtype-acc_F  \\\n",
       "0     -0.662341      1.298361                   0.0                  0.0   \n",
       "1     -0.258013      1.832981                   0.0                  0.0   \n",
       "2     -0.294188      0.813984                   0.0                  0.0   \n",
       "3     -0.271833     -1.260058                   0.0                  0.0   \n",
       "4     -0.384992     -0.519736                   1.0                  0.0   \n",
       "\n",
       "   cat__atomtype-acc_N  cat__atomtype-acc_O  cat__atomtype-acc_S  \\\n",
       "0                  0.0                  1.0                  0.0   \n",
       "1                  0.0                  0.0                  1.0   \n",
       "2                  0.0                  1.0                  0.0   \n",
       "3                  0.0                  1.0                  0.0   \n",
       "4                  0.0                  0.0                  0.0   \n",
       "\n",
       "   cat__atomtype-don_F  cat__atomtype-don_N  cat__atomtype-don_O  \\\n",
       "0                  0.0                  0.0                  1.0   \n",
       "1                  0.0                  1.0                  0.0   \n",
       "2                  0.0                  1.0                  0.0   \n",
       "3                  0.0                  1.0                  0.0   \n",
       "4                  0.0                  0.0                  1.0   \n",
       "\n",
       "   cat__atomtype-don_S  \n",
       "0                  0.0  \n",
       "1                  0.0  \n",
       "2                  0.0  \n",
       "3                  0.0  \n",
       "4                  0.0  "
      ]
     },
     "metadata": {},
     "output_type": "display_data"
    }
   ],
   "source": [
    "# Preprocess and transform features\n",
    "numerical_features = X.select_dtypes(include=[\"number\"]).columns.tolist()\n",
    "categorical_features = X.select_dtypes(include=[\"object\"]).columns.tolist()\n",
    "\n",
    "# Define scaling and encoding for X\n",
    "x_preprocessor = ColumnTransformer(\n",
    "    transformers=[\n",
    "        (\"num\", StandardScaler(), numerical_features),\n",
    "        (\"cat\", OneHotEncoder(handle_unknown=\"ignore\", sparse_output=False), categorical_features),\n",
    "    ],\n",
    "    remainder=\"drop\",\n",
    ")\n",
    "# Define scaling for y\n",
    "y_scaler = StandardScaler()\n",
    "\n",
    "# Fit scaling for X on train data only, apply (transform) scaling to both train and test\n",
    "X_train_t = x_preprocessor.fit_transform(X_train)\n",
    "X_test_t = x_preprocessor.transform(X_test)\n",
    "\n",
    "# Fit scaling for y on train data only, apply (transform) scaling to both train and test\n",
    "y_train_t = y_scaler.fit_transform(y_train)\n",
    "y_test_t = y_scaler.transform(y_test)\n",
    "\n",
    "# Get transformed feature names (handy for inspection)\n",
    "feat_names = x_preprocessor.get_feature_names_out()\n",
    "    \n",
    "# Inspect transformed data\n",
    "print(\"X_train: \", X_train_t.shape)\n",
    "print(\"X_test:  \", X_test_t.shape)\n",
    "print(\"y_train: \", y_train_t.shape)\n",
    "print(\"y_test:  \", y_test_t.shape)\n",
    "display(pd.DataFrame(X_train_t, columns=feat_names).head(5))"
   ]
  },
  {
   "cell_type": "code",
   "execution_count": 4,
   "id": "6683ca4b",
   "metadata": {},
   "outputs": [],
   "source": [
    "# Define the model with a parameterizable architecture with Keras\n",
    "def create_model(in_dim, hidden=(64, 32), dropout=0.1, lr=1e-3, weight_decay=1e-5):\n",
    "    inputs = keras.Input(shape=(in_dim,))\n",
    "    x = inputs\n",
    "    for h in hidden:\n",
    "        x = layers.Dense(\n",
    "            h,\n",
    "            activation=\"relu\",\n",
    "            kernel_regularizer=regularizers.l2(weight_decay)\n",
    "        )(x)\n",
    "        x = layers.Dropout(dropout)(x)\n",
    "    outputs = layers.Dense(1, activation=\"linear\")(x)\n",
    "\n",
    "    model = keras.Model(inputs=inputs, outputs=outputs)\n",
    "\n",
    "    model.compile(\n",
    "        optimizer=keras.optimizers.Adam(learning_rate=lr),\n",
    "        loss=\"mse\",\n",
    "        metrics=[keras.metrics.RootMeanSquaredError(name=\"rmse\")]\n",
    "    )\n",
    "    return model"
   ]
  },
  {
   "cell_type": "code",
   "execution_count": 5,
   "id": "a8e4dc64",
   "metadata": {},
   "outputs": [],
   "source": [
    "# Define function for training loop with hyperparameter configuration\n",
    "# Also define a directory to store model checkpoints during training\n",
    "CKPT_DIR = \"optuna_ckpts\"\n",
    "os.makedirs(CKPT_DIR, exist_ok=True)\n",
    "\n",
    "def objective(trial):\n",
    "    hidden_layers_list = [(256,128,64), (128,64), (64,32), (64,)]\n",
    "    idx = trial.suggest_int(\"hidden_layers_idx\", 0, len(hidden_layers_list)-1)\n",
    "    hidden_layers = hidden_layers_list[idx]\n",
    "    dropout = trial.suggest_float(\"dropout\", 0.0, 0.3)\n",
    "    lr = trial.suggest_float(\"lr\", 5e-4, 3e-3, log=True)\n",
    "    weight_decay = trial.suggest_float(\"weight_decay\", 1e-6, 1e-3, log=True)\n",
    "    batch_size = trial.suggest_categorical(\"batch_size\", [16,32,64,128,256])\n",
    "    epochs = 50\n",
    "\n",
    "    best_rmse = float(\"inf\")\n",
    "    best_model_path = os.path.join(CKPT_DIR, f\"best_trial.keras\")\n",
    "\n",
    "    model = create_model(\n",
    "        in_dim=X_train_t.shape[1],\n",
    "        hidden=hidden_layers,\n",
    "        dropout=dropout,\n",
    "        lr=lr,\n",
    "        weight_decay=weight_decay,\n",
    "    )\n",
    "\n",
    "    history = model.fit(\n",
    "        X_train_t, y_train_t,\n",
    "        validation_data=(X_test_t, y_test_t),\n",
    "        batch_size=batch_size,\n",
    "        epochs=epochs,\n",
    "        verbose=0,\n",
    "    )\n",
    "\n",
    "    # Evaluate in original units (unscaled y)\n",
    "    y_pred = y_scaler.inverse_transform(model.predict(X_test_t))\n",
    "    y_true = y_scaler.inverse_transform(y_test_t)\n",
    "    val_rmse = math.sqrt(np.mean((y_pred - y_true) ** 2))\n",
    "\n",
    "    # Store model if model improved\n",
    "    if val_rmse < best_rmse:\n",
    "        best_rmse = val_rmse\n",
    "        model.save(best_model_path)\n",
    "    \n",
    "    # Report to optuna\n",
    "    trial.set_user_attr(\"keras_history\", history.history)\n",
    "    trial.set_user_attr(\"best_model\", best_model_path)\n",
    "\n",
    "    return val_rmse"
   ]
  },
  {
   "cell_type": "code",
   "execution_count": null,
   "id": "b7b335ec",
   "metadata": {},
   "outputs": [],
   "source": [
    "study = optuna.create_study(direction=\"minimize\")\n",
    "study.optimize(objective, n_trials=20, timeout=600)"
   ]
  },
  {
   "cell_type": "code",
   "execution_count": 7,
   "id": "98070301",
   "metadata": {},
   "outputs": [
    {
     "data": {
      "text/plain": [
       "'Params:'"
      ]
     },
     "metadata": {},
     "output_type": "display_data"
    },
    {
     "data": {
      "text/plain": [
       "{'hidden_layers_idx': 1,\n",
       " 'dropout': 0.03851177664057214,\n",
       " 'lr': 0.0009183114007974771,\n",
       " 'weight_decay': 5.794506140272295e-05,\n",
       " 'batch_size': 64}"
      ]
     },
     "metadata": {},
     "output_type": "display_data"
    },
    {
     "name": "stdout",
     "output_type": "stream",
     "text": [
      "Best RMSE: 2.553923289711433\n"
     ]
    }
   ],
   "source": [
    "best_trial = study.best_trial\n",
    "best_params = best_trial.params\n",
    "display(\"Params:\", best_params)\n",
    "print(\"Best RMSE:\", best_trial.value)"
   ]
  },
  {
   "cell_type": "code",
   "execution_count": 8,
   "id": "6cf7ed87",
   "metadata": {},
   "outputs": [
    {
     "data": {
      "image/png": "[encoded data removed]",
      "text/plain": [
       "<Figure size 640x480 with 1 Axes>"
      ]
     },
     "metadata": {},
     "output_type": "display_data"
    }
   ],
   "source": [
    "# Analyze the best trials history\n",
    "history_dict = best_trial.user_attrs[\"keras_history\"]\n",
    "\n",
    "df_history = pd.DataFrame(history_dict)\n",
    "df_history[['loss', 'val_loss']].plot(legend=True)\n",
    "plt.show()"
   ]
  },
  {
   "cell_type": "code",
   "execution_count": 9,
   "id": "90bb060c",
   "metadata": {},
   "outputs": [
    {
     "data": {
      "text/html": [
       "<pre style=\"white-space:pre;overflow-x:auto;line-height:normal;font-family:Menlo,'DejaVu Sans Mono',consolas,'Courier New',monospace\"><span style=\"font-weight: bold\">Model: \"functional_19\"</span>\n",
       "</pre>\n"
      ],
      "text/plain": [
       "\u001b[1mModel: \"functional_19\"\u001b[0m\n"
      ]
     },
     "metadata": {},
     "output_type": "display_data"
    },
    {
     "data": {
      "text/html": [
       "<pre style=\"white-space:pre;overflow-x:auto;line-height:normal;font-family:Menlo,'DejaVu Sans Mono',consolas,'Courier New',monospace\">┏━━━━━━━━━━━━━━━━━━━━━━━━━━━━━━━━━┳━━━━━━━━━━━━━━━━━━━━━━━━┳━━━━━━━━━━━━━━━┓\n",
       "┃<span style=\"font-weight: bold\"> Layer (type)                    </span>┃<span style=\"font-weight: bold\"> Output Shape           </span>┃<span style=\"font-weight: bold\">       Param # </span>┃\n",
       "┡━━━━━━━━━━━━━━━━━━━━━━━━━━━━━━━━━╇━━━━━━━━━━━━━━━━━━━━━━━━╇━━━━━━━━━━━━━━━┩\n",
       "│ input_layer_19 (<span style=\"color: #0087ff; text-decoration-color: #0087ff\">InputLayer</span>)     │ (<span style=\"color: #00d7ff; text-decoration-color: #00d7ff\">None</span>, <span style=\"color: #00af00; text-decoration-color: #00af00\">16</span>)             │             <span style=\"color: #00af00; text-decoration-color: #00af00\">0</span> │\n",
       "├─────────────────────────────────┼────────────────────────┼───────────────┤\n",
       "│ dense_60 (<span style=\"color: #0087ff; text-decoration-color: #0087ff\">Dense</span>)                │ (<span style=\"color: #00d7ff; text-decoration-color: #00d7ff\">None</span>, <span style=\"color: #00af00; text-decoration-color: #00af00\">64</span>)             │         <span style=\"color: #00af00; text-decoration-color: #00af00\">1,088</span> │\n",
       "├─────────────────────────────────┼────────────────────────┼───────────────┤\n",
       "│ dropout_41 (<span style=\"color: #0087ff; text-decoration-color: #0087ff\">Dropout</span>)            │ (<span style=\"color: #00d7ff; text-decoration-color: #00d7ff\">None</span>, <span style=\"color: #00af00; text-decoration-color: #00af00\">64</span>)             │             <span style=\"color: #00af00; text-decoration-color: #00af00\">0</span> │\n",
       "├─────────────────────────────────┼────────────────────────┼───────────────┤\n",
       "│ dense_61 (<span style=\"color: #0087ff; text-decoration-color: #0087ff\">Dense</span>)                │ (<span style=\"color: #00d7ff; text-decoration-color: #00d7ff\">None</span>, <span style=\"color: #00af00; text-decoration-color: #00af00\">32</span>)             │         <span style=\"color: #00af00; text-decoration-color: #00af00\">2,080</span> │\n",
       "├─────────────────────────────────┼────────────────────────┼───────────────┤\n",
       "│ dropout_42 (<span style=\"color: #0087ff; text-decoration-color: #0087ff\">Dropout</span>)            │ (<span style=\"color: #00d7ff; text-decoration-color: #00d7ff\">None</span>, <span style=\"color: #00af00; text-decoration-color: #00af00\">32</span>)             │             <span style=\"color: #00af00; text-decoration-color: #00af00\">0</span> │\n",
       "├─────────────────────────────────┼────────────────────────┼───────────────┤\n",
       "│ dense_62 (<span style=\"color: #0087ff; text-decoration-color: #0087ff\">Dense</span>)                │ (<span style=\"color: #00d7ff; text-decoration-color: #00d7ff\">None</span>, <span style=\"color: #00af00; text-decoration-color: #00af00\">1</span>)              │            <span style=\"color: #00af00; text-decoration-color: #00af00\">33</span> │\n",
       "└─────────────────────────────────┴────────────────────────┴───────────────┘\n",
       "</pre>\n"
      ],
      "text/plain": [
       "┏━━━━━━━━━━━━━━━━━━━━━━━━━━━━━━━━━┳━━━━━━━━━━━━━━━━━━━━━━━━┳━━━━━━━━━━━━━━━┓\n",
       "┃\u001b[1m \u001b[0m\u001b[1mLayer (type)                   \u001b[0m\u001b[1m \u001b[0m┃\u001b[1m \u001b[0m\u001b[1mOutput Shape          \u001b[0m\u001b[1m \u001b[0m┃\u001b[1m \u001b[0m\u001b[1m      Param #\u001b[0m\u001b[1m \u001b[0m┃\n",
       "┡━━━━━━━━━━━━━━━━━━━━━━━━━━━━━━━━━╇━━━━━━━━━━━━━━━━━━━━━━━━╇━━━━━━━━━━━━━━━┩\n",
       "│ input_layer_19 (\u001b[38;5;33mInputLayer\u001b[0m)     │ (\u001b[38;5;45mNone\u001b[0m, \u001b[38;5;34m16\u001b[0m)             │             \u001b[38;5;34m0\u001b[0m │\n",
       "├─────────────────────────────────┼────────────────────────┼───────────────┤\n",
       "│ dense_60 (\u001b[38;5;33mDense\u001b[0m)                │ (\u001b[38;5;45mNone\u001b[0m, \u001b[38;5;34m64\u001b[0m)             │         \u001b[38;5;34m1,088\u001b[0m │\n",
       "├─────────────────────────────────┼────────────────────────┼───────────────┤\n",
       "│ dropout_41 (\u001b[38;5;33mDropout\u001b[0m)            │ (\u001b[38;5;45mNone\u001b[0m, \u001b[38;5;34m64\u001b[0m)             │             \u001b[38;5;34m0\u001b[0m │\n",
       "├─────────────────────────────────┼────────────────────────┼───────────────┤\n",
       "│ dense_61 (\u001b[38;5;33mDense\u001b[0m)                │ (\u001b[38;5;45mNone\u001b[0m, \u001b[38;5;34m32\u001b[0m)             │         \u001b[38;5;34m2,080\u001b[0m │\n",
       "├─────────────────────────────────┼────────────────────────┼───────────────┤\n",
       "│ dropout_42 (\u001b[38;5;33mDropout\u001b[0m)            │ (\u001b[38;5;45mNone\u001b[0m, \u001b[38;5;34m32\u001b[0m)             │             \u001b[38;5;34m0\u001b[0m │\n",
       "├─────────────────────────────────┼────────────────────────┼───────────────┤\n",
       "│ dense_62 (\u001b[38;5;33mDense\u001b[0m)                │ (\u001b[38;5;45mNone\u001b[0m, \u001b[38;5;34m1\u001b[0m)              │            \u001b[38;5;34m33\u001b[0m │\n",
       "└─────────────────────────────────┴────────────────────────┴───────────────┘\n"
      ]
     },
     "metadata": {},
     "output_type": "display_data"
    },
    {
     "data": {
      "text/html": [
       "<pre style=\"white-space:pre;overflow-x:auto;line-height:normal;font-family:Menlo,'DejaVu Sans Mono',consolas,'Courier New',monospace\"><span style=\"font-weight: bold\"> Total params: </span><span style=\"color: #00af00; text-decoration-color: #00af00\">9,605</span> (37.52 KB)\n",
       "</pre>\n"
      ],
      "text/plain": [
       "\u001b[1m Total params: \u001b[0m\u001b[38;5;34m9,605\u001b[0m (37.52 KB)\n"
      ]
     },
     "metadata": {},
     "output_type": "display_data"
    },
    {
     "data": {
      "text/html": [
       "<pre style=\"white-space:pre;overflow-x:auto;line-height:normal;font-family:Menlo,'DejaVu Sans Mono',consolas,'Courier New',monospace\"><span style=\"font-weight: bold\"> Trainable params: </span><span style=\"color: #00af00; text-decoration-color: #00af00\">3,201</span> (12.50 KB)\n",
       "</pre>\n"
      ],
      "text/plain": [
       "\u001b[1m Trainable params: \u001b[0m\u001b[38;5;34m3,201\u001b[0m (12.50 KB)\n"
      ]
     },
     "metadata": {},
     "output_type": "display_data"
    },
    {
     "data": {
      "text/html": [
       "<pre style=\"white-space:pre;overflow-x:auto;line-height:normal;font-family:Menlo,'DejaVu Sans Mono',consolas,'Courier New',monospace\"><span style=\"font-weight: bold\"> Non-trainable params: </span><span style=\"color: #00af00; text-decoration-color: #00af00\">0</span> (0.00 B)\n",
       "</pre>\n"
      ],
      "text/plain": [
       "\u001b[1m Non-trainable params: \u001b[0m\u001b[38;5;34m0\u001b[0m (0.00 B)\n"
      ]
     },
     "metadata": {},
     "output_type": "display_data"
    },
    {
     "data": {
      "text/html": [
       "<pre style=\"white-space:pre;overflow-x:auto;line-height:normal;font-family:Menlo,'DejaVu Sans Mono',consolas,'Courier New',monospace\"><span style=\"font-weight: bold\"> Optimizer params: </span><span style=\"color: #00af00; text-decoration-color: #00af00\">6,404</span> (25.02 KB)\n",
       "</pre>\n"
      ],
      "text/plain": [
       "\u001b[1m Optimizer params: \u001b[0m\u001b[38;5;34m6,404\u001b[0m (25.02 KB)\n"
      ]
     },
     "metadata": {},
     "output_type": "display_data"
    }
   ],
   "source": [
    "best_model_path = best_trial.user_attrs[\"best_model\"]\n",
    "best_model = load_model(best_model_path)\n",
    "best_model.summary()"
   ]
  }
 ],
 "metadata": {
  "kernelspec": {
   "display_name": "Python 3 (ipykernel)",
   "language": "python",
   "name": "python3"
  },
  "language_info": {
   "codemirror_mode": {
    "name": "ipython",
    "version": 3
   },
   "file_extension": ".py",
   "mimetype": "text/x-python",
   "name": "python",
   "nbconvert_exporter": "python",
   "pygments_lexer": "ipython3",
   "version": "3.10.4"
  }
 },
 "nbformat": 4,
 "nbformat_minor": 5
}
