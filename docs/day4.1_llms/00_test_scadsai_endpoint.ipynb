{
 "cells": [
  {
   "cell_type": "markdown",
   "id": "87404224-b84b-409f-8683-c4a243d29722",
   "metadata": {},
   "source": [
    "# ScaDS.AI LLM endpoint\n",
    "In this notebook we will use the [ScaDS.AI LLM infrastructure](https://llm.scads.ai/) infrastructure at the [Center for Information Services and High Performance Computing (ZIH) of TU Dresden](https://tu-dresden.de/zih). To use it, you must be connected via [TU Dresden VPN](https://tu-dresden.de/zih/dienste/service-katalog/arbeitsumgebung/zugang_datennetz/vpn). Also this method uses the OpenAI API and we just change the `base_url`.\n",
    "\n",
    "## Read more\n",
    "* [ScaDS.AI LLM examples](https://gitlab.hrz.tu-chemnitz.de/scads-ai-llm/scads-ai-llm-api-examples)"
   ]
  },
  {
   "cell_type": "code",
   "execution_count": 1,
   "id": "752e974d-9aaf-44aa-80fb-01a042cf5774",
   "metadata": {
    "tags": []
   },
   "outputs": [
    {
     "data": {
      "text/plain": [
       "'2.2.0'"
      ]
     },
     "execution_count": 1,
     "metadata": {},
     "output_type": "execute_result"
    }
   ],
   "source": [
    "import os\n",
    "import openai\n",
    "openai.__version__"
   ]
  },
  {
   "cell_type": "code",
   "execution_count": 2,
   "id": "834ebcfc-0b51-4301-a4e1-922991293e5b",
   "metadata": {},
   "outputs": [
    {
     "data": {
      "text/plain": [
       "True"
      ]
     },
     "execution_count": 2,
     "metadata": {},
     "output_type": "execute_result"
    }
   ],
   "source": [
    "from dotenv import load_dotenv\n",
    "load_dotenv()"
   ]
  },
  {
   "cell_type": "code",
   "execution_count": 3,
   "id": "ab55e229-93b9-4e9b-974d-037002690bf0",
   "metadata": {
    "tags": []
   },
   "outputs": [],
   "source": [
    "def prompt_scadsai_llm(message:str, model=\"meta-llama/Llama-4-Scout-17B-16E-Instruct\"):\n",
    "    \"\"\"A prompt helper function that sends a message to ScaDS.AI LLM server at \n",
    "    ZIH TU Dresden and returns only the text response.\n",
    "    \"\"\"\n",
    "    import os\n",
    "    \n",
    "    # convert message in the right format if necessary\n",
    "    if isinstance(message, str):\n",
    "        message = [{\"role\": \"user\", \"content\": message}]\n",
    "    \n",
    "    # setup connection to the LLM\n",
    "    client = openai.OpenAI(base_url=\"https://llm.scads.ai/v1\",\n",
    "                           api_key=os.environ.get('SCADSAI_API_KEY')\n",
    "    )\n",
    "    response = client.chat.completions.create(\n",
    "        model=model,\n",
    "        messages=message\n",
    "    )\n",
    "    \n",
    "    # extract answer\n",
    "    return response.choices[0].message.content"
   ]
  },
  {
   "cell_type": "code",
   "execution_count": 5,
   "id": "a7654a20-a307-4b26-8d25-bef20b70224e",
   "metadata": {
    "tags": []
   },
   "outputs": [
    {
     "data": {
      "text/plain": [
       "'How can I assist you today?'"
      ]
     },
     "execution_count": 5,
     "metadata": {},
     "output_type": "execute_result"
    }
   ],
   "source": [
    "prompt_scadsai_llm(\"Hi!\")"
   ]
  },
  {
   "cell_type": "markdown",
   "id": "578e9edd-b58f-4fd0-a56d-1966105221dc",
   "metadata": {},
   "source": [
    "## Exercise\n",
    "List the models available in the endpoint and try them out by specifying them when calling `prompt_scadsai_llm()`."
   ]
  },
  {
   "cell_type": "code",
   "execution_count": 6,
   "id": "05171ba7-a775-41c5-954d-7d4fc2b5b625",
   "metadata": {},
   "outputs": [
    {
     "name": "stdout",
     "output_type": "stream",
     "text": [
      "alias-reasoning\n",
      "alias-ha\n",
      "meta-llama/Llama-3.3-70B-Instruct\n",
      "meta-llama/Llama-3.1-8B-Instruct\n",
      "Qwen/Qwen2-VL-7B-Instruct\n",
      "alias-vision\n",
      "openGPT-X/Teuken-7B-instruct-research-v0.4\n",
      "deepseek-ai/DeepSeek-Coder-V2-Lite-Instruct\n",
      "Qwen/Qwen3-Coder-30B-A3B-Instruct\n",
      "alias-code\n",
      "Qwen/Qwen3-Embedding-4B\n",
      "BAAI/bge-reranker-v2-m3\n",
      "stabilityai/stable-diffusion-3.5-large-turbo\n",
      "alias-image-generation\n",
      "black-forest-labs/FLUX.1-dev\n",
      "openai/whisper-large-v3\n",
      "Kokoro-82M\n",
      "tts-1-hd\n",
      "deepseek-ai/DeepSeek-R1\n",
      "openai/gpt-oss-120b\n",
      "meta-llama/Llama-4-Scout-17B-16E-Instruct\n"
     ]
    }
   ],
   "source": [
    "client = openai.OpenAI(base_url=\"https://llm.scads.ai/v1\",\n",
    "                       api_key=os.environ.get('SCADSAI_API_KEY'))\n",
    "\n",
    "print(\"\\n\".join([model.id for model in client.models.list().data]))"
   ]
  },
  {
   "cell_type": "code",
   "execution_count": null,
   "id": "7e810ee2-4d22-42f6-add5-532cf95b4b9c",
   "metadata": {},
   "outputs": [],
   "source": []
  }
 ],
 "metadata": {
  "kernelspec": {
   "display_name": "Python 3 (ipykernel)",
   "language": "python",
   "name": "python3"
  },
  "language_info": {
   "codemirror_mode": {
    "name": "ipython",
    "version": 3
   },
   "file_extension": ".py",
   "mimetype": "text/x-python",
   "name": "python",
   "nbconvert_exporter": "python",
   "pygments_lexer": "ipython3",
   "version": "3.12.11"
  }
 },
 "nbformat": 4,
 "nbformat_minor": 5
}
