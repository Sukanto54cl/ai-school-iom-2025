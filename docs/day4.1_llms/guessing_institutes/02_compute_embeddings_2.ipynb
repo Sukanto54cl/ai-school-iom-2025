{
 "cells": [
  {
   "cell_type": "markdown",
   "id": "directed-compensation",
   "metadata": {},
   "source": [
    "# LLM Embeddings and dimensionality reduction\n",
    "\n",
    "In this notebook we load a list of PhD topics and create an LLM-embedding from them. In such an embedding, each PhD topic is represented in high-dimensional space, e.g. as a vector with 1000 numbers. In order to display these embeddings on screen, e.g. in a two-dimensional plot, we apply dimensionality reduction to it."
   ]
  },
  {
   "cell_type": "code",
   "execution_count": 1,
   "id": "17f275b2-2dd8-49dd-8e17-b59235fa355a",
   "metadata": {},
   "outputs": [],
   "source": [
    "from openai import OpenAI\n",
    "import pandas as pd\n",
    "from sklearn.manifold import TSNE\n",
    "import stackview\n",
    "import numpy as np\n",
    "import yaml\n",
    "import pandas as pd\n",
    "import yaml\n"
   ]
  },
  {
   "cell_type": "markdown",
   "id": "033a6d1c-bb4b-418e-966a-b01c3c08e85c",
   "metadata": {},
   "source": [
    "First, we load the CSV file and take a look at it."
   ]
  },
  {
   "cell_type": "code",
   "execution_count": 3,
   "id": "e16d3bcd-dc2f-4616-a173-af15f0ad7cf1",
   "metadata": {},
   "outputs": [
    {
     "data": {
      "text/html": [
       "<div>\n",
       "<style scoped>\n",
       "    .dataframe tbody tr th:only-of-type {\n",
       "        vertical-align: middle;\n",
       "    }\n",
       "\n",
       "    .dataframe tbody tr th {\n",
       "        vertical-align: top;\n",
       "    }\n",
       "\n",
       "    .dataframe thead th {\n",
       "        text-align: right;\n",
       "    }\n",
       "</style>\n",
       "<table border=\"1\" class=\"dataframe\">\n",
       "  <thead>\n",
       "    <tr style=\"text-align: right;\">\n",
       "      <th></th>\n",
       "      <th>name</th>\n",
       "      <th>research_field</th>\n",
       "      <th>topic</th>\n",
       "    </tr>\n",
       "  </thead>\n",
       "  <tbody>\n",
       "    <tr>\n",
       "      <th>0</th>\n",
       "      <td>Taylor Reed</td>\n",
       "      <td>FIZ-KA - Leibniz-Institut für Informationsinfr...</td>\n",
       "      <td>Digital Archives, Embodied Knowledge, and the ...</td>\n",
       "    </tr>\n",
       "    <tr>\n",
       "      <th>1</th>\n",
       "      <td>Riley Jain</td>\n",
       "      <td>HKI - Leibniz-Institut für Naturstoff-Forschun...</td>\n",
       "      <td>Microbial Secondary Metabolites and Narrative:...</td>\n",
       "    </tr>\n",
       "    <tr>\n",
       "      <th>2</th>\n",
       "      <td>Taylor Adams</td>\n",
       "      <td>IÖR - Leibniz-Institut für ökologische Raument...</td>\n",
       "      <td>Spatial Imaginaries of Ecological Transition: ...</td>\n",
       "    </tr>\n",
       "    <tr>\n",
       "      <th>3</th>\n",
       "      <td>Devon Thomas</td>\n",
       "      <td>IWM - Leibniz-Institut für Wissensmedien, Tübi...</td>\n",
       "      <td>Algorithmic Storytelling and the Evolution of ...</td>\n",
       "    </tr>\n",
       "    <tr>\n",
       "      <th>4</th>\n",
       "      <td>Alex Lee</td>\n",
       "      <td>MfN - Museum für Naturkunde - Leibniz-Institut...</td>\n",
       "      <td>The Literary Ecology of Scientific Illustratio...</td>\n",
       "    </tr>\n",
       "    <tr>\n",
       "      <th>...</th>\n",
       "      <td>...</td>\n",
       "      <td>...</td>\n",
       "      <td>...</td>\n",
       "    </tr>\n",
       "    <tr>\n",
       "      <th>245</th>\n",
       "      <td>Jamie Campbell</td>\n",
       "      <td>FIZ-KA - Leibniz-Institut für Informationsinfr...</td>\n",
       "      <td>Algorithmic Aesthetics and the Computational H...</td>\n",
       "    </tr>\n",
       "    <tr>\n",
       "      <th>246</th>\n",
       "      <td>Skyler Reed</td>\n",
       "      <td>WIAS - Weierstraß-Institut für Angewandte Anal...</td>\n",
       "      <td>Algorithmic Poetics: Computational Modeling an...</td>\n",
       "    </tr>\n",
       "    <tr>\n",
       "      <th>247</th>\n",
       "      <td>Casey Lee</td>\n",
       "      <td>AIP - Leibniz Institut für Astrophysik, Potsdam</td>\n",
       "      <td>Cosmic Narratives: Poetics and Reception of As...</td>\n",
       "    </tr>\n",
       "    <tr>\n",
       "      <th>248</th>\n",
       "      <td>Robin Flores</td>\n",
       "      <td>IGZ - Leibniz-Institut für Gemüse- und Zierpfl...</td>\n",
       "      <td>The Rhetoric of Resilience: Horticultural Inno...</td>\n",
       "    </tr>\n",
       "    <tr>\n",
       "      <th>249</th>\n",
       "      <td>Riley Flores</td>\n",
       "      <td>PDI - Paul-Drude-Institut für Festkörperelektr...</td>\n",
       "      <td>Quantum Narratives: Materiality, Computation, ...</td>\n",
       "    </tr>\n",
       "  </tbody>\n",
       "</table>\n",
       "<p>250 rows × 3 columns</p>\n",
       "</div>"
      ],
      "text/plain": [
       "               name                                     research_field  \\\n",
       "0       Taylor Reed  FIZ-KA - Leibniz-Institut für Informationsinfr...   \n",
       "1        Riley Jain  HKI - Leibniz-Institut für Naturstoff-Forschun...   \n",
       "2      Taylor Adams  IÖR - Leibniz-Institut für ökologische Raument...   \n",
       "3      Devon Thomas  IWM - Leibniz-Institut für Wissensmedien, Tübi...   \n",
       "4          Alex Lee  MfN - Museum für Naturkunde - Leibniz-Institut...   \n",
       "..              ...                                                ...   \n",
       "245  Jamie Campbell  FIZ-KA - Leibniz-Institut für Informationsinfr...   \n",
       "246     Skyler Reed  WIAS - Weierstraß-Institut für Angewandte Anal...   \n",
       "247       Casey Lee    AIP - Leibniz Institut für Astrophysik, Potsdam   \n",
       "248    Robin Flores  IGZ - Leibniz-Institut für Gemüse- und Zierpfl...   \n",
       "249    Riley Flores  PDI - Paul-Drude-Institut für Festkörperelektr...   \n",
       "\n",
       "                                                 topic  \n",
       "0    Digital Archives, Embodied Knowledge, and the ...  \n",
       "1    Microbial Secondary Metabolites and Narrative:...  \n",
       "2    Spatial Imaginaries of Ecological Transition: ...  \n",
       "3    Algorithmic Storytelling and the Evolution of ...  \n",
       "4    The Literary Ecology of Scientific Illustratio...  \n",
       "..                                                 ...  \n",
       "245  Algorithmic Aesthetics and the Computational H...  \n",
       "246  Algorithmic Poetics: Computational Modeling an...  \n",
       "247  Cosmic Narratives: Poetics and Reception of As...  \n",
       "248  The Rhetoric of Resilience: Horticultural Inno...  \n",
       "249  Quantum Narratives: Materiality, Computation, ...  \n",
       "\n",
       "[250 rows x 3 columns]"
      ]
     },
     "execution_count": 3,
     "metadata": {},
     "output_type": "execute_result"
    }
   ],
   "source": [
    "df = pd.read_csv(\"phd_topics.csv\")\n",
    "df\n"
   ]
  },
  {
   "cell_type": "markdown",
   "id": "2d764a88-8bc4-4b35-9f83-2b7e7c182665",
   "metadata": {},
   "source": [
    "Second, we load the embedding model [intfloat/multilingual-e5-large-instruct](https://huggingface.co/intfloat/multilingual-e5-large-instruct), a leading small embedding model."
   ]
  },
  {
   "cell_type": "code",
   "execution_count": 4,
   "id": "416e3a7e-1dd2-42f4-947c-6fadd69a8d71",
   "metadata": {},
   "outputs": [
    {
     "name": "stderr",
     "output_type": "stream",
     "text": [
      "C:\\Users\\rober\\miniforge3\\envs\\genai-gpu\\Lib\\site-packages\\torch\\nn\\modules\\module.py:1747: FutureWarning: `encoder_attention_mask` is deprecated and will be removed in version 4.55.0 for `XLMRobertaSdpaSelfAttention.forward`.\n",
      "  return forward_call(*args, **kwargs)\n"
     ]
    },
    {
     "data": {
      "text/plain": [
       "[0.0052167088724672794,\n",
       " 0.02528308518230915,\n",
       " 0.007280258461833,\n",
       " -0.04490530118346214,\n",
       " 0.024866655468940735]"
      ]
     },
     "execution_count": 4,
     "metadata": {},
     "output_type": "execute_result"
    }
   ],
   "source": [
    "from llama_index.embeddings.huggingface import HuggingFaceEmbedding\n",
    "e = HuggingFaceEmbedding(model_name=\"intfloat/multilingual-e5-large-instruct\")\n",
    "e.get_text_embedding(\"Hello world\")[:5]\n"
   ]
  },
  {
   "cell_type": "markdown",
   "id": "18e01846-8365-42bc-bafd-aa5750d837ae",
   "metadata": {},
   "source": [
    "Next, we test this model."
   ]
  },
  {
   "cell_type": "code",
   "execution_count": 5,
   "id": "c1eef360-4343-491a-8cc1-cf2e78eb0db1",
   "metadata": {},
   "outputs": [
    {
     "data": {
      "text/plain": [
       "[0.0052167088724672794,\n",
       " 0.02528308518230915,\n",
       " 0.007280258461833,\n",
       " -0.04490530118346214,\n",
       " 0.024866655468940735]"
      ]
     },
     "execution_count": 5,
     "metadata": {},
     "output_type": "execute_result"
    }
   ],
   "source": [
    "def embed(text):\n",
    "    return e.get_text_embedding(text)\n",
    "    #from openai import OpenAI\n",
    "    #client = OpenAI()\n",
    "    #response = client.embeddings.create(\n",
    "    #    input=text,\n",
    "    #    model=\"text-embedding-ada-002\"\n",
    "    #)\n",
    "    #return response.data[0].embedding\n",
    "\n",
    "embed(\"Hello world\")[:5]\n"
   ]
  },
  {
   "cell_type": "markdown",
   "id": "4680c2fc-ebac-49c0-9d4c-a0cf665b23bf",
   "metadata": {},
   "source": [
    "The following code will apply the `embed` function to all topics in our table."
   ]
  },
  {
   "cell_type": "code",
   "execution_count": 7,
   "id": "ba228da1-9e67-486f-9bd0-5cc9762b185a",
   "metadata": {},
   "outputs": [
    {
     "data": {
      "text/html": [
       "<div>\n",
       "<style scoped>\n",
       "    .dataframe tbody tr th:only-of-type {\n",
       "        vertical-align: middle;\n",
       "    }\n",
       "\n",
       "    .dataframe tbody tr th {\n",
       "        vertical-align: top;\n",
       "    }\n",
       "\n",
       "    .dataframe thead th {\n",
       "        text-align: right;\n",
       "    }\n",
       "</style>\n",
       "<table border=\"1\" class=\"dataframe\">\n",
       "  <thead>\n",
       "    <tr style=\"text-align: right;\">\n",
       "      <th></th>\n",
       "      <th>name</th>\n",
       "      <th>research_field</th>\n",
       "      <th>topic</th>\n",
       "      <th>embedding</th>\n",
       "    </tr>\n",
       "  </thead>\n",
       "  <tbody>\n",
       "    <tr>\n",
       "      <th>0</th>\n",
       "      <td>Taylor Reed</td>\n",
       "      <td>FIZ-KA - Leibniz-Institut für Informationsinfr...</td>\n",
       "      <td>Digital Archives, Embodied Knowledge, and the ...</td>\n",
       "      <td>[0.019196026027202606, 0.010897933505475521, -...</td>\n",
       "    </tr>\n",
       "    <tr>\n",
       "      <th>1</th>\n",
       "      <td>Riley Jain</td>\n",
       "      <td>HKI - Leibniz-Institut für Naturstoff-Forschun...</td>\n",
       "      <td>Microbial Secondary Metabolites and Narrative:...</td>\n",
       "      <td>[0.016622617840766907, -0.009818249382078648, ...</td>\n",
       "    </tr>\n",
       "    <tr>\n",
       "      <th>2</th>\n",
       "      <td>Taylor Adams</td>\n",
       "      <td>IÖR - Leibniz-Institut für ökologische Raument...</td>\n",
       "      <td>Spatial Imaginaries of Ecological Transition: ...</td>\n",
       "      <td>[-0.016480615362524986, 0.014093692414462566, ...</td>\n",
       "    </tr>\n",
       "    <tr>\n",
       "      <th>3</th>\n",
       "      <td>Devon Thomas</td>\n",
       "      <td>IWM - Leibniz-Institut für Wissensmedien, Tübi...</td>\n",
       "      <td>Algorithmic Storytelling and the Evolution of ...</td>\n",
       "      <td>[0.008821303024888039, 0.005257884040474892, -...</td>\n",
       "    </tr>\n",
       "    <tr>\n",
       "      <th>4</th>\n",
       "      <td>Alex Lee</td>\n",
       "      <td>MfN - Museum für Naturkunde - Leibniz-Institut...</td>\n",
       "      <td>The Literary Ecology of Scientific Illustratio...</td>\n",
       "      <td>[-0.02530881017446518, 0.004650192800909281, -...</td>\n",
       "    </tr>\n",
       "  </tbody>\n",
       "</table>\n",
       "</div>"
      ],
      "text/plain": [
       "           name                                     research_field  \\\n",
       "0   Taylor Reed  FIZ-KA - Leibniz-Institut für Informationsinfr...   \n",
       "1    Riley Jain  HKI - Leibniz-Institut für Naturstoff-Forschun...   \n",
       "2  Taylor Adams  IÖR - Leibniz-Institut für ökologische Raument...   \n",
       "3  Devon Thomas  IWM - Leibniz-Institut für Wissensmedien, Tübi...   \n",
       "4      Alex Lee  MfN - Museum für Naturkunde - Leibniz-Institut...   \n",
       "\n",
       "                                               topic  \\\n",
       "0  Digital Archives, Embodied Knowledge, and the ...   \n",
       "1  Microbial Secondary Metabolites and Narrative:...   \n",
       "2  Spatial Imaginaries of Ecological Transition: ...   \n",
       "3  Algorithmic Storytelling and the Evolution of ...   \n",
       "4  The Literary Ecology of Scientific Illustratio...   \n",
       "\n",
       "                                           embedding  \n",
       "0  [0.019196026027202606, 0.010897933505475521, -...  \n",
       "1  [0.016622617840766907, -0.009818249382078648, ...  \n",
       "2  [-0.016480615362524986, 0.014093692414462566, ...  \n",
       "3  [0.008821303024888039, 0.005257884040474892, -...  \n",
       "4  [-0.02530881017446518, 0.004650192800909281, -...  "
      ]
     },
     "execution_count": 7,
     "metadata": {},
     "output_type": "execute_result"
    }
   ],
   "source": [
    "df[\"embedding\"] = df[\"topic\"].apply(embed)\n",
    "df.head()\n"
   ]
  },
  {
   "cell_type": "markdown",
   "id": "c5d857d4-9495-405b-b61a-bbbd299e0b9e",
   "metadata": {},
   "source": [
    "Again, we apply dimensionality reduction for visualization purposes, namely [t-SNE](distributed_stochastic_neighbor_embedding) and [UMAP](https://en.wikipedia.org/wiki/Nonlinear_dimensionality_reduction#Uniform_manifold_approximation_and_projection)."
   ]
  },
  {
   "cell_type": "code",
   "execution_count": 8,
   "id": "54a7e744-b6f7-4915-a247-558b22989303",
   "metadata": {},
   "outputs": [],
   "source": [
    "# Convert embedding vectors to numpy array for t-SNE\n",
    "embeddings = np.array(df['embedding'].tolist())\n",
    "\n",
    "# Apply t-SNE\n",
    "tsne = TSNE(n_components=2, random_state=42)\n",
    "tsne_embeddings = tsne.fit_transform(embeddings)\n",
    "\n",
    "df['TSNE0'] = tsne_embeddings[:, 0]\n",
    "df['TSNE1'] = tsne_embeddings[:, 1]\n",
    "\n",
    "#df\n"
   ]
  },
  {
   "cell_type": "code",
   "execution_count": 9,
   "id": "086f0878-0db8-4f91-ab63-484c76924dc5",
   "metadata": {},
   "outputs": [
    {
     "name": "stderr",
     "output_type": "stream",
     "text": [
      "C:\\Users\\rober\\miniforge3\\envs\\genai-gpu\\Lib\\site-packages\\umap\\umap_.py:1952: UserWarning: n_jobs value 1 overridden to 1 by setting random_state. Use no seed for parallelism.\n",
      "  warn(\n"
     ]
    }
   ],
   "source": [
    "from umap import UMAP\n",
    "\n",
    "# Convert embedding vectors to numpy array\n",
    "embeddings = np.array(df['embedding'].tolist())\n",
    "\n",
    "# Apply UMAP\n",
    "umap = UMAP(n_components=2, random_state=42)\n",
    "umap_embeddings = umap.fit_transform(embeddings)\n",
    "\n",
    "df['UMAP0'] = umap_embeddings[:, 0]\n",
    "df['UMAP1'] = umap_embeddings[:, 1]\n",
    "\n",
    "# df"
   ]
  },
  {
   "cell_type": "code",
   "execution_count": 10,
   "id": "a849c2a5-dffa-435d-bf1d-8f37733951f6",
   "metadata": {},
   "outputs": [],
   "source": [
    "df[\"selection\"] = 1\n"
   ]
  },
  {
   "cell_type": "markdown",
   "id": "9f3e3385-5afc-4c81-b9e9-c2da6215204e",
   "metadata": {},
   "source": [
    "The resulting two dimensions can be visualized on screen."
   ]
  },
  {
   "cell_type": "code",
   "execution_count": 11,
   "id": "91186dc2-3770-4722-8b3b-1f774d6d4ad5",
   "metadata": {},
   "outputs": [
    {
     "data": {
      "application/vnd.jupyter.widget-view+json": {
       "model_id": "2ab66b902f3e4e40a238765afcf12814",
       "version_major": 2,
       "version_minor": 0
      },
      "text/plain": [
       "HBox(children=(VBox(children=(VBox(children=(HBox(children=(Label(value='Axes '), Dropdown(index=6, layout=Lay…"
      ]
     },
     "execution_count": 11,
     "metadata": {},
     "output_type": "execute_result"
    }
   ],
   "source": [
    "stackview.scatterplot(df, column_x=\"UMAP0\", column_y=\"UMAP1\")\n"
   ]
  },
  {
   "cell_type": "code",
   "execution_count": 12,
   "id": "f4f1fcd3-4b00-4447-91c0-3f1855f570b8",
   "metadata": {},
   "outputs": [
    {
     "data": {
      "text/plain": [
       "array([1])"
      ]
     },
     "execution_count": 12,
     "metadata": {},
     "output_type": "execute_result"
    }
   ],
   "source": [
    "df[\"selection\"].unique()\n"
   ]
  },
  {
   "cell_type": "markdown",
   "id": "e95ab586-4963-439c-afbf-69bfa64752d6",
   "metadata": {},
   "source": [
    "Finally, we store the topcis, together with the embeddings and the two-dimensional UMAPs to a yml file."
   ]
  },
  {
   "cell_type": "code",
   "execution_count": 13,
   "id": "f9a1ea05-1c94-4938-bbd2-4cd477f6e51b",
   "metadata": {},
   "outputs": [],
   "source": [
    "import yaml\n",
    "\n",
    "# Convert DataFrame to dictionary\n",
    "data_dict = df.to_dict()\n",
    "\n",
    "# Save as YAML file\n",
    "with open('phd_topics.yml', 'w') as file:\n",
    "    yaml.dump(data_dict, file)\n"
   ]
  },
  {
   "cell_type": "code",
   "execution_count": null,
   "id": "d2d1b894-023e-4aaf-a8df-c2087871d657",
   "metadata": {},
   "outputs": [],
   "source": []
  }
 ],
 "metadata": {
  "kernelspec": {
   "display_name": "Python 3 (ipykernel)",
   "language": "python",
   "name": "python3"
  },
  "language_info": {
   "codemirror_mode": {
    "name": "ipython",
    "version": 3
   },
   "file_extension": ".py",
   "mimetype": "text/x-python",
   "name": "python",
   "nbconvert_exporter": "python",
   "pygments_lexer": "ipython3",
   "version": "3.11.13"
  }
 },
 "nbformat": 4,
 "nbformat_minor": 5
}
