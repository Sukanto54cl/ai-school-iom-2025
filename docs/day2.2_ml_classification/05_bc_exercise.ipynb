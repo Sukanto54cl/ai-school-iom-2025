{
 "cells": [
  {
   "cell_type": "markdown",
   "id": "0c0d908a-0ddf-45b3-9cd3-b89cab1db652",
   "metadata": {},
   "source": [
    "# Exercise on binary classifier"
   ]
  },
  {
   "cell_type": "markdown",
   "id": "978a98a1-f984-4c0f-af8f-eb53df8e55d2",
   "metadata": {},
   "source": [
    "You can find the file \"HB_cl1_data.csv\" in the same directory as this notebook. It is the data set you know already from the section on regression. However, we have removed the atom types and the hydrogen bond energy. You find two classes in the new feature HB-type:  "
   ]
  },
  {
   "cell_type": "code",
   "execution_count": 1,
   "id": "aa89b91e-6c8a-4bab-9627-7d8735b31927",
   "metadata": {},
   "outputs": [
    {
     "name": "stdout",
     "output_type": "stream",
     "text": [
      "<class 'pandas.core.frame.DataFrame'>\n",
      "RangeIndex: 1638 entries, 0 to 1637\n",
      "Data columns (total 8 columns):\n",
      " #   Column    Non-Null Count  Dtype  \n",
      "---  ------    --------------  -----  \n",
      " 0   bo-acc    1638 non-null   float64\n",
      " 1   bo-donor  1638 non-null   float64\n",
      " 2   q-acc     1638 non-null   float64\n",
      " 3   q-donor   1638 non-null   float64\n",
      " 4   q-hatom   1638 non-null   float64\n",
      " 5   dist-dh   1638 non-null   float64\n",
      " 6   dist-ah   1638 non-null   float64\n",
      " 7   HB-type   1638 non-null   object \n",
      "dtypes: float64(7), object(1)\n",
      "memory usage: 102.5+ KB\n"
     ]
    }
   ],
   "source": [
    "import pandas as pd\n",
    "\n",
    "hb_data = pd.read_csv('HB_cl1_data.csv')\n",
    "hb_data.info()"
   ]
  },
  {
   "cell_type": "markdown",
   "id": "df817070-16fb-451f-8238-ddfc3ed74424",
   "metadata": {},
   "source": [
    "The \"HB-type\" has two classes: "
   ]
  },
  {
   "cell_type": "code",
   "execution_count": 2,
   "id": "2718180f-68c0-4969-80e6-069e0db213d0",
   "metadata": {},
   "outputs": [
    {
     "data": {
      "text/plain": [
       "HB-type\n",
       "strong    1227\n",
       "weak       411\n",
       "Name: count, dtype: int64"
      ]
     },
     "execution_count": 2,
     "metadata": {},
     "output_type": "execute_result"
    }
   ],
   "source": [
    "hb_data[\"HB-type\"].value_counts()"
   ]
  },
  {
   "cell_type": "markdown",
   "id": "bb221e1f-b619-4eac-8d11-1bb5c8542f02",
   "metadata": {},
   "source": [
    "The \"weak\" class indicates hydrogen bonds with a small bond energy. Make a grid search to find a model which can identify weak hydrogen bonds. Take the $F_1$ score as scoring function to identify the best hyperparameter C for a support vector machine with a RBF kernel. Train the model with optimized hyperparameters on the full data set and determine precision and recall on the test data set.    "
   ]
  },
  {
   "cell_type": "code",
   "execution_count": 3,
   "id": "d01299e8-27b9-41a6-85a0-0d4590523df4",
   "metadata": {},
   "outputs": [],
   "source": [
    "# your code here"
   ]
  },
  {
   "cell_type": "code",
   "execution_count": null,
   "id": "c435a160-e956-4fa1-b88e-e80a9a30d625",
   "metadata": {},
   "outputs": [],
   "source": []
  }
 ],
 "metadata": {
  "kernelspec": {
   "display_name": "venv-ai-school",
   "language": "python",
   "name": "venv-ai-school"
  },
  "language_info": {
   "codemirror_mode": {
    "name": "ipython",
    "version": 3
   },
   "file_extension": ".py",
   "mimetype": "text/x-python",
   "name": "python",
   "nbconvert_exporter": "python",
   "pygments_lexer": "ipython3",
   "version": "3.12.3"
  }
 },
 "nbformat": 4,
 "nbformat_minor": 5
}
