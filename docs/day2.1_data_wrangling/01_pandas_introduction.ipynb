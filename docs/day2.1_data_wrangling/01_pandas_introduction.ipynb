{
 "cells": [
  {
   "cell_type": "markdown",
   "id": "92204799a7a3d7c8",
   "metadata": {
    "pycharm": {
     "name": "#%% md\n"
    }
   },
   "source": [
    "# Introduction to Pandas\n",
    "\n",
    "In basic Python, we can use dictionaries for data handling, containing data as lists. While these basic structures are convenient for simple data handling, they are suboptimal for advanced data processing and analysis.\n",
    "\n",
    "For such, we introduce [pandas](https://pandas.pydata.org/), one of the primary tools for handling and analysing tabular data in the Python. Pandas' primary object, the \"DataFrame\", is a 2-dimensional indexed and labeled data structure with columns of different data types, and is extremely useful in wrangling data.\n",
    "\n",
    "<img src=\"pandas-dataframe.png\" alt=\"Pandas DataFrame\" width=\"800\"/>\n",
    "\n",
    "See also:\n",
    "* [10 Minutes into pandas](https://pandas.pydata.org/docs/user_guide/10min.html)\n",
    "* [DataFrame - user guide](https://pandas.pydata.org/docs/user_guide/dsintro.html#dataframe)\n",
    "* [DataFrame - API reference](https://pandas.pydata.org/docs/reference/api/pandas.DataFrame.html)"
   ]
  },
  {
   "cell_type": "code",
   "execution_count": 1,
   "id": "9125bc100baf5f39",
   "metadata": {
    "ExecuteTime": {
     "end_time": "2024-04-30T14:12:10.467622Z",
     "start_time": "2024-04-30T14:12:09.831096Z"
    },
    "pycharm": {
     "name": "#%%\n"
    }
   },
   "outputs": [],
   "source": [
    "import pandas as pd\n",
    "import numpy as np\n",
    "import matplotlib.pyplot as plt"
   ]
  },
  {
   "cell_type": "markdown",
   "id": "69ec023821c17ef8",
   "metadata": {
    "pycharm": {
     "name": "#%% md\n"
    }
   },
   "source": [
    "## Creating DataFrames\n",
    "### DataFrames from dictionaries\n",
    "Assume we did some measurements and have some results available in a dictionary:"
   ]
  },
  {
   "cell_type": "code",
   "execution_count": 2,
   "id": "8af6991d7441650f",
   "metadata": {
    "ExecuteTime": {
     "end_time": "2024-04-30T14:12:10.470810Z",
     "start_time": "2024-04-30T14:12:10.468673Z"
    },
    "pycharm": {
     "name": "#%%\n"
    }
   },
   "outputs": [],
   "source": [
    "measurements = {\n",
    "    \"label\": [\"A\", \"B\", \"C\", \"D\", \"E\", \"F\", \"G\", \"H\", \"I\", \"J\"],\n",
    "    \"value1\": [9, 11, 10.2, 9.5, 15,  400, 9, 11, 11.3, 10],\n",
    "    \"value2\": [2, np.nan, 8, 5, 7, np.nan, 1, 4, 6, 9],\n",
    "    \"value3\": [3.1, 0.4, 5.6, np.nan, 4.4, 2.2, 1.1, 0.9, 3.3, 4.1],\n",
    "    \"valid\": [True, False, True, True, False, True, False, True, True, False],\n",
    "}"
   ]
  },
  {
   "cell_type": "markdown",
   "id": "62ef9d3f31248eed",
   "metadata": {
    "pycharm": {
     "name": "#%% md\n"
    }
   },
   "source": [
    "This data structure can be easily transferred into a DataFrame which provides additional functionalities, like visualizing it nicely:"
   ]
  },
  {
   "cell_type": "code",
   "execution_count": 3,
   "id": "eaf8d6b232e10cb1",
   "metadata": {
    "ExecuteTime": {
     "end_time": "2024-04-30T14:12:10.480187Z",
     "start_time": "2024-04-30T14:12:10.471517Z"
    },
    "pycharm": {
     "name": "#%%\n"
    }
   },
   "outputs": [
    {
     "data": {
      "text/html": [
       "<div>\n",
       "<style scoped>\n",
       "    .dataframe tbody tr th:only-of-type {\n",
       "        vertical-align: middle;\n",
       "    }\n",
       "\n",
       "    .dataframe tbody tr th {\n",
       "        vertical-align: top;\n",
       "    }\n",
       "\n",
       "    .dataframe thead th {\n",
       "        text-align: right;\n",
       "    }\n",
       "</style>\n",
       "<table border=\"1\" class=\"dataframe\">\n",
       "  <thead>\n",
       "    <tr style=\"text-align: right;\">\n",
       "      <th></th>\n",
       "      <th>label</th>\n",
       "      <th>value1</th>\n",
       "      <th>value2</th>\n",
       "      <th>value3</th>\n",
       "      <th>valid</th>\n",
       "    </tr>\n",
       "  </thead>\n",
       "  <tbody>\n",
       "    <tr>\n",
       "      <th>0</th>\n",
       "      <td>A</td>\n",
       "      <td>9.0</td>\n",
       "      <td>2.0</td>\n",
       "      <td>3.1</td>\n",
       "      <td>True</td>\n",
       "    </tr>\n",
       "    <tr>\n",
       "      <th>1</th>\n",
       "      <td>B</td>\n",
       "      <td>11.0</td>\n",
       "      <td>NaN</td>\n",
       "      <td>0.4</td>\n",
       "      <td>False</td>\n",
       "    </tr>\n",
       "    <tr>\n",
       "      <th>2</th>\n",
       "      <td>C</td>\n",
       "      <td>10.2</td>\n",
       "      <td>8.0</td>\n",
       "      <td>5.6</td>\n",
       "      <td>True</td>\n",
       "    </tr>\n",
       "    <tr>\n",
       "      <th>3</th>\n",
       "      <td>D</td>\n",
       "      <td>9.5</td>\n",
       "      <td>5.0</td>\n",
       "      <td>NaN</td>\n",
       "      <td>True</td>\n",
       "    </tr>\n",
       "    <tr>\n",
       "      <th>4</th>\n",
       "      <td>E</td>\n",
       "      <td>15.0</td>\n",
       "      <td>7.0</td>\n",
       "      <td>4.4</td>\n",
       "      <td>False</td>\n",
       "    </tr>\n",
       "    <tr>\n",
       "      <th>5</th>\n",
       "      <td>F</td>\n",
       "      <td>400.0</td>\n",
       "      <td>NaN</td>\n",
       "      <td>2.2</td>\n",
       "      <td>True</td>\n",
       "    </tr>\n",
       "    <tr>\n",
       "      <th>6</th>\n",
       "      <td>G</td>\n",
       "      <td>9.0</td>\n",
       "      <td>1.0</td>\n",
       "      <td>1.1</td>\n",
       "      <td>False</td>\n",
       "    </tr>\n",
       "    <tr>\n",
       "      <th>7</th>\n",
       "      <td>H</td>\n",
       "      <td>11.0</td>\n",
       "      <td>4.0</td>\n",
       "      <td>0.9</td>\n",
       "      <td>True</td>\n",
       "    </tr>\n",
       "    <tr>\n",
       "      <th>8</th>\n",
       "      <td>I</td>\n",
       "      <td>11.3</td>\n",
       "      <td>6.0</td>\n",
       "      <td>3.3</td>\n",
       "      <td>True</td>\n",
       "    </tr>\n",
       "    <tr>\n",
       "      <th>9</th>\n",
       "      <td>J</td>\n",
       "      <td>10.0</td>\n",
       "      <td>9.0</td>\n",
       "      <td>4.1</td>\n",
       "      <td>False</td>\n",
       "    </tr>\n",
       "  </tbody>\n",
       "</table>\n",
       "</div>"
      ],
      "text/plain": [
       "  label  value1  value2  value3  valid\n",
       "0     A     9.0     2.0     3.1   True\n",
       "1     B    11.0     NaN     0.4  False\n",
       "2     C    10.2     8.0     5.6   True\n",
       "3     D     9.5     5.0     NaN   True\n",
       "4     E    15.0     7.0     4.4  False\n",
       "5     F   400.0     NaN     2.2   True\n",
       "6     G     9.0     1.0     1.1  False\n",
       "7     H    11.0     4.0     0.9   True\n",
       "8     I    11.3     6.0     3.3   True\n",
       "9     J    10.0     9.0     4.1  False"
      ]
     },
     "execution_count": 3,
     "metadata": {},
     "output_type": "execute_result"
    }
   ],
   "source": [
    "df = pd.DataFrame(data=measurements)\n",
    "df"
   ]
  },
  {
   "cell_type": "markdown",
   "id": "70d15d36c3c369f3",
   "metadata": {
    "pycharm": {
     "name": "#%% md\n"
    }
   },
   "source": [
    "DataFrames also provide some convenient methods to get an overview of the DataFrames' structure and the containing data:\n",
    "* [`info()`](https://pandas.pydata.org/docs/reference/api/pandas.DataFrame.info.html) to summarize the DataFrame\n",
    "* [`describe()`](https://pandas.pydata.org/docs/reference/api/pandas.DataFrame.describe.html) for descriptive statistics\n",
    "* [`plot()`](https://pandas.pydata.org/docs/reference/api/pandas.DataFrame.plot.html) for simple plots of DataFrames and Series"
   ]
  },
  {
   "cell_type": "code",
   "execution_count": 4,
   "id": "c37332d683c24ff6",
   "metadata": {
    "ExecuteTime": {
     "end_time": "2024-04-30T14:12:10.488446Z",
     "start_time": "2024-04-30T14:12:10.481456Z"
    },
    "pycharm": {
     "name": "#%%\n"
    }
   },
   "outputs": [
    {
     "name": "stdout",
     "output_type": "stream",
     "text": [
      "<class 'pandas.core.frame.DataFrame'>\n",
      "RangeIndex: 10 entries, 0 to 9\n",
      "Data columns (total 5 columns):\n",
      " #   Column  Non-Null Count  Dtype  \n",
      "---  ------  --------------  -----  \n",
      " 0   label   10 non-null     object \n",
      " 1   value1  10 non-null     float64\n",
      " 2   value2  8 non-null      float64\n",
      " 3   value3  9 non-null      float64\n",
      " 4   valid   10 non-null     bool   \n",
      "dtypes: bool(1), float64(3), object(1)\n",
      "memory usage: 458.0+ bytes\n"
     ]
    }
   ],
   "source": [
    "# Show structure of the DataFrame\n",
    "df.info()"
   ]
  },
  {
   "cell_type": "code",
   "execution_count": 5,
   "id": "145d80feaa3417e6",
   "metadata": {
    "ExecuteTime": {
     "end_time": "2024-04-30T14:12:10.497340Z",
     "start_time": "2024-04-30T14:12:10.489134Z"
    },
    "pycharm": {
     "name": "#%%\n"
    }
   },
   "outputs": [
    {
     "data": {
      "text/html": [
       "<div>\n",
       "<style scoped>\n",
       "    .dataframe tbody tr th:only-of-type {\n",
       "        vertical-align: middle;\n",
       "    }\n",
       "\n",
       "    .dataframe tbody tr th {\n",
       "        vertical-align: top;\n",
       "    }\n",
       "\n",
       "    .dataframe thead th {\n",
       "        text-align: right;\n",
       "    }\n",
       "</style>\n",
       "<table border=\"1\" class=\"dataframe\">\n",
       "  <thead>\n",
       "    <tr style=\"text-align: right;\">\n",
       "      <th></th>\n",
       "      <th>count</th>\n",
       "      <th>mean</th>\n",
       "      <th>std</th>\n",
       "      <th>min</th>\n",
       "      <th>25%</th>\n",
       "      <th>50%</th>\n",
       "      <th>75%</th>\n",
       "      <th>max</th>\n",
       "    </tr>\n",
       "  </thead>\n",
       "  <tbody>\n",
       "    <tr>\n",
       "      <th>value1</th>\n",
       "      <td>10.0</td>\n",
       "      <td>49.600000</td>\n",
       "      <td>123.130184</td>\n",
       "      <td>9.0</td>\n",
       "      <td>9.625</td>\n",
       "      <td>10.6</td>\n",
       "      <td>11.225</td>\n",
       "      <td>400.0</td>\n",
       "    </tr>\n",
       "    <tr>\n",
       "      <th>value2</th>\n",
       "      <td>8.0</td>\n",
       "      <td>5.250000</td>\n",
       "      <td>2.815772</td>\n",
       "      <td>1.0</td>\n",
       "      <td>3.500</td>\n",
       "      <td>5.5</td>\n",
       "      <td>7.250</td>\n",
       "      <td>9.0</td>\n",
       "    </tr>\n",
       "    <tr>\n",
       "      <th>value3</th>\n",
       "      <td>9.0</td>\n",
       "      <td>2.788889</td>\n",
       "      <td>1.769495</td>\n",
       "      <td>0.4</td>\n",
       "      <td>1.100</td>\n",
       "      <td>3.1</td>\n",
       "      <td>4.100</td>\n",
       "      <td>5.6</td>\n",
       "    </tr>\n",
       "  </tbody>\n",
       "</table>\n",
       "</div>"
      ],
      "text/plain": [
       "        count       mean         std  min    25%   50%     75%    max\n",
       "value1   10.0  49.600000  123.130184  9.0  9.625  10.6  11.225  400.0\n",
       "value2    8.0   5.250000    2.815772  1.0  3.500   5.5   7.250    9.0\n",
       "value3    9.0   2.788889    1.769495  0.4  1.100   3.1   4.100    5.6"
      ]
     },
     "execution_count": 5,
     "metadata": {},
     "output_type": "execute_result"
    }
   ],
   "source": [
    "# Show basic descriptive statistics of the containing data\n",
    "df.describe().transpose()"
   ]
  },
  {
   "cell_type": "code",
   "execution_count": 6,
   "id": "716737fc",
   "metadata": {},
   "outputs": [
    {
     "data": {
      "text/html": [
       "<div>\n",
       "<style scoped>\n",
       "    .dataframe tbody tr th:only-of-type {\n",
       "        vertical-align: middle;\n",
       "    }\n",
       "\n",
       "    .dataframe tbody tr th {\n",
       "        vertical-align: top;\n",
       "    }\n",
       "\n",
       "    .dataframe thead th {\n",
       "        text-align: right;\n",
       "    }\n",
       "</style>\n",
       "<table border=\"1\" class=\"dataframe\">\n",
       "  <thead>\n",
       "    <tr style=\"text-align: right;\">\n",
       "      <th></th>\n",
       "      <th>count</th>\n",
       "      <th>unique</th>\n",
       "      <th>top</th>\n",
       "      <th>freq</th>\n",
       "    </tr>\n",
       "  </thead>\n",
       "  <tbody>\n",
       "    <tr>\n",
       "      <th>label</th>\n",
       "      <td>10</td>\n",
       "      <td>10</td>\n",
       "      <td>A</td>\n",
       "      <td>1</td>\n",
       "    </tr>\n",
       "    <tr>\n",
       "      <th>valid</th>\n",
       "      <td>10</td>\n",
       "      <td>2</td>\n",
       "      <td>True</td>\n",
       "      <td>6</td>\n",
       "    </tr>\n",
       "  </tbody>\n",
       "</table>\n",
       "</div>"
      ],
      "text/plain": [
       "      count unique   top freq\n",
       "label    10     10     A    1\n",
       "valid    10      2  True    6"
      ]
     },
     "execution_count": 6,
     "metadata": {},
     "output_type": "execute_result"
    }
   ],
   "source": [
    "# Show descriptive statistics for categorical data\n",
    "df.describe(exclude=['number']).transpose()"
   ]
  },
  {
   "cell_type": "code",
   "execution_count": 7,
   "id": "4fbcf799",
   "metadata": {},
   "outputs": [
    {
     "data": {
      "image/png": "[encoded data removed]",
      "text/plain": [
       "<Figure size 640x480 with 1 Axes>"
      ]
     },
     "metadata": {},
     "output_type": "display_data"
    }
   ],
   "source": [
    "# Plot the data\n",
    "df.plot(x='label', y=['value1', 'value2', 'value3'], title='Measurements')\n",
    "plt.show()"
   ]
  },
  {
   "cell_type": "markdown",
   "id": "3c48b6f9c3f8ddc",
   "metadata": {
    "pycharm": {
     "name": "#%% md\n"
    }
   },
   "source": [
    "## Saving and loading DataFrames\n",
    "We can save this DataFrames for continuing to work with it. We chose to save it as a CSV file. You should generally always store your data in such an open, compatible format with well-defined specifications, (not necessarily CSV)."
   ]
  },
  {
   "cell_type": "code",
   "execution_count": 8,
   "id": "3671c5cc6e5e78ca",
   "metadata": {
    "ExecuteTime": {
     "end_time": "2024-04-30T14:12:10.509091Z",
     "start_time": "2024-04-30T14:12:10.506322Z"
    },
    "pycharm": {
     "name": "#%%\n"
    }
   },
   "outputs": [],
   "source": [
    "df.to_csv('data/measurements_1.csv', index=False)"
   ]
  },
  {
   "cell_type": "markdown",
   "id": "bd2bc8f3500837e5",
   "metadata": {
    "pycharm": {
     "name": "#%% md\n"
    }
   },
   "source": [
    "Stored DataFrames can be read with pandas from various formats, so we are able to read files into a DataFrame again.\n",
    "\n",
    "See also:\n",
    "* [Input and Output with pandas](https://pandas.pydata.org/pandas-docs/stable/reference/io.html)"
   ]
  },
  {
   "cell_type": "code",
   "execution_count": 9,
   "id": "a5a55abb1fb3c53a",
   "metadata": {
    "ExecuteTime": {
     "end_time": "2024-04-30T14:12:10.517187Z",
     "start_time": "2024-04-30T14:12:10.509781Z"
    },
    "pycharm": {
     "name": "#%%\n"
    }
   },
   "outputs": [
    {
     "data": {
      "text/html": [
       "<div>\n",
       "<style scoped>\n",
       "    .dataframe tbody tr th:only-of-type {\n",
       "        vertical-align: middle;\n",
       "    }\n",
       "\n",
       "    .dataframe tbody tr th {\n",
       "        vertical-align: top;\n",
       "    }\n",
       "\n",
       "    .dataframe thead th {\n",
       "        text-align: right;\n",
       "    }\n",
       "</style>\n",
       "<table border=\"1\" class=\"dataframe\">\n",
       "  <thead>\n",
       "    <tr style=\"text-align: right;\">\n",
       "      <th></th>\n",
       "      <th>label</th>\n",
       "      <th>value1</th>\n",
       "      <th>value2</th>\n",
       "      <th>value3</th>\n",
       "      <th>valid</th>\n",
       "    </tr>\n",
       "  </thead>\n",
       "  <tbody>\n",
       "    <tr>\n",
       "      <th>0</th>\n",
       "      <td>A</td>\n",
       "      <td>9.0</td>\n",
       "      <td>2.0</td>\n",
       "      <td>3.1</td>\n",
       "      <td>True</td>\n",
       "    </tr>\n",
       "    <tr>\n",
       "      <th>1</th>\n",
       "      <td>B</td>\n",
       "      <td>11.0</td>\n",
       "      <td>NaN</td>\n",
       "      <td>0.4</td>\n",
       "      <td>False</td>\n",
       "    </tr>\n",
       "    <tr>\n",
       "      <th>2</th>\n",
       "      <td>C</td>\n",
       "      <td>10.2</td>\n",
       "      <td>8.0</td>\n",
       "      <td>5.6</td>\n",
       "      <td>True</td>\n",
       "    </tr>\n",
       "    <tr>\n",
       "      <th>3</th>\n",
       "      <td>D</td>\n",
       "      <td>9.5</td>\n",
       "      <td>5.0</td>\n",
       "      <td>NaN</td>\n",
       "      <td>True</td>\n",
       "    </tr>\n",
       "    <tr>\n",
       "      <th>4</th>\n",
       "      <td>E</td>\n",
       "      <td>15.0</td>\n",
       "      <td>7.0</td>\n",
       "      <td>4.4</td>\n",
       "      <td>False</td>\n",
       "    </tr>\n",
       "    <tr>\n",
       "      <th>5</th>\n",
       "      <td>F</td>\n",
       "      <td>400.0</td>\n",
       "      <td>NaN</td>\n",
       "      <td>2.2</td>\n",
       "      <td>True</td>\n",
       "    </tr>\n",
       "    <tr>\n",
       "      <th>6</th>\n",
       "      <td>G</td>\n",
       "      <td>9.0</td>\n",
       "      <td>1.0</td>\n",
       "      <td>1.1</td>\n",
       "      <td>False</td>\n",
       "    </tr>\n",
       "    <tr>\n",
       "      <th>7</th>\n",
       "      <td>H</td>\n",
       "      <td>11.0</td>\n",
       "      <td>4.0</td>\n",
       "      <td>0.9</td>\n",
       "      <td>True</td>\n",
       "    </tr>\n",
       "    <tr>\n",
       "      <th>8</th>\n",
       "      <td>I</td>\n",
       "      <td>11.3</td>\n",
       "      <td>6.0</td>\n",
       "      <td>3.3</td>\n",
       "      <td>True</td>\n",
       "    </tr>\n",
       "    <tr>\n",
       "      <th>9</th>\n",
       "      <td>J</td>\n",
       "      <td>10.0</td>\n",
       "      <td>9.0</td>\n",
       "      <td>4.1</td>\n",
       "      <td>False</td>\n",
       "    </tr>\n",
       "  </tbody>\n",
       "</table>\n",
       "</div>"
      ],
      "text/plain": [
       "  label  value1  value2  value3  valid\n",
       "0     A     9.0     2.0     3.1   True\n",
       "1     B    11.0     NaN     0.4  False\n",
       "2     C    10.2     8.0     5.6   True\n",
       "3     D     9.5     5.0     NaN   True\n",
       "4     E    15.0     7.0     4.4  False\n",
       "5     F   400.0     NaN     2.2   True\n",
       "6     G     9.0     1.0     1.1  False\n",
       "7     H    11.0     4.0     0.9   True\n",
       "8     I    11.3     6.0     3.3   True\n",
       "9     J    10.0     9.0     4.1  False"
      ]
     },
     "execution_count": 9,
     "metadata": {},
     "output_type": "execute_result"
    }
   ],
   "source": [
    "df_new = pd.read_csv('data/measurements_1.csv')\n",
    "df_new"
   ]
  }
 ],
 "metadata": {
  "kernelspec": {
   "display_name": "iom-env",
   "language": "python",
   "name": "python3"
  },
  "language_info": {
   "codemirror_mode": {
    "name": "ipython",
    "version": 3
   },
   "file_extension": ".py",
   "mimetype": "text/x-python",
   "name": "python",
   "nbconvert_exporter": "python",
   "pygments_lexer": "ipython3",
   "version": "3.10.4"
  }
 },
 "nbformat": 4,
 "nbformat_minor": 5
}
