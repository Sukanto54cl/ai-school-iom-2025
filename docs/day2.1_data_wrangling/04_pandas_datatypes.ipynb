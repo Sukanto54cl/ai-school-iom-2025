{
 "cells": [
  {
   "cell_type": "markdown",
   "id": "81f6d63b",
   "metadata": {},
   "source": [
    "# Datatypes and Conversions\n",
    "\n",
    "Pandas supports numerical and non-numerical datatypes. If data is read from disk, the most compatible data type is often derived - wich may be `object`.\n",
    "Converting data to the most suitable data types facilitates data preparation and analysis."
   ]
  },
  {
   "cell_type": "code",
   "execution_count": 21,
   "id": "7f8ee3eb",
   "metadata": {},
   "outputs": [],
   "source": [
    "import pandas as pd"
   ]
  },
  {
   "cell_type": "code",
   "execution_count": 22,
   "id": "8ec294ee",
   "metadata": {},
   "outputs": [
    {
     "name": "stdout",
     "output_type": "stream",
     "text": [
      "<class 'pandas.core.frame.DataFrame'>\n",
      "RangeIndex: 11 entries, 0 to 10\n",
      "Data columns (total 8 columns):\n",
      " #   Column     Non-Null Count  Dtype  \n",
      "---  ------     --------------  -----  \n",
      " 0   label      11 non-null     object \n",
      " 1   timestamp  11 non-null     object \n",
      " 2   valid      10 non-null     object \n",
      " 3   value1     10 non-null     float64\n",
      " 4   value2     8 non-null      float64\n",
      " 5   value3     9 non-null      float64\n",
      " 6   value4     10 non-null     float64\n",
      " 7   value5     8 non-null      float64\n",
      "dtypes: float64(5), object(3)\n",
      "memory usage: 832.0+ bytes\n"
     ]
    }
   ],
   "source": [
    "df = pd.read_csv('data/merged_measurements.csv')\n",
    "df.info()"
   ]
  },
  {
   "cell_type": "markdown",
   "id": "b53dd829",
   "metadata": {},
   "source": [
    "Pandas provides several methods to convert datatypes. Here, we apply [`convert_dtypes()`](https://pandas.pydata.org/docs/reference/api/pandas.DataFrame.convert_dtypes.html) which converts columns to the most suitable pandas-native dtypes."
   ]
  },
  {
   "cell_type": "code",
   "execution_count": 23,
   "id": "92e159f0",
   "metadata": {},
   "outputs": [
    {
     "name": "stdout",
     "output_type": "stream",
     "text": [
      "<class 'pandas.core.frame.DataFrame'>\n",
      "RangeIndex: 11 entries, 0 to 10\n",
      "Data columns (total 8 columns):\n",
      " #   Column     Non-Null Count  Dtype  \n",
      "---  ------     --------------  -----  \n",
      " 0   label      11 non-null     string \n",
      " 1   timestamp  11 non-null     string \n",
      " 2   valid      10 non-null     boolean\n",
      " 3   value1     10 non-null     Float64\n",
      " 4   value2     8 non-null      Int64  \n",
      " 5   value3     9 non-null      Float64\n",
      " 6   value4     10 non-null     Float64\n",
      " 7   value5     8 non-null      Float64\n",
      "dtypes: Float64(4), Int64(1), boolean(1), string(2)\n",
      "memory usage: 821.0 bytes\n"
     ]
    }
   ],
   "source": [
    "df = df.convert_dtypes()\n",
    "df.info()\n"
   ]
  },
  {
   "cell_type": "markdown",
   "id": "ba519d2d",
   "metadata": {},
   "source": [
    "With timestamps available, we can set this column as index - providing us with a timeseries."
   ]
  },
  {
   "cell_type": "code",
   "execution_count": 24,
   "id": "9b9aa595",
   "metadata": {},
   "outputs": [
    {
     "data": {
      "text/plain": [
       "np.False_"
      ]
     },
     "execution_count": 24,
     "metadata": {},
     "output_type": "execute_result"
    }
   ],
   "source": [
    "# Check for duplicates in timestamps\n",
    "df['timestamp'].duplicated().any()"
   ]
  },
  {
   "cell_type": "code",
   "execution_count": 25,
   "id": "138fd134",
   "metadata": {},
   "outputs": [
    {
     "name": "stdout",
     "output_type": "stream",
     "text": [
      "<class 'pandas.core.frame.DataFrame'>\n",
      "RangeIndex: 11 entries, 0 to 10\n",
      "Data columns (total 8 columns):\n",
      " #   Column     Non-Null Count  Dtype         \n",
      "---  ------     --------------  -----         \n",
      " 0   label      11 non-null     string        \n",
      " 1   timestamp  11 non-null     datetime64[ns]\n",
      " 2   valid      10 non-null     boolean       \n",
      " 3   value1     10 non-null     Float64       \n",
      " 4   value2     8 non-null      Int64         \n",
      " 5   value3     9 non-null      Float64       \n",
      " 6   value4     10 non-null     Float64       \n",
      " 7   value5     8 non-null      Float64       \n",
      "dtypes: Float64(4), Int64(1), boolean(1), datetime64[ns](1), string(1)\n",
      "memory usage: 821.0 bytes\n"
     ]
    }
   ],
   "source": [
    "# Convert timestamp column to datetime dtype\n",
    "df['timestamp'] = pd.to_datetime(df['timestamp'])\n",
    "df.info()"
   ]
  },
  {
   "cell_type": "code",
   "execution_count": 26,
   "id": "03e41ada",
   "metadata": {},
   "outputs": [
    {
     "data": {
      "text/html": [
       "<div>\n",
       "<style scoped>\n",
       "    .dataframe tbody tr th:only-of-type {\n",
       "        vertical-align: middle;\n",
       "    }\n",
       "\n",
       "    .dataframe tbody tr th {\n",
       "        vertical-align: top;\n",
       "    }\n",
       "\n",
       "    .dataframe thead th {\n",
       "        text-align: right;\n",
       "    }\n",
       "</style>\n",
       "<table border=\"1\" class=\"dataframe\">\n",
       "  <thead>\n",
       "    <tr style=\"text-align: right;\">\n",
       "      <th></th>\n",
       "      <th>label</th>\n",
       "      <th>valid</th>\n",
       "      <th>value1</th>\n",
       "      <th>value2</th>\n",
       "      <th>value3</th>\n",
       "      <th>value4</th>\n",
       "      <th>value5</th>\n",
       "    </tr>\n",
       "    <tr>\n",
       "      <th>timestamp</th>\n",
       "      <th></th>\n",
       "      <th></th>\n",
       "      <th></th>\n",
       "      <th></th>\n",
       "      <th></th>\n",
       "      <th></th>\n",
       "      <th></th>\n",
       "    </tr>\n",
       "  </thead>\n",
       "  <tbody>\n",
       "    <tr>\n",
       "      <th>2023-01-01 07:00:00</th>\n",
       "      <td>A</td>\n",
       "      <td>True</td>\n",
       "      <td>9.0</td>\n",
       "      <td>2</td>\n",
       "      <td>3.1</td>\n",
       "      <td>0.98</td>\n",
       "      <td>1.23</td>\n",
       "    </tr>\n",
       "    <tr>\n",
       "      <th>2023-01-01 08:00:00</th>\n",
       "      <td>B</td>\n",
       "      <td>False</td>\n",
       "      <td>11.0</td>\n",
       "      <td>&lt;NA&gt;</td>\n",
       "      <td>0.4</td>\n",
       "      <td>0.4</td>\n",
       "      <td>1.11</td>\n",
       "    </tr>\n",
       "    <tr>\n",
       "      <th>2023-01-01 10:00:00</th>\n",
       "      <td>D</td>\n",
       "      <td>True</td>\n",
       "      <td>9.5</td>\n",
       "      <td>5</td>\n",
       "      <td>&lt;NA&gt;</td>\n",
       "      <td>2.56</td>\n",
       "      <td>&lt;NA&gt;</td>\n",
       "    </tr>\n",
       "    <tr>\n",
       "      <th>2023-01-01 10:15:00</th>\n",
       "      <td>C</td>\n",
       "      <td>True</td>\n",
       "      <td>10.2</td>\n",
       "      <td>8</td>\n",
       "      <td>5.6</td>\n",
       "      <td>&lt;NA&gt;</td>\n",
       "      <td>&lt;NA&gt;</td>\n",
       "    </tr>\n",
       "    <tr>\n",
       "      <th>2023-01-01 11:00:00</th>\n",
       "      <td>E</td>\n",
       "      <td>False</td>\n",
       "      <td>15.0</td>\n",
       "      <td>7</td>\n",
       "      <td>4.4</td>\n",
       "      <td>3.14</td>\n",
       "      <td>2.34</td>\n",
       "    </tr>\n",
       "    <tr>\n",
       "      <th>2023-01-01 12:00:00</th>\n",
       "      <td>F</td>\n",
       "      <td>True</td>\n",
       "      <td>400.0</td>\n",
       "      <td>&lt;NA&gt;</td>\n",
       "      <td>2.2</td>\n",
       "      <td>2.71</td>\n",
       "      <td>2.45</td>\n",
       "    </tr>\n",
       "    <tr>\n",
       "      <th>2023-01-01 16:00:00</th>\n",
       "      <td>G</td>\n",
       "      <td>False</td>\n",
       "      <td>9.0</td>\n",
       "      <td>1</td>\n",
       "      <td>1.1</td>\n",
       "      <td>3.58</td>\n",
       "      <td>0.98</td>\n",
       "    </tr>\n",
       "    <tr>\n",
       "      <th>2023-01-01 17:00:00</th>\n",
       "      <td>H</td>\n",
       "      <td>True</td>\n",
       "      <td>11.0</td>\n",
       "      <td>4</td>\n",
       "      <td>0.9</td>\n",
       "      <td>4.12</td>\n",
       "      <td>1.05</td>\n",
       "    </tr>\n",
       "    <tr>\n",
       "      <th>2023-01-01 18:00:00</th>\n",
       "      <td>I</td>\n",
       "      <td>True</td>\n",
       "      <td>11.3</td>\n",
       "      <td>6</td>\n",
       "      <td>3.3</td>\n",
       "      <td>3.33</td>\n",
       "      <td>1.67</td>\n",
       "    </tr>\n",
       "    <tr>\n",
       "      <th>2023-01-01 19:00:00</th>\n",
       "      <td>J</td>\n",
       "      <td>False</td>\n",
       "      <td>10.0</td>\n",
       "      <td>9</td>\n",
       "      <td>4.1</td>\n",
       "      <td>2.98</td>\n",
       "      <td>2.89</td>\n",
       "    </tr>\n",
       "    <tr>\n",
       "      <th>2023-01-01 20:00:00</th>\n",
       "      <td>K</td>\n",
       "      <td>&lt;NA&gt;</td>\n",
       "      <td>&lt;NA&gt;</td>\n",
       "      <td>&lt;NA&gt;</td>\n",
       "      <td>&lt;NA&gt;</td>\n",
       "      <td>3.87</td>\n",
       "      <td>&lt;NA&gt;</td>\n",
       "    </tr>\n",
       "  </tbody>\n",
       "</table>\n",
       "</div>"
      ],
      "text/plain": [
       "                    label  valid  value1  value2  value3  value4  value5\n",
       "timestamp                                                               \n",
       "2023-01-01 07:00:00     A   True     9.0       2     3.1    0.98    1.23\n",
       "2023-01-01 08:00:00     B  False    11.0    <NA>     0.4     0.4    1.11\n",
       "2023-01-01 10:00:00     D   True     9.5       5    <NA>    2.56    <NA>\n",
       "2023-01-01 10:15:00     C   True    10.2       8     5.6    <NA>    <NA>\n",
       "2023-01-01 11:00:00     E  False    15.0       7     4.4    3.14    2.34\n",
       "2023-01-01 12:00:00     F   True   400.0    <NA>     2.2    2.71    2.45\n",
       "2023-01-01 16:00:00     G  False     9.0       1     1.1    3.58    0.98\n",
       "2023-01-01 17:00:00     H   True    11.0       4     0.9    4.12    1.05\n",
       "2023-01-01 18:00:00     I   True    11.3       6     3.3    3.33    1.67\n",
       "2023-01-01 19:00:00     J  False    10.0       9     4.1    2.98    2.89\n",
       "2023-01-01 20:00:00     K   <NA>    <NA>    <NA>    <NA>    3.87    <NA>"
      ]
     },
     "execution_count": 26,
     "metadata": {},
     "output_type": "execute_result"
    }
   ],
   "source": [
    "# Set timestamp as index and sort\n",
    "df_ts = df.set_index('timestamp').sort_index()\n",
    "df_ts"
   ]
  },
  {
   "cell_type": "markdown",
   "id": "5bbf2969",
   "metadata": {},
   "source": [
    "A proper [DateTimeIndex](https://pandas.pydata.org/docs/reference/api/pandas.DatetimeIndex.html) allows for more powerful timeseries functionality. Also see:\n",
    "* [Pandas Timeseries](https://pandas.pydata.org/docs/user_guide/timeseries.html)"
   ]
  },
  {
   "cell_type": "code",
   "execution_count": 27,
   "id": "b95f9a93",
   "metadata": {},
   "outputs": [
    {
     "data": {
      "text/html": [
       "<div>\n",
       "<style scoped>\n",
       "    .dataframe tbody tr th:only-of-type {\n",
       "        vertical-align: middle;\n",
       "    }\n",
       "\n",
       "    .dataframe tbody tr th {\n",
       "        vertical-align: top;\n",
       "    }\n",
       "\n",
       "    .dataframe thead th {\n",
       "        text-align: right;\n",
       "    }\n",
       "</style>\n",
       "<table border=\"1\" class=\"dataframe\">\n",
       "  <thead>\n",
       "    <tr style=\"text-align: right;\">\n",
       "      <th></th>\n",
       "      <th>label</th>\n",
       "      <th>valid</th>\n",
       "      <th>value1</th>\n",
       "      <th>value2</th>\n",
       "      <th>value3</th>\n",
       "      <th>value4</th>\n",
       "      <th>value5</th>\n",
       "    </tr>\n",
       "    <tr>\n",
       "      <th>timestamp</th>\n",
       "      <th></th>\n",
       "      <th></th>\n",
       "      <th></th>\n",
       "      <th></th>\n",
       "      <th></th>\n",
       "      <th></th>\n",
       "      <th></th>\n",
       "    </tr>\n",
       "  </thead>\n",
       "  <tbody>\n",
       "    <tr>\n",
       "      <th>2023-01-01 10:15:00</th>\n",
       "      <td>C</td>\n",
       "      <td>True</td>\n",
       "      <td>10.2</td>\n",
       "      <td>8</td>\n",
       "      <td>5.6</td>\n",
       "      <td>&lt;NA&gt;</td>\n",
       "      <td>&lt;NA&gt;</td>\n",
       "    </tr>\n",
       "  </tbody>\n",
       "</table>\n",
       "</div>"
      ],
      "text/plain": [
       "                    label  valid  value1  value2  value3  value4  value5\n",
       "timestamp                                                               \n",
       "2023-01-01 10:15:00     C   True    10.2       8     5.6    <NA>    <NA>"
      ]
     },
     "execution_count": 27,
     "metadata": {},
     "output_type": "execute_result"
    }
   ],
   "source": [
    "# Get all entries with a timestamp that is not at the full hour\n",
    "df_ts[(df_ts.index.minute != 0) | (df_ts.index.second != 0)]"
   ]
  },
  {
   "cell_type": "code",
   "execution_count": 28,
   "id": "64a335d0",
   "metadata": {},
   "outputs": [],
   "source": [
    "df_ts.to_csv('data/converted_measuremets.csv')"
   ]
  }
 ],
 "metadata": {
  "kernelspec": {
   "display_name": "iom-env",
   "language": "python",
   "name": "python3"
  },
  "language_info": {
   "codemirror_mode": {
    "name": "ipython",
    "version": 3
   },
   "file_extension": ".py",
   "mimetype": "text/x-python",
   "name": "python",
   "nbconvert_exporter": "python",
   "pygments_lexer": "ipython3",
   "version": "3.10.4"
  }
 },
 "nbformat": 4,
 "nbformat_minor": 5
}
