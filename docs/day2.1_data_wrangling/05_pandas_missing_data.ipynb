{
 "cells": [
  {
   "cell_type": "markdown",
   "id": "c5c5fccfe658f1a9",
   "metadata": {},
   "source": [
    "# Handling missing data\n",
    "\n",
    "When analyzing tabular data, sometimes table cells are present that do not contain data. In Python, this typically means the value is _Not a Number_, or [`NaN`](https://en.wikipedia.org/wiki/NaN). We need to deal with these NaN entries differently, and this notebook will introduce how.\n",
    "\n",
    "To get a first view where NaNs play a role, we load again some example data from a CSV file. This file uses a semicolon as separator or delimiter...we can provide pandas with this information."
   ]
  },
  {
   "cell_type": "code",
   "execution_count": 16,
   "id": "713577616ee4c7f0",
   "metadata": {
    "ExecuteTime": {
     "end_time": "2024-04-30T14:20:47.687311Z",
     "start_time": "2024-04-30T14:20:47.520572Z"
    }
   },
   "outputs": [],
   "source": [
    "import pandas as pd\n",
    "import matplotlib.pyplot as plt"
   ]
  },
  {
   "cell_type": "code",
   "execution_count": 17,
   "id": "b466bd0bd87bb45e",
   "metadata": {
    "ExecuteTime": {
     "end_time": "2024-04-30T14:20:47.695340Z",
     "start_time": "2024-04-30T14:20:47.688397Z"
    }
   },
   "outputs": [
    {
     "name": "stdout",
     "output_type": "stream",
     "text": [
      "<class 'pandas.core.frame.DataFrame'>\n",
      "DatetimeIndex: 11 entries, 2023-01-01 07:00:00 to 2023-01-01 20:00:00\n",
      "Data columns (total 7 columns):\n",
      " #   Column  Non-Null Count  Dtype  \n",
      "---  ------  --------------  -----  \n",
      " 0   label   11 non-null     string \n",
      " 1   valid   10 non-null     boolean\n",
      " 2   value1  10 non-null     float64\n",
      " 3   value2  8 non-null      float64\n",
      " 4   value3  9 non-null      float64\n",
      " 5   value4  10 non-null     float64\n",
      " 6   value5  8 non-null      float64\n",
      "dtypes: boolean(1), float64(5), string(1)\n",
      "memory usage: 638.0 bytes\n"
     ]
    }
   ],
   "source": [
    "# Now that we know about our datatypes, we can provide this info when loading the DataFrame\n",
    "# - parse timestamp to datetime and set as index\n",
    "# - parse label to string, valid to boolean\n",
    "df = pd.read_csv('data/converted_measuremets.csv', index_col=0, parse_dates=True, dtype={'label': 'string', 'valid': 'boolean'})\n",
    "df.info()"
   ]
  },
  {
   "cell_type": "code",
   "execution_count": 18,
   "id": "1d8faa1aaca0086e",
   "metadata": {
    "ExecuteTime": {
     "end_time": "2024-04-30T14:20:47.705704Z",
     "start_time": "2024-04-30T14:20:47.696162Z"
    }
   },
   "outputs": [
    {
     "data": {
      "text/html": [
       "<div>\n",
       "<style scoped>\n",
       "    .dataframe tbody tr th:only-of-type {\n",
       "        vertical-align: middle;\n",
       "    }\n",
       "\n",
       "    .dataframe tbody tr th {\n",
       "        vertical-align: top;\n",
       "    }\n",
       "\n",
       "    .dataframe thead th {\n",
       "        text-align: right;\n",
       "    }\n",
       "</style>\n",
       "<table border=\"1\" class=\"dataframe\">\n",
       "  <thead>\n",
       "    <tr style=\"text-align: right;\">\n",
       "      <th></th>\n",
       "      <th>label</th>\n",
       "      <th>valid</th>\n",
       "      <th>value1</th>\n",
       "      <th>value2</th>\n",
       "      <th>value3</th>\n",
       "      <th>value4</th>\n",
       "      <th>value5</th>\n",
       "    </tr>\n",
       "    <tr>\n",
       "      <th>timestamp</th>\n",
       "      <th></th>\n",
       "      <th></th>\n",
       "      <th></th>\n",
       "      <th></th>\n",
       "      <th></th>\n",
       "      <th></th>\n",
       "      <th></th>\n",
       "    </tr>\n",
       "  </thead>\n",
       "  <tbody>\n",
       "    <tr>\n",
       "      <th>2023-01-01 07:00:00</th>\n",
       "      <td>A</td>\n",
       "      <td>True</td>\n",
       "      <td>9.0</td>\n",
       "      <td>2.0</td>\n",
       "      <td>3.1</td>\n",
       "      <td>0.98</td>\n",
       "      <td>1.23</td>\n",
       "    </tr>\n",
       "    <tr>\n",
       "      <th>2023-01-01 08:00:00</th>\n",
       "      <td>B</td>\n",
       "      <td>False</td>\n",
       "      <td>11.0</td>\n",
       "      <td>NaN</td>\n",
       "      <td>0.4</td>\n",
       "      <td>0.40</td>\n",
       "      <td>1.11</td>\n",
       "    </tr>\n",
       "    <tr>\n",
       "      <th>2023-01-01 10:00:00</th>\n",
       "      <td>D</td>\n",
       "      <td>True</td>\n",
       "      <td>9.5</td>\n",
       "      <td>5.0</td>\n",
       "      <td>NaN</td>\n",
       "      <td>2.56</td>\n",
       "      <td>NaN</td>\n",
       "    </tr>\n",
       "    <tr>\n",
       "      <th>2023-01-01 10:15:00</th>\n",
       "      <td>C</td>\n",
       "      <td>True</td>\n",
       "      <td>10.2</td>\n",
       "      <td>8.0</td>\n",
       "      <td>5.6</td>\n",
       "      <td>NaN</td>\n",
       "      <td>NaN</td>\n",
       "    </tr>\n",
       "    <tr>\n",
       "      <th>2023-01-01 11:00:00</th>\n",
       "      <td>E</td>\n",
       "      <td>False</td>\n",
       "      <td>15.0</td>\n",
       "      <td>7.0</td>\n",
       "      <td>4.4</td>\n",
       "      <td>3.14</td>\n",
       "      <td>2.34</td>\n",
       "    </tr>\n",
       "    <tr>\n",
       "      <th>2023-01-01 12:00:00</th>\n",
       "      <td>F</td>\n",
       "      <td>True</td>\n",
       "      <td>400.0</td>\n",
       "      <td>NaN</td>\n",
       "      <td>2.2</td>\n",
       "      <td>2.71</td>\n",
       "      <td>2.45</td>\n",
       "    </tr>\n",
       "    <tr>\n",
       "      <th>2023-01-01 16:00:00</th>\n",
       "      <td>G</td>\n",
       "      <td>False</td>\n",
       "      <td>9.0</td>\n",
       "      <td>1.0</td>\n",
       "      <td>1.1</td>\n",
       "      <td>3.58</td>\n",
       "      <td>0.98</td>\n",
       "    </tr>\n",
       "    <tr>\n",
       "      <th>2023-01-01 17:00:00</th>\n",
       "      <td>H</td>\n",
       "      <td>True</td>\n",
       "      <td>11.0</td>\n",
       "      <td>4.0</td>\n",
       "      <td>0.9</td>\n",
       "      <td>4.12</td>\n",
       "      <td>1.05</td>\n",
       "    </tr>\n",
       "    <tr>\n",
       "      <th>2023-01-01 18:00:00</th>\n",
       "      <td>I</td>\n",
       "      <td>True</td>\n",
       "      <td>11.3</td>\n",
       "      <td>6.0</td>\n",
       "      <td>3.3</td>\n",
       "      <td>3.33</td>\n",
       "      <td>1.67</td>\n",
       "    </tr>\n",
       "    <tr>\n",
       "      <th>2023-01-01 19:00:00</th>\n",
       "      <td>J</td>\n",
       "      <td>False</td>\n",
       "      <td>10.0</td>\n",
       "      <td>9.0</td>\n",
       "      <td>4.1</td>\n",
       "      <td>2.98</td>\n",
       "      <td>2.89</td>\n",
       "    </tr>\n",
       "    <tr>\n",
       "      <th>2023-01-01 20:00:00</th>\n",
       "      <td>K</td>\n",
       "      <td>&lt;NA&gt;</td>\n",
       "      <td>NaN</td>\n",
       "      <td>NaN</td>\n",
       "      <td>NaN</td>\n",
       "      <td>3.87</td>\n",
       "      <td>NaN</td>\n",
       "    </tr>\n",
       "  </tbody>\n",
       "</table>\n",
       "</div>"
      ],
      "text/plain": [
       "                    label  valid  value1  value2  value3  value4  value5\n",
       "timestamp                                                               \n",
       "2023-01-01 07:00:00     A   True     9.0     2.0     3.1    0.98    1.23\n",
       "2023-01-01 08:00:00     B  False    11.0     NaN     0.4    0.40    1.11\n",
       "2023-01-01 10:00:00     D   True     9.5     5.0     NaN    2.56     NaN\n",
       "2023-01-01 10:15:00     C   True    10.2     8.0     5.6     NaN     NaN\n",
       "2023-01-01 11:00:00     E  False    15.0     7.0     4.4    3.14    2.34\n",
       "2023-01-01 12:00:00     F   True   400.0     NaN     2.2    2.71    2.45\n",
       "2023-01-01 16:00:00     G  False     9.0     1.0     1.1    3.58    0.98\n",
       "2023-01-01 17:00:00     H   True    11.0     4.0     0.9    4.12    1.05\n",
       "2023-01-01 18:00:00     I   True    11.3     6.0     3.3    3.33    1.67\n",
       "2023-01-01 19:00:00     J  False    10.0     9.0     4.1    2.98    2.89\n",
       "2023-01-01 20:00:00     K   <NA>     NaN     NaN     NaN    3.87     NaN"
      ]
     },
     "execution_count": 18,
     "metadata": {},
     "output_type": "execute_result"
    }
   ],
   "source": [
    "df"
   ]
  },
  {
   "cell_type": "markdown",
   "id": "708e02eec2e5636e",
   "metadata": {},
   "source": [
    "## Examine missing data\n",
    "As you can see, there are rows containing NaNs. A check if there are NaNs anywhere in a DataFrame is an important quality check at the beginning of any analysis task and good scientific practice.\n",
    "\n",
    "Pandas' [`isnull`](https://pandas.pydata.org/docs/reference/api/pandas.DataFrame.isnull.html) provides a boolean masking of the DataFrame with `True / False` values, where `True` indicates a NaN."
   ]
  },
  {
   "cell_type": "code",
   "execution_count": 19,
   "id": "d3710b568ce96445",
   "metadata": {
    "ExecuteTime": {
     "end_time": "2024-04-30T14:20:47.711759Z",
     "start_time": "2024-04-30T14:20:47.706975Z"
    }
   },
   "outputs": [
    {
     "data": {
      "text/html": [
       "<div>\n",
       "<style scoped>\n",
       "    .dataframe tbody tr th:only-of-type {\n",
       "        vertical-align: middle;\n",
       "    }\n",
       "\n",
       "    .dataframe tbody tr th {\n",
       "        vertical-align: top;\n",
       "    }\n",
       "\n",
       "    .dataframe thead th {\n",
       "        text-align: right;\n",
       "    }\n",
       "</style>\n",
       "<table border=\"1\" class=\"dataframe\">\n",
       "  <thead>\n",
       "    <tr style=\"text-align: right;\">\n",
       "      <th></th>\n",
       "      <th>label</th>\n",
       "      <th>valid</th>\n",
       "      <th>value1</th>\n",
       "      <th>value2</th>\n",
       "      <th>value3</th>\n",
       "      <th>value4</th>\n",
       "      <th>value5</th>\n",
       "    </tr>\n",
       "    <tr>\n",
       "      <th>timestamp</th>\n",
       "      <th></th>\n",
       "      <th></th>\n",
       "      <th></th>\n",
       "      <th></th>\n",
       "      <th></th>\n",
       "      <th></th>\n",
       "      <th></th>\n",
       "    </tr>\n",
       "  </thead>\n",
       "  <tbody>\n",
       "    <tr>\n",
       "      <th>2023-01-01 07:00:00</th>\n",
       "      <td>False</td>\n",
       "      <td>False</td>\n",
       "      <td>False</td>\n",
       "      <td>False</td>\n",
       "      <td>False</td>\n",
       "      <td>False</td>\n",
       "      <td>False</td>\n",
       "    </tr>\n",
       "    <tr>\n",
       "      <th>2023-01-01 08:00:00</th>\n",
       "      <td>False</td>\n",
       "      <td>False</td>\n",
       "      <td>False</td>\n",
       "      <td>True</td>\n",
       "      <td>False</td>\n",
       "      <td>False</td>\n",
       "      <td>False</td>\n",
       "    </tr>\n",
       "    <tr>\n",
       "      <th>2023-01-01 10:00:00</th>\n",
       "      <td>False</td>\n",
       "      <td>False</td>\n",
       "      <td>False</td>\n",
       "      <td>False</td>\n",
       "      <td>True</td>\n",
       "      <td>False</td>\n",
       "      <td>True</td>\n",
       "    </tr>\n",
       "    <tr>\n",
       "      <th>2023-01-01 10:15:00</th>\n",
       "      <td>False</td>\n",
       "      <td>False</td>\n",
       "      <td>False</td>\n",
       "      <td>False</td>\n",
       "      <td>False</td>\n",
       "      <td>True</td>\n",
       "      <td>True</td>\n",
       "    </tr>\n",
       "    <tr>\n",
       "      <th>2023-01-01 11:00:00</th>\n",
       "      <td>False</td>\n",
       "      <td>False</td>\n",
       "      <td>False</td>\n",
       "      <td>False</td>\n",
       "      <td>False</td>\n",
       "      <td>False</td>\n",
       "      <td>False</td>\n",
       "    </tr>\n",
       "    <tr>\n",
       "      <th>2023-01-01 12:00:00</th>\n",
       "      <td>False</td>\n",
       "      <td>False</td>\n",
       "      <td>False</td>\n",
       "      <td>True</td>\n",
       "      <td>False</td>\n",
       "      <td>False</td>\n",
       "      <td>False</td>\n",
       "    </tr>\n",
       "    <tr>\n",
       "      <th>2023-01-01 16:00:00</th>\n",
       "      <td>False</td>\n",
       "      <td>False</td>\n",
       "      <td>False</td>\n",
       "      <td>False</td>\n",
       "      <td>False</td>\n",
       "      <td>False</td>\n",
       "      <td>False</td>\n",
       "    </tr>\n",
       "    <tr>\n",
       "      <th>2023-01-01 17:00:00</th>\n",
       "      <td>False</td>\n",
       "      <td>False</td>\n",
       "      <td>False</td>\n",
       "      <td>False</td>\n",
       "      <td>False</td>\n",
       "      <td>False</td>\n",
       "      <td>False</td>\n",
       "    </tr>\n",
       "    <tr>\n",
       "      <th>2023-01-01 18:00:00</th>\n",
       "      <td>False</td>\n",
       "      <td>False</td>\n",
       "      <td>False</td>\n",
       "      <td>False</td>\n",
       "      <td>False</td>\n",
       "      <td>False</td>\n",
       "      <td>False</td>\n",
       "    </tr>\n",
       "    <tr>\n",
       "      <th>2023-01-01 19:00:00</th>\n",
       "      <td>False</td>\n",
       "      <td>False</td>\n",
       "      <td>False</td>\n",
       "      <td>False</td>\n",
       "      <td>False</td>\n",
       "      <td>False</td>\n",
       "      <td>False</td>\n",
       "    </tr>\n",
       "    <tr>\n",
       "      <th>2023-01-01 20:00:00</th>\n",
       "      <td>False</td>\n",
       "      <td>True</td>\n",
       "      <td>True</td>\n",
       "      <td>True</td>\n",
       "      <td>True</td>\n",
       "      <td>False</td>\n",
       "      <td>True</td>\n",
       "    </tr>\n",
       "  </tbody>\n",
       "</table>\n",
       "</div>"
      ],
      "text/plain": [
       "                     label  valid  value1  value2  value3  value4  value5\n",
       "timestamp                                                                \n",
       "2023-01-01 07:00:00  False  False   False   False   False   False   False\n",
       "2023-01-01 08:00:00  False  False   False    True   False   False   False\n",
       "2023-01-01 10:00:00  False  False   False   False    True   False    True\n",
       "2023-01-01 10:15:00  False  False   False   False   False    True    True\n",
       "2023-01-01 11:00:00  False  False   False   False   False   False   False\n",
       "2023-01-01 12:00:00  False  False   False    True   False   False   False\n",
       "2023-01-01 16:00:00  False  False   False   False   False   False   False\n",
       "2023-01-01 17:00:00  False  False   False   False   False   False   False\n",
       "2023-01-01 18:00:00  False  False   False   False   False   False   False\n",
       "2023-01-01 19:00:00  False  False   False   False   False   False   False\n",
       "2023-01-01 20:00:00  False   True    True    True    True   False    True"
      ]
     },
     "execution_count": 19,
     "metadata": {},
     "output_type": "execute_result"
    }
   ],
   "source": [
    "df.isnull()"
   ]
  },
  {
   "cell_type": "markdown",
   "id": "9eaf9281e0139a63",
   "metadata": {},
   "source": [
    "With this boolean masking, we can do some further analysis. And since `True / False` can also be interpreted as `1 / 0`, we also can do math with it."
   ]
  },
  {
   "cell_type": "code",
   "execution_count": 20,
   "id": "4b4ed037794ffc55",
   "metadata": {
    "ExecuteTime": {
     "end_time": "2024-04-30T14:20:47.714728Z",
     "start_time": "2024-04-30T14:20:47.712391Z"
    }
   },
   "outputs": [
    {
     "data": {
      "text/plain": [
       "np.True_"
      ]
     },
     "execution_count": 20,
     "metadata": {},
     "output_type": "execute_result"
    }
   ],
   "source": [
    "# Check if there are any NaN in the data\n",
    "df.isna().values.any()"
   ]
  },
  {
   "cell_type": "code",
   "execution_count": 21,
   "id": "d59d344e92e2ae87",
   "metadata": {
    "ExecuteTime": {
     "end_time": "2024-04-30T14:20:47.718426Z",
     "start_time": "2024-04-30T14:20:47.715408Z"
    }
   },
   "outputs": [
    {
     "data": {
      "text/plain": [
       "value2    3\n",
       "value5    3\n",
       "value3    2\n",
       "valid     1\n",
       "value1    1\n",
       "value4    1\n",
       "label     0\n",
       "dtype: int64"
      ]
     },
     "execution_count": 21,
     "metadata": {},
     "output_type": "execute_result"
    }
   ],
   "source": [
    "# Get a column-wise overview of NaN and count them\n",
    "df.isnull().sum().sort_values(ascending=False)"
   ]
  },
  {
   "cell_type": "code",
   "execution_count": 22,
   "id": "b3fad4a528ba7e65",
   "metadata": {
    "ExecuteTime": {
     "end_time": "2024-04-30T14:20:47.722185Z",
     "start_time": "2024-04-30T14:20:47.719081Z"
    }
   },
   "outputs": [
    {
     "data": {
      "text/plain": [
       "value2    27.272727\n",
       "value5    27.272727\n",
       "value3    18.181818\n",
       "valid      9.090909\n",
       "value1     9.090909\n",
       "value4     9.090909\n",
       "label      0.000000\n",
       "dtype: float64"
      ]
     },
     "execution_count": 22,
     "metadata": {},
     "output_type": "execute_result"
    }
   ],
   "source": [
    "# Compute the column-wise percentage of NaN\n",
    "df.isnull().mean().sort_values(ascending=False) * 100"
   ]
  },
  {
   "cell_type": "markdown",
   "id": "304fd1003634fdef",
   "metadata": {},
   "source": [
    "For most DataFrame methods, we can provide the parameter `axis`, determining whether the computation should be done on the columns or the rows / index."
   ]
  },
  {
   "cell_type": "code",
   "execution_count": 23,
   "id": "9e157ba21e96166f",
   "metadata": {
    "ExecuteTime": {
     "end_time": "2024-04-30T14:20:47.726170Z",
     "start_time": "2024-04-30T14:20:47.722843Z"
    }
   },
   "outputs": [
    {
     "data": {
      "text/plain": [
       "timestamp\n",
       "2023-01-01 20:00:00    71.428571\n",
       "2023-01-01 10:00:00    28.571429\n",
       "2023-01-01 10:15:00    28.571429\n",
       "2023-01-01 08:00:00    14.285714\n",
       "2023-01-01 12:00:00    14.285714\n",
       "2023-01-01 07:00:00     0.000000\n",
       "2023-01-01 11:00:00     0.000000\n",
       "2023-01-01 16:00:00     0.000000\n",
       "2023-01-01 17:00:00     0.000000\n",
       "2023-01-01 18:00:00     0.000000\n",
       "2023-01-01 19:00:00     0.000000\n",
       "dtype: float64"
      ]
     },
     "execution_count": 23,
     "metadata": {},
     "output_type": "execute_result"
    }
   ],
   "source": [
    "# Compute the row-wise percentage of NaN\n",
    "df.isnull().mean(axis=1).sort_values(ascending=False) * 100"
   ]
  },
  {
   "cell_type": "markdown",
   "id": "aac43fb2447804bb",
   "metadata": {},
   "source": [
    "We may also want to the subset of rows containing NaNs. Here, we can combine the indexing with a boolean masking for existing NaN:"
   ]
  },
  {
   "cell_type": "code",
   "execution_count": 24,
   "id": "5eae5973f5092d92",
   "metadata": {
    "ExecuteTime": {
     "end_time": "2024-04-30T14:20:47.729600Z",
     "start_time": "2024-04-30T14:20:47.727054Z"
    }
   },
   "outputs": [
    {
     "data": {
      "text/html": [
       "<div>\n",
       "<style scoped>\n",
       "    .dataframe tbody tr th:only-of-type {\n",
       "        vertical-align: middle;\n",
       "    }\n",
       "\n",
       "    .dataframe tbody tr th {\n",
       "        vertical-align: top;\n",
       "    }\n",
       "\n",
       "    .dataframe thead th {\n",
       "        text-align: right;\n",
       "    }\n",
       "</style>\n",
       "<table border=\"1\" class=\"dataframe\">\n",
       "  <thead>\n",
       "    <tr style=\"text-align: right;\">\n",
       "      <th></th>\n",
       "      <th>label</th>\n",
       "      <th>valid</th>\n",
       "      <th>value1</th>\n",
       "      <th>value2</th>\n",
       "      <th>value3</th>\n",
       "      <th>value4</th>\n",
       "      <th>value5</th>\n",
       "    </tr>\n",
       "    <tr>\n",
       "      <th>timestamp</th>\n",
       "      <th></th>\n",
       "      <th></th>\n",
       "      <th></th>\n",
       "      <th></th>\n",
       "      <th></th>\n",
       "      <th></th>\n",
       "      <th></th>\n",
       "    </tr>\n",
       "  </thead>\n",
       "  <tbody>\n",
       "    <tr>\n",
       "      <th>2023-01-01 08:00:00</th>\n",
       "      <td>B</td>\n",
       "      <td>False</td>\n",
       "      <td>11.0</td>\n",
       "      <td>NaN</td>\n",
       "      <td>0.4</td>\n",
       "      <td>0.40</td>\n",
       "      <td>1.11</td>\n",
       "    </tr>\n",
       "    <tr>\n",
       "      <th>2023-01-01 10:00:00</th>\n",
       "      <td>D</td>\n",
       "      <td>True</td>\n",
       "      <td>9.5</td>\n",
       "      <td>5.0</td>\n",
       "      <td>NaN</td>\n",
       "      <td>2.56</td>\n",
       "      <td>NaN</td>\n",
       "    </tr>\n",
       "    <tr>\n",
       "      <th>2023-01-01 10:15:00</th>\n",
       "      <td>C</td>\n",
       "      <td>True</td>\n",
       "      <td>10.2</td>\n",
       "      <td>8.0</td>\n",
       "      <td>5.6</td>\n",
       "      <td>NaN</td>\n",
       "      <td>NaN</td>\n",
       "    </tr>\n",
       "    <tr>\n",
       "      <th>2023-01-01 12:00:00</th>\n",
       "      <td>F</td>\n",
       "      <td>True</td>\n",
       "      <td>400.0</td>\n",
       "      <td>NaN</td>\n",
       "      <td>2.2</td>\n",
       "      <td>2.71</td>\n",
       "      <td>2.45</td>\n",
       "    </tr>\n",
       "    <tr>\n",
       "      <th>2023-01-01 20:00:00</th>\n",
       "      <td>K</td>\n",
       "      <td>&lt;NA&gt;</td>\n",
       "      <td>NaN</td>\n",
       "      <td>NaN</td>\n",
       "      <td>NaN</td>\n",
       "      <td>3.87</td>\n",
       "      <td>NaN</td>\n",
       "    </tr>\n",
       "  </tbody>\n",
       "</table>\n",
       "</div>"
      ],
      "text/plain": [
       "                    label  valid  value1  value2  value3  value4  value5\n",
       "timestamp                                                               \n",
       "2023-01-01 08:00:00     B  False    11.0     NaN     0.4    0.40    1.11\n",
       "2023-01-01 10:00:00     D   True     9.5     5.0     NaN    2.56     NaN\n",
       "2023-01-01 10:15:00     C   True    10.2     8.0     5.6     NaN     NaN\n",
       "2023-01-01 12:00:00     F   True   400.0     NaN     2.2    2.71    2.45\n",
       "2023-01-01 20:00:00     K   <NA>     NaN     NaN     NaN    3.87     NaN"
      ]
     },
     "execution_count": 24,
     "metadata": {},
     "output_type": "execute_result"
    }
   ],
   "source": [
    "df.loc[df.isnull().any(axis=1)]"
   ]
  },
  {
   "cell_type": "markdown",
   "id": "efd4c9f8af24aff1",
   "metadata": {},
   "source": [
    "## Handling NaNs - Drop data\n",
    "\n",
    "Depending on what kind of data analysis should be performed, it might make sense to just ignore rows and columns that contain NaN values. Alternatively, it is possible to delete rows or columns that contain NaNs. We may also use different methods to impute missing data and fill the gaps, where we should consider that those values may not represent the \"real world\" and may have an impact on further data analysis.\n",
    "\n",
    "It always depends on your project, the data, and what is important or not for your analysis. It's not an easy answer. Whatever the solution will be, it should be documented and this info should also be provided in any scientific publication based on this data.\n",
    "\n",
    "In this case, we'll use [`dropna()`](https://pandas.pydata.org/docs/reference/api/pandas.DataFrame.dropna.html) to remove all rows (`index`) which have `any` missing data."
   ]
  },
  {
   "cell_type": "code",
   "execution_count": 25,
   "id": "a1aa373780c55d90",
   "metadata": {
    "ExecuteTime": {
     "end_time": "2024-04-30T14:20:47.735413Z",
     "start_time": "2024-04-30T14:20:47.731334Z"
    }
   },
   "outputs": [
    {
     "name": "stdout",
     "output_type": "stream",
     "text": [
      "<class 'pandas.core.frame.DataFrame'>\n",
      "DatetimeIndex: 6 entries, 2023-01-01 07:00:00 to 2023-01-01 19:00:00\n",
      "Data columns (total 7 columns):\n",
      " #   Column  Non-Null Count  Dtype  \n",
      "---  ------  --------------  -----  \n",
      " 0   label   6 non-null      string \n",
      " 1   valid   6 non-null      boolean\n",
      " 2   value1  6 non-null      float64\n",
      " 3   value2  6 non-null      float64\n",
      " 4   value3  6 non-null      float64\n",
      " 5   value4  6 non-null      float64\n",
      " 6   value5  6 non-null      float64\n",
      "dtypes: boolean(1), float64(5), string(1)\n",
      "memory usage: 348.0 bytes\n"
     ]
    }
   ],
   "source": [
    "df_no_nan = df.dropna(axis='index', how='any')\n",
    "df_no_nan.info()"
   ]
  },
  {
   "cell_type": "markdown",
   "id": "8d90e303fde9703d",
   "metadata": {},
   "source": [
    "We can now also check again if NaNs are present."
   ]
  },
  {
   "cell_type": "code",
   "execution_count": 26,
   "id": "567644dd2c2afdb8",
   "metadata": {
    "ExecuteTime": {
     "end_time": "2024-04-30T14:20:47.738411Z",
     "start_time": "2024-04-30T14:20:47.736107Z"
    }
   },
   "outputs": [
    {
     "data": {
      "text/plain": [
       "np.False_"
      ]
     },
     "execution_count": 26,
     "metadata": {},
     "output_type": "execute_result"
    }
   ],
   "source": [
    "df_no_nan.isnull().values.any()"
   ]
  },
  {
   "cell_type": "markdown",
   "id": "68b00bce75e41b75",
   "metadata": {},
   "source": [
    "## Exercise\n",
    "\n",
    "Instead of removing rows with any missing data, remove all rows that contain more than 50% of NaN. Refer to the docs for [`dopna()`](https://pandas.pydata.org/docs/reference/api/pandas.DataFrame.dropna.html) for help."
   ]
  },
  {
   "cell_type": "code",
   "execution_count": null,
   "id": "8f3bc5b3f1fece28",
   "metadata": {
    "ExecuteTime": {
     "end_time": "2024-04-30T14:20:47.740123Z",
     "start_time": "2024-04-30T14:20:47.738986Z"
    }
   },
   "outputs": [],
   "source": []
  },
  {
   "cell_type": "markdown",
   "id": "aa86fbb9",
   "metadata": {},
   "source": [
    "## Handling NaNs - Imputation\n",
    "\n",
    "Instead of dropping incomplete data, we can try to impute data to fill the gaps. Pandas provides basic methods to [fill missing data](https://pandas.pydata.org/docs/user_guide/missing_data.html#filling-missing-data), while other libraries also provide more sophisticated approaches, e.g.:\n",
    "* [scikit-learn - Imputation of missing values](https://scikit-learn.org/stable/modules/impute.html)"
   ]
  },
  {
   "cell_type": "code",
   "execution_count": 27,
   "id": "2c2c6e1c",
   "metadata": {},
   "outputs": [
    {
     "data": {
      "text/html": [
       "<div>\n",
       "<style scoped>\n",
       "    .dataframe tbody tr th:only-of-type {\n",
       "        vertical-align: middle;\n",
       "    }\n",
       "\n",
       "    .dataframe tbody tr th {\n",
       "        vertical-align: top;\n",
       "    }\n",
       "\n",
       "    .dataframe thead th {\n",
       "        text-align: right;\n",
       "    }\n",
       "</style>\n",
       "<table border=\"1\" class=\"dataframe\">\n",
       "  <thead>\n",
       "    <tr style=\"text-align: right;\">\n",
       "      <th></th>\n",
       "      <th>label</th>\n",
       "      <th>valid</th>\n",
       "      <th>value1</th>\n",
       "      <th>value2</th>\n",
       "      <th>value3</th>\n",
       "      <th>value4</th>\n",
       "      <th>value5</th>\n",
       "    </tr>\n",
       "    <tr>\n",
       "      <th>timestamp</th>\n",
       "      <th></th>\n",
       "      <th></th>\n",
       "      <th></th>\n",
       "      <th></th>\n",
       "      <th></th>\n",
       "      <th></th>\n",
       "      <th></th>\n",
       "    </tr>\n",
       "  </thead>\n",
       "  <tbody>\n",
       "    <tr>\n",
       "      <th>2023-01-01 07:00:00</th>\n",
       "      <td>A</td>\n",
       "      <td>True</td>\n",
       "      <td>9.0</td>\n",
       "      <td>2.00</td>\n",
       "      <td>3.100000</td>\n",
       "      <td>0.980</td>\n",
       "      <td>1.230</td>\n",
       "    </tr>\n",
       "    <tr>\n",
       "      <th>2023-01-01 08:00:00</th>\n",
       "      <td>B</td>\n",
       "      <td>False</td>\n",
       "      <td>11.0</td>\n",
       "      <td>5.25</td>\n",
       "      <td>0.400000</td>\n",
       "      <td>0.400</td>\n",
       "      <td>1.110</td>\n",
       "    </tr>\n",
       "    <tr>\n",
       "      <th>2023-01-01 10:00:00</th>\n",
       "      <td>D</td>\n",
       "      <td>True</td>\n",
       "      <td>9.5</td>\n",
       "      <td>5.00</td>\n",
       "      <td>2.788889</td>\n",
       "      <td>2.560</td>\n",
       "      <td>1.715</td>\n",
       "    </tr>\n",
       "    <tr>\n",
       "      <th>2023-01-01 10:15:00</th>\n",
       "      <td>C</td>\n",
       "      <td>True</td>\n",
       "      <td>10.2</td>\n",
       "      <td>8.00</td>\n",
       "      <td>5.600000</td>\n",
       "      <td>2.767</td>\n",
       "      <td>1.715</td>\n",
       "    </tr>\n",
       "    <tr>\n",
       "      <th>2023-01-01 11:00:00</th>\n",
       "      <td>E</td>\n",
       "      <td>False</td>\n",
       "      <td>15.0</td>\n",
       "      <td>7.00</td>\n",
       "      <td>4.400000</td>\n",
       "      <td>3.140</td>\n",
       "      <td>2.340</td>\n",
       "    </tr>\n",
       "    <tr>\n",
       "      <th>2023-01-01 12:00:00</th>\n",
       "      <td>F</td>\n",
       "      <td>True</td>\n",
       "      <td>400.0</td>\n",
       "      <td>5.25</td>\n",
       "      <td>2.200000</td>\n",
       "      <td>2.710</td>\n",
       "      <td>2.450</td>\n",
       "    </tr>\n",
       "    <tr>\n",
       "      <th>2023-01-01 16:00:00</th>\n",
       "      <td>G</td>\n",
       "      <td>False</td>\n",
       "      <td>9.0</td>\n",
       "      <td>1.00</td>\n",
       "      <td>1.100000</td>\n",
       "      <td>3.580</td>\n",
       "      <td>0.980</td>\n",
       "    </tr>\n",
       "    <tr>\n",
       "      <th>2023-01-01 17:00:00</th>\n",
       "      <td>H</td>\n",
       "      <td>True</td>\n",
       "      <td>11.0</td>\n",
       "      <td>4.00</td>\n",
       "      <td>0.900000</td>\n",
       "      <td>4.120</td>\n",
       "      <td>1.050</td>\n",
       "    </tr>\n",
       "    <tr>\n",
       "      <th>2023-01-01 18:00:00</th>\n",
       "      <td>I</td>\n",
       "      <td>True</td>\n",
       "      <td>11.3</td>\n",
       "      <td>6.00</td>\n",
       "      <td>3.300000</td>\n",
       "      <td>3.330</td>\n",
       "      <td>1.670</td>\n",
       "    </tr>\n",
       "    <tr>\n",
       "      <th>2023-01-01 19:00:00</th>\n",
       "      <td>J</td>\n",
       "      <td>False</td>\n",
       "      <td>10.0</td>\n",
       "      <td>9.00</td>\n",
       "      <td>4.100000</td>\n",
       "      <td>2.980</td>\n",
       "      <td>2.890</td>\n",
       "    </tr>\n",
       "    <tr>\n",
       "      <th>2023-01-01 20:00:00</th>\n",
       "      <td>K</td>\n",
       "      <td>&lt;NA&gt;</td>\n",
       "      <td>49.6</td>\n",
       "      <td>5.25</td>\n",
       "      <td>2.788889</td>\n",
       "      <td>3.870</td>\n",
       "      <td>1.715</td>\n",
       "    </tr>\n",
       "  </tbody>\n",
       "</table>\n",
       "</div>"
      ],
      "text/plain": [
       "                    label  valid  value1  value2    value3  value4  value5\n",
       "timestamp                                                                 \n",
       "2023-01-01 07:00:00     A   True     9.0    2.00  3.100000   0.980   1.230\n",
       "2023-01-01 08:00:00     B  False    11.0    5.25  0.400000   0.400   1.110\n",
       "2023-01-01 10:00:00     D   True     9.5    5.00  2.788889   2.560   1.715\n",
       "2023-01-01 10:15:00     C   True    10.2    8.00  5.600000   2.767   1.715\n",
       "2023-01-01 11:00:00     E  False    15.0    7.00  4.400000   3.140   2.340\n",
       "2023-01-01 12:00:00     F   True   400.0    5.25  2.200000   2.710   2.450\n",
       "2023-01-01 16:00:00     G  False     9.0    1.00  1.100000   3.580   0.980\n",
       "2023-01-01 17:00:00     H   True    11.0    4.00  0.900000   4.120   1.050\n",
       "2023-01-01 18:00:00     I   True    11.3    6.00  3.300000   3.330   1.670\n",
       "2023-01-01 19:00:00     J  False    10.0    9.00  4.100000   2.980   2.890\n",
       "2023-01-01 20:00:00     K   <NA>    49.6    5.25  2.788889   3.870   1.715"
      ]
     },
     "execution_count": 27,
     "metadata": {},
     "output_type": "execute_result"
    }
   ],
   "source": [
    "# Fill missing numerical values with the mean of the column\n",
    "df.fillna(df.select_dtypes(include='number').mean())"
   ]
  },
  {
   "cell_type": "code",
   "execution_count": 28,
   "id": "953372c0",
   "metadata": {},
   "outputs": [
    {
     "data": {
      "text/html": [
       "<div>\n",
       "<style scoped>\n",
       "    .dataframe tbody tr th:only-of-type {\n",
       "        vertical-align: middle;\n",
       "    }\n",
       "\n",
       "    .dataframe tbody tr th {\n",
       "        vertical-align: top;\n",
       "    }\n",
       "\n",
       "    .dataframe thead th {\n",
       "        text-align: right;\n",
       "    }\n",
       "</style>\n",
       "<table border=\"1\" class=\"dataframe\">\n",
       "  <thead>\n",
       "    <tr style=\"text-align: right;\">\n",
       "      <th></th>\n",
       "      <th>label</th>\n",
       "      <th>valid</th>\n",
       "      <th>value1</th>\n",
       "      <th>value2</th>\n",
       "      <th>value3</th>\n",
       "      <th>value4</th>\n",
       "      <th>value5</th>\n",
       "    </tr>\n",
       "    <tr>\n",
       "      <th>timestamp</th>\n",
       "      <th></th>\n",
       "      <th></th>\n",
       "      <th></th>\n",
       "      <th></th>\n",
       "      <th></th>\n",
       "      <th></th>\n",
       "      <th></th>\n",
       "    </tr>\n",
       "  </thead>\n",
       "  <tbody>\n",
       "    <tr>\n",
       "      <th>2023-01-01 07:00:00</th>\n",
       "      <td>A</td>\n",
       "      <td>True</td>\n",
       "      <td>9.0</td>\n",
       "      <td>2.0</td>\n",
       "      <td>3.1</td>\n",
       "      <td>0.98</td>\n",
       "      <td>1.23</td>\n",
       "    </tr>\n",
       "    <tr>\n",
       "      <th>2023-01-01 08:00:00</th>\n",
       "      <td>B</td>\n",
       "      <td>False</td>\n",
       "      <td>11.0</td>\n",
       "      <td>NaN</td>\n",
       "      <td>0.4</td>\n",
       "      <td>0.40</td>\n",
       "      <td>1.11</td>\n",
       "    </tr>\n",
       "    <tr>\n",
       "      <th>2023-01-01 10:00:00</th>\n",
       "      <td>D</td>\n",
       "      <td>True</td>\n",
       "      <td>9.5</td>\n",
       "      <td>5.0</td>\n",
       "      <td>NaN</td>\n",
       "      <td>2.56</td>\n",
       "      <td>NaN</td>\n",
       "    </tr>\n",
       "    <tr>\n",
       "      <th>2023-01-01 10:15:00</th>\n",
       "      <td>C</td>\n",
       "      <td>True</td>\n",
       "      <td>10.2</td>\n",
       "      <td>8.0</td>\n",
       "      <td>5.6</td>\n",
       "      <td>NaN</td>\n",
       "      <td>NaN</td>\n",
       "    </tr>\n",
       "    <tr>\n",
       "      <th>2023-01-01 11:00:00</th>\n",
       "      <td>E</td>\n",
       "      <td>False</td>\n",
       "      <td>15.0</td>\n",
       "      <td>7.0</td>\n",
       "      <td>4.4</td>\n",
       "      <td>3.14</td>\n",
       "      <td>2.34</td>\n",
       "    </tr>\n",
       "    <tr>\n",
       "      <th>2023-01-01 12:00:00</th>\n",
       "      <td>F</td>\n",
       "      <td>True</td>\n",
       "      <td>400.0</td>\n",
       "      <td>NaN</td>\n",
       "      <td>2.2</td>\n",
       "      <td>2.71</td>\n",
       "      <td>2.45</td>\n",
       "    </tr>\n",
       "    <tr>\n",
       "      <th>2023-01-01 16:00:00</th>\n",
       "      <td>G</td>\n",
       "      <td>False</td>\n",
       "      <td>9.0</td>\n",
       "      <td>1.0</td>\n",
       "      <td>1.1</td>\n",
       "      <td>3.58</td>\n",
       "      <td>0.98</td>\n",
       "    </tr>\n",
       "    <tr>\n",
       "      <th>2023-01-01 17:00:00</th>\n",
       "      <td>H</td>\n",
       "      <td>True</td>\n",
       "      <td>11.0</td>\n",
       "      <td>4.0</td>\n",
       "      <td>0.9</td>\n",
       "      <td>4.12</td>\n",
       "      <td>1.05</td>\n",
       "    </tr>\n",
       "    <tr>\n",
       "      <th>2023-01-01 18:00:00</th>\n",
       "      <td>I</td>\n",
       "      <td>True</td>\n",
       "      <td>11.3</td>\n",
       "      <td>6.0</td>\n",
       "      <td>3.3</td>\n",
       "      <td>3.33</td>\n",
       "      <td>1.67</td>\n",
       "    </tr>\n",
       "    <tr>\n",
       "      <th>2023-01-01 19:00:00</th>\n",
       "      <td>J</td>\n",
       "      <td>False</td>\n",
       "      <td>10.0</td>\n",
       "      <td>9.0</td>\n",
       "      <td>4.1</td>\n",
       "      <td>2.98</td>\n",
       "      <td>2.89</td>\n",
       "    </tr>\n",
       "    <tr>\n",
       "      <th>2023-01-01 20:00:00</th>\n",
       "      <td>K</td>\n",
       "      <td>True</td>\n",
       "      <td>NaN</td>\n",
       "      <td>NaN</td>\n",
       "      <td>NaN</td>\n",
       "      <td>3.87</td>\n",
       "      <td>NaN</td>\n",
       "    </tr>\n",
       "  </tbody>\n",
       "</table>\n",
       "</div>"
      ],
      "text/plain": [
       "                    label  valid  value1  value2  value3  value4  value5\n",
       "timestamp                                                               \n",
       "2023-01-01 07:00:00     A   True     9.0     2.0     3.1    0.98    1.23\n",
       "2023-01-01 08:00:00     B  False    11.0     NaN     0.4    0.40    1.11\n",
       "2023-01-01 10:00:00     D   True     9.5     5.0     NaN    2.56     NaN\n",
       "2023-01-01 10:15:00     C   True    10.2     8.0     5.6     NaN     NaN\n",
       "2023-01-01 11:00:00     E  False    15.0     7.0     4.4    3.14    2.34\n",
       "2023-01-01 12:00:00     F   True   400.0     NaN     2.2    2.71    2.45\n",
       "2023-01-01 16:00:00     G  False     9.0     1.0     1.1    3.58    0.98\n",
       "2023-01-01 17:00:00     H   True    11.0     4.0     0.9    4.12    1.05\n",
       "2023-01-01 18:00:00     I   True    11.3     6.0     3.3    3.33    1.67\n",
       "2023-01-01 19:00:00     J  False    10.0     9.0     4.1    2.98    2.89\n",
       "2023-01-01 20:00:00     K   True     NaN     NaN     NaN    3.87     NaN"
      ]
     },
     "execution_count": 28,
     "metadata": {},
     "output_type": "execute_result"
    }
   ],
   "source": [
    "# Fill missing boolean values with the most frequent one\n",
    "df.fillna(df.select_dtypes(include='boolean').mode().iloc[0])"
   ]
  },
  {
   "cell_type": "code",
   "execution_count": 29,
   "id": "3eaece04",
   "metadata": {},
   "outputs": [
    {
     "data": {
      "image/png": "[encoded data removed]",
      "text/plain": [
       "<Figure size 640x480 with 1 Axes>"
      ]
     },
     "metadata": {},
     "output_type": "display_data"
    }
   ],
   "source": [
    "# We can also try to interpolate missing values\n",
    "df['value3'].plot(style=\"o-\", legend=True)\n",
    "# Interpolate privides different methods, e.g linear, quadratic, etc\n",
    "df['value3'].interpolate(method='linear').plot(style=\"--\")\n",
    "plt.show()"
   ]
  },
  {
   "cell_type": "markdown",
   "id": "a998f588",
   "metadata": {},
   "source": [
    "## Exercise\n",
    "\n",
    "Lets combine all this to\n",
    "* fill missing boolean values via mode\n",
    "* fill missing numerical values by linear interpolation\n",
    "\n",
    "You may want to consider the use of [`apply()`](https://pandas.pydata.org/docs/reference/api/pandas.DataFrame.apply.html), to apply according methods to each column.\n",
    "\n",
    "Save the result to `data/filled_measurements.csv`"
   ]
  },
  {
   "cell_type": "code",
   "execution_count": null,
   "id": "f49f08d3",
   "metadata": {},
   "outputs": [],
   "source": []
  }
 ],
 "metadata": {
  "kernelspec": {
   "display_name": "iom-env",
   "language": "python",
   "name": "python3"
  },
  "language_info": {
   "codemirror_mode": {
    "name": "ipython",
    "version": 3
   },
   "file_extension": ".py",
   "mimetype": "text/x-python",
   "name": "python",
   "nbconvert_exporter": "python",
   "pygments_lexer": "ipython3",
   "version": "3.11.13"
  }
 },
 "nbformat": 4,
 "nbformat_minor": 5
}
