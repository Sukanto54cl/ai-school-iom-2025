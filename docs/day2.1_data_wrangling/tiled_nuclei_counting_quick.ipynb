{
 "cells": [
  {
   "cell_type": "markdown",
   "id": "500b07b7-5f43-40c0-ba80-bc6cd759f9f4",
   "metadata": {},
   "source": [
    "# Tiled image processing, a quick run-through\n",
    "\n",
    "In this notebook we will process a big dataset that has been saved in zarr format to count cells in individual tiles using [dask](https://docs.dask.org/en/stable/) and [zarr](https://zarr.readthedocs.io/en/stable/). The underlying principles will be explained in the next sections."
   ]
  },
  {
   "cell_type": "code",
   "execution_count": 1,
   "id": "e6a9300d-1f11-4a3b-94bb-a136ba69f09d",
   "metadata": {
    "tags": []
   },
   "outputs": [],
   "source": [
    "import zarr\n",
    "import dask.array as da\n",
    "import numpy as np\n",
    "from skimage.io import imread\n",
    "import stackview"
   ]
  },
  {
   "cell_type": "markdown",
   "id": "8959f8d4-a6d6-4a2d-b4b7-9378d2ceec01",
   "metadata": {},
   "source": [
    "For demonstration purposes, we use a dataset that is provided by Theresa Suckert, OncoRay, University Hospital Carl Gustav Carus, TU Dresden. The dataset is licensed [License: CC-BY 4.0](https://creativecommons.org/licenses/by/4.0/). We are using a cropped version here that was resaved a 8-bit image to be able to provide it with the notebook. You find the full size 16-bit image in CZI file format [online](https://zenodo.org/record/4276076#.YX1F-55BxaQ). The biological background is explained in [Suckert et al. 2020](https://www.sciencedirect.com/science/article/abs/pii/S0167814020301043), where we also applied a similar workflow. \n",
    "\n",
    "When working with big data, you will likely have an image stored in the right format to begin with. For demonstration purposes, we save here a test image into the zarr format, which is commonly used for handling big image data."
   ]
  },
  {
   "cell_type": "markdown",
   "id": "d76246fe-7358-4e0c-8112-1f1fd0af4108",
   "metadata": {},
   "source": [
    "## Loading the zarr-backed image\n",
    "Dask brings built-in support for the zarr file format. We can create dask arrays directly from a zarr file."
   ]
  },
  {
   "cell_type": "code",
   "execution_count": 2,
   "id": "2132d10e-1ec5-43eb-9c3c-a4d9358919cc",
   "metadata": {
    "tags": []
   },
   "outputs": [
    {
     "data": {
      "text/plain": [
       "Type               : Array\n",
       "Zarr format        : 3\n",
       "Data type          : UInt8()\n",
       "Fill value         : 0\n",
       "Shape              : (2000, 5000)\n",
       "Chunk shape        : (100, 100)\n",
       "Order              : C\n",
       "Read-only          : True\n",
       "Store type         : LocalStore\n",
       "Filters            : ()\n",
       "Serializer         : BytesCodec(endian=None)\n",
       "Compressors        : (ZstdCodec(level=0, checksum=False),)\n",
       "No. bytes          : 10000000 (9.5M)"
      ]
     },
     "execution_count": 2,
     "metadata": {},
     "output_type": "execute_result"
    }
   ],
   "source": [
    "zarr_image = zarr.open(\"data/P1_H_C3H_M004_17-cropped.zarr\", mode=\"r\")\n",
    "zarr_image.info"
   ]
  },
  {
   "cell_type": "markdown",
   "id": "c2721aa7-947e-4855-9325-c3e2b4746226",
   "metadata": {},
   "source": [
    "We can apply image processing to this tiled dataset directly."
   ]
  },
  {
   "cell_type": "markdown",
   "id": "84fd34c2-68fe-4eeb-8f2b-d213226086e0",
   "metadata": {},
   "source": [
    "## Counting nuclei\n",
    "For counting the nuclei, we setup a simple image processing workflow. It returns an image with a single pixel containing the number of nuclei in the given input image. These single pixels will be assembled to a pixel count map; an image with much less pixels than the original image, but with the advantage that we can look at it - it's no big data anymore.cle.exclude_labels_with_map_values_within_range"
   ]
  },
  {
   "cell_type": "code",
   "execution_count": 3,
   "id": "713fcb46-9e8c-4090-a73e-a4d3b60dae24",
   "metadata": {
    "tags": []
   },
   "outputs": [],
   "source": [
    "import numpy as np\n",
    "from skimage import filters, segmentation, measure, morphology\n",
    "from scipy import ndimage\n",
    "\n",
    "def count_nuclei(image, threshold=15):\n",
    "    \"\"\"\n",
    "    Label objects in a binary image and produce a pixel-count-map image.\n",
    "    \"\"\"\n",
    "    #print(\"processing image of shape\", image.shape)\n",
    "    # Count nuclei including those which touch the image border\n",
    "    # Replace voronoi_otsu_labeling with equivalent scikit-image approach\n",
    "    blurred = filters.gaussian(np.asarray(image), sigma=3.5, preserve_range=True)\n",
    "    binary = blurred > threshold\n",
    "    \n",
    "    # Generate seeds for watershed\n",
    "    distance = ndimage.distance_transform_edt(binary)\n",
    "    local_maxima = morphology.local_maxima(distance, footprint=morphology.disk(1))\n",
    "    seeds = measure.label(local_maxima)\n",
    "    \n",
    "    # Perform watershed segmentation\n",
    "    labels = segmentation.watershed(-distance, seeds, mask=binary)\n",
    "    \n",
    "    # Relabel to ensure sequential numbering\n",
    "    nuclei_count = labels.max()\n",
    "    \n",
    "    # Count nuclei excluding those which touch the image border\n",
    "    labels_without_borders = segmentation.clear_border(labels.copy())\n",
    "    \n",
    "    # Relabel again\n",
    "    labels_without_borders = measure.label(labels_without_borders > 0)\n",
    "    nuclei_count_excluding_borders = labels_without_borders.max()\n",
    "    \n",
    "    # Both nuclei-count including and excluding nuclei at image borders \n",
    "    # are no good approximation. We should exclude the nuclei only on \n",
    "    # half of the borders to get a good estimate.\n",
    "    # Alternatively, we just take the average of both counts.\n",
    "    result = np.asarray([[(nuclei_count + nuclei_count_excluding_borders) / 2]])\n",
    "    \n",
    "    return result"
   ]
  },
  {
   "cell_type": "code",
   "execution_count": 4,
   "id": "fd267804-0a79-4a8d-8c23-70653b4892c4",
   "metadata": {
    "tags": []
   },
   "outputs": [
    {
     "data": {
      "text/plain": [
       "array([[172.]])"
      ]
     },
     "execution_count": 4,
     "metadata": {},
     "output_type": "execute_result"
    }
   ],
   "source": [
    "count_nuclei(np.asarray(zarr_image[1000:1500, 1000:1500]))"
   ]
  },
  {
   "cell_type": "markdown",
   "id": "6b5420e4-f405-4ab9-b385-87be0b0750ce",
   "metadata": {},
   "source": [
    "Before we can start the computation, we need to deactivate asynchronous execution of operations in pyclesperanto. [See also related issue](https://github.com/clEsperanto/pyclesperanto_prototype/issues/163)."
   ]
  },
  {
   "cell_type": "code",
   "execution_count": 5,
   "id": "eeba9ded-3fb3-4dba-81f3-6212c1251cbc",
   "metadata": {
    "tags": []
   },
   "outputs": [
    {
     "data": {
      "text/html": [
       "<table>\n",
       "    <tr>\n",
       "        <td>\n",
       "            <table style=\"border-collapse: collapse;\">\n",
       "                <thead>\n",
       "                    <tr>\n",
       "                        <td> </td>\n",
       "                        <th> Array </th>\n",
       "                        <th> Chunk </th>\n",
       "                    </tr>\n",
       "                </thead>\n",
       "                <tbody>\n",
       "                    \n",
       "                    <tr>\n",
       "                        <th> Bytes </th>\n",
       "                        <td> 76.29 MiB </td>\n",
       "                        <td> 78.12 kiB </td>\n",
       "                    </tr>\n",
       "                    \n",
       "                    <tr>\n",
       "                        <th> Shape </th>\n",
       "                        <td> (2000, 5000) </td>\n",
       "                        <td> (100, 100) </td>\n",
       "                    </tr>\n",
       "                    <tr>\n",
       "                        <th> Dask graph </th>\n",
       "                        <td colspan=\"2\"> 1000 chunks in 3 graph layers </td>\n",
       "                    </tr>\n",
       "                    <tr>\n",
       "                        <th> Data type </th>\n",
       "                        <td colspan=\"2\"> float64 numpy.ndarray </td>\n",
       "                    </tr>\n",
       "                </tbody>\n",
       "            </table>\n",
       "        </td>\n",
       "        <td>\n",
       "        <svg width=\"170\" height=\"98\" style=\"stroke:rgb(0,0,0);stroke-width:1\" >\n",
       "\n",
       "  <!-- Horizontal lines -->\n",
       "  <line x1=\"0\" y1=\"0\" x2=\"120\" y2=\"0\" style=\"stroke-width:2\" />\n",
       "  <line x1=\"0\" y1=\"2\" x2=\"120\" y2=\"2\" />\n",
       "  <line x1=\"0\" y1=\"4\" x2=\"120\" y2=\"4\" />\n",
       "  <line x1=\"0\" y1=\"7\" x2=\"120\" y2=\"7\" />\n",
       "  <line x1=\"0\" y1=\"9\" x2=\"120\" y2=\"9\" />\n",
       "  <line x1=\"0\" y1=\"12\" x2=\"120\" y2=\"12\" />\n",
       "  <line x1=\"0\" y1=\"14\" x2=\"120\" y2=\"14\" />\n",
       "  <line x1=\"0\" y1=\"16\" x2=\"120\" y2=\"16\" />\n",
       "  <line x1=\"0\" y1=\"19\" x2=\"120\" y2=\"19\" />\n",
       "  <line x1=\"0\" y1=\"21\" x2=\"120\" y2=\"21\" />\n",
       "  <line x1=\"0\" y1=\"24\" x2=\"120\" y2=\"24\" />\n",
       "  <line x1=\"0\" y1=\"26\" x2=\"120\" y2=\"26\" />\n",
       "  <line x1=\"0\" y1=\"28\" x2=\"120\" y2=\"28\" />\n",
       "  <line x1=\"0\" y1=\"31\" x2=\"120\" y2=\"31\" />\n",
       "  <line x1=\"0\" y1=\"33\" x2=\"120\" y2=\"33\" />\n",
       "  <line x1=\"0\" y1=\"36\" x2=\"120\" y2=\"36\" />\n",
       "  <line x1=\"0\" y1=\"38\" x2=\"120\" y2=\"38\" />\n",
       "  <line x1=\"0\" y1=\"40\" x2=\"120\" y2=\"40\" />\n",
       "  <line x1=\"0\" y1=\"43\" x2=\"120\" y2=\"43\" />\n",
       "  <line x1=\"0\" y1=\"48\" x2=\"120\" y2=\"48\" style=\"stroke-width:2\" />\n",
       "\n",
       "  <!-- Vertical lines -->\n",
       "  <line x1=\"0\" y1=\"0\" x2=\"0\" y2=\"48\" style=\"stroke-width:2\" />\n",
       "  <line x1=\"4\" y1=\"0\" x2=\"4\" y2=\"48\" />\n",
       "  <line x1=\"12\" y1=\"0\" x2=\"12\" y2=\"48\" />\n",
       "  <line x1=\"16\" y1=\"0\" x2=\"16\" y2=\"48\" />\n",
       "  <line x1=\"24\" y1=\"0\" x2=\"24\" y2=\"48\" />\n",
       "  <line x1=\"31\" y1=\"0\" x2=\"31\" y2=\"48\" />\n",
       "  <line x1=\"36\" y1=\"0\" x2=\"36\" y2=\"48\" />\n",
       "  <line x1=\"43\" y1=\"0\" x2=\"43\" y2=\"48\" />\n",
       "  <line x1=\"50\" y1=\"0\" x2=\"50\" y2=\"48\" />\n",
       "  <line x1=\"55\" y1=\"0\" x2=\"55\" y2=\"48\" />\n",
       "  <line x1=\"62\" y1=\"0\" x2=\"62\" y2=\"48\" />\n",
       "  <line x1=\"67\" y1=\"0\" x2=\"67\" y2=\"48\" />\n",
       "  <line x1=\"74\" y1=\"0\" x2=\"74\" y2=\"48\" />\n",
       "  <line x1=\"81\" y1=\"0\" x2=\"81\" y2=\"48\" />\n",
       "  <line x1=\"86\" y1=\"0\" x2=\"86\" y2=\"48\" />\n",
       "  <line x1=\"93\" y1=\"0\" x2=\"93\" y2=\"48\" />\n",
       "  <line x1=\"100\" y1=\"0\" x2=\"100\" y2=\"48\" />\n",
       "  <line x1=\"105\" y1=\"0\" x2=\"105\" y2=\"48\" />\n",
       "  <line x1=\"112\" y1=\"0\" x2=\"112\" y2=\"48\" />\n",
       "  <line x1=\"120\" y1=\"0\" x2=\"120\" y2=\"48\" style=\"stroke-width:2\" />\n",
       "\n",
       "  <!-- Colored Rectangle -->\n",
       "  <polygon points=\"0.0,0.0 120.0,0.0 120.0,48.0 0.0,48.0\" style=\"fill:#8B4903A0;stroke-width:0\"/>\n",
       "\n",
       "  <!-- Text -->\n",
       "  <text x=\"60.000000\" y=\"68.000000\" font-size=\"1.0rem\" font-weight=\"100\" text-anchor=\"middle\" >5000</text>\n",
       "  <text x=\"140.000000\" y=\"24.000000\" font-size=\"1.0rem\" font-weight=\"100\" text-anchor=\"middle\" transform=\"rotate(-90,140.000000,24.000000)\">2000</text>\n",
       "</svg>\n",
       "        </td>\n",
       "    </tr>\n",
       "</table>"
      ],
      "text/plain": [
       "dask.array<count_nuclei, shape=(2000, 5000), dtype=float64, chunksize=(100, 100), chunktype=numpy.ndarray>"
      ]
     },
     "execution_count": 5,
     "metadata": {},
     "output_type": "execute_result"
    }
   ],
   "source": [
    "tile_map = da.map_blocks(count_nuclei, da.from_zarr(zarr_image))\n",
    "\n",
    "tile_map"
   ]
  },
  {
   "cell_type": "markdown",
   "id": "08cbf9c0-7fe7-4eb7-b104-907cc62cb03b",
   "metadata": {},
   "source": [
    "As the result image is much smaller then the original, we can compute the whole result map."
   ]
  },
  {
   "cell_type": "code",
   "execution_count": 6,
   "id": "c32f321d-90a0-4f3e-90fe-0f876761ea89",
   "metadata": {
    "tags": []
   },
   "outputs": [],
   "source": [
    "result = tile_map.compute()"
   ]
  },
  {
   "cell_type": "code",
   "execution_count": 7,
   "id": "d49be008-f92f-4eef-891a-d9a9a883eb21",
   "metadata": {
    "tags": []
   },
   "outputs": [
    {
     "data": {
      "text/plain": [
       "(20, 50)"
      ]
     },
     "execution_count": 7,
     "metadata": {},
     "output_type": "execute_result"
    }
   ],
   "source": [
    "result.shape"
   ]
  },
  {
   "cell_type": "code",
   "execution_count": 8,
   "id": "e8a1d9e9-7141-47a9-8a1e-8bf05e52d3c9",
   "metadata": {
    "tags": []
   },
   "outputs": [
    {
     "data": {
      "text/plain": [
       "5545.0"
      ]
     },
     "execution_count": 8,
     "metadata": {},
     "output_type": "execute_result"
    }
   ],
   "source": [
    "result.sum()"
   ]
  },
  {
   "cell_type": "markdown",
   "id": "b51ff80c-79f6-497c-a8df-3dfe4fee89ce",
   "metadata": {},
   "source": [
    "Again, as the result map is small, we can just visualize it."
   ]
  },
  {
   "cell_type": "code",
   "execution_count": 9,
   "id": "64dbfdf3-6663-4949-9446-eb393ecdc288",
   "metadata": {},
   "outputs": [
    {
     "data": {
      "text/html": [
       "<table>\n",
       "<tr>\n",
       "<td>\n",
       "<img src=\"data:image/png;base64,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\"></img>\n",
       "</td>\n",
       "<td style=\"text-align: center; vertical-align: top;\">\n",
       "\n",
       "<table>\n",
       "<tr><td>shape</td><td>(20,&nbsp;50)</td></tr>\n",
       "<tr><td>dtype</td><td>float64</td></tr>\n",
       "<tr><td>size</td><td>7.8 kB</td></tr>\n",
       "<tr><td>min</td><td>0.0</td></tr><tr><td>max</td><td>20.5</td></tr>\n",
       "</table>\n",
       "<img src=\"data:image/png;base64,iVBORw0KGgoAAAANSUhEUgAAALQAAAB4CAYAAABb59j9AAAAOnRFWHRTb2Z0d2FyZQBNYXRwbG90bGliIHZlcnNpb24zLjEwLjMsIGh0dHBzOi8vbWF0cGxvdGxpYi5vcmcvZiW1igAAAAlwSFlzAAAPYQAAD2EBqD+naQAAAppJREFUeJzt3E9q4mAcx+E3oVs9gCh4gN5jFr1Qd0N3vVAXc485QMHiARQGZpN3sKAM87fSpMZvnmfThGgS8MOvr63Y1FprgRDtpW8A+iRoogiaKIImiqCJImiiCJoogiaKoIkiaKIImiiCJsrNUCfuuq5st9sym81K0zRDXYYAtday3+/LYrEobduOM+hDzKvVaqjTE2iz2ZTlcjnOoA+T+XiT8/l8qMsQYLfbvQ6/YzOjDPq4zDjELGjeoo+lqTeFRBE0UQZbcvzL+v7ptP38eHeJWyCUCU0UQRNF0EQRNFEETRRBE0XQRBE0UQRNFEETRdBEETRRBE0UQRNF0EQRNFEETRRBE0XQRBE0UQRNFEETRdBEETRRBE0UQRNF0EQRNFEETRRBE0XQRBE0UQRNFEETRdBEETRRBE0UQRNF0EQRNFEETRRBE0XQRBE0UQRNFEETRdBEETRRBE2UmzIB6/un0/bz413vj2c8TGiiCJoogiaKoIkiaKIImiiCJoqgiSJoogiaKIImyiQ+y/HRfBbkckxoogiaKJNcclgS5DKhiSJookxyyfFelizjZUITxYR+AxP5epjQRDGhe5jAJvh4mNBEMaFHwISfWND/e8F/PS6Q6bLkIIqgiXIVS440lkTDEfQHEPDHucqg0wPxbakTC3pqBPt23hQSRdBEGcWSwz9G6IsJTZRRTGj6tZ7wb7jBgq61vv7c7Xa/Heu+fzttH47bP2//9vOX0/7Xh09nP/72nfvn+Pm5f3v+sZFjM+/R1D7O8gcvLy9ltVoNcWpCbTabslwuxxl013Vlu92W2WxWmqYZ4hKEqLWW/X5fFotFadt2nEHDJfgrB1EETRRBE0XQRBE0UQRNFEETRdBEETRRBE1J8gM0Zh0qUwqzlQAAAABJRU5ErkJggg==\"></img>\n",
       "</td>\n",
       "</tr>\n",
       "</table>"
      ],
      "text/plain": [
       "[[ 0.   0.   0.   0.   0.   0.   0.   0.   0.   0.   0.   0.   0.   0.\n",
       "   0.   0.   0.   0.   0.   0.   0.   0.   0.   0.   0.   0.   0.   0.\n",
       "   0.   0.   0.   0.   0.   0.   0.   0.   0.   0.   0.   3.5  4.   4.\n",
       "   4.5  8.5  5.5  2.   4.   1.5  4.   2. ]\n",
       " [ 0.   0.   0.   0.   0.   0.   0.   0.   0.   0.   0.   0.   0.   0.\n",
       "   0.   0.   0.   0.   0.   0.   0.   0.   0.   0.   0.   0.   0.   0.\n",
       "   0.   0.   0.   0.   0.   0.   1.   0.5  1.   6.5  4.   4.5  1.5  3.5\n",
       "   2.5  3.5  2.5  6.   9.5 11.5  4.5  9. ]\n",
       " [ 0.   0.   0.   0.   0.   0.   0.   0.   0.   0.   0.   0.   0.   0.\n",
       "   0.   0.   0.   0.   0.   0.   0.   0.   0.   0.   0.   0.   0.   0.\n",
       "   0.   0.   0.5  5.5  6.   7.5  3.   3.   2.5  3.   4.   3.5  2.   5.\n",
       "  11.5  8.   9.   8.   6.5  8.   7.   6.5]\n",
       " [ 0.   0.   0.   0.   0.   0.   0.   0.   0.   0.   0.   0.   0.   0.\n",
       "   0.   0.   0.   0.   0.   0.   0.   0.   0.   0.   0.   0.   0.   0.\n",
       "   1.5  6.   6.5  3.5  2.   0.   2.5  3.   6.5  6.5  5.5  7.5  8.   3.5\n",
       "   6.   6.   9.5  7.   4.   3.   6.5  6. ]\n",
       " [ 0.   0.   0.   0.   0.   0.   0.   0.   0.   0.   0.   0.   0.   0.\n",
       "   0.   0.   0.   0.   0.   0.   0.   0.   0.   1.5  0.   0.   4.5  6.5\n",
       "   4.   9.   1.5  3.5  3.5  7.  10.   9.   7.   8.   4.   6.5  3.5  6.\n",
       "   6.   9.5  2.5 11.5 12.   8.5  9.   5. ]\n",
       " [ 0.   0.   0.   0.   0.   0.   0.   0.   0.   0.   0.   0.   0.   0.\n",
       "   0.   0.   1.   4.   4.5  3.5  5.   5.5  8.5  6.5  6.5  6.5  2.   2.\n",
       "   5.   1.5  7.5  4.5 10.5  9.   8.5  6.   6.5  5.5  6.   4.5  7.5  2.5\n",
       "   5.   7.5  6.   8.  11.5  8.5  7.5  8.5]\n",
       " [ 0.   0.   0.   0.   0.   0.   0.   0.   0.   0.   0.   0.   0.   6.\n",
       "   2.5  5.5  4.   1.5  1.5  1.5  0.   0.5  2.5  3.5  5.5 12.   4.   6.5\n",
       "   4.5  7.5  4.5  3.5  4.5  3.5  4.   5.   8.  10.  11.   8.5  8.   7.\n",
       "  12.5  6.  10.5  8.   9.   7.  10.5  6.5]\n",
       " [ 0.   0.   0.   0.   1.   0.   0.   0.   0.   0.5  0.5  7.   8.   2.5\n",
       "   1.   4.5  5.5  4.5  7.   6.5  6.5  6.5  6.5  5.   6.5  6.5  7.5  7.\n",
       "   4.5  7.5  5.5  4.5  6.   9.5  4.   3.  11.   4.5  7.  10.   8.   9.5\n",
       "   7.   5.5  4.5  4.5  5.5  7.   6.5  6.5]\n",
       " [ 0.   0.   0.   0.   0.   0.   0.   0.5  5.   2.   3.5  0.5  5.   1.\n",
       "   3.5  7.5  1.5  5.5  6.   5.   4.5  2.   3.   6.5  2.5  8.   8.  10.\n",
       "   5.5  6.5  4.5  2.5  5.   8.   5.5  6.   7.   4.5  9.5 12.5  8.5  7.5\n",
       "   6.   5.5  9.   4.5  7.   9.5  9.5  6.5]\n",
       " [ 0.   0.   0.   0.   0.   0.5  6.   5.   6.5  4.   6.5  8.5  7.5  3.5\n",
       "   5.   7.5  4.   2.5  7.5  6.   5.5  4.5  4.5  5.   6.5  4.  12.   7.\n",
       "   5.   4.5  2.5  4.5  7.   9.   7.   5.   9.   6.5 12.   3.   4.   4.5\n",
       "   8.   6.   4.5  4.5  7.5  7.   8.5  6. ]\n",
       " [ 0.   0.   0.   2.5  3.5  7.   5.5  3.5  7.5  5.5  5.5  3.   7.5  3.\n",
       "   3.5  5.5  7.   5.   2.5  4.5  4.   8.   4.   3.5  6.5  3.5  8.5 10.5\n",
       "   8.  10.5  8.   9.   9.5 11.   9.5  9.   5.   5.5  3.   2.  11.   5.5\n",
       "   6.5  4.5  8.5  9.5 11.  12.   8.   6.5]\n",
       " [ 0.   1.   5.5  6.5  2.5  2.   3.   5.   3.5  5.   4.5  8.5  6.5  2.\n",
       "   4.   4.5  5.   8.5 10.   8.5  7.5  4.   8.   6.   3.   8.5 11.5 14.\n",
       "   4.5 12.5 10.   7.5  9.   5.   9.5  8.   9.5  5.   4.5  6.5  3.   5.5\n",
       "   8.   4.5  7.   6.5 12.   7.5  5.  12.5]\n",
       " [ 0.5  6.   2.5  6.5  5.5  3.   4.5 10.   5.5  5.5  4.   3.5  8.   4.5\n",
       "   7.   8.5 10.5 10.5  8.5  8.5  8.  14.5  9.  20.5 14.  10.  11.  15.\n",
       "  12.   5.   6.5  3.5  6.5  3.   6.   6.   7.  11.   7.   7.   3.5  5.5\n",
       "   4.5  9.  12.  10.   8.5  6.5 10.  11.5]\n",
       " [ 7.   4.5  4.5  2.5  3.   5.5  6.   4.5  6.5  9.   7.5 12.5 11.   9.5\n",
       "   9.5  8.   5.5 10.5  8.   8.5 11.5  9.5  7.5  5.5  5.5  8.   8.5  5.5\n",
       "   6.   4.5  8.5  5.   8.   6.   6.   5.   8.   7.   8.   4.   5.5  5.\n",
       "  11.   8.  13.5 17.   4.5  7.5 10.5 14. ]\n",
       " [ 5.5 10.   7.5  4.5  4.   5.5  7.5  5.   8.5 12.  12.  14.   8.   8.\n",
       "   5.5  5.5  7.   5.5  8.5  6.   3.5  5.5  3.5  3.   2.5  6.   6.5  9.\n",
       "   7.5 10.5  7.5  4.5  3.   8.   9.   6.5  3.5  8.   7.5  8.   4.   7.5\n",
       "  13.5  5.  10.5  9.  10.5  9.  10.5 10. ]\n",
       " [ 8.  15.   4.   9.5  5.5  5.5  7.5  9.  12.5 12.   9.5 14.5  5.   6.5\n",
       "   2.5  6.   4.5  5.5  7.   8.5  9.5  6.5  5.   6.   7.5  8.5  7.5  3.5\n",
       "   5.5  9.5  8.   6.5  8.  11.  16.5 12.   8.   8.5 12.5 12.5 13.  10.5\n",
       "  12.  12.5  9.5  7.5  9.   8.  14.  17.5]\n",
       " [ 5.   4.   2.   8.5 10.5  9.5 11.5 10.  10.5  9.   8.5  5.5  5.   5.5\n",
       "   9.   7.   7.5 11.   5.5  5.   5.   8.5  7.   9.   4.5  8.   8.5  9.\n",
       "   6.  11.   7.  11.   9.  11.5 11.   9.5 10.   5.5 13.5  7.5  8.5  7.5\n",
       "  11.5  9.5  8.5 12.5  7.5  6.5 14.5  4.5]\n",
       " [ 6.   5.5  7.  10.  14.  14.  12.5  8.   4.   5.5  7.5 11.5  4.5  6.\n",
       "   6.5  9.   5.5  5.5  8.5  5.5  7.   3.   7.5 10.   9.5  6.5  9.   7.5\n",
       "  13.5  8.   6.5  9.  11.5 11.5 13.5 10.   5.5 13.   6.5 11.   3.5 13.5\n",
       "   8.5 13.5 10.5 10.   5.5 16.   3.5  5. ]\n",
       " [ 3.5  6.5 12.  14.5  9.   6.   9.   5.5  4.5  4.   6.5  6.5  4.   5.\n",
       "   8.5 10.   5.5  4.   5.   9.   8.   6.5  6.5  8.  12.5 12.5 12.  15.\n",
       "  13.5 11.  13.5 11.   6.  12.5 10.5 12.5  8.  11.5 10.5 10.  12.   9.5\n",
       "   9.5  9.5  5.   1.   7.   4.5  1.   5. ]\n",
       " [ 8.5  8.  14.   8.5 10.5  5.   4.5  9.   7.5  9.5 10.   5.   4.5  6.\n",
       "  11.5  7.5 12.   9.   7.  11.   8.  12.  15.5  9.5 13.  10.5  7.  10.5\n",
       "  10.   9.5 10.5 12.   8.5 14.   7.5  8.5  7.5 11.  10.5 12.5  7.5 13.5\n",
       "   6.5  0.5  0.   0.  14.   3.   2.5 10.5]]"
      ]
     },
     "execution_count": 9,
     "metadata": {},
     "output_type": "execute_result"
    }
   ],
   "source": [
    "stackview.insight(result)"
   ]
  },
  {
   "cell_type": "markdown",
   "id": "58e69505-e192-4256-b8d7-a2267ba03ce9",
   "metadata": {},
   "source": [
    "With a quick visual check in the original image, we can see that indeed in the top left corner of the image, there are much less cells than in the bottom right."
   ]
  },
  {
   "cell_type": "code",
   "execution_count": 10,
   "id": "b567b6ad-7307-42d2-924d-54caf1ec4396",
   "metadata": {
    "tags": []
   },
   "outputs": [
    {
     "data": {
      "text/plain": [
       "array([[5423.5]])"
      ]
     },
     "execution_count": 10,
     "metadata": {},
     "output_type": "execute_result"
    }
   ],
   "source": [
    "count_nuclei(np.asarray(zarr_image))"
   ]
  },
  {
   "cell_type": "markdown",
   "id": "2047b6b4-ff4d-4c9d-ae79-7075ec16409c",
   "metadata": {},
   "source": [
    "# Exercise\n",
    "Use the function `da.from_zarr(zarr_image).rechunk((500, 500))` to apply `cound_nuclei` to differently chunked data. Depending on the chunk size, the error of the method seems different. why?"
   ]
  },
  {
   "cell_type": "code",
   "execution_count": null,
   "id": "7377be5e-bb4f-43ac-995b-b35c97028bf3",
   "metadata": {},
   "outputs": [],
   "source": []
  }
 ],
 "metadata": {
  "kernelspec": {
   "display_name": "Python 3 (ipykernel)",
   "language": "python",
   "name": "python3"
  },
  "language_info": {
   "codemirror_mode": {
    "name": "ipython",
    "version": 3
   },
   "file_extension": ".py",
   "mimetype": "text/x-python",
   "name": "python",
   "nbconvert_exporter": "python",
   "pygments_lexer": "ipython3",
   "version": "3.11.13"
  }
 },
 "nbformat": 4,
 "nbformat_minor": 5
}
