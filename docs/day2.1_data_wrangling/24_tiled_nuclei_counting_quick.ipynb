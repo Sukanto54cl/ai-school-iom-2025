{
 "cells": [
  {
   "cell_type": "markdown",
   "id": "500b07b7-5f43-40c0-ba80-bc6cd759f9f4",
   "metadata": {},
   "source": [
    "# Tiled image processing\n",
    "\n",
    "In this notebook we will process a big dataset that has been saved in zarr format to count cells in individual tiles using [dask](https://docs.dask.org/en/stable/) and [zarr](https://zarr.readthedocs.io/en/stable/). The underlying principles will be explained in the next sections."
   ]
  },
  {
   "cell_type": "code",
   "execution_count": 1,
   "id": "e6a9300d-1f11-4a3b-94bb-a136ba69f09d",
   "metadata": {
    "tags": []
   },
   "outputs": [],
   "source": [
    "import zarr\n",
    "import dask.array as da\n",
    "import numpy as np\n",
    "import stackview"
   ]
  },
  {
   "cell_type": "markdown",
   "id": "8959f8d4-a6d6-4a2d-b4b7-9378d2ceec01",
   "metadata": {},
   "source": [
    "For demonstration purposes, we use a dataset that is provided by Theresa Suckert, OncoRay, University Hospital Carl Gustav Carus, TU Dresden. The dataset is licensed [License: CC-BY 4.0](https://creativecommons.org/licenses/by/4.0/). We are using a cropped version here that was resaved a 8-bit image to be able to provide it with the notebook. You find the full size 16-bit image in CZI file format [online](https://zenodo.org/record/4276076#.YX1F-55BxaQ). The biological background is explained in [Suckert et al. 2020](https://www.sciencedirect.com/science/article/abs/pii/S0167814020301043), where we also applied a similar workflow. \n",
    "\n",
    "When working with big data, you will likely have an image stored in the right format to begin with. For demonstration purposes, we save here a test image into the zarr format, which is commonly used for handling big image data."
   ]
  },
  {
   "cell_type": "markdown",
   "id": "d76246fe-7358-4e0c-8112-1f1fd0af4108",
   "metadata": {},
   "source": [
    "## Loading the zarr-backed image data\n",
    "For processing images tile-by-tile, the data must be stored in a compatible file format in advance, for example as zarr file."
   ]
  },
  {
   "cell_type": "code",
   "execution_count": 2,
   "id": "2132d10e-1ec5-43eb-9c3c-a4d9358919cc",
   "metadata": {
    "tags": []
   },
   "outputs": [
    {
     "data": {
      "text/plain": [
       "Type               : Array\n",
       "Zarr format        : 3\n",
       "Data type          : UInt8()\n",
       "Fill value         : 0\n",
       "Shape              : (2000, 5000)\n",
       "Chunk shape        : (100, 100)\n",
       "Order              : C\n",
       "Read-only          : True\n",
       "Store type         : LocalStore\n",
       "Filters            : ()\n",
       "Serializer         : BytesCodec(endian=None)\n",
       "Compressors        : (ZstdCodec(level=0, checksum=False),)\n",
       "No. bytes          : 10000000 (9.5M)"
      ]
     },
     "execution_count": 2,
     "metadata": {},
     "output_type": "execute_result"
    }
   ],
   "source": [
    "zarr_image = zarr.open(\"data/P1_H_C3H_M004_17-cropped.zarr\", mode=\"r\")\n",
    "zarr_image.info"
   ]
  },
  {
   "cell_type": "markdown",
   "id": "a7b86251-4954-4431-8cce-fe4d2422c3c4",
   "metadata": {},
   "source": [
    "Such a zarr dataset can be converted to a [Dask stack](https://docs.dask.org/en/latest/array-stack.html):"
   ]
  },
  {
   "cell_type": "code",
   "execution_count": 3,
   "id": "ab1bdfb4-1888-443c-ad1b-dcf8e3d45b2f",
   "metadata": {},
   "outputs": [
    {
     "data": {
      "text/html": [
       "<table>\n",
       "    <tr>\n",
       "        <td>\n",
       "            <table style=\"border-collapse: collapse;\">\n",
       "                <thead>\n",
       "                    <tr>\n",
       "                        <td> </td>\n",
       "                        <th> Array </th>\n",
       "                        <th> Chunk </th>\n",
       "                    </tr>\n",
       "                </thead>\n",
       "                <tbody>\n",
       "                    \n",
       "                    <tr>\n",
       "                        <th> Bytes </th>\n",
       "                        <td> 9.54 MiB </td>\n",
       "                        <td> 9.77 kiB </td>\n",
       "                    </tr>\n",
       "                    \n",
       "                    <tr>\n",
       "                        <th> Shape </th>\n",
       "                        <td> (2000, 5000) </td>\n",
       "                        <td> (100, 100) </td>\n",
       "                    </tr>\n",
       "                    <tr>\n",
       "                        <th> Dask graph </th>\n",
       "                        <td colspan=\"2\"> 1000 chunks in 2 graph layers </td>\n",
       "                    </tr>\n",
       "                    <tr>\n",
       "                        <th> Data type </th>\n",
       "                        <td colspan=\"2\"> uint8 numpy.ndarray </td>\n",
       "                    </tr>\n",
       "                </tbody>\n",
       "            </table>\n",
       "        </td>\n",
       "        <td>\n",
       "        <svg width=\"170\" height=\"98\" style=\"stroke:rgb(0,0,0);stroke-width:1\" >\n",
       "\n",
       "  <!-- Horizontal lines -->\n",
       "  <line x1=\"0\" y1=\"0\" x2=\"120\" y2=\"0\" style=\"stroke-width:2\" />\n",
       "  <line x1=\"0\" y1=\"2\" x2=\"120\" y2=\"2\" />\n",
       "  <line x1=\"0\" y1=\"4\" x2=\"120\" y2=\"4\" />\n",
       "  <line x1=\"0\" y1=\"7\" x2=\"120\" y2=\"7\" />\n",
       "  <line x1=\"0\" y1=\"9\" x2=\"120\" y2=\"9\" />\n",
       "  <line x1=\"0\" y1=\"12\" x2=\"120\" y2=\"12\" />\n",
       "  <line x1=\"0\" y1=\"14\" x2=\"120\" y2=\"14\" />\n",
       "  <line x1=\"0\" y1=\"16\" x2=\"120\" y2=\"16\" />\n",
       "  <line x1=\"0\" y1=\"19\" x2=\"120\" y2=\"19\" />\n",
       "  <line x1=\"0\" y1=\"21\" x2=\"120\" y2=\"21\" />\n",
       "  <line x1=\"0\" y1=\"24\" x2=\"120\" y2=\"24\" />\n",
       "  <line x1=\"0\" y1=\"26\" x2=\"120\" y2=\"26\" />\n",
       "  <line x1=\"0\" y1=\"28\" x2=\"120\" y2=\"28\" />\n",
       "  <line x1=\"0\" y1=\"31\" x2=\"120\" y2=\"31\" />\n",
       "  <line x1=\"0\" y1=\"33\" x2=\"120\" y2=\"33\" />\n",
       "  <line x1=\"0\" y1=\"36\" x2=\"120\" y2=\"36\" />\n",
       "  <line x1=\"0\" y1=\"38\" x2=\"120\" y2=\"38\" />\n",
       "  <line x1=\"0\" y1=\"40\" x2=\"120\" y2=\"40\" />\n",
       "  <line x1=\"0\" y1=\"43\" x2=\"120\" y2=\"43\" />\n",
       "  <line x1=\"0\" y1=\"48\" x2=\"120\" y2=\"48\" style=\"stroke-width:2\" />\n",
       "\n",
       "  <!-- Vertical lines -->\n",
       "  <line x1=\"0\" y1=\"0\" x2=\"0\" y2=\"48\" style=\"stroke-width:2\" />\n",
       "  <line x1=\"4\" y1=\"0\" x2=\"4\" y2=\"48\" />\n",
       "  <line x1=\"12\" y1=\"0\" x2=\"12\" y2=\"48\" />\n",
       "  <line x1=\"16\" y1=\"0\" x2=\"16\" y2=\"48\" />\n",
       "  <line x1=\"24\" y1=\"0\" x2=\"24\" y2=\"48\" />\n",
       "  <line x1=\"31\" y1=\"0\" x2=\"31\" y2=\"48\" />\n",
       "  <line x1=\"36\" y1=\"0\" x2=\"36\" y2=\"48\" />\n",
       "  <line x1=\"43\" y1=\"0\" x2=\"43\" y2=\"48\" />\n",
       "  <line x1=\"50\" y1=\"0\" x2=\"50\" y2=\"48\" />\n",
       "  <line x1=\"55\" y1=\"0\" x2=\"55\" y2=\"48\" />\n",
       "  <line x1=\"62\" y1=\"0\" x2=\"62\" y2=\"48\" />\n",
       "  <line x1=\"67\" y1=\"0\" x2=\"67\" y2=\"48\" />\n",
       "  <line x1=\"74\" y1=\"0\" x2=\"74\" y2=\"48\" />\n",
       "  <line x1=\"81\" y1=\"0\" x2=\"81\" y2=\"48\" />\n",
       "  <line x1=\"86\" y1=\"0\" x2=\"86\" y2=\"48\" />\n",
       "  <line x1=\"93\" y1=\"0\" x2=\"93\" y2=\"48\" />\n",
       "  <line x1=\"100\" y1=\"0\" x2=\"100\" y2=\"48\" />\n",
       "  <line x1=\"105\" y1=\"0\" x2=\"105\" y2=\"48\" />\n",
       "  <line x1=\"112\" y1=\"0\" x2=\"112\" y2=\"48\" />\n",
       "  <line x1=\"120\" y1=\"0\" x2=\"120\" y2=\"48\" style=\"stroke-width:2\" />\n",
       "\n",
       "  <!-- Colored Rectangle -->\n",
       "  <polygon points=\"0.0,0.0 120.0,0.0 120.0,48.0 0.0,48.0\" style=\"fill:#8B4903A0;stroke-width:0\"/>\n",
       "\n",
       "  <!-- Text -->\n",
       "  <text x=\"60.000000\" y=\"68.000000\" font-size=\"1.0rem\" font-weight=\"100\" text-anchor=\"middle\" >5000</text>\n",
       "  <text x=\"140.000000\" y=\"24.000000\" font-size=\"1.0rem\" font-weight=\"100\" text-anchor=\"middle\" transform=\"rotate(-90,140.000000,24.000000)\">2000</text>\n",
       "</svg>\n",
       "        </td>\n",
       "    </tr>\n",
       "</table>"
      ],
      "text/plain": [
       "dask.array<from-zarr, shape=(2000, 5000), dtype=uint8, chunksize=(100, 100), chunktype=numpy.ndarray>"
      ]
     },
     "execution_count": 3,
     "metadata": {},
     "output_type": "execute_result"
    }
   ],
   "source": [
    "da.from_zarr(zarr_image)"
   ]
  },
  {
   "cell_type": "markdown",
   "id": "c2721aa7-947e-4855-9325-c3e2b4746226",
   "metadata": {},
   "source": [
    "We can also apply image processing to this tiled dataset directly."
   ]
  },
  {
   "cell_type": "markdown",
   "id": "84fd34c2-68fe-4eeb-8f2b-d213226086e0",
   "metadata": {},
   "source": [
    "## Counting nuclei\n",
    "For counting the nuclei, we setup a simple image processing workflow. It returns an image with a single pixel containing the number of nuclei in the given input image. These single pixels will be assembled to a pixel count map; an image with much less pixels than the original image, but with the advantage that we can look at it - it's no big data anymore.cle.exclude_labels_with_map_values_within_range"
   ]
  },
  {
   "cell_type": "code",
   "execution_count": 4,
   "id": "713fcb46-9e8c-4090-a73e-a4d3b60dae24",
   "metadata": {
    "tags": []
   },
   "outputs": [],
   "source": [
    "import numpy as np\n",
    "from skimage import filters, segmentation, measure, morphology\n",
    "from scipy import ndimage\n",
    "\n",
    "def count_nuclei(image, threshold=15):\n",
    "    \"\"\"\n",
    "    Label objects in a binary image and produce a pixel-count-map image.\n",
    "    \"\"\"\n",
    "    #print(\"processing image of shape\", image.shape)\n",
    "    # Count nuclei including those which touch the image border\n",
    "    # Replace voronoi_otsu_labeling with equivalent scikit-image approach\n",
    "    blurred = filters.gaussian(np.asarray(image), sigma=3.5, preserve_range=True)\n",
    "    binary = blurred > threshold\n",
    "    \n",
    "    # Generate seeds for watershed\n",
    "    distance = ndimage.distance_transform_edt(binary)\n",
    "    local_maxima = morphology.local_maxima(distance, footprint=morphology.disk(1))\n",
    "    seeds = measure.label(local_maxima)\n",
    "    \n",
    "    # Perform watershed segmentation\n",
    "    labels = segmentation.watershed(-distance, seeds, mask=binary)\n",
    "    \n",
    "    # Relabel to ensure sequential numbering\n",
    "    nuclei_count = labels.max()\n",
    "    \n",
    "    # Count nuclei excluding those which touch the image border\n",
    "    labels_without_borders = segmentation.clear_border(labels.copy())\n",
    "    \n",
    "    # Relabel again\n",
    "    labels_without_borders = measure.label(labels_without_borders > 0)\n",
    "    nuclei_count_excluding_borders = labels_without_borders.max()\n",
    "    \n",
    "    # Both nuclei-count including and excluding nuclei at image borders \n",
    "    # are no good approximation. We should exclude the nuclei only on \n",
    "    # half of the borders to get a good estimate.\n",
    "    # Alternatively, we just take the average of both counts.\n",
    "    result = np.asarray([[(nuclei_count + nuclei_count_excluding_borders) / 2]])\n",
    "    \n",
    "    return result"
   ]
  },
  {
   "cell_type": "markdown",
   "id": "169196e0-80a3-4de7-a5ae-1f1eebda7a70",
   "metadata": {},
   "source": [
    "For testing, we apply the function to a subset of the data."
   ]
  },
  {
   "cell_type": "code",
   "execution_count": 5,
   "id": "b85757eb-ca2c-48d9-a2f7-124ce4fd2964",
   "metadata": {},
   "outputs": [
    {
     "data": {
      "text/html": [
       "<table>\n",
       "<tr>\n",
       "<td>\n",
       "<img src=\"data:image/png;base64,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\"></img>\n",
       "</td>\n",
       "<td style=\"text-align: center; vertical-align: top;\">\n",
       "\n",
       "<table>\n",
       "<tr><td>shape</td><td>(500,&nbsp;500)</td></tr>\n",
       "<tr><td>dtype</td><td>uint8</td></tr>\n",
       "<tr><td>size</td><td>244.1 kB</td></tr>\n",
       "<tr><td>min</td><td>0</td></tr><tr><td>max</td><td>255</td></tr>\n",
       "</table>\n",
       "<img src=\"data:image/png;base64,iVBORw0KGgoAAAANSUhEUgAAALQAAAB4CAYAAABb59j9AAAAOnRFWHRTb2Z0d2FyZQBNYXRwbG90bGliIHZlcnNpb24zLjEwLjUsIGh0dHBzOi8vbWF0cGxvdGxpYi5vcmcvWftoOwAAAAlwSFlzAAAPYQAAD2EBqD+naQAAAmFJREFUeJzt2D+K20AYxuFPZlv5AMaCPUDukWIvtF1ItxfaIvfIARa86AAyBNJoUgS7cP6QRBbevDxPNcLwzRQ/xFhda60VhNjc+gBwTYImiqCJImiiCJoogiaKoIkiaKIImiiCJoqgiSJootytNXie5xrHsfq+r67r1tqGAK21Oh6PtdvtarNZ9o5dLehxHGsYhrXGE+hwONR+v180Y7Wg+76vqu+H3G63a21DgGmaahiGczNLrBb06Zqx3W4FzR+5xtXUn0KiCJooq105fuf+8fm8fnl6uMURCOUNTRRBE0XQRBE0UQRNFEETRdBEETRRBE0UQRNF0EQRNFEETRRBE0XQRBE0UQRNFEETRdBEETRRBE0UQRNF0EQRNFEETRRBE0XQRBE0UQRNFEETRdBEETRRBE0UQRNF0EQRNFEETRRBE0XQRBE0UQRNFEETRdBEETRRBE0UQRNF0EQRNFEETRRBE0XQRBE0UQRNFEETRdBEETRRBE0UQRNF0EQRNFEETRRBE0XQRBE0UQRNFEETRdBEETRRBE0UQRNF0EQRNFEETRRBE0XQRBE0UQRNFEETRdBEETRRBE0UQRNF0ES5u/UBqqruH5/P65enhxuehP/dmwj6ksD5V28y6EuXgQueX1kt6NZaVVVN0/TDb/PXL+f1NE2Ln999+HR+/vzx/V8/c1unRk7NLNG1a0z5idfX1xqGYY3RhDocDrXf7xfNWC3oeZ5rHMfq+766rltjC0K01up4PNZut6vNZtmHt9WChlvwHZoogiaKoIkiaKIImiiCJoqgiSJoogiaKIImyjf0j38Souu07QAAAABJRU5ErkJggg==\"></img>\n",
       "</td>\n",
       "</tr>\n",
       "</table>"
      ],
      "text/plain": [
       "[[ 0  0  0 ...  9 12 15]\n",
       " [ 0  0  0 ... 12 12 16]\n",
       " [ 0  0  0 ... 18 18 17]\n",
       " ...\n",
       " [68 41 31 ...  0  0  0]\n",
       " [82 36 30 ...  0  0  0]\n",
       " [52 27 25 ...  0  0  0]]"
      ]
     },
     "execution_count": 5,
     "metadata": {},
     "output_type": "execute_result"
    }
   ],
   "source": [
    "image_crop = np.asarray(zarr_image[1000:1500, 1000:1500])\n",
    "\n",
    "stackview.insight(image_crop)"
   ]
  },
  {
   "cell_type": "code",
   "execution_count": 6,
   "id": "a3e22b5a-804c-4bfe-a15a-41966ac10af5",
   "metadata": {},
   "outputs": [
    {
     "data": {
      "text/plain": [
       "array([[172.]])"
      ]
     },
     "execution_count": 6,
     "metadata": {},
     "output_type": "execute_result"
    }
   ],
   "source": [
    "count_nuclei(image_crop)"
   ]
  },
  {
   "cell_type": "markdown",
   "id": "6b5420e4-f405-4ab9-b385-87be0b0750ce",
   "metadata": {},
   "source": [
    "Next, we setup a _delayed_ result by mapping a function on blocks of the data."
   ]
  },
  {
   "cell_type": "code",
   "execution_count": 7,
   "id": "eeba9ded-3fb3-4dba-81f3-6212c1251cbc",
   "metadata": {
    "tags": []
   },
   "outputs": [
    {
     "data": {
      "text/html": [
       "<table>\n",
       "    <tr>\n",
       "        <td>\n",
       "            <table style=\"border-collapse: collapse;\">\n",
       "                <thead>\n",
       "                    <tr>\n",
       "                        <td> </td>\n",
       "                        <th> Array </th>\n",
       "                        <th> Chunk </th>\n",
       "                    </tr>\n",
       "                </thead>\n",
       "                <tbody>\n",
       "                    \n",
       "                    <tr>\n",
       "                        <th> Bytes </th>\n",
       "                        <td> 76.29 MiB </td>\n",
       "                        <td> 78.12 kiB </td>\n",
       "                    </tr>\n",
       "                    \n",
       "                    <tr>\n",
       "                        <th> Shape </th>\n",
       "                        <td> (2000, 5000) </td>\n",
       "                        <td> (100, 100) </td>\n",
       "                    </tr>\n",
       "                    <tr>\n",
       "                        <th> Dask graph </th>\n",
       "                        <td colspan=\"2\"> 1000 chunks in 3 graph layers </td>\n",
       "                    </tr>\n",
       "                    <tr>\n",
       "                        <th> Data type </th>\n",
       "                        <td colspan=\"2\"> float64 numpy.ndarray </td>\n",
       "                    </tr>\n",
       "                </tbody>\n",
       "            </table>\n",
       "        </td>\n",
       "        <td>\n",
       "        <svg width=\"170\" height=\"98\" style=\"stroke:rgb(0,0,0);stroke-width:1\" >\n",
       "\n",
       "  <!-- Horizontal lines -->\n",
       "  <line x1=\"0\" y1=\"0\" x2=\"120\" y2=\"0\" style=\"stroke-width:2\" />\n",
       "  <line x1=\"0\" y1=\"2\" x2=\"120\" y2=\"2\" />\n",
       "  <line x1=\"0\" y1=\"4\" x2=\"120\" y2=\"4\" />\n",
       "  <line x1=\"0\" y1=\"7\" x2=\"120\" y2=\"7\" />\n",
       "  <line x1=\"0\" y1=\"9\" x2=\"120\" y2=\"9\" />\n",
       "  <line x1=\"0\" y1=\"12\" x2=\"120\" y2=\"12\" />\n",
       "  <line x1=\"0\" y1=\"14\" x2=\"120\" y2=\"14\" />\n",
       "  <line x1=\"0\" y1=\"16\" x2=\"120\" y2=\"16\" />\n",
       "  <line x1=\"0\" y1=\"19\" x2=\"120\" y2=\"19\" />\n",
       "  <line x1=\"0\" y1=\"21\" x2=\"120\" y2=\"21\" />\n",
       "  <line x1=\"0\" y1=\"24\" x2=\"120\" y2=\"24\" />\n",
       "  <line x1=\"0\" y1=\"26\" x2=\"120\" y2=\"26\" />\n",
       "  <line x1=\"0\" y1=\"28\" x2=\"120\" y2=\"28\" />\n",
       "  <line x1=\"0\" y1=\"31\" x2=\"120\" y2=\"31\" />\n",
       "  <line x1=\"0\" y1=\"33\" x2=\"120\" y2=\"33\" />\n",
       "  <line x1=\"0\" y1=\"36\" x2=\"120\" y2=\"36\" />\n",
       "  <line x1=\"0\" y1=\"38\" x2=\"120\" y2=\"38\" />\n",
       "  <line x1=\"0\" y1=\"40\" x2=\"120\" y2=\"40\" />\n",
       "  <line x1=\"0\" y1=\"43\" x2=\"120\" y2=\"43\" />\n",
       "  <line x1=\"0\" y1=\"48\" x2=\"120\" y2=\"48\" style=\"stroke-width:2\" />\n",
       "\n",
       "  <!-- Vertical lines -->\n",
       "  <line x1=\"0\" y1=\"0\" x2=\"0\" y2=\"48\" style=\"stroke-width:2\" />\n",
       "  <line x1=\"4\" y1=\"0\" x2=\"4\" y2=\"48\" />\n",
       "  <line x1=\"12\" y1=\"0\" x2=\"12\" y2=\"48\" />\n",
       "  <line x1=\"16\" y1=\"0\" x2=\"16\" y2=\"48\" />\n",
       "  <line x1=\"24\" y1=\"0\" x2=\"24\" y2=\"48\" />\n",
       "  <line x1=\"31\" y1=\"0\" x2=\"31\" y2=\"48\" />\n",
       "  <line x1=\"36\" y1=\"0\" x2=\"36\" y2=\"48\" />\n",
       "  <line x1=\"43\" y1=\"0\" x2=\"43\" y2=\"48\" />\n",
       "  <line x1=\"50\" y1=\"0\" x2=\"50\" y2=\"48\" />\n",
       "  <line x1=\"55\" y1=\"0\" x2=\"55\" y2=\"48\" />\n",
       "  <line x1=\"62\" y1=\"0\" x2=\"62\" y2=\"48\" />\n",
       "  <line x1=\"67\" y1=\"0\" x2=\"67\" y2=\"48\" />\n",
       "  <line x1=\"74\" y1=\"0\" x2=\"74\" y2=\"48\" />\n",
       "  <line x1=\"81\" y1=\"0\" x2=\"81\" y2=\"48\" />\n",
       "  <line x1=\"86\" y1=\"0\" x2=\"86\" y2=\"48\" />\n",
       "  <line x1=\"93\" y1=\"0\" x2=\"93\" y2=\"48\" />\n",
       "  <line x1=\"100\" y1=\"0\" x2=\"100\" y2=\"48\" />\n",
       "  <line x1=\"105\" y1=\"0\" x2=\"105\" y2=\"48\" />\n",
       "  <line x1=\"112\" y1=\"0\" x2=\"112\" y2=\"48\" />\n",
       "  <line x1=\"120\" y1=\"0\" x2=\"120\" y2=\"48\" style=\"stroke-width:2\" />\n",
       "\n",
       "  <!-- Colored Rectangle -->\n",
       "  <polygon points=\"0.0,0.0 120.0,0.0 120.0,48.0 0.0,48.0\" style=\"fill:#8B4903A0;stroke-width:0\"/>\n",
       "\n",
       "  <!-- Text -->\n",
       "  <text x=\"60.000000\" y=\"68.000000\" font-size=\"1.0rem\" font-weight=\"100\" text-anchor=\"middle\" >5000</text>\n",
       "  <text x=\"140.000000\" y=\"24.000000\" font-size=\"1.0rem\" font-weight=\"100\" text-anchor=\"middle\" transform=\"rotate(-90,140.000000,24.000000)\">2000</text>\n",
       "</svg>\n",
       "        </td>\n",
       "    </tr>\n",
       "</table>"
      ],
      "text/plain": [
       "dask.array<count_nuclei, shape=(2000, 5000), dtype=float64, chunksize=(100, 100), chunktype=numpy.ndarray>"
      ]
     },
     "execution_count": 7,
     "metadata": {},
     "output_type": "execute_result"
    }
   ],
   "source": [
    "tile_map = da.map_blocks(count_nuclei, da.from_zarr(zarr_image))\n",
    "\n",
    "tile_map"
   ]
  },
  {
   "cell_type": "markdown",
   "id": "08cbf9c0-7fe7-4eb7-b104-907cc62cb03b",
   "metadata": {},
   "source": [
    "As this result image is orders of magnitude smaller then the original, we can compute the whole result map. This is because the count nuclei function reduces the data massively. Each block is turned into a single number."
   ]
  },
  {
   "cell_type": "code",
   "execution_count": 8,
   "id": "c32f321d-90a0-4f3e-90fe-0f876761ea89",
   "metadata": {
    "tags": []
   },
   "outputs": [],
   "source": [
    "result = tile_map.compute()"
   ]
  },
  {
   "cell_type": "code",
   "execution_count": 9,
   "id": "d49be008-f92f-4eef-891a-d9a9a883eb21",
   "metadata": {
    "tags": []
   },
   "outputs": [
    {
     "data": {
      "text/plain": [
       "(20, 50)"
      ]
     },
     "execution_count": 9,
     "metadata": {},
     "output_type": "execute_result"
    }
   ],
   "source": [
    "result.shape"
   ]
  },
  {
   "cell_type": "markdown",
   "id": "baf8e970-7ae0-4a6b-9233-deba44469015",
   "metadata": {},
   "source": [
    "The sum of intensity of all pixels in this image corresponds to the counted number of nuclei in the original image."
   ]
  },
  {
   "cell_type": "code",
   "execution_count": 10,
   "id": "e8a1d9e9-7141-47a9-8a1e-8bf05e52d3c9",
   "metadata": {
    "tags": []
   },
   "outputs": [
    {
     "data": {
      "text/plain": [
       "np.float64(5545.0)"
      ]
     },
     "execution_count": 10,
     "metadata": {},
     "output_type": "execute_result"
    }
   ],
   "source": [
    "result.sum()"
   ]
  },
  {
   "cell_type": "markdown",
   "id": "b51ff80c-79f6-497c-a8df-3dfe4fee89ce",
   "metadata": {},
   "source": [
    "Again, as the result map is small, we can just visualize it."
   ]
  },
  {
   "cell_type": "code",
   "execution_count": 11,
   "id": "64dbfdf3-6663-4949-9446-eb393ecdc288",
   "metadata": {},
   "outputs": [
    {
     "data": {
      "text/html": [
       "<table>\n",
       "<tr>\n",
       "<td>\n",
       "<img src=\"data:image/png;base64,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\"></img>\n",
       "</td>\n",
       "<td style=\"text-align: center; vertical-align: top;\">\n",
       "\n",
       "<table>\n",
       "<tr><td>shape</td><td>(20,&nbsp;50)</td></tr>\n",
       "<tr><td>dtype</td><td>float64</td></tr>\n",
       "<tr><td>size</td><td>7.8 kB</td></tr>\n",
       "<tr><td>min</td><td>0.0</td></tr><tr><td>max</td><td>20.5</td></tr>\n",
       "</table>\n",
       "<img src=\"data:image/png;base64,iVBORw0KGgoAAAANSUhEUgAAALQAAAB4CAYAAABb59j9AAAAOnRFWHRTb2Z0d2FyZQBNYXRwbG90bGliIHZlcnNpb24zLjEwLjUsIGh0dHBzOi8vbWF0cGxvdGxpYi5vcmcvWftoOwAAAAlwSFlzAAAPYQAAD2EBqD+naQAAAqxJREFUeJzt3Etq21AYhuEjk6m8AGNBFtB9dJANZVY6y4Yy6D66gICDFiBDoROdDkpM6TWpJF8+P89IwvaxIC9/jhyTptZaC4RYnfoCYE6CJoqgiSJoogiaKIImiqCJImiiCJoogiaKoIkiaKLcLLXwOI6l7/vStm1pmmaptyFArbXs9/uy2WzKajVtxi4WdN/3peu6pZYn0G63K9vtdtIaiwXdtm0p5ftFrtfrpd6GAMMwlK7rDs1MsVjQL9uM9XotaF5ljq2pm0KiCJooi205/ub2/vFw/PRwd4pLIJQJTRRBE0XQRBE0UQRNFEETRdBEETRRBE0UQRNF0EQRNFEETRRBE0XQRBE0UQRNFEETRdBEETRRBE0UQRNF0EQRNFEETRRBE0XQRBE0UQRNFEETRdBEETRRBE0UQRNF0EQRNFEETRRBE0XQRBE0UQRNFEETRdBEETRRBE0UQRNF0EQRNFEETZSbU1/AMdzePx6Onx7uZn8+58OEJoqgiSJoogiaKIImiqCJImiiCJoogiaKoIkiaKJcxXc5js13QU7HhCaKoIlylVsOW4JcJjRRBE2Uq9xyTGXLcr5MaKKY0K9gIl8OE5ooJnSZPoFN8PNhQhPFhD4DJvx8LiLof/3Af35cINfLloMogibKRWw50tgSLUfQRyDg47nIoNMD8d9S/99FBn1tBPt6bgqJImiinMWWwx9GmIsJTZSzmNDM65p/wy0WdK21lFLKMAy/PDZ+/XI4HobB+RvP3334dDj//PH9m58/9fwtfnztn17/0shLM1M0dY5VfuP5+bl0XbfE0oTa7XZlu91OWmOxoMdxLH3fl7ZtS9M0S7wFIWqtZb/fl81mU1arabd1iwUNp+BTDqIImiiCJoqgiSJoogiaKIImiqCJImiiCJoo3wA0Zh0qBOETvAAAAABJRU5ErkJggg==\"></img>\n",
       "</td>\n",
       "</tr>\n",
       "</table>"
      ],
      "text/plain": [
       "[[ 0.   0.   0.   0.   0.   0.   0.   0.   0.   0.   0.   0.   0.   0.\n",
       "   0.   0.   0.   0.   0.   0.   0.   0.   0.   0.   0.   0.   0.   0.\n",
       "   0.   0.   0.   0.   0.   0.   0.   0.   0.   0.   0.   3.5  4.   4.\n",
       "   4.5  8.5  5.5  2.   4.   1.5  4.   2. ]\n",
       " [ 0.   0.   0.   0.   0.   0.   0.   0.   0.   0.   0.   0.   0.   0.\n",
       "   0.   0.   0.   0.   0.   0.   0.   0.   0.   0.   0.   0.   0.   0.\n",
       "   0.   0.   0.   0.   0.   0.   1.   0.5  1.   6.5  4.   4.5  1.5  3.5\n",
       "   2.5  3.5  2.5  6.   9.5 11.5  4.5  9. ]\n",
       " [ 0.   0.   0.   0.   0.   0.   0.   0.   0.   0.   0.   0.   0.   0.\n",
       "   0.   0.   0.   0.   0.   0.   0.   0.   0.   0.   0.   0.   0.   0.\n",
       "   0.   0.   0.5  5.5  6.   7.5  3.   3.   2.5  3.   4.   3.5  2.   5.\n",
       "  11.5  8.   9.   8.   6.5  8.   7.   6.5]\n",
       " [ 0.   0.   0.   0.   0.   0.   0.   0.   0.   0.   0.   0.   0.   0.\n",
       "   0.   0.   0.   0.   0.   0.   0.   0.   0.   0.   0.   0.   0.   0.\n",
       "   1.5  6.   6.5  3.5  2.   0.   2.5  3.   6.5  6.5  5.5  7.5  8.   3.5\n",
       "   6.   6.   9.5  7.   4.   3.   6.5  6. ]\n",
       " [ 0.   0.   0.   0.   0.   0.   0.   0.   0.   0.   0.   0.   0.   0.\n",
       "   0.   0.   0.   0.   0.   0.   0.   0.   0.   1.5  0.   0.   4.5  6.5\n",
       "   4.   9.   1.5  3.5  3.5  7.  10.   9.   7.   8.   4.   6.5  3.5  6.\n",
       "   6.   9.5  2.5 11.5 12.   8.5  9.   5. ]\n",
       " [ 0.   0.   0.   0.   0.   0.   0.   0.   0.   0.   0.   0.   0.   0.\n",
       "   0.   0.   1.   4.   4.5  3.5  5.   5.5  8.5  6.5  6.5  6.5  2.   2.\n",
       "   5.   1.5  7.5  4.5 10.5  9.   8.5  6.   6.5  5.5  6.   4.5  7.5  2.5\n",
       "   5.   7.5  6.   8.  11.5  8.5  7.5  8.5]\n",
       " [ 0.   0.   0.   0.   0.   0.   0.   0.   0.   0.   0.   0.   0.   6.\n",
       "   2.5  5.5  4.   1.5  1.5  1.5  0.   0.5  2.5  3.5  5.5 12.   4.   6.5\n",
       "   4.5  7.5  4.5  3.5  4.5  3.5  4.   5.   8.  10.  11.   8.5  8.   7.\n",
       "  12.5  6.  10.5  8.   9.   7.  10.5  6.5]\n",
       " [ 0.   0.   0.   0.   1.   0.   0.   0.   0.   0.5  0.5  7.   8.   2.5\n",
       "   1.   4.5  5.5  4.5  7.   6.5  6.5  6.5  6.5  5.   6.5  6.5  7.5  7.\n",
       "   4.5  7.5  5.5  4.5  6.   9.5  4.   3.  11.   4.5  7.  10.   8.   9.5\n",
       "   7.   5.5  4.5  4.5  5.5  7.   6.5  6.5]\n",
       " [ 0.   0.   0.   0.   0.   0.   0.   0.5  5.   2.   3.5  0.5  5.   1.\n",
       "   3.5  7.5  1.5  5.5  6.   5.   4.5  2.   3.   6.5  2.5  8.   8.  10.\n",
       "   5.5  6.5  4.5  2.5  5.   8.   5.5  6.   7.   4.5  9.5 12.5  8.5  7.5\n",
       "   6.   5.5  9.   4.5  7.   9.5  9.5  6.5]\n",
       " [ 0.   0.   0.   0.   0.   0.5  6.   5.   6.5  4.   6.5  8.5  7.5  3.5\n",
       "   5.   7.5  4.   2.5  7.5  6.   5.5  4.5  4.5  5.   6.5  4.  12.   7.\n",
       "   5.   4.5  2.5  4.5  7.   9.   7.   5.   9.   6.5 12.   3.   4.   4.5\n",
       "   8.   6.   4.5  4.5  7.5  7.   8.5  6. ]\n",
       " [ 0.   0.   0.   2.5  3.5  7.   5.5  3.5  7.5  5.5  5.5  3.   7.5  3.\n",
       "   3.5  5.5  7.   5.   2.5  4.5  4.   8.   4.   3.5  6.5  3.5  8.5 10.5\n",
       "   8.  10.5  8.   9.   9.5 11.   9.5  9.   5.   5.5  3.   2.  11.   5.5\n",
       "   6.5  4.5  8.5  9.5 11.  12.   8.   6.5]\n",
       " [ 0.   1.   5.5  6.5  2.5  2.   3.   5.   3.5  5.   4.5  8.5  6.5  2.\n",
       "   4.   4.5  5.   8.5 10.   8.5  7.5  4.   8.   6.   3.   8.5 11.5 14.\n",
       "   4.5 12.5 10.   7.5  9.   5.   9.5  8.   9.5  5.   4.5  6.5  3.   5.5\n",
       "   8.   4.5  7.   6.5 12.   7.5  5.  12.5]\n",
       " [ 0.5  6.   2.5  6.5  5.5  3.   4.5 10.   5.5  5.5  4.   3.5  8.   4.5\n",
       "   7.   8.5 10.5 10.5  8.5  8.5  8.  14.5  9.  20.5 14.  10.  11.  15.\n",
       "  12.   5.   6.5  3.5  6.5  3.   6.   6.   7.  11.   7.   7.   3.5  5.5\n",
       "   4.5  9.  12.  10.   8.5  6.5 10.  11.5]\n",
       " [ 7.   4.5  4.5  2.5  3.   5.5  6.   4.5  6.5  9.   7.5 12.5 11.   9.5\n",
       "   9.5  8.   5.5 10.5  8.   8.5 11.5  9.5  7.5  5.5  5.5  8.   8.5  5.5\n",
       "   6.   4.5  8.5  5.   8.   6.   6.   5.   8.   7.   8.   4.   5.5  5.\n",
       "  11.   8.  13.5 17.   4.5  7.5 10.5 14. ]\n",
       " [ 5.5 10.   7.5  4.5  4.   5.5  7.5  5.   8.5 12.  12.  14.   8.   8.\n",
       "   5.5  5.5  7.   5.5  8.5  6.   3.5  5.5  3.5  3.   2.5  6.   6.5  9.\n",
       "   7.5 10.5  7.5  4.5  3.   8.   9.   6.5  3.5  8.   7.5  8.   4.   7.5\n",
       "  13.5  5.  10.5  9.  10.5  9.  10.5 10. ]\n",
       " [ 8.  15.   4.   9.5  5.5  5.5  7.5  9.  12.5 12.   9.5 14.5  5.   6.5\n",
       "   2.5  6.   4.5  5.5  7.   8.5  9.5  6.5  5.   6.   7.5  8.5  7.5  3.5\n",
       "   5.5  9.5  8.   6.5  8.  11.  16.5 12.   8.   8.5 12.5 12.5 13.  10.5\n",
       "  12.  12.5  9.5  7.5  9.   8.  14.  17.5]\n",
       " [ 5.   4.   2.   8.5 10.5  9.5 11.5 10.  10.5  9.   8.5  5.5  5.   5.5\n",
       "   9.   7.   7.5 11.   5.5  5.   5.   8.5  7.   9.   4.5  8.   8.5  9.\n",
       "   6.  11.   7.  11.   9.  11.5 11.   9.5 10.   5.5 13.5  7.5  8.5  7.5\n",
       "  11.5  9.5  8.5 12.5  7.5  6.5 14.5  4.5]\n",
       " [ 6.   5.5  7.  10.  14.  14.  12.5  8.   4.   5.5  7.5 11.5  4.5  6.\n",
       "   6.5  9.   5.5  5.5  8.5  5.5  7.   3.   7.5 10.   9.5  6.5  9.   7.5\n",
       "  13.5  8.   6.5  9.  11.5 11.5 13.5 10.   5.5 13.   6.5 11.   3.5 13.5\n",
       "   8.5 13.5 10.5 10.   5.5 16.   3.5  5. ]\n",
       " [ 3.5  6.5 12.  14.5  9.   6.   9.   5.5  4.5  4.   6.5  6.5  4.   5.\n",
       "   8.5 10.   5.5  4.   5.   9.   8.   6.5  6.5  8.  12.5 12.5 12.  15.\n",
       "  13.5 11.  13.5 11.   6.  12.5 10.5 12.5  8.  11.5 10.5 10.  12.   9.5\n",
       "   9.5  9.5  5.   1.   7.   4.5  1.   5. ]\n",
       " [ 8.5  8.  14.   8.5 10.5  5.   4.5  9.   7.5  9.5 10.   5.   4.5  6.\n",
       "  11.5  7.5 12.   9.   7.  11.   8.  12.  15.5  9.5 13.  10.5  7.  10.5\n",
       "  10.   9.5 10.5 12.   8.5 14.   7.5  8.5  7.5 11.  10.5 12.5  7.5 13.5\n",
       "   6.5  0.5  0.   0.  14.   3.   2.5 10.5]]"
      ]
     },
     "execution_count": 11,
     "metadata": {},
     "output_type": "execute_result"
    }
   ],
   "source": [
    "stackview.insight(result)"
   ]
  },
  {
   "cell_type": "markdown",
   "id": "58e69505-e192-4256-b8d7-a2267ba03ce9",
   "metadata": {},
   "source": [
    "## Sanity check\n",
    "Applying the `count nuclei` function to the whole zarr image allows us to check for the error of the computation above.\n",
    "\n",
    "Note that this would not work with _big_ data."
   ]
  },
  {
   "cell_type": "code",
   "execution_count": 12,
   "id": "b567b6ad-7307-42d2-924d-54caf1ec4396",
   "metadata": {
    "tags": []
   },
   "outputs": [
    {
     "data": {
      "text/plain": [
       "array([[5423.5]])"
      ]
     },
     "execution_count": 12,
     "metadata": {},
     "output_type": "execute_result"
    }
   ],
   "source": [
    "count_nuclei(np.asarray(zarr_image))"
   ]
  },
  {
   "cell_type": "markdown",
   "id": "2047b6b4-ff4d-4c9d-ae79-7075ec16409c",
   "metadata": {},
   "source": [
    "# Exercise\n",
    "Use the function `da.from_zarr(zarr_image).rechunk((500, 500))` to apply `cound_nuclei` to differently chunked data. Depending on the chunk size, the error of the method seems different. why?"
   ]
  },
  {
   "cell_type": "code",
   "execution_count": null,
   "id": "7377be5e-bb4f-43ac-995b-b35c97028bf3",
   "metadata": {},
   "outputs": [],
   "source": []
  }
 ],
 "metadata": {
  "kernelspec": {
   "display_name": "Python 3 (ipykernel)",
   "language": "python",
   "name": "python3"
  },
  "language_info": {
   "codemirror_mode": {
    "name": "ipython",
    "version": 3
   },
   "file_extension": ".py",
   "mimetype": "text/x-python",
   "name": "python",
   "nbconvert_exporter": "python",
   "pygments_lexer": "ipython3",
   "version": "3.11.13"
  }
 },
 "nbformat": 4,
 "nbformat_minor": 5
}
