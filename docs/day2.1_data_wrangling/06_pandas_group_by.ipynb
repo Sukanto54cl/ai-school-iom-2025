{
 "cells": [
  {
   "cell_type": "markdown",
   "id": "7f59c300113b158a",
   "metadata": {},
   "source": [
    "# Group by: split-apply-combine\n",
    "\n",
    "“group by” is an analysis process involving one or more of the following steps:\n",
    "* **Splitting** the data into groups based on some criteria\n",
    "* **Applying** a function to each group independently\n",
    "* **Combining** the results into a data structure\n",
    "\n",
    "In the apply step, we might wish to do one of the following:\n",
    "* **Aggregation**: compute a summary statistic (or statistics) for each group, e.g., sums or means\n",
    "* **Transformation**: run group-specific computations and return a like-indexed object, e.g., standardize data or fill missing values within a group\n",
    "* **Filter**: discard some groups, according to a group-wise computation that evaluates to True or False, e.g., discard data based on a groups mean\n",
    "\n",
    "See also:\n",
    "* [Pandas user guide on group by](https://pandas.pydata.org/docs/user_guide/groupby.html)\n",
    "* [Pandas API reference on group by](https://pandas.pydata.org/docs/reference/api/pandas.DataFrame.groupby.html)"
   ]
  },
  {
   "cell_type": "code",
   "execution_count": 1,
   "id": "ae455e46ecfa0895",
   "metadata": {
    "ExecuteTime": {
     "end_time": "2024-04-30T14:22:29.668859Z",
     "start_time": "2024-04-30T14:22:29.501180Z"
    }
   },
   "outputs": [],
   "source": [
    "import pandas as pd\n",
    "import numpy as np"
   ]
  },
  {
   "cell_type": "markdown",
   "id": "a9f14661b31fb0c1",
   "metadata": {},
   "source": [
    "Let's load the dataframe we saved in exercise notebook 03. It contains measurements of objects from two different files."
   ]
  },
  {
   "cell_type": "code",
   "execution_count": 2,
   "id": "b63736cc7b138ad9",
   "metadata": {
    "ExecuteTime": {
     "end_time": "2024-04-30T14:22:29.675444Z",
     "start_time": "2024-04-30T14:22:29.670133Z"
    }
   },
   "outputs": [
    {
     "name": "stdout",
     "output_type": "stream",
     "text": [
      "<class 'pandas.core.frame.DataFrame'>\n",
      "DatetimeIndex: 11 entries, 2023-01-01 07:00:00 to 2023-01-01 20:00:00\n",
      "Data columns (total 7 columns):\n",
      " #   Column  Non-Null Count  Dtype  \n",
      "---  ------  --------------  -----  \n",
      " 0   label   11 non-null     string \n",
      " 1   valid   11 non-null     boolean\n",
      " 2   value1  11 non-null     float64\n",
      " 3   value2  11 non-null     float64\n",
      " 4   value3  11 non-null     float64\n",
      " 5   value4  11 non-null     float64\n",
      " 6   value5  11 non-null     float64\n",
      "dtypes: boolean(1), float64(5), string(1)\n",
      "memory usage: 638.0 bytes\n"
     ]
    }
   ],
   "source": [
    "df = pd.read_csv('data/filled_measurements.csv', index_col=0, parse_dates=True, dtype={'label': 'string', 'valid': 'boolean'})\n",
    "df.info()"
   ]
  },
  {
   "cell_type": "markdown",
   "id": "52d9c18c6287a962",
   "metadata": {},
   "source": [
    "Let’s say we want to compute the mean of all values for both valid and non-valid measurements. \n",
    "\n",
    "Ignoring for the second the mechanics of how we would do this with Python, let’s think about it in English. What do we need to do?\n",
    "* Split the data set according to the 'valid' criterion, i.e., split it, so we have a separate data set for the two classes `True` and `False`.\n",
    "* Apply a mean function to the value columns.\n",
    "* Combine the results of these averages on the split data set into a new summary data set that contains the two classes.\n",
    "\n",
    "We see that the strategy we want is a split-apply-combine strategy, and it turns out that this is a strategy we want to use very often.\n",
    "* Split the data in terms of some criterion. \n",
    "* Apply some function to the split data. \n",
    "* Combine the results into a new data frame.\n",
    "\n",
    "Note that if the data is tidy, this procedure makes a lot of sense. Choose the column you want to use to split by. All rows with like entries in the splitting column are then grouped into a new data set. You can then apply any function you want into these new data sets. You can then combine the results into a new data frame.\n",
    "\n",
    "Pandas' split-apply-combine operations are achieved using the DataFrames `groupby()` method. You can think of `groupby()` as the splitting part. You can then apply functions to the resulting DataFrameGroupBy object. The Pandas documentation on split-apply-combine is worth reading through. It is extensive though, so don’t let yourself get intimidated by it."
   ]
  },
  {
   "cell_type": "code",
   "execution_count": 3,
   "id": "210082c9b341ddc0",
   "metadata": {
    "ExecuteTime": {
     "end_time": "2024-04-30T14:22:29.682673Z",
     "start_time": "2024-04-30T14:22:29.676213Z"
    }
   },
   "outputs": [
    {
     "data": {
      "text/html": [
       "<div>\n",
       "<style scoped>\n",
       "    .dataframe tbody tr th:only-of-type {\n",
       "        vertical-align: middle;\n",
       "    }\n",
       "\n",
       "    .dataframe tbody tr th {\n",
       "        vertical-align: top;\n",
       "    }\n",
       "\n",
       "    .dataframe thead th {\n",
       "        text-align: right;\n",
       "    }\n",
       "</style>\n",
       "<table border=\"1\" class=\"dataframe\">\n",
       "  <thead>\n",
       "    <tr style=\"text-align: right;\">\n",
       "      <th></th>\n",
       "      <th>label</th>\n",
       "      <th>valid</th>\n",
       "      <th>value1</th>\n",
       "      <th>value2</th>\n",
       "      <th>value3</th>\n",
       "      <th>value4</th>\n",
       "      <th>value5</th>\n",
       "    </tr>\n",
       "    <tr>\n",
       "      <th>timestamp</th>\n",
       "      <th></th>\n",
       "      <th></th>\n",
       "      <th></th>\n",
       "      <th></th>\n",
       "      <th></th>\n",
       "      <th></th>\n",
       "      <th></th>\n",
       "    </tr>\n",
       "  </thead>\n",
       "  <tbody>\n",
       "    <tr>\n",
       "      <th>2023-01-01 07:00:00</th>\n",
       "      <td>A</td>\n",
       "      <td>True</td>\n",
       "      <td>9.0</td>\n",
       "      <td>2.0</td>\n",
       "      <td>3.1</td>\n",
       "      <td>0.98</td>\n",
       "      <td>1.23</td>\n",
       "    </tr>\n",
       "    <tr>\n",
       "      <th>2023-01-01 08:00:00</th>\n",
       "      <td>B</td>\n",
       "      <td>False</td>\n",
       "      <td>11.0</td>\n",
       "      <td>3.5</td>\n",
       "      <td>0.4</td>\n",
       "      <td>0.40</td>\n",
       "      <td>1.11</td>\n",
       "    </tr>\n",
       "    <tr>\n",
       "      <th>2023-01-01 10:00:00</th>\n",
       "      <td>D</td>\n",
       "      <td>True</td>\n",
       "      <td>9.5</td>\n",
       "      <td>5.0</td>\n",
       "      <td>3.0</td>\n",
       "      <td>2.56</td>\n",
       "      <td>1.52</td>\n",
       "    </tr>\n",
       "    <tr>\n",
       "      <th>2023-01-01 10:15:00</th>\n",
       "      <td>C</td>\n",
       "      <td>True</td>\n",
       "      <td>10.2</td>\n",
       "      <td>8.0</td>\n",
       "      <td>5.6</td>\n",
       "      <td>2.85</td>\n",
       "      <td>1.93</td>\n",
       "    </tr>\n",
       "    <tr>\n",
       "      <th>2023-01-01 11:00:00</th>\n",
       "      <td>E</td>\n",
       "      <td>False</td>\n",
       "      <td>15.0</td>\n",
       "      <td>7.0</td>\n",
       "      <td>4.4</td>\n",
       "      <td>3.14</td>\n",
       "      <td>2.34</td>\n",
       "    </tr>\n",
       "    <tr>\n",
       "      <th>2023-01-01 12:00:00</th>\n",
       "      <td>F</td>\n",
       "      <td>True</td>\n",
       "      <td>400.0</td>\n",
       "      <td>4.0</td>\n",
       "      <td>2.2</td>\n",
       "      <td>2.71</td>\n",
       "      <td>2.45</td>\n",
       "    </tr>\n",
       "    <tr>\n",
       "      <th>2023-01-01 16:00:00</th>\n",
       "      <td>G</td>\n",
       "      <td>False</td>\n",
       "      <td>9.0</td>\n",
       "      <td>1.0</td>\n",
       "      <td>1.1</td>\n",
       "      <td>3.58</td>\n",
       "      <td>0.98</td>\n",
       "    </tr>\n",
       "    <tr>\n",
       "      <th>2023-01-01 17:00:00</th>\n",
       "      <td>H</td>\n",
       "      <td>True</td>\n",
       "      <td>11.0</td>\n",
       "      <td>4.0</td>\n",
       "      <td>0.9</td>\n",
       "      <td>4.12</td>\n",
       "      <td>1.05</td>\n",
       "    </tr>\n",
       "    <tr>\n",
       "      <th>2023-01-01 18:00:00</th>\n",
       "      <td>I</td>\n",
       "      <td>True</td>\n",
       "      <td>11.3</td>\n",
       "      <td>6.0</td>\n",
       "      <td>3.3</td>\n",
       "      <td>3.33</td>\n",
       "      <td>1.67</td>\n",
       "    </tr>\n",
       "    <tr>\n",
       "      <th>2023-01-01 19:00:00</th>\n",
       "      <td>J</td>\n",
       "      <td>False</td>\n",
       "      <td>10.0</td>\n",
       "      <td>9.0</td>\n",
       "      <td>4.1</td>\n",
       "      <td>2.98</td>\n",
       "      <td>2.89</td>\n",
       "    </tr>\n",
       "    <tr>\n",
       "      <th>2023-01-01 20:00:00</th>\n",
       "      <td>K</td>\n",
       "      <td>True</td>\n",
       "      <td>10.0</td>\n",
       "      <td>9.0</td>\n",
       "      <td>4.1</td>\n",
       "      <td>3.87</td>\n",
       "      <td>2.89</td>\n",
       "    </tr>\n",
       "  </tbody>\n",
       "</table>\n",
       "</div>"
      ],
      "text/plain": [
       "                    label  valid  value1  value2  value3  value4  value5\n",
       "timestamp                                                               \n",
       "2023-01-01 07:00:00     A   True     9.0     2.0     3.1    0.98    1.23\n",
       "2023-01-01 08:00:00     B  False    11.0     3.5     0.4    0.40    1.11\n",
       "2023-01-01 10:00:00     D   True     9.5     5.0     3.0    2.56    1.52\n",
       "2023-01-01 10:15:00     C   True    10.2     8.0     5.6    2.85    1.93\n",
       "2023-01-01 11:00:00     E  False    15.0     7.0     4.4    3.14    2.34\n",
       "2023-01-01 12:00:00     F   True   400.0     4.0     2.2    2.71    2.45\n",
       "2023-01-01 16:00:00     G  False     9.0     1.0     1.1    3.58    0.98\n",
       "2023-01-01 17:00:00     H   True    11.0     4.0     0.9    4.12    1.05\n",
       "2023-01-01 18:00:00     I   True    11.3     6.0     3.3    3.33    1.67\n",
       "2023-01-01 19:00:00     J  False    10.0     9.0     4.1    2.98    2.89\n",
       "2023-01-01 20:00:00     K   True    10.0     9.0     4.1    3.87    2.89"
      ]
     },
     "execution_count": 3,
     "metadata": {},
     "output_type": "execute_result"
    }
   ],
   "source": [
    "df"
   ]
  },
  {
   "cell_type": "markdown",
   "id": "3380a3d25320d1c6",
   "metadata": {},
   "source": [
    "## Aggregation of columns mean\n",
    "### Split\n",
    "Let's start splitting the data using `groupby()` and have a look at the resulting object."
   ]
  },
  {
   "cell_type": "code",
   "execution_count": 4,
   "id": "8ae6b7d53a0ab853",
   "metadata": {
    "ExecuteTime": {
     "end_time": "2024-04-30T14:22:29.686315Z",
     "start_time": "2024-04-30T14:22:29.684011Z"
    }
   },
   "outputs": [
    {
     "data": {
      "text/plain": [
       "<pandas.core.groupby.generic.DataFrameGroupBy object at 0x12d643460>"
      ]
     },
     "execution_count": 4,
     "metadata": {},
     "output_type": "execute_result"
    }
   ],
   "source": [
    "grouped = df.groupby('valid')\n",
    "grouped"
   ]
  },
  {
   "cell_type": "markdown",
   "id": "10ea2a43fe5c823b",
   "metadata": {},
   "source": [
    "There is not much to see on the resulting DataFrameGroupBy object itself, but there is a lot we can do with it. First, let's iterate through the groups and have a closer look:"
   ]
  },
  {
   "cell_type": "code",
   "execution_count": 5,
   "id": "a380be6127b85c28",
   "metadata": {
    "ExecuteTime": {
     "end_time": "2024-04-30T14:22:29.689063Z",
     "start_time": "2024-04-30T14:22:29.686947Z"
    }
   },
   "outputs": [
    {
     "name": "stdout",
     "output_type": "stream",
     "text": [
      "False\n",
      "<class 'pandas.core.frame.DataFrame'>\n",
      "True\n",
      "<class 'pandas.core.frame.DataFrame'>\n"
     ]
    }
   ],
   "source": [
    "for name, group in grouped:\n",
    "    print(name)\n",
    "    print(type(group))"
   ]
  },
  {
   "cell_type": "markdown",
   "id": "2154558287f497f9",
   "metadata": {},
   "source": [
    "### Apply and Combine\n",
    "Using the `.` operator on the DataFrameGroupBy object and hitting tab will show you [the many possibilities](https://pandas.pydata.org/docs/reference/groupby.html#dataframegroupby-computations-descriptive-stats). For most of these possibilities, the apply and combine steps are comprised and a new DataFrame is returned. \n",
    "\n",
    "The `.mean()` method is exactly what we want. Here, the `numeric_only` option is set to exclude the string-typed columns from the calculation."
   ]
  },
  {
   "cell_type": "code",
   "execution_count": 6,
   "id": "591f76dfc4c8af88",
   "metadata": {
    "ExecuteTime": {
     "end_time": "2024-04-30T14:22:29.693669Z",
     "start_time": "2024-04-30T14:22:29.689658Z"
    }
   },
   "outputs": [
    {
     "data": {
      "text/html": [
       "<div>\n",
       "<style scoped>\n",
       "    .dataframe tbody tr th:only-of-type {\n",
       "        vertical-align: middle;\n",
       "    }\n",
       "\n",
       "    .dataframe tbody tr th {\n",
       "        vertical-align: top;\n",
       "    }\n",
       "\n",
       "    .dataframe thead th {\n",
       "        text-align: right;\n",
       "    }\n",
       "</style>\n",
       "<table border=\"1\" class=\"dataframe\">\n",
       "  <thead>\n",
       "    <tr style=\"text-align: right;\">\n",
       "      <th></th>\n",
       "      <th>value1</th>\n",
       "      <th>value2</th>\n",
       "      <th>value3</th>\n",
       "      <th>value4</th>\n",
       "      <th>value5</th>\n",
       "    </tr>\n",
       "    <tr>\n",
       "      <th>valid</th>\n",
       "      <th></th>\n",
       "      <th></th>\n",
       "      <th></th>\n",
       "      <th></th>\n",
       "      <th></th>\n",
       "    </tr>\n",
       "  </thead>\n",
       "  <tbody>\n",
       "    <tr>\n",
       "      <th>False</th>\n",
       "      <td>11.250000</td>\n",
       "      <td>5.125000</td>\n",
       "      <td>2.500000</td>\n",
       "      <td>2.525000</td>\n",
       "      <td>1.83</td>\n",
       "    </tr>\n",
       "    <tr>\n",
       "      <th>True</th>\n",
       "      <td>65.857143</td>\n",
       "      <td>5.428571</td>\n",
       "      <td>3.171429</td>\n",
       "      <td>2.917143</td>\n",
       "      <td>1.82</td>\n",
       "    </tr>\n",
       "  </tbody>\n",
       "</table>\n",
       "</div>"
      ],
      "text/plain": [
       "          value1    value2    value3    value4  value5\n",
       "valid                                                 \n",
       "False  11.250000  5.125000  2.500000  2.525000    1.83\n",
       "True   65.857143  5.428571  3.171429  2.917143    1.82"
      ]
     },
     "execution_count": 6,
     "metadata": {},
     "output_type": "execute_result"
    }
   ],
   "source": [
    "df_valid_mean = grouped.mean(numeric_only=True)\n",
    "\n",
    "# Take a look\n",
    "df_valid_mean"
   ]
  },
  {
   "cell_type": "markdown",
   "id": "d813888e70f28567",
   "metadata": {},
   "source": [
    "The resulting DataFrame has the means of all numerical columns. Note that the column 'valid' has been set as row index. If we want to keep 'valid' as a normal column, we can use the `reset_index()` method."
   ]
  },
  {
   "cell_type": "code",
   "execution_count": 7,
   "id": "ada9ce4e984226dc",
   "metadata": {
    "ExecuteTime": {
     "end_time": "2024-04-30T14:22:29.698547Z",
     "start_time": "2024-04-30T14:22:29.694387Z"
    }
   },
   "outputs": [
    {
     "data": {
      "text/html": [
       "<div>\n",
       "<style scoped>\n",
       "    .dataframe tbody tr th:only-of-type {\n",
       "        vertical-align: middle;\n",
       "    }\n",
       "\n",
       "    .dataframe tbody tr th {\n",
       "        vertical-align: top;\n",
       "    }\n",
       "\n",
       "    .dataframe thead th {\n",
       "        text-align: right;\n",
       "    }\n",
       "</style>\n",
       "<table border=\"1\" class=\"dataframe\">\n",
       "  <thead>\n",
       "    <tr style=\"text-align: right;\">\n",
       "      <th></th>\n",
       "      <th>valid</th>\n",
       "      <th>value1</th>\n",
       "      <th>value2</th>\n",
       "      <th>value3</th>\n",
       "      <th>value4</th>\n",
       "      <th>value5</th>\n",
       "    </tr>\n",
       "  </thead>\n",
       "  <tbody>\n",
       "    <tr>\n",
       "      <th>0</th>\n",
       "      <td>False</td>\n",
       "      <td>11.250000</td>\n",
       "      <td>5.125000</td>\n",
       "      <td>2.500000</td>\n",
       "      <td>2.525000</td>\n",
       "      <td>1.83</td>\n",
       "    </tr>\n",
       "    <tr>\n",
       "      <th>1</th>\n",
       "      <td>True</td>\n",
       "      <td>65.857143</td>\n",
       "      <td>5.428571</td>\n",
       "      <td>3.171429</td>\n",
       "      <td>2.917143</td>\n",
       "      <td>1.82</td>\n",
       "    </tr>\n",
       "  </tbody>\n",
       "</table>\n",
       "</div>"
      ],
      "text/plain": [
       "   valid     value1    value2    value3    value4  value5\n",
       "0  False  11.250000  5.125000  2.500000  2.525000    1.83\n",
       "1   True  65.857143  5.428571  3.171429  2.917143    1.82"
      ]
     },
     "execution_count": 7,
     "metadata": {},
     "output_type": "execute_result"
    }
   ],
   "source": [
    "df_valid_mean.reset_index()"
   ]
  },
  {
   "cell_type": "markdown",
   "id": "f1b695168180e57f",
   "metadata": {},
   "source": [
    "## Applying custom functions\n",
    "If we want to apply an aggregation function that is not [built-in](https://pandas.pydata.org/docs/user_guide/groupby.html#built-in-aggregation-methods), we can also do so. \n",
    "\n",
    "For example, let's check numerical columns for outliers based on the standard deviation. We can define a generic function like shown below."
   ]
  },
  {
   "cell_type": "code",
   "execution_count": null,
   "id": "1981eff750c82cba",
   "metadata": {
    "ExecuteTime": {
     "end_time": "2024-04-30T14:22:29.706673Z",
     "start_time": "2024-04-30T14:22:29.704940Z"
    }
   },
   "outputs": [],
   "source": [
    "def check_for_outliers(data):\n",
    "    \"\"\"Check whether any outliers are present based on the standard deviation.\"\"\"\n",
    "    mean, std = data.mean(), data.std()\n",
    "    if std == 0:\n",
    "        return False\n",
    "    outliers = np.abs(data - mean) > (2 * std)\n",
    "    return outliers.any()"
   ]
  },
  {
   "cell_type": "markdown",
   "id": "e583ca531b978233",
   "metadata": {},
   "source": [
    "Let's group our data again and apply our custom function as an aggregating function to the numerical columns only."
   ]
  },
  {
   "cell_type": "code",
   "execution_count": 9,
   "id": "7dfb25acd9b15c77",
   "metadata": {
    "ExecuteTime": {
     "end_time": "2024-04-30T14:22:29.710063Z",
     "start_time": "2024-04-30T14:22:29.708421Z"
    }
   },
   "outputs": [
    {
     "data": {
      "text/html": [
       "<div>\n",
       "<style scoped>\n",
       "    .dataframe tbody tr th:only-of-type {\n",
       "        vertical-align: middle;\n",
       "    }\n",
       "\n",
       "    .dataframe tbody tr th {\n",
       "        vertical-align: top;\n",
       "    }\n",
       "\n",
       "    .dataframe thead th {\n",
       "        text-align: right;\n",
       "    }\n",
       "</style>\n",
       "<table border=\"1\" class=\"dataframe\">\n",
       "  <thead>\n",
       "    <tr style=\"text-align: right;\">\n",
       "      <th></th>\n",
       "      <th>value1</th>\n",
       "      <th>value2</th>\n",
       "      <th>value3</th>\n",
       "      <th>value4</th>\n",
       "      <th>value5</th>\n",
       "    </tr>\n",
       "    <tr>\n",
       "      <th>valid</th>\n",
       "      <th></th>\n",
       "      <th></th>\n",
       "      <th></th>\n",
       "      <th></th>\n",
       "      <th></th>\n",
       "    </tr>\n",
       "  </thead>\n",
       "  <tbody>\n",
       "    <tr>\n",
       "      <th>False</th>\n",
       "      <td>False</td>\n",
       "      <td>False</td>\n",
       "      <td>False</td>\n",
       "      <td>False</td>\n",
       "      <td>False</td>\n",
       "    </tr>\n",
       "    <tr>\n",
       "      <th>True</th>\n",
       "      <td>True</td>\n",
       "      <td>False</td>\n",
       "      <td>False</td>\n",
       "      <td>False</td>\n",
       "      <td>False</td>\n",
       "    </tr>\n",
       "  </tbody>\n",
       "</table>\n",
       "</div>"
      ],
      "text/plain": [
       "       value1  value2  value3  value4  value5\n",
       "valid                                        \n",
       "False   False   False   False   False   False\n",
       "True     True   False   False   False   False"
      ]
     },
     "execution_count": 9,
     "metadata": {},
     "output_type": "execute_result"
    }
   ],
   "source": [
    "df.groupby('valid')[df.select_dtypes(include=\"number\").columns].agg(check_for_outliers)"
   ]
  }
 ],
 "metadata": {
  "kernelspec": {
   "display_name": "iom-env",
   "language": "python",
   "name": "python3"
  },
  "language_info": {
   "codemirror_mode": {
    "name": "ipython",
    "version": 3
   },
   "file_extension": ".py",
   "mimetype": "text/x-python",
   "name": "python",
   "nbconvert_exporter": "python",
   "pygments_lexer": "ipython3",
   "version": "3.10.4"
  }
 },
 "nbformat": 4,
 "nbformat_minor": 5
}
