{
 "cells": [
  {
   "cell_type": "markdown",
   "id": "10dfb8941e6efd9f",
   "metadata": {},
   "source": [
    "# Selecting data from DataFrames\n",
    "\n",
    "Like with Python sequences, e.g., lists, we may want to get specific parts of the data in a DataFrame. And like with Python sequences, we can use _indexing_, _slicing_, and _masking_ on DataFrames, too.\n",
    "\n",
    "See also:\n",
    "* [Pandas user guide on indexing](https://pandas.pydata.org/docs/user_guide/indexing.html)\n",
    "\n",
    "We start by reading a CSV file into a DataFrame again"
   ]
  },
  {
   "cell_type": "code",
   "execution_count": 1,
   "id": "2f7f4a4caf89f66c",
   "metadata": {
    "ExecuteTime": {
     "end_time": "2024-04-30T14:15:54.488046Z",
     "start_time": "2024-04-30T14:15:54.321285Z"
    }
   },
   "outputs": [],
   "source": [
    "import pandas as pd"
   ]
  },
  {
   "cell_type": "code",
   "execution_count": 2,
   "id": "bf2b807a043a8a42",
   "metadata": {
    "ExecuteTime": {
     "end_time": "2024-04-30T14:15:54.495605Z",
     "start_time": "2024-04-30T14:15:54.489276Z"
    }
   },
   "outputs": [
    {
     "name": "stdout",
     "output_type": "stream",
     "text": [
      "<class 'pandas.core.frame.DataFrame'>\n",
      "RangeIndex: 10 entries, 0 to 9\n",
      "Data columns (total 5 columns):\n",
      " #   Column  Non-Null Count  Dtype  \n",
      "---  ------  --------------  -----  \n",
      " 0   label   10 non-null     object \n",
      " 1   value1  10 non-null     float64\n",
      " 2   value2  8 non-null      float64\n",
      " 3   value3  9 non-null      float64\n",
      " 4   valid   10 non-null     bool   \n",
      "dtypes: bool(1), float64(3), object(1)\n",
      "memory usage: 458.0+ bytes\n"
     ]
    }
   ],
   "source": [
    "df = pd.read_csv('data/measurements_1.csv')\n",
    "df.info()"
   ]
  },
  {
   "cell_type": "markdown",
   "id": "a4e1bc3bb344bbcb",
   "metadata": {},
   "source": [
    "Pandas provides methods to display just the first `n` rows or last `n` rows of a DataFrame - [`head()`](https://pandas.pydata.org/docs/reference/api/pandas.DataFrame.head.html) and [`tail()`](https://pandas.pydata.org/docs/reference/api/pandas.DataFrame.tail.html)."
   ]
  },
  {
   "cell_type": "code",
   "execution_count": 3,
   "id": "6b4f5cf7b9f6d366",
   "metadata": {
    "ExecuteTime": {
     "end_time": "2024-04-30T14:15:54.503557Z",
     "start_time": "2024-04-30T14:15:54.496416Z"
    }
   },
   "outputs": [
    {
     "data": {
      "text/html": [
       "<div>\n",
       "<style scoped>\n",
       "    .dataframe tbody tr th:only-of-type {\n",
       "        vertical-align: middle;\n",
       "    }\n",
       "\n",
       "    .dataframe tbody tr th {\n",
       "        vertical-align: top;\n",
       "    }\n",
       "\n",
       "    .dataframe thead th {\n",
       "        text-align: right;\n",
       "    }\n",
       "</style>\n",
       "<table border=\"1\" class=\"dataframe\">\n",
       "  <thead>\n",
       "    <tr style=\"text-align: right;\">\n",
       "      <th></th>\n",
       "      <th>label</th>\n",
       "      <th>value1</th>\n",
       "      <th>value2</th>\n",
       "      <th>value3</th>\n",
       "      <th>valid</th>\n",
       "    </tr>\n",
       "  </thead>\n",
       "  <tbody>\n",
       "    <tr>\n",
       "      <th>0</th>\n",
       "      <td>A</td>\n",
       "      <td>9.0</td>\n",
       "      <td>2.0</td>\n",
       "      <td>3.1</td>\n",
       "      <td>True</td>\n",
       "    </tr>\n",
       "    <tr>\n",
       "      <th>1</th>\n",
       "      <td>B</td>\n",
       "      <td>11.0</td>\n",
       "      <td>NaN</td>\n",
       "      <td>0.4</td>\n",
       "      <td>False</td>\n",
       "    </tr>\n",
       "    <tr>\n",
       "      <th>2</th>\n",
       "      <td>C</td>\n",
       "      <td>10.2</td>\n",
       "      <td>8.0</td>\n",
       "      <td>5.6</td>\n",
       "      <td>True</td>\n",
       "    </tr>\n",
       "  </tbody>\n",
       "</table>\n",
       "</div>"
      ],
      "text/plain": [
       "  label  value1  value2  value3  valid\n",
       "0     A     9.0     2.0     3.1   True\n",
       "1     B    11.0     NaN     0.4  False\n",
       "2     C    10.2     8.0     5.6   True"
      ]
     },
     "execution_count": 3,
     "metadata": {},
     "output_type": "execute_result"
    }
   ],
   "source": [
    "df.head(3)"
   ]
  },
  {
   "cell_type": "markdown",
   "id": "c411538c1c42e8c",
   "metadata": {},
   "source": [
    "We can also get the column names via [`columns`](https://pandas.pydata.org/docs/reference/api/pandas.DataFrame.columns.html). This will provide an [`Index`](https://pandas.pydata.org/docs/reference/api/pandas.Index.html) object with the column names and some metadata."
   ]
  },
  {
   "cell_type": "code",
   "execution_count": 4,
   "id": "6debc8c94a4a612f",
   "metadata": {
    "ExecuteTime": {
     "end_time": "2024-04-30T14:15:54.506891Z",
     "start_time": "2024-04-30T14:15:54.504871Z"
    }
   },
   "outputs": [
    {
     "data": {
      "text/plain": [
       "Index(['label', 'value1', 'value2', 'value3', 'valid'], dtype='object')"
      ]
     },
     "execution_count": 4,
     "metadata": {},
     "output_type": "execute_result"
    }
   ],
   "source": [
    "df.columns"
   ]
  },
  {
   "cell_type": "markdown",
   "id": "9a44dc9d2f20b692",
   "metadata": {},
   "source": [
    "## Selecting rows and columns\n",
    "Let's get the DataFrames first row"
   ]
  },
  {
   "cell_type": "code",
   "execution_count": 5,
   "id": "a99f9274e5022a50",
   "metadata": {
    "ExecuteTime": {
     "end_time": "2024-04-30T14:15:55.035597Z",
     "start_time": "2024-04-30T14:15:54.507570Z"
    }
   },
   "outputs": [],
   "source": [
    "#df[0]"
   ]
  },
  {
   "cell_type": "markdown",
   "id": "24bd02be2cccc2ec",
   "metadata": {},
   "source": [
    "Ooops...this raises a `KeyError`. For DataFrames, the `[]` operator expects labels only, and works on the columns, not the rows. We can use it to get a subset of the DataFrame with the specified column labels:"
   ]
  },
  {
   "cell_type": "code",
   "execution_count": 6,
   "id": "49d7a0f6321c3ea6",
   "metadata": {
    "ExecuteTime": {
     "end_time": "2024-04-30T14:17:13.714963Z",
     "start_time": "2024-04-30T14:17:13.710452Z"
    }
   },
   "outputs": [
    {
     "data": {
      "text/plain": [
       "0      9.0\n",
       "1     11.0\n",
       "2     10.2\n",
       "3      9.5\n",
       "4     15.0\n",
       "5    400.0\n",
       "6      9.0\n",
       "7     11.0\n",
       "8     11.3\n",
       "9     10.0\n",
       "Name: value1, dtype: float64"
      ]
     },
     "execution_count": 6,
     "metadata": {},
     "output_type": "execute_result"
    }
   ],
   "source": [
    "df['value1']"
   ]
  },
  {
   "cell_type": "markdown",
   "id": "a389bd43fdac5ace",
   "metadata": {},
   "source": [
    "Notice that the resulting data structure has the column data and an index, too. That's because Pandas DataFrames use [Pandas Series](https://pandas.pydata.org/docs/reference/api/pandas.Series.html) for the columns, which are one-dimensional arrays with an index for the rows and a label for the column data. It can be seen as a single-column table."
   ]
  },
  {
   "cell_type": "code",
   "execution_count": 7,
   "id": "2cdaf947",
   "metadata": {},
   "outputs": [
    {
     "data": {
      "text/plain": [
       "pandas.core.series.Series"
      ]
     },
     "execution_count": 7,
     "metadata": {},
     "output_type": "execute_result"
    }
   ],
   "source": [
    "type(df['value1'])"
   ]
  },
  {
   "cell_type": "markdown",
   "id": "15bb7744",
   "metadata": {},
   "source": [
    "We can get more columns by passing their names as a list. Furthermore, we can store this \"sub-dataframe\" in a new variable."
   ]
  },
  {
   "cell_type": "code",
   "execution_count": 8,
   "id": "288b60b502783270",
   "metadata": {
    "ExecuteTime": {
     "end_time": "2024-04-30T14:17:16.789861Z",
     "start_time": "2024-04-30T14:17:16.783679Z"
    }
   },
   "outputs": [
    {
     "data": {
      "text/html": [
       "<div>\n",
       "<style scoped>\n",
       "    .dataframe tbody tr th:only-of-type {\n",
       "        vertical-align: middle;\n",
       "    }\n",
       "\n",
       "    .dataframe tbody tr th {\n",
       "        vertical-align: top;\n",
       "    }\n",
       "\n",
       "    .dataframe thead th {\n",
       "        text-align: right;\n",
       "    }\n",
       "</style>\n",
       "<table border=\"1\" class=\"dataframe\">\n",
       "  <thead>\n",
       "    <tr style=\"text-align: right;\">\n",
       "      <th></th>\n",
       "      <th>label</th>\n",
       "      <th>value1</th>\n",
       "    </tr>\n",
       "  </thead>\n",
       "  <tbody>\n",
       "    <tr>\n",
       "      <th>0</th>\n",
       "      <td>A</td>\n",
       "      <td>9.0</td>\n",
       "    </tr>\n",
       "    <tr>\n",
       "      <th>1</th>\n",
       "      <td>B</td>\n",
       "      <td>11.0</td>\n",
       "    </tr>\n",
       "    <tr>\n",
       "      <th>2</th>\n",
       "      <td>C</td>\n",
       "      <td>10.2</td>\n",
       "    </tr>\n",
       "    <tr>\n",
       "      <th>3</th>\n",
       "      <td>D</td>\n",
       "      <td>9.5</td>\n",
       "    </tr>\n",
       "    <tr>\n",
       "      <th>4</th>\n",
       "      <td>E</td>\n",
       "      <td>15.0</td>\n",
       "    </tr>\n",
       "    <tr>\n",
       "      <th>5</th>\n",
       "      <td>F</td>\n",
       "      <td>400.0</td>\n",
       "    </tr>\n",
       "    <tr>\n",
       "      <th>6</th>\n",
       "      <td>G</td>\n",
       "      <td>9.0</td>\n",
       "    </tr>\n",
       "    <tr>\n",
       "      <th>7</th>\n",
       "      <td>H</td>\n",
       "      <td>11.0</td>\n",
       "    </tr>\n",
       "    <tr>\n",
       "      <th>8</th>\n",
       "      <td>I</td>\n",
       "      <td>11.3</td>\n",
       "    </tr>\n",
       "    <tr>\n",
       "      <th>9</th>\n",
       "      <td>J</td>\n",
       "      <td>10.0</td>\n",
       "    </tr>\n",
       "  </tbody>\n",
       "</table>\n",
       "</div>"
      ],
      "text/plain": [
       "  label  value1\n",
       "0     A     9.0\n",
       "1     B    11.0\n",
       "2     C    10.2\n",
       "3     D     9.5\n",
       "4     E    15.0\n",
       "5     F   400.0\n",
       "6     G     9.0\n",
       "7     H    11.0\n",
       "8     I    11.3\n",
       "9     J    10.0"
      ]
     },
     "execution_count": 8,
     "metadata": {},
     "output_type": "execute_result"
    }
   ],
   "source": [
    "df_subset = df[['label', 'value1']]\n",
    "df_subset"
   ]
  },
  {
   "cell_type": "markdown",
   "id": "159a76a4c72543fb",
   "metadata": {},
   "source": [
    "### Label-location based selection\n",
    "\n",
    "If we want to select specific rows, we need to use the method [`loc[]`](https://pandas.pydata.org/docs/reference/api/pandas.DataFrame.loc.html). Note, that `loc[]` also works with labels only. Let's get the row with label 0 (its index label)."
   ]
  },
  {
   "cell_type": "code",
   "execution_count": 9,
   "id": "e9f5384fedf9200b",
   "metadata": {
    "ExecuteTime": {
     "end_time": "2024-04-30T14:17:18.553113Z",
     "start_time": "2024-04-30T14:17:18.549315Z"
    }
   },
   "outputs": [
    {
     "data": {
      "text/plain": [
       "label        A\n",
       "value1     9.0\n",
       "value2     2.0\n",
       "value3     3.1\n",
       "valid     True\n",
       "Name: 0, dtype: object"
      ]
     },
     "execution_count": 9,
     "metadata": {},
     "output_type": "execute_result"
    }
   ],
   "source": [
    "df.loc[0]"
   ]
  },
  {
   "cell_type": "markdown",
   "id": "c6be59cdfc898221",
   "metadata": {},
   "source": [
    "We can also select more than one row by providing the row labels as a list. In addition, we can select specific columns, too:"
   ]
  },
  {
   "cell_type": "code",
   "execution_count": 10,
   "id": "de748199ec413593",
   "metadata": {
    "ExecuteTime": {
     "end_time": "2024-04-30T14:17:19.689380Z",
     "start_time": "2024-04-30T14:17:19.684212Z"
    }
   },
   "outputs": [
    {
     "data": {
      "text/html": [
       "<div>\n",
       "<style scoped>\n",
       "    .dataframe tbody tr th:only-of-type {\n",
       "        vertical-align: middle;\n",
       "    }\n",
       "\n",
       "    .dataframe tbody tr th {\n",
       "        vertical-align: top;\n",
       "    }\n",
       "\n",
       "    .dataframe thead th {\n",
       "        text-align: right;\n",
       "    }\n",
       "</style>\n",
       "<table border=\"1\" class=\"dataframe\">\n",
       "  <thead>\n",
       "    <tr style=\"text-align: right;\">\n",
       "      <th></th>\n",
       "      <th>label</th>\n",
       "      <th>value1</th>\n",
       "    </tr>\n",
       "  </thead>\n",
       "  <tbody>\n",
       "    <tr>\n",
       "      <th>0</th>\n",
       "      <td>A</td>\n",
       "      <td>9.0</td>\n",
       "    </tr>\n",
       "    <tr>\n",
       "      <th>2</th>\n",
       "      <td>C</td>\n",
       "      <td>10.2</td>\n",
       "    </tr>\n",
       "  </tbody>\n",
       "</table>\n",
       "</div>"
      ],
      "text/plain": [
       "  label  value1\n",
       "0     A     9.0\n",
       "2     C    10.2"
      ]
     },
     "execution_count": 10,
     "metadata": {},
     "output_type": "execute_result"
    }
   ],
   "source": [
    "df.loc[[0,2], ['label', 'value1']]"
   ]
  },
  {
   "cell_type": "markdown",
   "id": "426554af07d2c5d8",
   "metadata": {},
   "source": [
    "We can also use slicing via `[from:to]` to get data starting `from` a specific label up `to` a specific label."
   ]
  },
  {
   "cell_type": "code",
   "execution_count": 11,
   "id": "a39d0f01c5719ef9",
   "metadata": {
    "ExecuteTime": {
     "end_time": "2024-04-30T14:17:20.790771Z",
     "start_time": "2024-04-30T14:17:20.780339Z"
    }
   },
   "outputs": [
    {
     "data": {
      "text/html": [
       "<div>\n",
       "<style scoped>\n",
       "    .dataframe tbody tr th:only-of-type {\n",
       "        vertical-align: middle;\n",
       "    }\n",
       "\n",
       "    .dataframe tbody tr th {\n",
       "        vertical-align: top;\n",
       "    }\n",
       "\n",
       "    .dataframe thead th {\n",
       "        text-align: right;\n",
       "    }\n",
       "</style>\n",
       "<table border=\"1\" class=\"dataframe\">\n",
       "  <thead>\n",
       "    <tr style=\"text-align: right;\">\n",
       "      <th></th>\n",
       "      <th>label</th>\n",
       "      <th>value1</th>\n",
       "      <th>value2</th>\n",
       "    </tr>\n",
       "  </thead>\n",
       "  <tbody>\n",
       "    <tr>\n",
       "      <th>0</th>\n",
       "      <td>A</td>\n",
       "      <td>9.0</td>\n",
       "      <td>2.0</td>\n",
       "    </tr>\n",
       "    <tr>\n",
       "      <th>1</th>\n",
       "      <td>B</td>\n",
       "      <td>11.0</td>\n",
       "      <td>NaN</td>\n",
       "    </tr>\n",
       "    <tr>\n",
       "      <th>2</th>\n",
       "      <td>C</td>\n",
       "      <td>10.2</td>\n",
       "      <td>8.0</td>\n",
       "    </tr>\n",
       "  </tbody>\n",
       "</table>\n",
       "</div>"
      ],
      "text/plain": [
       "  label  value1  value2\n",
       "0     A     9.0     2.0\n",
       "1     B    11.0     NaN\n",
       "2     C    10.2     8.0"
      ]
     },
     "execution_count": 11,
     "metadata": {},
     "output_type": "execute_result"
    }
   ],
   "source": [
    "df.loc[0:2, 'label':'value2']"
   ]
  },
  {
   "cell_type": "markdown",
   "id": "773170537b572621",
   "metadata": {},
   "source": [
    "**Attention**: Slicing on label-location requires that the order of the labels in the row and column index is known and taken into account:"
   ]
  },
  {
   "cell_type": "code",
   "execution_count": 12,
   "id": "8d5c4693fae8721c",
   "metadata": {
    "ExecuteTime": {
     "end_time": "2024-04-30T14:17:21.890055Z",
     "start_time": "2024-04-30T14:17:21.884877Z"
    }
   },
   "outputs": [
    {
     "data": {
      "text/html": [
       "<div>\n",
       "<style scoped>\n",
       "    .dataframe tbody tr th:only-of-type {\n",
       "        vertical-align: middle;\n",
       "    }\n",
       "\n",
       "    .dataframe tbody tr th {\n",
       "        vertical-align: top;\n",
       "    }\n",
       "\n",
       "    .dataframe thead th {\n",
       "        text-align: right;\n",
       "    }\n",
       "</style>\n",
       "<table border=\"1\" class=\"dataframe\">\n",
       "  <thead>\n",
       "    <tr style=\"text-align: right;\">\n",
       "      <th></th>\n",
       "    </tr>\n",
       "  </thead>\n",
       "  <tbody>\n",
       "    <tr>\n",
       "      <th>0</th>\n",
       "    </tr>\n",
       "    <tr>\n",
       "      <th>1</th>\n",
       "    </tr>\n",
       "    <tr>\n",
       "      <th>2</th>\n",
       "    </tr>\n",
       "  </tbody>\n",
       "</table>\n",
       "</div>"
      ],
      "text/plain": [
       "Empty DataFrame\n",
       "Columns: []\n",
       "Index: [0, 1, 2]"
      ]
     },
     "execution_count": 12,
     "metadata": {},
     "output_type": "execute_result"
    }
   ],
   "source": [
    "df.loc[0:2, 'value2':'label']"
   ]
  },
  {
   "cell_type": "markdown",
   "id": "bf64a98d6f4c053",
   "metadata": {},
   "source": [
    "### Integer-location based selection\n",
    "\n",
    "If we want to select data based on the indices' integer positions, we need to use [`iloc[]`](https://pandas.pydata.org/docs/reference/api/pandas.DataFrame.iloc.html). Let's get the value from the first row and the first column:"
   ]
  },
  {
   "cell_type": "code",
   "execution_count": 13,
   "id": "b533483d1f43cd9",
   "metadata": {
    "ExecuteTime": {
     "end_time": "2024-04-30T14:17:23.016248Z",
     "start_time": "2024-04-30T14:17:23.012211Z"
    }
   },
   "outputs": [
    {
     "data": {
      "text/plain": [
       "'A'"
      ]
     },
     "execution_count": 13,
     "metadata": {},
     "output_type": "execute_result"
    }
   ],
   "source": [
    "df.iloc[0, 0]"
   ]
  },
  {
   "cell_type": "markdown",
   "id": "1e9cfb407c89b16c",
   "metadata": {},
   "source": [
    "We can use slicing to get specific parts of the data. Let's get the first 5 rows and the first 3 columns:"
   ]
  },
  {
   "cell_type": "code",
   "execution_count": 14,
   "id": "dc324bb84d3f975a",
   "metadata": {
    "ExecuteTime": {
     "end_time": "2024-04-30T14:17:24.049699Z",
     "start_time": "2024-04-30T14:17:24.044943Z"
    }
   },
   "outputs": [
    {
     "data": {
      "text/html": [
       "<div>\n",
       "<style scoped>\n",
       "    .dataframe tbody tr th:only-of-type {\n",
       "        vertical-align: middle;\n",
       "    }\n",
       "\n",
       "    .dataframe tbody tr th {\n",
       "        vertical-align: top;\n",
       "    }\n",
       "\n",
       "    .dataframe thead th {\n",
       "        text-align: right;\n",
       "    }\n",
       "</style>\n",
       "<table border=\"1\" class=\"dataframe\">\n",
       "  <thead>\n",
       "    <tr style=\"text-align: right;\">\n",
       "      <th></th>\n",
       "      <th>label</th>\n",
       "      <th>value1</th>\n",
       "      <th>value2</th>\n",
       "    </tr>\n",
       "  </thead>\n",
       "  <tbody>\n",
       "    <tr>\n",
       "      <th>0</th>\n",
       "      <td>A</td>\n",
       "      <td>9.0</td>\n",
       "      <td>2.0</td>\n",
       "    </tr>\n",
       "    <tr>\n",
       "      <th>1</th>\n",
       "      <td>B</td>\n",
       "      <td>11.0</td>\n",
       "      <td>NaN</td>\n",
       "    </tr>\n",
       "    <tr>\n",
       "      <th>2</th>\n",
       "      <td>C</td>\n",
       "      <td>10.2</td>\n",
       "      <td>8.0</td>\n",
       "    </tr>\n",
       "    <tr>\n",
       "      <th>3</th>\n",
       "      <td>D</td>\n",
       "      <td>9.5</td>\n",
       "      <td>5.0</td>\n",
       "    </tr>\n",
       "    <tr>\n",
       "      <th>4</th>\n",
       "      <td>E</td>\n",
       "      <td>15.0</td>\n",
       "      <td>7.0</td>\n",
       "    </tr>\n",
       "  </tbody>\n",
       "</table>\n",
       "</div>"
      ],
      "text/plain": [
       "  label  value1  value2\n",
       "0     A     9.0     2.0\n",
       "1     B    11.0     NaN\n",
       "2     C    10.2     8.0\n",
       "3     D     9.5     5.0\n",
       "4     E    15.0     7.0"
      ]
     },
     "execution_count": 14,
     "metadata": {},
     "output_type": "execute_result"
    }
   ],
   "source": [
    "df.iloc[0:5, 0:3]"
   ]
  },
  {
   "cell_type": "markdown",
   "id": "c6ded9645ce55d53",
   "metadata": {},
   "source": [
    "Let's get everything starting from the 5th row and starting from the 2nd column:"
   ]
  },
  {
   "cell_type": "code",
   "execution_count": 15,
   "id": "5b51ae74b8107380",
   "metadata": {
    "ExecuteTime": {
     "end_time": "2024-04-30T14:17:25.270346Z",
     "start_time": "2024-04-30T14:17:25.259958Z"
    }
   },
   "outputs": [
    {
     "data": {
      "text/html": [
       "<div>\n",
       "<style scoped>\n",
       "    .dataframe tbody tr th:only-of-type {\n",
       "        vertical-align: middle;\n",
       "    }\n",
       "\n",
       "    .dataframe tbody tr th {\n",
       "        vertical-align: top;\n",
       "    }\n",
       "\n",
       "    .dataframe thead th {\n",
       "        text-align: right;\n",
       "    }\n",
       "</style>\n",
       "<table border=\"1\" class=\"dataframe\">\n",
       "  <thead>\n",
       "    <tr style=\"text-align: right;\">\n",
       "      <th></th>\n",
       "      <th>value1</th>\n",
       "      <th>value2</th>\n",
       "      <th>value3</th>\n",
       "      <th>valid</th>\n",
       "    </tr>\n",
       "  </thead>\n",
       "  <tbody>\n",
       "    <tr>\n",
       "      <th>4</th>\n",
       "      <td>15.0</td>\n",
       "      <td>7.0</td>\n",
       "      <td>4.4</td>\n",
       "      <td>False</td>\n",
       "    </tr>\n",
       "    <tr>\n",
       "      <th>5</th>\n",
       "      <td>400.0</td>\n",
       "      <td>NaN</td>\n",
       "      <td>2.2</td>\n",
       "      <td>True</td>\n",
       "    </tr>\n",
       "    <tr>\n",
       "      <th>6</th>\n",
       "      <td>9.0</td>\n",
       "      <td>1.0</td>\n",
       "      <td>1.1</td>\n",
       "      <td>False</td>\n",
       "    </tr>\n",
       "    <tr>\n",
       "      <th>7</th>\n",
       "      <td>11.0</td>\n",
       "      <td>4.0</td>\n",
       "      <td>0.9</td>\n",
       "      <td>True</td>\n",
       "    </tr>\n",
       "    <tr>\n",
       "      <th>8</th>\n",
       "      <td>11.3</td>\n",
       "      <td>6.0</td>\n",
       "      <td>3.3</td>\n",
       "      <td>True</td>\n",
       "    </tr>\n",
       "    <tr>\n",
       "      <th>9</th>\n",
       "      <td>10.0</td>\n",
       "      <td>9.0</td>\n",
       "      <td>4.1</td>\n",
       "      <td>False</td>\n",
       "    </tr>\n",
       "  </tbody>\n",
       "</table>\n",
       "</div>"
      ],
      "text/plain": [
       "   value1  value2  value3  valid\n",
       "4    15.0     7.0     4.4  False\n",
       "5   400.0     NaN     2.2   True\n",
       "6     9.0     1.0     1.1  False\n",
       "7    11.0     4.0     0.9   True\n",
       "8    11.3     6.0     3.3   True\n",
       "9    10.0     9.0     4.1  False"
      ]
     },
     "execution_count": 15,
     "metadata": {},
     "output_type": "execute_result"
    }
   ],
   "source": [
    "df.iloc[4:, 1:]"
   ]
  },
  {
   "cell_type": "markdown",
   "id": "356255746ff0ad76",
   "metadata": {},
   "source": [
    "To clarify the difference between label-location and integer-location again, let's try both approaches again on a sorted dataset:"
   ]
  },
  {
   "cell_type": "code",
   "execution_count": 16,
   "id": "4c5ab20a26f11095",
   "metadata": {
    "ExecuteTime": {
     "end_time": "2024-04-30T14:17:26.453941Z",
     "start_time": "2024-04-30T14:17:26.444225Z"
    }
   },
   "outputs": [
    {
     "data": {
      "text/html": [
       "<div>\n",
       "<style scoped>\n",
       "    .dataframe tbody tr th:only-of-type {\n",
       "        vertical-align: middle;\n",
       "    }\n",
       "\n",
       "    .dataframe tbody tr th {\n",
       "        vertical-align: top;\n",
       "    }\n",
       "\n",
       "    .dataframe thead th {\n",
       "        text-align: right;\n",
       "    }\n",
       "</style>\n",
       "<table border=\"1\" class=\"dataframe\">\n",
       "  <thead>\n",
       "    <tr style=\"text-align: right;\">\n",
       "      <th></th>\n",
       "      <th>label</th>\n",
       "      <th>value1</th>\n",
       "      <th>value2</th>\n",
       "      <th>value3</th>\n",
       "      <th>valid</th>\n",
       "    </tr>\n",
       "  </thead>\n",
       "  <tbody>\n",
       "    <tr>\n",
       "      <th>5</th>\n",
       "      <td>F</td>\n",
       "      <td>400.0</td>\n",
       "      <td>NaN</td>\n",
       "      <td>2.2</td>\n",
       "      <td>True</td>\n",
       "    </tr>\n",
       "    <tr>\n",
       "      <th>4</th>\n",
       "      <td>E</td>\n",
       "      <td>15.0</td>\n",
       "      <td>7.0</td>\n",
       "      <td>4.4</td>\n",
       "      <td>False</td>\n",
       "    </tr>\n",
       "    <tr>\n",
       "      <th>8</th>\n",
       "      <td>I</td>\n",
       "      <td>11.3</td>\n",
       "      <td>6.0</td>\n",
       "      <td>3.3</td>\n",
       "      <td>True</td>\n",
       "    </tr>\n",
       "    <tr>\n",
       "      <th>1</th>\n",
       "      <td>B</td>\n",
       "      <td>11.0</td>\n",
       "      <td>NaN</td>\n",
       "      <td>0.4</td>\n",
       "      <td>False</td>\n",
       "    </tr>\n",
       "    <tr>\n",
       "      <th>7</th>\n",
       "      <td>H</td>\n",
       "      <td>11.0</td>\n",
       "      <td>4.0</td>\n",
       "      <td>0.9</td>\n",
       "      <td>True</td>\n",
       "    </tr>\n",
       "    <tr>\n",
       "      <th>2</th>\n",
       "      <td>C</td>\n",
       "      <td>10.2</td>\n",
       "      <td>8.0</td>\n",
       "      <td>5.6</td>\n",
       "      <td>True</td>\n",
       "    </tr>\n",
       "    <tr>\n",
       "      <th>9</th>\n",
       "      <td>J</td>\n",
       "      <td>10.0</td>\n",
       "      <td>9.0</td>\n",
       "      <td>4.1</td>\n",
       "      <td>False</td>\n",
       "    </tr>\n",
       "    <tr>\n",
       "      <th>3</th>\n",
       "      <td>D</td>\n",
       "      <td>9.5</td>\n",
       "      <td>5.0</td>\n",
       "      <td>NaN</td>\n",
       "      <td>True</td>\n",
       "    </tr>\n",
       "    <tr>\n",
       "      <th>0</th>\n",
       "      <td>A</td>\n",
       "      <td>9.0</td>\n",
       "      <td>2.0</td>\n",
       "      <td>3.1</td>\n",
       "      <td>True</td>\n",
       "    </tr>\n",
       "    <tr>\n",
       "      <th>6</th>\n",
       "      <td>G</td>\n",
       "      <td>9.0</td>\n",
       "      <td>1.0</td>\n",
       "      <td>1.1</td>\n",
       "      <td>False</td>\n",
       "    </tr>\n",
       "  </tbody>\n",
       "</table>\n",
       "</div>"
      ],
      "text/plain": [
       "  label  value1  value2  value3  valid\n",
       "5     F   400.0     NaN     2.2   True\n",
       "4     E    15.0     7.0     4.4  False\n",
       "8     I    11.3     6.0     3.3   True\n",
       "1     B    11.0     NaN     0.4  False\n",
       "7     H    11.0     4.0     0.9   True\n",
       "2     C    10.2     8.0     5.6   True\n",
       "9     J    10.0     9.0     4.1  False\n",
       "3     D     9.5     5.0     NaN   True\n",
       "0     A     9.0     2.0     3.1   True\n",
       "6     G     9.0     1.0     1.1  False"
      ]
     },
     "execution_count": 16,
     "metadata": {},
     "output_type": "execute_result"
    }
   ],
   "source": [
    "df_sorted = df.sort_values(by='value1', ascending=False)\n",
    "df_sorted"
   ]
  },
  {
   "cell_type": "markdown",
   "id": "22950a0a90471ef7",
   "metadata": {},
   "source": [
    "As we can see above, the index labels are not in order anymore. Let's apply `loc[]` and `iloc[]` again, to get the \"first three rows\":"
   ]
  },
  {
   "cell_type": "code",
   "execution_count": 17,
   "id": "122402b52383ab6c",
   "metadata": {
    "ExecuteTime": {
     "end_time": "2024-04-30T14:17:29.411963Z",
     "start_time": "2024-04-30T14:17:29.404844Z"
    }
   },
   "outputs": [
    {
     "data": {
      "text/html": [
       "<div>\n",
       "<style scoped>\n",
       "    .dataframe tbody tr th:only-of-type {\n",
       "        vertical-align: middle;\n",
       "    }\n",
       "\n",
       "    .dataframe tbody tr th {\n",
       "        vertical-align: top;\n",
       "    }\n",
       "\n",
       "    .dataframe thead th {\n",
       "        text-align: right;\n",
       "    }\n",
       "</style>\n",
       "<table border=\"1\" class=\"dataframe\">\n",
       "  <thead>\n",
       "    <tr style=\"text-align: right;\">\n",
       "      <th></th>\n",
       "      <th>label</th>\n",
       "      <th>value1</th>\n",
       "      <th>value2</th>\n",
       "      <th>value3</th>\n",
       "      <th>valid</th>\n",
       "    </tr>\n",
       "  </thead>\n",
       "  <tbody>\n",
       "    <tr>\n",
       "      <th>0</th>\n",
       "      <td>A</td>\n",
       "      <td>9.0</td>\n",
       "      <td>2.0</td>\n",
       "      <td>3.1</td>\n",
       "      <td>True</td>\n",
       "    </tr>\n",
       "    <tr>\n",
       "      <th>1</th>\n",
       "      <td>B</td>\n",
       "      <td>11.0</td>\n",
       "      <td>NaN</td>\n",
       "      <td>0.4</td>\n",
       "      <td>False</td>\n",
       "    </tr>\n",
       "    <tr>\n",
       "      <th>2</th>\n",
       "      <td>C</td>\n",
       "      <td>10.2</td>\n",
       "      <td>8.0</td>\n",
       "      <td>5.6</td>\n",
       "      <td>True</td>\n",
       "    </tr>\n",
       "  </tbody>\n",
       "</table>\n",
       "</div>"
      ],
      "text/plain": [
       "  label  value1  value2  value3  valid\n",
       "0     A     9.0     2.0     3.1   True\n",
       "1     B    11.0     NaN     0.4  False\n",
       "2     C    10.2     8.0     5.6   True"
      ]
     },
     "execution_count": 17,
     "metadata": {},
     "output_type": "execute_result"
    }
   ],
   "source": [
    "# label-location\n",
    "df_sorted.loc[[0,1,2]]"
   ]
  },
  {
   "cell_type": "code",
   "execution_count": 18,
   "id": "9aca128f82b71482",
   "metadata": {
    "ExecuteTime": {
     "end_time": "2024-04-30T14:17:29.953888Z",
     "start_time": "2024-04-30T14:17:29.948839Z"
    }
   },
   "outputs": [
    {
     "data": {
      "text/html": [
       "<div>\n",
       "<style scoped>\n",
       "    .dataframe tbody tr th:only-of-type {\n",
       "        vertical-align: middle;\n",
       "    }\n",
       "\n",
       "    .dataframe tbody tr th {\n",
       "        vertical-align: top;\n",
       "    }\n",
       "\n",
       "    .dataframe thead th {\n",
       "        text-align: right;\n",
       "    }\n",
       "</style>\n",
       "<table border=\"1\" class=\"dataframe\">\n",
       "  <thead>\n",
       "    <tr style=\"text-align: right;\">\n",
       "      <th></th>\n",
       "      <th>label</th>\n",
       "      <th>value1</th>\n",
       "      <th>value2</th>\n",
       "      <th>value3</th>\n",
       "      <th>valid</th>\n",
       "    </tr>\n",
       "  </thead>\n",
       "  <tbody>\n",
       "    <tr>\n",
       "      <th>5</th>\n",
       "      <td>F</td>\n",
       "      <td>400.0</td>\n",
       "      <td>NaN</td>\n",
       "      <td>2.2</td>\n",
       "      <td>True</td>\n",
       "    </tr>\n",
       "    <tr>\n",
       "      <th>4</th>\n",
       "      <td>E</td>\n",
       "      <td>15.0</td>\n",
       "      <td>7.0</td>\n",
       "      <td>4.4</td>\n",
       "      <td>False</td>\n",
       "    </tr>\n",
       "    <tr>\n",
       "      <th>8</th>\n",
       "      <td>I</td>\n",
       "      <td>11.3</td>\n",
       "      <td>6.0</td>\n",
       "      <td>3.3</td>\n",
       "      <td>True</td>\n",
       "    </tr>\n",
       "  </tbody>\n",
       "</table>\n",
       "</div>"
      ],
      "text/plain": [
       "  label  value1  value2  value3  valid\n",
       "5     F   400.0     NaN     2.2   True\n",
       "4     E    15.0     7.0     4.4  False\n",
       "8     I    11.3     6.0     3.3   True"
      ]
     },
     "execution_count": 18,
     "metadata": {},
     "output_type": "execute_result"
    }
   ],
   "source": [
    "# integer-location\n",
    "df_sorted.iloc[0:3]"
   ]
  },
  {
   "cell_type": "markdown",
   "id": "aa27d938213fec7c",
   "metadata": {},
   "source": [
    "## Boolean indexing\n",
    "\n",
    "With boolean indexing (or masking), we can select specific subsets of the data based on conditional / logical queries. Suppose we want to get entries for which \"value1\" > 40, we can use this condition in the `[]` operator."
   ]
  },
  {
   "cell_type": "code",
   "execution_count": 19,
   "id": "1474160be3d3326a",
   "metadata": {
    "ExecuteTime": {
     "end_time": "2024-04-30T14:17:31.068379Z",
     "start_time": "2024-04-30T14:17:31.063174Z"
    }
   },
   "outputs": [
    {
     "data": {
      "text/plain": [
       "0    False\n",
       "1    False\n",
       "2    False\n",
       "3    False\n",
       "4    False\n",
       "5     True\n",
       "6    False\n",
       "7    False\n",
       "8    False\n",
       "9    False\n",
       "Name: value1, dtype: bool"
      ]
     },
     "execution_count": 19,
     "metadata": {},
     "output_type": "execute_result"
    }
   ],
   "source": [
    "mask = df[\"value1\"] > 40\n",
    "mask"
   ]
  },
  {
   "cell_type": "code",
   "execution_count": 20,
   "id": "b29e82e0c0f6cf8b",
   "metadata": {
    "ExecuteTime": {
     "end_time": "2024-04-30T14:17:31.989064Z",
     "start_time": "2024-04-30T14:17:31.979171Z"
    }
   },
   "outputs": [
    {
     "data": {
      "text/html": [
       "<div>\n",
       "<style scoped>\n",
       "    .dataframe tbody tr th:only-of-type {\n",
       "        vertical-align: middle;\n",
       "    }\n",
       "\n",
       "    .dataframe tbody tr th {\n",
       "        vertical-align: top;\n",
       "    }\n",
       "\n",
       "    .dataframe thead th {\n",
       "        text-align: right;\n",
       "    }\n",
       "</style>\n",
       "<table border=\"1\" class=\"dataframe\">\n",
       "  <thead>\n",
       "    <tr style=\"text-align: right;\">\n",
       "      <th></th>\n",
       "      <th>label</th>\n",
       "      <th>value1</th>\n",
       "      <th>value2</th>\n",
       "      <th>value3</th>\n",
       "      <th>valid</th>\n",
       "    </tr>\n",
       "  </thead>\n",
       "  <tbody>\n",
       "    <tr>\n",
       "      <th>5</th>\n",
       "      <td>F</td>\n",
       "      <td>400.0</td>\n",
       "      <td>NaN</td>\n",
       "      <td>2.2</td>\n",
       "      <td>True</td>\n",
       "    </tr>\n",
       "  </tbody>\n",
       "</table>\n",
       "</div>"
      ],
      "text/plain": [
       "  label  value1  value2  value3  valid\n",
       "5     F   400.0     NaN     2.2   True"
      ]
     },
     "execution_count": 20,
     "metadata": {},
     "output_type": "execute_result"
    }
   ],
   "source": [
    "# apply the mask to the DataFrame: df[mask]\n",
    "# Or as one-liner:\n",
    "df[df[\"value1\"] > 40]"
   ]
  },
  {
   "cell_type": "markdown",
   "id": "fd3909a380e3e67",
   "metadata": {},
   "source": [
    "We can also use this syntax with `loc[]` to return specific columns only, e.g., \"value1\" and \"valid\". "
   ]
  },
  {
   "cell_type": "code",
   "execution_count": 21,
   "id": "996957645c77d48f",
   "metadata": {
    "ExecuteTime": {
     "end_time": "2024-04-30T14:17:35.563149Z",
     "start_time": "2024-04-30T14:17:35.557623Z"
    }
   },
   "outputs": [
    {
     "data": {
      "text/html": [
       "<div>\n",
       "<style scoped>\n",
       "    .dataframe tbody tr th:only-of-type {\n",
       "        vertical-align: middle;\n",
       "    }\n",
       "\n",
       "    .dataframe tbody tr th {\n",
       "        vertical-align: top;\n",
       "    }\n",
       "\n",
       "    .dataframe thead th {\n",
       "        text-align: right;\n",
       "    }\n",
       "</style>\n",
       "<table border=\"1\" class=\"dataframe\">\n",
       "  <thead>\n",
       "    <tr style=\"text-align: right;\">\n",
       "      <th></th>\n",
       "      <th>value1</th>\n",
       "      <th>valid</th>\n",
       "    </tr>\n",
       "  </thead>\n",
       "  <tbody>\n",
       "    <tr>\n",
       "      <th>5</th>\n",
       "      <td>400.0</td>\n",
       "      <td>True</td>\n",
       "    </tr>\n",
       "  </tbody>\n",
       "</table>\n",
       "</div>"
      ],
      "text/plain": [
       "   value1  valid\n",
       "5   400.0   True"
      ]
     },
     "execution_count": 21,
     "metadata": {},
     "output_type": "execute_result"
    }
   ],
   "source": [
    "df.loc[(df[\"value1\"] > 40), ['value1', 'valid']]"
   ]
  },
  {
   "cell_type": "markdown",
   "id": "b2af129a6934401a",
   "metadata": {},
   "source": [
    "## Get scalar values\n",
    "If we only want to access a single scalar value, the fastest way is to use the [`at`](https://pandas.pydata.org/docs/reference/api/pandas.DataFrame.at.html) and [`iat`](https://pandas.pydata.org/docs/reference/api/pandas.DataFrame.iat.html) methods."
   ]
  },
  {
   "cell_type": "code",
   "execution_count": 22,
   "id": "64b19c70f81dc6c",
   "metadata": {
    "ExecuteTime": {
     "end_time": "2024-04-30T14:17:37.204661Z",
     "start_time": "2024-04-30T14:17:37.200958Z"
    }
   },
   "outputs": [
    {
     "data": {
      "text/plain": [
       "np.float64(10.2)"
      ]
     },
     "execution_count": 22,
     "metadata": {},
     "output_type": "execute_result"
    }
   ],
   "source": [
    "df.at[2, \"value1\"]"
   ]
  },
  {
   "cell_type": "code",
   "execution_count": 23,
   "id": "f1834d0413b03f0a",
   "metadata": {
    "ExecuteTime": {
     "end_time": "2024-04-30T14:17:38.347584Z",
     "start_time": "2024-04-30T14:17:38.344311Z"
    }
   },
   "outputs": [
    {
     "data": {
      "text/plain": [
       "np.True_"
      ]
     },
     "execution_count": 23,
     "metadata": {},
     "output_type": "execute_result"
    }
   ],
   "source": [
    "df.iat[0, 4]"
   ]
  },
  {
   "cell_type": "markdown",
   "id": "56a75c46bf1df578",
   "metadata": {},
   "source": [
    "## Math with DataFrames\n",
    "Now that we know how to select specific parts of a DataFrame, we want to do some math with it. Mathematical operations can be executed directly on a DataFrame or selected parts of it. We can also easily add new columns to the DataFrame to store computed results.\n",
    "\n",
    "Let's assume we want to compute the mean for a rows values and store this result in a new colum named value_mean. We can just define that new column and use the basic mathematical operator on the existing columns to fill it:"
   ]
  },
  {
   "cell_type": "code",
   "execution_count": 24,
   "id": "571ce799d1339b91",
   "metadata": {
    "ExecuteTime": {
     "end_time": "2024-04-30T14:18:44.024211Z",
     "start_time": "2024-04-30T14:18:44.018732Z"
    }
   },
   "outputs": [
    {
     "data": {
      "text/html": [
       "<div>\n",
       "<style scoped>\n",
       "    .dataframe tbody tr th:only-of-type {\n",
       "        vertical-align: middle;\n",
       "    }\n",
       "\n",
       "    .dataframe tbody tr th {\n",
       "        vertical-align: top;\n",
       "    }\n",
       "\n",
       "    .dataframe thead th {\n",
       "        text-align: right;\n",
       "    }\n",
       "</style>\n",
       "<table border=\"1\" class=\"dataframe\">\n",
       "  <thead>\n",
       "    <tr style=\"text-align: right;\">\n",
       "      <th></th>\n",
       "      <th>label</th>\n",
       "      <th>value1</th>\n",
       "      <th>value2</th>\n",
       "      <th>value3</th>\n",
       "      <th>valid</th>\n",
       "      <th>value_mean</th>\n",
       "    </tr>\n",
       "  </thead>\n",
       "  <tbody>\n",
       "    <tr>\n",
       "      <th>0</th>\n",
       "      <td>A</td>\n",
       "      <td>9.0</td>\n",
       "      <td>2.0</td>\n",
       "      <td>3.1</td>\n",
       "      <td>True</td>\n",
       "      <td>4.700000</td>\n",
       "    </tr>\n",
       "    <tr>\n",
       "      <th>1</th>\n",
       "      <td>B</td>\n",
       "      <td>11.0</td>\n",
       "      <td>NaN</td>\n",
       "      <td>0.4</td>\n",
       "      <td>False</td>\n",
       "      <td>NaN</td>\n",
       "    </tr>\n",
       "    <tr>\n",
       "      <th>2</th>\n",
       "      <td>C</td>\n",
       "      <td>10.2</td>\n",
       "      <td>8.0</td>\n",
       "      <td>5.6</td>\n",
       "      <td>True</td>\n",
       "      <td>7.933333</td>\n",
       "    </tr>\n",
       "    <tr>\n",
       "      <th>3</th>\n",
       "      <td>D</td>\n",
       "      <td>9.5</td>\n",
       "      <td>5.0</td>\n",
       "      <td>NaN</td>\n",
       "      <td>True</td>\n",
       "      <td>NaN</td>\n",
       "    </tr>\n",
       "    <tr>\n",
       "      <th>4</th>\n",
       "      <td>E</td>\n",
       "      <td>15.0</td>\n",
       "      <td>7.0</td>\n",
       "      <td>4.4</td>\n",
       "      <td>False</td>\n",
       "      <td>8.800000</td>\n",
       "    </tr>\n",
       "    <tr>\n",
       "      <th>5</th>\n",
       "      <td>F</td>\n",
       "      <td>400.0</td>\n",
       "      <td>NaN</td>\n",
       "      <td>2.2</td>\n",
       "      <td>True</td>\n",
       "      <td>NaN</td>\n",
       "    </tr>\n",
       "    <tr>\n",
       "      <th>6</th>\n",
       "      <td>G</td>\n",
       "      <td>9.0</td>\n",
       "      <td>1.0</td>\n",
       "      <td>1.1</td>\n",
       "      <td>False</td>\n",
       "      <td>3.700000</td>\n",
       "    </tr>\n",
       "    <tr>\n",
       "      <th>7</th>\n",
       "      <td>H</td>\n",
       "      <td>11.0</td>\n",
       "      <td>4.0</td>\n",
       "      <td>0.9</td>\n",
       "      <td>True</td>\n",
       "      <td>5.300000</td>\n",
       "    </tr>\n",
       "    <tr>\n",
       "      <th>8</th>\n",
       "      <td>I</td>\n",
       "      <td>11.3</td>\n",
       "      <td>6.0</td>\n",
       "      <td>3.3</td>\n",
       "      <td>True</td>\n",
       "      <td>6.866667</td>\n",
       "    </tr>\n",
       "    <tr>\n",
       "      <th>9</th>\n",
       "      <td>J</td>\n",
       "      <td>10.0</td>\n",
       "      <td>9.0</td>\n",
       "      <td>4.1</td>\n",
       "      <td>False</td>\n",
       "      <td>7.700000</td>\n",
       "    </tr>\n",
       "  </tbody>\n",
       "</table>\n",
       "</div>"
      ],
      "text/plain": [
       "  label  value1  value2  value3  valid  value_mean\n",
       "0     A     9.0     2.0     3.1   True    4.700000\n",
       "1     B    11.0     NaN     0.4  False         NaN\n",
       "2     C    10.2     8.0     5.6   True    7.933333\n",
       "3     D     9.5     5.0     NaN   True         NaN\n",
       "4     E    15.0     7.0     4.4  False    8.800000\n",
       "5     F   400.0     NaN     2.2   True         NaN\n",
       "6     G     9.0     1.0     1.1  False    3.700000\n",
       "7     H    11.0     4.0     0.9   True    5.300000\n",
       "8     I    11.3     6.0     3.3   True    6.866667\n",
       "9     J    10.0     9.0     4.1  False    7.700000"
      ]
     },
     "execution_count": 24,
     "metadata": {},
     "output_type": "execute_result"
    }
   ],
   "source": [
    "df['value_mean'] = (df['value1'] + df['value2'] + df['value3']) / 3\n",
    "df"
   ]
  },
  {
   "cell_type": "markdown",
   "id": "4232bfefb6c93fe7",
   "metadata": {},
   "source": [
    "A DataFrame and the underlying Series objects holding the column data also provide lots of built-in methods for mathematical operations and basic statistics via the `.` operator.\n",
    "\n",
    "See also:\n",
    "* [Built-in methods on DataFrames](https://pandas.pydata.org/docs/reference/frame.html#computations-descriptive-stats)\n",
    "* [Built-in methods on Series](https://pandas.pydata.org/docs/reference/series.html#computations-descriptive-stats)"
   ]
  },
  {
   "cell_type": "code",
   "execution_count": 25,
   "id": "4d498fbd04010b85",
   "metadata": {
    "ExecuteTime": {
     "end_time": "2024-04-30T14:18:56.421059Z",
     "start_time": "2024-04-30T14:18:56.416263Z"
    }
   },
   "outputs": [
    {
     "data": {
      "text/plain": [
       "value1        49.600000\n",
       "value2         5.250000\n",
       "value3         2.788889\n",
       "valid          0.600000\n",
       "value_mean     6.428571\n",
       "dtype: float64"
      ]
     },
     "execution_count": 25,
     "metadata": {},
     "output_type": "execute_result"
    }
   ],
   "source": [
    "# Compute the mean for all numerical columns in the DataFrame\n",
    "df.mean(numeric_only=True)"
   ]
  },
  {
   "cell_type": "code",
   "execution_count": 26,
   "id": "2ca9d8c26cf69e9e",
   "metadata": {
    "ExecuteTime": {
     "end_time": "2024-04-30T14:18:57.660512Z",
     "start_time": "2024-04-30T14:18:57.657536Z"
    }
   },
   "outputs": [
    {
     "data": {
      "text/plain": [
       "np.float64(400.0)"
      ]
     },
     "execution_count": 26,
     "metadata": {},
     "output_type": "execute_result"
    }
   ],
   "source": [
    "# Get the max value from a column\n",
    "df['value1'].max()"
   ]
  },
  {
   "cell_type": "markdown",
   "id": "49fc69897861d539",
   "metadata": {},
   "source": [
    "## Exercise\n",
    "\n",
    "From our DataFrame, select all rows where the value in `value2` is smaller than the mean of column `value3` and where we know that our measurement is valid."
   ]
  },
  {
   "cell_type": "code",
   "execution_count": null,
   "id": "9db053f78ccf62cc",
   "metadata": {
    "ExecuteTime": {
     "end_time": "2024-04-30T14:19:04.240020Z",
     "start_time": "2024-04-30T14:19:04.234127Z"
    }
   },
   "outputs": [],
   "source": []
  }
 ],
 "metadata": {
  "kernelspec": {
   "display_name": "iom-env",
   "language": "python",
   "name": "python3"
  },
  "language_info": {
   "codemirror_mode": {
    "name": "ipython",
    "version": 3
   },
   "file_extension": ".py",
   "mimetype": "text/x-python",
   "name": "python",
   "nbconvert_exporter": "python",
   "pygments_lexer": "ipython3",
   "version": "3.10.4"
  }
 },
 "nbformat": 4,
 "nbformat_minor": 5
}
