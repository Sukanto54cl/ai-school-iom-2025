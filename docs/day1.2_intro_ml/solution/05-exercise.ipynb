{
 "cells": [
  {
   "cell_type": "code",
   "execution_count": 1,
   "id": "f4cb62c2-5738-47c9-b05f-8c599225a5db",
   "metadata": {},
   "outputs": [],
   "source": [
    "import pandas as pd\n",
    "from sklearn.model_selection import train_test_split\n",
    "\n",
    "housing_data = pd.read_csv('housing_data.csv')\n",
    "train_set, test_set = train_test_split(housing_data, test_size=0.2, random_state=42)"
   ]
  },
  {
   "cell_type": "code",
   "execution_count": 2,
   "id": "5a9e3538-7a57-46da-844f-f6b821e9d3b0",
   "metadata": {},
   "outputs": [],
   "source": [
    "from sklearn.pipeline import make_pipeline\n",
    "from sklearn.compose import ColumnTransformer\n",
    "from sklearn.compose import make_column_selector\n",
    "from sklearn.preprocessing import MinMaxScaler\n",
    "import numpy as np\n",
    "\n",
    "X_train = train_set.drop(['price'], axis=1)\n",
    "\n",
    "num_pipeline = make_pipeline(MinMaxScaler(feature_range=(0, 1)))\n",
    "\n",
    "preprocessing = ColumnTransformer([(\"num\",num_pipeline, make_column_selector(dtype_include=np.number))])\n",
    "\n",
    "X_train_prepared = preprocessing.fit_transform(X_train)"
   ]
  },
  {
   "cell_type": "code",
   "execution_count": 3,
   "id": "6424bdfe-b082-4902-b550-21674e57102a",
   "metadata": {},
   "outputs": [
    {
     "data": {
      "text/html": [
       "<div>\n",
       "<style scoped>\n",
       "    .dataframe tbody tr th:only-of-type {\n",
       "        vertical-align: middle;\n",
       "    }\n",
       "\n",
       "    .dataframe tbody tr th {\n",
       "        vertical-align: top;\n",
       "    }\n",
       "\n",
       "    .dataframe thead th {\n",
       "        text-align: right;\n",
       "    }\n",
       "</style>\n",
       "<table border=\"1\" class=\"dataframe\">\n",
       "  <thead>\n",
       "    <tr style=\"text-align: right;\">\n",
       "      <th></th>\n",
       "      <th>num__MedInc</th>\n",
       "      <th>num__HouseAge</th>\n",
       "      <th>num__Latitude</th>\n",
       "      <th>num__Longitude</th>\n",
       "    </tr>\n",
       "  </thead>\n",
       "  <tbody>\n",
       "    <tr>\n",
       "      <th>0</th>\n",
       "      <td>0.677214</td>\n",
       "      <td>0.509804</td>\n",
       "      <td>0.184043</td>\n",
       "      <td>0.583665</td>\n",
       "    </tr>\n",
       "    <tr>\n",
       "      <th>1</th>\n",
       "      <td>0.418644</td>\n",
       "      <td>0.705882</td>\n",
       "      <td>0.147872</td>\n",
       "      <td>0.621514</td>\n",
       "    </tr>\n",
       "    <tr>\n",
       "      <th>2</th>\n",
       "      <td>0.319501</td>\n",
       "      <td>0.529412</td>\n",
       "      <td>0.160638</td>\n",
       "      <td>0.617530</td>\n",
       "    </tr>\n",
       "    <tr>\n",
       "      <th>3</th>\n",
       "      <td>0.616686</td>\n",
       "      <td>0.450980</td>\n",
       "      <td>0.194681</td>\n",
       "      <td>0.577689</td>\n",
       "    </tr>\n",
       "    <tr>\n",
       "      <th>4</th>\n",
       "      <td>0.285373</td>\n",
       "      <td>0.372549</td>\n",
       "      <td>0.117021</td>\n",
       "      <td>0.640438</td>\n",
       "    </tr>\n",
       "  </tbody>\n",
       "</table>\n",
       "</div>"
      ],
      "text/plain": [
       "   num__MedInc  num__HouseAge  num__Latitude  num__Longitude\n",
       "0     0.677214       0.509804       0.184043        0.583665\n",
       "1     0.418644       0.705882       0.147872        0.621514\n",
       "2     0.319501       0.529412       0.160638        0.617530\n",
       "3     0.616686       0.450980       0.194681        0.577689\n",
       "4     0.285373       0.372549       0.117021        0.640438"
      ]
     },
     "execution_count": 3,
     "metadata": {},
     "output_type": "execute_result"
    }
   ],
   "source": [
    "pd.DataFrame(X_train_prepared[:5], columns=preprocessing.get_feature_names_out())"
   ]
  },
  {
   "cell_type": "code",
   "execution_count": null,
   "id": "b734aaac-afc6-4499-b1ac-011f8eb1c8c2",
   "metadata": {},
   "outputs": [],
   "source": []
  }
 ],
 "metadata": {
  "kernelspec": {
   "display_name": "venv-ai-school",
   "language": "python",
   "name": "venv-ai-school"
  },
  "language_info": {
   "codemirror_mode": {
    "name": "ipython",
    "version": 3
   },
   "file_extension": ".py",
   "mimetype": "text/x-python",
   "name": "python",
   "nbconvert_exporter": "python",
   "pygments_lexer": "ipython3",
   "version": "3.12.3"
  }
 },
 "nbformat": 4,
 "nbformat_minor": 5
}
