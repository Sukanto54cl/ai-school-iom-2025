{
 "cells": [
  {
   "cell_type": "markdown",
   "id": "1cf906b3-bd22-440e-994c-74773939b7a1",
   "metadata": {},
   "source": [
    "# Polynomial Regression"
   ]
  },
  {
   "cell_type": "markdown",
   "id": "ed6104bb-aa9f-4809-8317-a9db61df2e63",
   "metadata": {},
   "source": [
    "We will carry out a polynomial regression next. The PolynomialFeature function allows us to transform our training data by adding the square (second degree polynomial) of each feature as well as the product of two features to our input features. Subsequently, we can carry out a linear regression on the transformed features to obtain a second degree polynomial regression model."
   ]
  },
  {
   "cell_type": "code",
   "execution_count": 2,
   "id": "f04f6766-b221-4b60-8ae5-903c7188ed02",
   "metadata": {},
   "outputs": [
    {
     "name": "stdout",
     "output_type": "stream",
     "text": [
      "Root mean square error of each validation in kJ/mol:\n",
      "[5.08523546 5.38320832 4.06508922 4.16875129 4.19829657]\n",
      "\n",
      "This is an average root mean square error of 4.58 kJ/mol with a standard deviation of 0.54 kJ/mol\n",
      "\n"
     ]
    }
   ],
   "source": [
    "# code from previous notebooks of this section\n",
    "import pandas as pd\n",
    "from sklearn.model_selection import train_test_split\n",
    "from sklearn.model_selection import cross_val_score\n",
    "from sklearn.pipeline import make_pipeline\n",
    "from sklearn.preprocessing import StandardScaler\n",
    "from sklearn.preprocessing import OneHotEncoder\n",
    "from sklearn.compose import ColumnTransformer\n",
    "from sklearn.compose import make_column_selector\n",
    "import numpy as np\n",
    "\n",
    "hb_data = pd.read_csv('HB_data.csv')\n",
    "train_set, test_set = train_test_split(hb_data, test_size=0.2, random_state=42)\n",
    "\n",
    "y_train = train_set['energy']\n",
    "X_train = train_set.drop(['energy'], axis=1)\n",
    "\n",
    "cat_pipeline = make_pipeline(OneHotEncoder())\n",
    "# end code from previous notebooks of this section\n",
    "\n",
    "from sklearn.linear_model import LinearRegression\n",
    "from sklearn.preprocessing import PolynomialFeatures\n",
    "\n",
    "num_pipeline = make_pipeline(PolynomialFeatures(degree=2, include_bias=True),StandardScaler())\n",
    "\n",
    "preprocessing = ColumnTransformer([(\"num\",num_pipeline, make_column_selector(dtype_include=np.number)),\n",
    "                                        (\"cat\",cat_pipeline, make_column_selector(dtype_include=object)),])\n",
    "\n",
    "model_polyr = make_pipeline(preprocessing, LinearRegression())\n",
    "\n",
    "scores = -cross_val_score(model_polyr, X_train, y_train, scoring=\"neg_root_mean_squared_error\", cv=5)\n",
    "\n",
    "print(f\"Root mean square error of each validation in kJ/mol:\\n{scores}\\n\")\n",
    "print(\"This is an average root mean square error of %0.2f kJ/mol with a standard deviation of %0.2f kJ/mol\\n\" % (scores.mean(), scores.std()))"
   ]
  },
  {
   "cell_type": "markdown",
   "id": "e541cd6b-7915-4a9d-a1e3-8240e63f63de",
   "metadata": {},
   "source": [
    "We have already improved our fit compared to the linear regression model. We can test different degrees of polynomials with the code above. However, there is a more elegant way to train machine learning models with different hyperparameters and identify the best model. One option is a grid search which will carry out a cross-validation for all combinations of provided hyperparameters. We will train solely polynomials up to the 5th degree. Please note, the degree $d$ in combination with an array of $n$ input features will be transformed into an array containing $\\frac{(n + d)!}{d!n!}$ input features. Thus, the 5th degree polynomial of our example has already 330 input features for the numerical inputs and 9 features representing the element types.\n",
    "\n",
    "At first, we must get the correct name of the hyperparameter for our grid search code. This can be done by following line: "
   ]
  },
  {
   "cell_type": "code",
   "execution_count": 3,
   "id": "b55940af-f9ec-4ad6-ae77-c173f19d98a3",
   "metadata": {},
   "outputs": [
    {
     "data": {
      "text/plain": [
       "dict_keys(['memory', 'steps', 'transform_input', 'verbose', 'columntransformer', 'linearregression', 'columntransformer__force_int_remainder_cols', 'columntransformer__n_jobs', 'columntransformer__remainder', 'columntransformer__sparse_threshold', 'columntransformer__transformer_weights', 'columntransformer__transformers', 'columntransformer__verbose', 'columntransformer__verbose_feature_names_out', 'columntransformer__num', 'columntransformer__cat', 'columntransformer__num__memory', 'columntransformer__num__steps', 'columntransformer__num__transform_input', 'columntransformer__num__verbose', 'columntransformer__num__polynomialfeatures', 'columntransformer__num__standardscaler', 'columntransformer__num__polynomialfeatures__degree', 'columntransformer__num__polynomialfeatures__include_bias', 'columntransformer__num__polynomialfeatures__interaction_only', 'columntransformer__num__polynomialfeatures__order', 'columntransformer__num__standardscaler__copy', 'columntransformer__num__standardscaler__with_mean', 'columntransformer__num__standardscaler__with_std', 'columntransformer__cat__memory', 'columntransformer__cat__steps', 'columntransformer__cat__transform_input', 'columntransformer__cat__verbose', 'columntransformer__cat__onehotencoder', 'columntransformer__cat__onehotencoder__categories', 'columntransformer__cat__onehotencoder__drop', 'columntransformer__cat__onehotencoder__dtype', 'columntransformer__cat__onehotencoder__feature_name_combiner', 'columntransformer__cat__onehotencoder__handle_unknown', 'columntransformer__cat__onehotencoder__max_categories', 'columntransformer__cat__onehotencoder__min_frequency', 'columntransformer__cat__onehotencoder__sparse_output', 'linearregression__copy_X', 'linearregression__fit_intercept', 'linearregression__n_jobs', 'linearregression__positive', 'linearregression__tol'])"
      ]
     },
     "execution_count": 3,
     "metadata": {},
     "output_type": "execute_result"
    }
   ],
   "source": [
    "model_polyr.get_params().keys()"
   ]
  },
  {
   "cell_type": "markdown",
   "id": "49e45475-10a5-4cd8-8965-928ff5da36fe",
   "metadata": {},
   "source": [
    "We know that our hyperparameter of PolynomialFeatures is called degree. Furthermore, we setup a pipeline called \"num\" for the numeric values. This is part of the ColumnTransformer. Therefore, it should be \"columntransformer_num_polynomialfeatures_degree\" which we find also in the list above. This allows us to setup a grid search: "
   ]
  },
  {
   "cell_type": "code",
   "execution_count": 4,
   "id": "2e4ca8e0-ce29-4a26-bec3-8768eae0f380",
   "metadata": {},
   "outputs": [
    {
     "data": {
      "text/html": [
       "<div>\n",
       "<style scoped>\n",
       "    .dataframe tbody tr th:only-of-type {\n",
       "        vertical-align: middle;\n",
       "    }\n",
       "\n",
       "    .dataframe tbody tr th {\n",
       "        vertical-align: top;\n",
       "    }\n",
       "\n",
       "    .dataframe thead th {\n",
       "        text-align: right;\n",
       "    }\n",
       "</style>\n",
       "<table border=\"1\" class=\"dataframe\">\n",
       "  <thead>\n",
       "    <tr style=\"text-align: right;\">\n",
       "      <th></th>\n",
       "      <th>mean_fit_time</th>\n",
       "      <th>std_fit_time</th>\n",
       "      <th>mean_score_time</th>\n",
       "      <th>std_score_time</th>\n",
       "      <th>param_columntransformer__num__polynomialfeatures__degree</th>\n",
       "      <th>params</th>\n",
       "      <th>split0_test_score</th>\n",
       "      <th>split1_test_score</th>\n",
       "      <th>split2_test_score</th>\n",
       "      <th>split3_test_score</th>\n",
       "      <th>split4_test_score</th>\n",
       "      <th>mean_test_score</th>\n",
       "      <th>std_test_score</th>\n",
       "      <th>rank_test_score</th>\n",
       "    </tr>\n",
       "  </thead>\n",
       "  <tbody>\n",
       "    <tr>\n",
       "      <th>1</th>\n",
       "      <td>0.119247</td>\n",
       "      <td>0.076757</td>\n",
       "      <td>0.017791</td>\n",
       "      <td>0.011044</td>\n",
       "      <td>3</td>\n",
       "      <td>{'columntransformer__num__polynomialfeatures__...</td>\n",
       "      <td>-3.617144</td>\n",
       "      <td>-3.299042</td>\n",
       "      <td>-3.068542</td>\n",
       "      <td>-2.780995</td>\n",
       "      <td>-4.847873</td>\n",
       "      <td>-3.522719</td>\n",
       "      <td>0.717135</td>\n",
       "      <td>1</td>\n",
       "    </tr>\n",
       "    <tr>\n",
       "      <th>0</th>\n",
       "      <td>0.038086</td>\n",
       "      <td>0.039350</td>\n",
       "      <td>0.006835</td>\n",
       "      <td>0.003087</td>\n",
       "      <td>2</td>\n",
       "      <td>{'columntransformer__num__polynomialfeatures__...</td>\n",
       "      <td>-5.085235</td>\n",
       "      <td>-5.383208</td>\n",
       "      <td>-4.065089</td>\n",
       "      <td>-4.168751</td>\n",
       "      <td>-4.198297</td>\n",
       "      <td>-4.580116</td>\n",
       "      <td>0.544125</td>\n",
       "      <td>2</td>\n",
       "    </tr>\n",
       "    <tr>\n",
       "      <th>2</th>\n",
       "      <td>0.070280</td>\n",
       "      <td>0.009604</td>\n",
       "      <td>0.014678</td>\n",
       "      <td>0.010553</td>\n",
       "      <td>4</td>\n",
       "      <td>{'columntransformer__num__polynomialfeatures__...</td>\n",
       "      <td>-12.146789</td>\n",
       "      <td>-10.055317</td>\n",
       "      <td>-1.663481</td>\n",
       "      <td>-6.152934</td>\n",
       "      <td>-10.227071</td>\n",
       "      <td>-8.049119</td>\n",
       "      <td>3.739815</td>\n",
       "      <td>3</td>\n",
       "    </tr>\n",
       "    <tr>\n",
       "      <th>3</th>\n",
       "      <td>0.459700</td>\n",
       "      <td>0.234030</td>\n",
       "      <td>0.021544</td>\n",
       "      <td>0.011916</td>\n",
       "      <td>5</td>\n",
       "      <td>{'columntransformer__num__polynomialfeatures__...</td>\n",
       "      <td>-426.741072</td>\n",
       "      <td>-118.167853</td>\n",
       "      <td>-14.758106</td>\n",
       "      <td>-40.001822</td>\n",
       "      <td>-250.167813</td>\n",
       "      <td>-169.967333</td>\n",
       "      <td>152.334497</td>\n",
       "      <td>4</td>\n",
       "    </tr>\n",
       "  </tbody>\n",
       "</table>\n",
       "</div>"
      ],
      "text/plain": [
       "   mean_fit_time  std_fit_time  mean_score_time  std_score_time  \\\n",
       "1       0.119247      0.076757         0.017791        0.011044   \n",
       "0       0.038086      0.039350         0.006835        0.003087   \n",
       "2       0.070280      0.009604         0.014678        0.010553   \n",
       "3       0.459700      0.234030         0.021544        0.011916   \n",
       "\n",
       "   param_columntransformer__num__polynomialfeatures__degree  \\\n",
       "1                                                  3          \n",
       "0                                                  2          \n",
       "2                                                  4          \n",
       "3                                                  5          \n",
       "\n",
       "                                              params  split0_test_score  \\\n",
       "1  {'columntransformer__num__polynomialfeatures__...          -3.617144   \n",
       "0  {'columntransformer__num__polynomialfeatures__...          -5.085235   \n",
       "2  {'columntransformer__num__polynomialfeatures__...         -12.146789   \n",
       "3  {'columntransformer__num__polynomialfeatures__...        -426.741072   \n",
       "\n",
       "   split1_test_score  split2_test_score  split3_test_score  split4_test_score  \\\n",
       "1          -3.299042          -3.068542          -2.780995          -4.847873   \n",
       "0          -5.383208          -4.065089          -4.168751          -4.198297   \n",
       "2         -10.055317          -1.663481          -6.152934         -10.227071   \n",
       "3        -118.167853         -14.758106         -40.001822        -250.167813   \n",
       "\n",
       "   mean_test_score  std_test_score  rank_test_score  \n",
       "1        -3.522719        0.717135                1  \n",
       "0        -4.580116        0.544125                2  \n",
       "2        -8.049119        3.739815                3  \n",
       "3      -169.967333      152.334497                4  "
      ]
     },
     "execution_count": 4,
     "metadata": {},
     "output_type": "execute_result"
    }
   ],
   "source": [
    "from sklearn.model_selection import GridSearchCV\n",
    "param_grid = [{'columntransformer__num__polynomialfeatures__degree': [2,3,4,5],\n",
    "              }]\n",
    "grid_search = GridSearchCV(model_polyr, param_grid, cv=5, scoring='neg_root_mean_squared_error')\n",
    "grid_search.fit(X_train, y_train)\n",
    "\n",
    "cv_hyperpara = pd.DataFrame(grid_search.cv_results_)\n",
    "cv_hyperpara.sort_values(by=\"mean_test_score\", ascending=False, inplace=True)\n",
    "cv_hyperpara.head()"
   ]
  },
  {
   "cell_type": "markdown",
   "id": "06bdc473-cb5c-408a-b820-25cd1ca4a2e6",
   "metadata": {},
   "source": [
    "As you can see from the table above, the model with a third degree polynomial works best. A higher degree polynomial shows poorer performance. One reason might be overfitting. We can check this by a learning curve for which a cross-validation is carried out on data sets of different sizes. "
   ]
  },
  {
   "cell_type": "code",
   "execution_count": 5,
   "id": "6c22df15-3e89-41db-aa4c-880a7f35e5d4",
   "metadata": {},
   "outputs": [
    {
     "data": {
      "image/png": "[encoded data removed]",
      "text/plain": [
       "<Figure size 600x400 with 1 Axes>"
      ]
     },
     "metadata": {},
     "output_type": "display_data"
    }
   ],
   "source": [
    "from sklearn.model_selection import learning_curve\n",
    "import matplotlib.pyplot as plt\n",
    "\n",
    "# Code selecting our model for which we want to obtain the learning curve. We choose a fourth degree polynomial.\n",
    "num_pipeline = make_pipeline(PolynomialFeatures(degree=4, include_bias=True),StandardScaler())\n",
    "cat_pipeline = make_pipeline(OneHotEncoder())\n",
    "\n",
    "preprocessing = ColumnTransformer([(\"num\",num_pipeline, make_column_selector(dtype_include=np.number)),\n",
    "                                        (\"cat\",cat_pipeline, make_column_selector(dtype_include=object)),])\n",
    "\n",
    "model_polyr = make_pipeline(preprocessing, LinearRegression())\n",
    "\n",
    "# code of cross-validation\n",
    "train_sizes, train_scores, valid_scores = learning_curve(\n",
    "    model_polyr, X_train, y_train, cv=5,\n",
    "    scoring=\"neg_root_mean_squared_error\",train_sizes=np.linspace(0.1, 1.0, 9))\n",
    "\n",
    "# code to make a nice plot\n",
    "train_errors = -train_scores.mean(axis=1)\n",
    "valid_errors = -valid_scores.mean(axis=1)\n",
    "\n",
    "plt.figure(figsize=(6, 4))\n",
    "plt.plot(train_sizes, train_errors, \"r-+\", label=\"train\")\n",
    "plt.plot(train_sizes, valid_errors, \"b-+\", label=\"valid\")\n",
    "plt.legend(loc=\"upper right\")\n",
    "plt.xlabel(\"training data set size\")\n",
    "plt.ylabel(\"RMSE in kJ/mol\")\n",
    "plt.title(\"fourth degree polynomial\")\n",
    "plt.grid()\n",
    "plt.axis([0, 1400, 0, 20])\n",
    "plt.show()"
   ]
  },
  {
   "cell_type": "markdown",
   "id": "4253e9ab-2c82-46bd-bb0c-bb2483b5ab59",
   "metadata": {},
   "source": [
    "The red line uses the training data to determine the root mean square error (RMSE). The blue line uses the validation set. Clearly visible is the large gab between both RMSE indicating overfitting. Let us compare it to the second and third degree polynomial. \n",
    "\n",
    "<center><img src=\"img/learning-curve-polynom.png\" style=\"width: 1000px;\"/></center>"
   ]
  },
  {
   "cell_type": "markdown",
   "id": "21614ca4-22bb-45d0-9a0c-255f3473841a",
   "metadata": {},
   "source": [
    "Both lines converge quickly for the second degree polynomial. The same behavior is visible for the third degree polynomial starting from about 800 data points for the training data set size. Thus, we can expect that increasing the data set will not improve both models. Furthermore, the second degree polynomial is underfitted compared to the third degree polynomial. "
   ]
  },
  {
   "cell_type": "code",
   "execution_count": null,
   "id": "9c12cb13-b648-49c7-9c4f-46315a6f6c33",
   "metadata": {},
   "outputs": [],
   "source": []
  }
 ],
 "metadata": {
  "kernelspec": {
   "display_name": "venv-ai-school",
   "language": "python",
   "name": "venv-ai-school"
  },
  "language_info": {
   "codemirror_mode": {
    "name": "ipython",
    "version": 3
   },
   "file_extension": ".py",
   "mimetype": "text/x-python",
   "name": "python",
   "nbconvert_exporter": "python",
   "pygments_lexer": "ipython3",
   "version": "3.12.3"
  }
 },
 "nbformat": 4,
 "nbformat_minor": 5
}
