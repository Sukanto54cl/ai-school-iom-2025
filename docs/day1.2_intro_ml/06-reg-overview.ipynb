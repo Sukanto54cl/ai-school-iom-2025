{
 "cells": [
  {
   "cell_type": "markdown",
   "id": "75169b61-2ef3-40ab-ad36-c8bf1a63d898",
   "metadata": {},
   "source": [
    "# Overview Training and Tuning "
   ]
  },
  {
   "cell_type": "markdown",
   "id": "37376b5b-bc01-4e9b-b5d0-f29631149a73",
   "metadata": {},
   "source": [
    "We will train several regression models to predict the hydrogen bond energy and will also introduce concepts like cross-validation to optimize hyperparameter. The list below provides the information where a detailed explanation of these concepts can be found in subsequent sections:\n",
    "1. Metrics to validate the model: linear regression\n",
    "2. Cross-validation: linear regression\n",
    "3. Optimization of hyperparameters by grid search: polynomial regression\n",
    "4. Optimization of hyperparameters by randomized search: regularized linear models\n",
    "5. Learning curve: polynomial regression\n",
    "6. Identify important features: random forests"
   ]
  },
  {
   "cell_type": "code",
   "execution_count": null,
   "id": "da89a131-c06d-46d2-92fb-d694374686ed",
   "metadata": {},
   "outputs": [],
   "source": []
  }
 ],
 "metadata": {
  "kernelspec": {
   "display_name": "venv-ai-school",
   "language": "python",
   "name": "venv-ai-school"
  },
  "language_info": {
   "codemirror_mode": {
    "name": "ipython",
    "version": 3
   },
   "file_extension": ".py",
   "mimetype": "text/x-python",
   "name": "python",
   "nbconvert_exporter": "python",
   "pygments_lexer": "ipython3",
   "version": "3.12.3"
  }
 },
 "nbformat": 4,
 "nbformat_minor": 5
}
