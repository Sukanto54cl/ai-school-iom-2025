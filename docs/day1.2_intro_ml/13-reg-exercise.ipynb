{
 "cells": [
  {
   "cell_type": "markdown",
   "id": "434566f1-06ab-4a67-b50a-9bd18ee4789e",
   "metadata": {},
   "source": [
    "# Exercise on regression "
   ]
  },
  {
   "cell_type": "markdown",
   "id": "52f96da0-e986-4b3b-a530-c61bd379bb98",
   "metadata": {},
   "source": [
    "You would like to make a regression model based on the k-nearest neighbor regression for \"housing_data.csv\" found in the same directory as this notebook. An advantage of k-nearest neighbor regression is that it requires no assumptions about the data. Furthermore, it has no training phase. The model is defined by the hyperparameters. A disadvantage is its high memory requirement because you need the full training data set for predictions. Furthermore, it struggles with imbalanced classes. \n",
    "\n",
    "You should investigate the role of at least following hyperparameters:\n",
    "<ul>\n",
    "    <li>How many neighbors should be used to predict the price?</li>\n",
    "    <li>Is it better to equally weight all neighbors or to give closer neighbors more weight?</li> \n",
    "</ul>\n",
    "Information on the implementation of the k-nearest neighbors regressor in scikit-learn can be found here: <a href=\"https://scikit-learn.org/stable/modules/generated/sklearn.neighbors.KNeighborsRegressor.html\">Link</a>\n",
    "\n",
    "Advanced task: Regression models, where predictions are based on close instances (e.g. nearest neighbor regression or support vector machines with a RBF kernel), might produce better results if the number of input features is reduced. This is the case for the example of this exercise. Can you identify the feature, which should be removed from the input features, without trial and error?  "
   ]
  },
  {
   "cell_type": "code",
   "execution_count": 1,
   "id": "cd95538e-ff8c-405f-af38-9c1dc3ed7a55",
   "metadata": {},
   "outputs": [],
   "source": [
    "# your code here"
   ]
  },
  {
   "cell_type": "code",
   "execution_count": null,
   "id": "99d9d167-7d18-49a9-86b4-99d3a1cc8a04",
   "metadata": {},
   "outputs": [],
   "source": []
  }
 ],
 "metadata": {
  "kernelspec": {
   "display_name": "venv-ai-school",
   "language": "python",
   "name": "venv-ai-school"
  },
  "language_info": {
   "codemirror_mode": {
    "name": "ipython",
    "version": 3
   },
   "file_extension": ".py",
   "mimetype": "text/x-python",
   "name": "python",
   "nbconvert_exporter": "python",
   "pygments_lexer": "ipython3",
   "version": "3.12.3"
  }
 },
 "nbformat": 4,
 "nbformat_minor": 5
}
