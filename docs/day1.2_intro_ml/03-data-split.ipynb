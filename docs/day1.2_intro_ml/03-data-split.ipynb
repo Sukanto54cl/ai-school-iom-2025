{
 "cells": [
  {
   "cell_type": "markdown",
   "id": "74b84b09-cac0-47e7-8e04-03e914d1a55d",
   "metadata": {},
   "source": [
    "# Create a test data set"
   ]
  },
  {
   "cell_type": "markdown",
   "id": "81348122-e218-4e32-8846-ed4e52689cd7",
   "metadata": {},
   "source": [
    "Since we will train a supervised model, splitting the data in a train and test set is the next step. This will provide a data set to estimate the generalization error of our final model. "
   ]
  },
  {
   "cell_type": "code",
   "execution_count": 1,
   "id": "7b53ed35-9956-463c-845f-8ae8ef582de0",
   "metadata": {},
   "outputs": [
    {
     "name": "stdout",
     "output_type": "stream",
     "text": [
      "Instances of training data set:(1310, 10)\n",
      "Instances of test data set:(328, 10)\n"
     ]
    }
   ],
   "source": [
    "# code from previous notebooks of this section\n",
    "import pandas as pd\n",
    "hb_data = pd.read_csv('HB_data.csv')\n",
    "# end code from previous notebooks of this section\n",
    "\n",
    "from sklearn.model_selection import train_test_split\n",
    "\n",
    "# We set a fixed random number to provide reproducible results. \n",
    "# 20% of the data is stored as test data and 80% as training data. \n",
    "train_set, test_set = train_test_split(hb_data, test_size=0.2, random_state=42)\n",
    "print(f\"Instances of training data set:{train_set.shape}\")\n",
    "print(f\"Instances of test data set:{test_set.shape}\")"
   ]
  },
  {
   "cell_type": "markdown",
   "id": "24d7a9c4-0356-49e9-b207-adb09adaaff7",
   "metadata": {},
   "source": [
    "We will use the training data set until we have identified our best model."
   ]
  },
  {
   "cell_type": "code",
   "execution_count": null,
   "id": "1bc68cf4-1d38-43ac-940d-19e195776701",
   "metadata": {},
   "outputs": [],
   "source": []
  }
 ],
 "metadata": {
  "kernelspec": {
   "display_name": "venv-ai-school",
   "language": "python",
   "name": "venv-ai-school"
  },
  "language_info": {
   "codemirror_mode": {
    "name": "ipython",
    "version": 3
   },
   "file_extension": ".py",
   "mimetype": "text/x-python",
   "name": "python",
   "nbconvert_exporter": "python",
   "pygments_lexer": "ipython3",
   "version": "3.12.3"
  }
 },
 "nbformat": 4,
 "nbformat_minor": 5
}
