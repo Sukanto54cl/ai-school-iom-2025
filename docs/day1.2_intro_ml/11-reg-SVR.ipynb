{
 "cells": [
  {
   "cell_type": "markdown",
   "id": "0db4fd06-8b09-4d69-9051-f1b9db922832",
   "metadata": {},
   "source": [
    "# Support Vector Regression"
   ]
  },
  {
   "cell_type": "markdown",
   "id": "7671d1ba-ef1b-462e-acc9-0f3bc7cee093",
   "metadata": {},
   "source": [
    "Support vector regression (SVR) has two central concepts. \n",
    "\n",
    "SVR tries to fit as many instances as possible on a linear street. The width of the street is controlled by the hyperparameter $\\epsilon$. Thus, instances off the street will be minimized. Adding more training instances on the street will not affect the predictions. Therefore, SVR is less sensitive to outliers and noisy data compared to traditional regression techniques.\n",
    "\n",
    "The kernel trick makes it possible to train a nonlinear SVR model. In principle, it carries out a nonlinear transformation of the input features to a space where the labels show a better linear behavior. The kernel trick allows this without having to explicitly transform the inputs.\n",
    "\n",
    "The training time for nonlinear SVR scales commonly between ($m^2\\cdot n$) and ($m^3\\cdot n$). Thus, SVR get slow when the number of training instances $m$ get large."
   ]
  },
  {
   "cell_type": "code",
   "execution_count": 4,
   "id": "0ee466ac-d550-49c1-87d2-b0daa3fdfd74",
   "metadata": {},
   "outputs": [
    {
     "name": "stdout",
     "output_type": "stream",
     "text": [
      "Root mean square error of each validation in kJ/mol:\n",
      "[1.91642635 2.08795435 3.11139885 1.65561589 1.83002044]\n",
      "\n",
      "This is an average root mean square error of 2.12 kJ/mol with a standard deviation of 0.51 kJ/mol\n",
      "\n"
     ]
    }
   ],
   "source": [
    "# code from previous notebooks of this section\n",
    "import pandas as pd\n",
    "from sklearn.model_selection import train_test_split\n",
    "from sklearn.model_selection import cross_val_score\n",
    "from sklearn.pipeline import make_pipeline\n",
    "from sklearn.preprocessing import StandardScaler\n",
    "from sklearn.preprocessing import OneHotEncoder\n",
    "from sklearn.compose import ColumnTransformer\n",
    "from sklearn.compose import make_column_selector\n",
    "import numpy as np\n",
    "\n",
    "hb_data = pd.read_csv('HB_data.csv')\n",
    "train_set, test_set = train_test_split(hb_data, test_size=0.2, random_state=42)\n",
    "\n",
    "y_train = train_set['energy']\n",
    "X_train = train_set.drop(['energy'], axis=1)\n",
    "\n",
    "hb_data = pd.read_csv('HB_data.csv')\n",
    "train_set, test_set = train_test_split(hb_data, test_size=0.2, random_state=42)\n",
    "\n",
    "num_pipeline = make_pipeline(StandardScaler())\n",
    "cat_pipeline = make_pipeline(OneHotEncoder(sparse_output=False))\n",
    "\n",
    "preprocessing = ColumnTransformer([(\"num\",num_pipeline, make_column_selector(dtype_include=np.number)),\n",
    "                                        (\"cat\",cat_pipeline, make_column_selector(dtype_include=object)),])\n",
    "# end code from previous notebooks of this section\n",
    "\n",
    "from sklearn.svm import SVR\n",
    "\n",
    "model_svr = make_pipeline(preprocessing, SVR(kernel=\"rbf\", gamma='scale', C=5000, epsilon=0.1))\n",
    "\n",
    "scores = -cross_val_score(model_svr, X_train, y_train, scoring=\"neg_root_mean_squared_error\", cv=5)\n",
    "\n",
    "print(f\"Root mean square error of each validation in kJ/mol:\\n{scores}\\n\")\n",
    "print(\"This is an average root mean square error of %0.2f kJ/mol with a standard deviation of %0.2f kJ/mol\\n\" % (scores.mean(), scores.std()))"
   ]
  },
  {
   "cell_type": "markdown",
   "id": "72a051f9-fa96-4ee9-ae07-98d05572e764",
   "metadata": {},
   "source": [
    "This is our best model so far. We have selected a radial basis function (RBF) kernel which has following form:\n",
    "\\begin{equation}\n",
    "k(x_i,x_j)=e^{-\\gamma||x_i-x_j||^2}\n",
    "\\end{equation}\n",
    "$||x_i-x_j||$ is the euclidian distance while the hyperparameter $\\gamma$ affects how strong a single training example influence the predictions based on the euclidian distance. In our example, $\\gamma$ is set to a good guess based on the number of input features and the variance of our input features. The strength of the SVR regularization is inversely proportional to the hyperparameter C. Thus, a too small C might result in underfitting while a too large C might lead to overvitting. The RBF kernel is similar to the k-nearest neighbors regression but has the advantage, that it must not store all data points for prediction. Storing the support vectors is sufficient. \n",
    "\n",
    "Due to the kernel trick, SVR is a versatile and powerful approach for regression tasks of small and medium sized data sets. The choice of kernel is central since it strongly affects how your input features are transformed before the \"real\" fit is done.   "
   ]
  },
  {
   "cell_type": "code",
   "execution_count": null,
   "id": "c07585e8-7d60-4417-8329-8f23c11c1264",
   "metadata": {},
   "outputs": [],
   "source": []
  }
 ],
 "metadata": {
  "kernelspec": {
   "display_name": "venv-ai-school",
   "language": "python",
   "name": "venv-ai-school"
  },
  "language_info": {
   "codemirror_mode": {
    "name": "ipython",
    "version": 3
   },
   "file_extension": ".py",
   "mimetype": "text/x-python",
   "name": "python",
   "nbconvert_exporter": "python",
   "pygments_lexer": "ipython3",
   "version": "3.12.3"
  }
 },
 "nbformat": 4,
 "nbformat_minor": 5
}
