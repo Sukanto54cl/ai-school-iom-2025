{
 "cells": [
  {
   "cell_type": "markdown",
   "id": "da881e16",
   "metadata": {},
   "source": [
    "# Prepare your Jupyter Lab environment\n",
    "\n",
    "**This notebook `HPC-setup.ipynb` is used to prepare your HPC Jupyter Lab environment on the first day of the training.**\n",
    "\n",
    "Execute he following cells to:\n",
    "* Install custom Python kernels with all packages used in the training sessions\n",
    "* Copy all notebooks and data used for training to your user accounts home directory"
   ]
  },
  {
   "cell_type": "markdown",
   "id": "c650fcaa",
   "metadata": {},
   "source": [
    "## 1. Copy notebooks and data\n",
    "\n",
    "**This only needs to be done once!**\n",
    "\n",
    "The following cell copies the Jupyter notebooks and data used in the training sessions to your home directory.  \n",
    "\n",
    "It will create a directory `~/iom_notebooks` with subdirectories for the sessions.\n",
    "\n",
    "1. Execute the cell with `ctrl-enter` or `shift-enter`\n",
    "2. When prompted to \"Select Kernel\", leave the default Python 3 kernel and click \"Select\".\n",
    "3. Wait until the copy process has finished\n",
    "4. In the file browser on the left side, click the refresh icon\n",
    "5. A directory `iom_notebooks` should appear"
   ]
  },
  {
   "cell_type": "code",
   "execution_count": null,
   "id": "543cad83",
   "metadata": {
    "vscode": {
     "languageId": "plaintext"
    }
   },
   "outputs": [],
   "source": [
    "!bash /projects/p_scads_trainings/iom-ai/scripts/copy_data.sh"
   ]
  },
  {
   "cell_type": "markdown",
   "id": "2d1f2d6d",
   "metadata": {},
   "source": [
    "## 2. Install the Python Kernels\n",
    "\n",
    "**This only needs to be done once!**\n",
    "\n",
    "For our practical sessions we will use different clusters on the TUD HPC resources:\n",
    "* Cluster `romeo` (CPU only) on Day 1 and Day 2 \n",
    "* Cluster `alpha` (CPU+GPU) on Day 3 and Day 4\n",
    "\n",
    "We need to install separate Python kernels for each cluster:\n",
    "* \"iom-venv-torch-rom\" with packages including pytorch for cluster `romeo`\n",
    "* \"iom-venv-torch-alp\" with packages including pytorch for cluster `alpha`\n",
    "* \"iom-venv-tensor-alp\" with packages including tensorflow for cluster `alpha`\n",
    "\n",
    "Required steps:\n",
    "1. Execute the following cells with `ctrl-enter` or `shift-enter`\n",
    "2. When prompted to \"Select Kernel\", leave the default Python 3 kernel and click \"Select\".\n",
    "3. Wait for the according outputs\n",
    "4. Reload the page\n",
    "5. You can now select the mentioned Python kernels from the available kernels"
   ]
  },
  {
   "cell_type": "markdown",
   "id": "d088dbde",
   "metadata": {},
   "source": [
    "### Run this cell on Day 1 on cluster `romeo` only!\n",
    "\n",
    "Wait for this output: \n",
    "* `Installed kernelspec iom-venv-torch-rom in [...]`"
   ]
  },
  {
   "cell_type": "code",
   "execution_count": null,
   "id": "2fe009ab",
   "metadata": {
    "vscode": {
     "languageId": "plaintext"
    }
   },
   "outputs": [],
   "source": [
    "!bash /projects/p_scads_trainings/iom-ai/scripts/install_python_kernel_romeo.sh"
   ]
  },
  {
   "cell_type": "markdown",
   "id": "fd66972c",
   "metadata": {},
   "source": [
    "### Run this cell on Day 3 on cluster `alpha` only!\n",
    "\n",
    "Wait for this outputs:\n",
    "* `Installed kernelspec iom-venv-torch-alp in [...]`\n",
    "* `Installed kernelspec iom-venv-tensor-alp in [...]`"
   ]
  },
  {
   "cell_type": "code",
   "execution_count": null,
   "id": "9163736a",
   "metadata": {
    "vscode": {
     "languageId": "plaintext"
    }
   },
   "outputs": [],
   "source": [
    "!bash /projects/p_scads_trainings/iom-ai/scripts/install_python_kernel_alpha.sh"
   ]
  }
 ],
 "metadata": {
  "language_info": {
   "name": "python"
  }
 },
 "nbformat": 4,
 "nbformat_minor": 5
}
