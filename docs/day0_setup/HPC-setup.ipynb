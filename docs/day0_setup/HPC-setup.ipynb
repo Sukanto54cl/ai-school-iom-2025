{
 "cells": [
  {
   "cell_type": "markdown",
   "id": "da881e16",
   "metadata": {},
   "source": [
    "# Prepare your Jupyter Lab environment\n",
    "\n",
    "**This notebook `HPC-setup.ipynb` is used to prepare your HPC Jupyter Lab environment on the first day of the training.**\n",
    "\n",
    "Execute he following cells to:\n",
    "* Install a custom Python kernel with all packages used in the training\n",
    "* Copy all notebooks and data used for training to your home directory"
   ]
  },
  {
   "cell_type": "markdown",
   "id": "2d1f2d6d",
   "metadata": {},
   "source": [
    "## 1. Install the Python Kernel \"iom-env\"\n",
    "\n",
    "The following command installs a Python kernel \"iom-env\". \n",
    "\n",
    "This only needs to be done once, after which the Python kernel will be available for your user account for rest of the training school.\n",
    "\n",
    "1. Execute the cell with `ctrl-enter` or `shift-enter`\n",
    "2. When prompted to \"Select Kernel\", leave the default Python 3 kernel and click \"Select\".\n",
    "3. Wait until `Installed kernelspec iom-env in [...]` is displayed\n",
    "4. Reload the page\n",
    "5. You can now select the Python kernel `iom-env` from the available kernels"
   ]
  },
  {
   "cell_type": "code",
   "execution_count": null,
   "id": "2fe009ab",
   "metadata": {
    "vscode": {
     "languageId": "plaintext"
    }
   },
   "outputs": [],
   "source": [
    "!bash /data/horse/ws/mats024c-iom-ai/install_python_kernel.sh"
   ]
  },
  {
   "cell_type": "markdown",
   "id": "c650fcaa",
   "metadata": {},
   "source": [
    "## 2. Copy notebooks and data\n",
    "\n",
    "The following command copies the Jupyter notebooks and data used in the sessions to your home directory.  \n",
    "\n",
    "It will create a directory `~/iom_notebooks` with subdirectories for the sessions.\n",
    "\n",
    "1. Execute the cell with `ctrl-enter` or `shift-enter`\n",
    "2. When prompted to \"Select Kernel\", leave the default Python 3 kernel and click \"Select\".\n",
    "3. Wait until the copy process has finished\n",
    "4. In the file browser on the left side, click the refresh icon\n",
    "5. A directory `iom_notebooks` should appear"
   ]
  },
  {
   "cell_type": "code",
   "execution_count": null,
   "id": "543cad83",
   "metadata": {
    "vscode": {
     "languageId": "plaintext"
    }
   },
   "outputs": [],
   "source": [
    "!bash /data/horse/ws/mats024c-iom-ai/copy_data.sh"
   ]
  }
 ],
 "metadata": {
  "language_info": {
   "name": "python"
  }
 },
 "nbformat": 4,
 "nbformat_minor": 5
}
